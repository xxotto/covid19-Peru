{
 "cells": [
  {
   "cell_type": "markdown",
   "metadata": {},
   "source": [
    "# Análisis exploratorio y descripción general de datos (RawData)\n",
    "\n",
    "## Introducción\n",
    "\n",
    "(Añadir descripción de cómo usar DataFiltering)"
   ]
  },
  {
   "cell_type": "markdown",
   "metadata": {},
   "source": [
    "## 0. Cargar librerías"
   ]
  },
  {
   "cell_type": "code",
   "execution_count": 2,
   "metadata": {},
   "outputs": [],
   "source": [
    "import pandas as pd\n",
    "import numpy as np\n",
    "import time as time\n",
    "import dask.dataframe as dd\n",
    "from tqdm import tqdm\n",
    "\n",
    "import functions as fn"
   ]
  },
  {
   "cell_type": "markdown",
   "metadata": {},
   "source": [
    "## 1. Cargar el dataset de fallecidos por COVID-19\n",
    "\n",
    "### Cargar el dataset"
   ]
  },
  {
   "cell_type": "code",
   "execution_count": 3,
   "metadata": {},
   "outputs": [
    {
     "data": {
      "text/html": [
       "<div>\n",
       "<style scoped>\n",
       "    .dataframe tbody tr th:only-of-type {\n",
       "        vertical-align: middle;\n",
       "    }\n",
       "\n",
       "    .dataframe tbody tr th {\n",
       "        vertical-align: top;\n",
       "    }\n",
       "\n",
       "    .dataframe thead th {\n",
       "        text-align: right;\n",
       "    }\n",
       "</style>\n",
       "<table border=\"1\" class=\"dataframe\">\n",
       "  <thead>\n",
       "    <tr style=\"text-align: right;\">\n",
       "      <th></th>\n",
       "      <th>FECHA_CORTE</th>\n",
       "      <th>FECHA_FALLECIMIENTO</th>\n",
       "      <th>EDAD_DECLARADA</th>\n",
       "      <th>SEXO</th>\n",
       "      <th>CLASIFICACION_DEF</th>\n",
       "      <th>DEPARTAMENTO</th>\n",
       "      <th>PROVINCIA</th>\n",
       "      <th>DISTRITO</th>\n",
       "      <th>UBIGEO</th>\n",
       "      <th>id_persona</th>\n",
       "    </tr>\n",
       "  </thead>\n",
       "  <tbody>\n",
       "    <tr>\n",
       "      <th>0</th>\n",
       "      <td>20220106</td>\n",
       "      <td>20210423</td>\n",
       "      <td>41</td>\n",
       "      <td>MASCULINO</td>\n",
       "      <td>Criterio virolÃ³gico</td>\n",
       "      <td>LIMA</td>\n",
       "      <td>LIMA</td>\n",
       "      <td>VILLA MARIA DEL TRIUNFO</td>\n",
       "      <td>150143</td>\n",
       "      <td>24769779.0</td>\n",
       "    </tr>\n",
       "    <tr>\n",
       "      <th>1</th>\n",
       "      <td>20220106</td>\n",
       "      <td>20210607</td>\n",
       "      <td>31</td>\n",
       "      <td>FEMENINO</td>\n",
       "      <td>Criterio SINADEF</td>\n",
       "      <td>CALLAO</td>\n",
       "      <td>CALLAO</td>\n",
       "      <td>CALLAO</td>\n",
       "      <td>070101</td>\n",
       "      <td>24742499.0</td>\n",
       "    </tr>\n",
       "    <tr>\n",
       "      <th>2</th>\n",
       "      <td>20220106</td>\n",
       "      <td>20210708</td>\n",
       "      <td>27</td>\n",
       "      <td>FEMENINO</td>\n",
       "      <td>Criterio SINADEF</td>\n",
       "      <td>LIMA</td>\n",
       "      <td>LIMA</td>\n",
       "      <td>CARABAYLLO</td>\n",
       "      <td>150106</td>\n",
       "      <td>24742552.0</td>\n",
       "    </tr>\n",
       "    <tr>\n",
       "      <th>3</th>\n",
       "      <td>20220106</td>\n",
       "      <td>20210518</td>\n",
       "      <td>62</td>\n",
       "      <td>MASCULINO</td>\n",
       "      <td>Criterio virolÃ³gico</td>\n",
       "      <td>JUNIN</td>\n",
       "      <td>TARMA</td>\n",
       "      <td>TARMA</td>\n",
       "      <td>120701</td>\n",
       "      <td>24633504.0</td>\n",
       "    </tr>\n",
       "    <tr>\n",
       "      <th>4</th>\n",
       "      <td>20220106</td>\n",
       "      <td>20210519</td>\n",
       "      <td>74</td>\n",
       "      <td>MASCULINO</td>\n",
       "      <td>Criterio virolÃ³gico</td>\n",
       "      <td>LIMA</td>\n",
       "      <td>LIMA</td>\n",
       "      <td>SANTA ANITA</td>\n",
       "      <td>150137</td>\n",
       "      <td>24633522.0</td>\n",
       "    </tr>\n",
       "  </tbody>\n",
       "</table>\n",
       "</div>"
      ],
      "text/plain": [
       "   FECHA_CORTE  FECHA_FALLECIMIENTO  EDAD_DECLARADA       SEXO  \\\n",
       "0     20220106             20210423              41  MASCULINO   \n",
       "1     20220106             20210607              31   FEMENINO   \n",
       "2     20220106             20210708              27   FEMENINO   \n",
       "3     20220106             20210518              62  MASCULINO   \n",
       "4     20220106             20210519              74  MASCULINO   \n",
       "\n",
       "      CLASIFICACION_DEF DEPARTAMENTO PROVINCIA                 DISTRITO  \\\n",
       "0  Criterio virolÃ³gico         LIMA      LIMA  VILLA MARIA DEL TRIUNFO   \n",
       "1      Criterio SINADEF       CALLAO    CALLAO                   CALLAO   \n",
       "2      Criterio SINADEF         LIMA      LIMA               CARABAYLLO   \n",
       "3  Criterio virolÃ³gico        JUNIN     TARMA                    TARMA   \n",
       "4  Criterio virolÃ³gico         LIMA      LIMA              SANTA ANITA   \n",
       "\n",
       "   UBIGEO  id_persona  \n",
       "0  150143  24769779.0  \n",
       "1  070101  24742499.0  \n",
       "2  150106  24742552.0  \n",
       "3  120701  24633504.0  \n",
       "4  150137  24633522.0  "
      ]
     },
     "execution_count": 3,
     "metadata": {},
     "output_type": "execute_result"
    }
   ],
   "source": [
    "url_fal = 'RawData/fallecidos_covid.csv'\n",
    "df_fal = pd.read_csv(url_fal, sep = \";\", encoding= \"utf8\", low_memory=False)\n",
    "\n",
    "del url_fal\n",
    "df_fal.head()"
   ]
  },
  {
   "cell_type": "markdown",
   "metadata": {},
   "source": [
    "### Información general del dataset"
   ]
  },
  {
   "cell_type": "code",
   "execution_count": 28,
   "metadata": {},
   "outputs": [
    {
     "name": "stdout",
     "output_type": "stream",
     "text": [
      "<class 'pandas.core.frame.DataFrame'>\n",
      "RangeIndex: 202867 entries, 0 to 202866\n",
      "Data columns (total 10 columns):\n",
      " #   Column               Non-Null Count   Dtype  \n",
      "---  ------               --------------   -----  \n",
      " 0   FECHA_CORTE          202867 non-null  int64  \n",
      " 1   FECHA_FALLECIMIENTO  202867 non-null  int64  \n",
      " 2   EDAD_DECLARADA       202867 non-null  int64  \n",
      " 3   SEXO                 202867 non-null  object \n",
      " 4   CLASIFICACION_DEF    202867 non-null  object \n",
      " 5   DEPARTAMENTO         202867 non-null  object \n",
      " 6   PROVINCIA            202862 non-null  object \n",
      " 7   DISTRITO             202862 non-null  object \n",
      " 8   UBIGEO               202867 non-null  object \n",
      " 9   id_persona           199466 non-null  float64\n",
      "dtypes: float64(1), int64(3), object(6)\n",
      "memory usage: 15.5+ MB\n"
     ]
    }
   ],
   "source": [
    "df_fal.info()"
   ]
  },
  {
   "cell_type": "markdown",
   "metadata": {},
   "source": [
    "### Porcentaje de datos perdidos de cada variable"
   ]
  },
  {
   "cell_type": "code",
   "execution_count": 29,
   "metadata": {},
   "outputs": [
    {
     "data": {
      "text/html": [
       "<div>\n",
       "<style scoped>\n",
       "    .dataframe tbody tr th:only-of-type {\n",
       "        vertical-align: middle;\n",
       "    }\n",
       "\n",
       "    .dataframe tbody tr th {\n",
       "        vertical-align: top;\n",
       "    }\n",
       "\n",
       "    .dataframe thead th {\n",
       "        text-align: right;\n",
       "    }\n",
       "</style>\n",
       "<table border=\"1\" class=\"dataframe\">\n",
       "  <thead>\n",
       "    <tr style=\"text-align: right;\">\n",
       "      <th></th>\n",
       "      <th>index</th>\n",
       "      <th>percent_missing</th>\n",
       "    </tr>\n",
       "  </thead>\n",
       "  <tbody>\n",
       "    <tr>\n",
       "      <th>0</th>\n",
       "      <td>FECHA_CORTE</td>\n",
       "      <td>0.000000</td>\n",
       "    </tr>\n",
       "    <tr>\n",
       "      <th>1</th>\n",
       "      <td>FECHA_FALLECIMIENTO</td>\n",
       "      <td>0.000000</td>\n",
       "    </tr>\n",
       "    <tr>\n",
       "      <th>2</th>\n",
       "      <td>EDAD_DECLARADA</td>\n",
       "      <td>0.000000</td>\n",
       "    </tr>\n",
       "    <tr>\n",
       "      <th>3</th>\n",
       "      <td>SEXO</td>\n",
       "      <td>0.000000</td>\n",
       "    </tr>\n",
       "    <tr>\n",
       "      <th>4</th>\n",
       "      <td>CLASIFICACION_DEF</td>\n",
       "      <td>0.000000</td>\n",
       "    </tr>\n",
       "    <tr>\n",
       "      <th>5</th>\n",
       "      <td>DEPARTAMENTO</td>\n",
       "      <td>0.000000</td>\n",
       "    </tr>\n",
       "    <tr>\n",
       "      <th>6</th>\n",
       "      <td>PROVINCIA</td>\n",
       "      <td>0.002465</td>\n",
       "    </tr>\n",
       "    <tr>\n",
       "      <th>7</th>\n",
       "      <td>DISTRITO</td>\n",
       "      <td>0.002465</td>\n",
       "    </tr>\n",
       "    <tr>\n",
       "      <th>8</th>\n",
       "      <td>UBIGEO</td>\n",
       "      <td>0.000000</td>\n",
       "    </tr>\n",
       "    <tr>\n",
       "      <th>9</th>\n",
       "      <td>id_persona</td>\n",
       "      <td>1.676468</td>\n",
       "    </tr>\n",
       "  </tbody>\n",
       "</table>\n",
       "</div>"
      ],
      "text/plain": [
       "                 index  percent_missing\n",
       "0          FECHA_CORTE         0.000000\n",
       "1  FECHA_FALLECIMIENTO         0.000000\n",
       "2       EDAD_DECLARADA         0.000000\n",
       "3                 SEXO         0.000000\n",
       "4    CLASIFICACION_DEF         0.000000\n",
       "5         DEPARTAMENTO         0.000000\n",
       "6            PROVINCIA         0.002465\n",
       "7             DISTRITO         0.002465\n",
       "8               UBIGEO         0.000000\n",
       "9           id_persona         1.676468"
      ]
     },
     "execution_count": 29,
     "metadata": {},
     "output_type": "execute_result"
    }
   ],
   "source": [
    "fn.missing_values(df_fal)"
   ]
  },
  {
   "cell_type": "markdown",
   "metadata": {},
   "source": [
    "### Analizar cada variable del dataset de fallecidos"
   ]
  },
  {
   "cell_type": "markdown",
   "metadata": {},
   "source": [
    "#### 1.1. FECHA_CORTE"
   ]
  },
  {
   "cell_type": "code",
   "execution_count": 3,
   "metadata": {},
   "outputs": [
    {
     "name": "stdout",
     "output_type": "stream",
     "text": [
      "Fecha de corte:\n"
     ]
    },
    {
     "data": {
      "text/plain": [
       "20220103    202867\n",
       "Name: FECHA_CORTE, dtype: int64"
      ]
     },
     "execution_count": 3,
     "metadata": {},
     "output_type": "execute_result"
    }
   ],
   "source": [
    "print('Fecha de corte:')\n",
    "df_fal['FECHA_CORTE'].value_counts().sort_index()"
   ]
  },
  {
   "cell_type": "markdown",
   "metadata": {},
   "source": [
    "Todos los valores son iguales. La misma fecha de corte para n número de casos, variable no necesaria."
   ]
  },
  {
   "cell_type": "markdown",
   "metadata": {},
   "source": [
    "#### 1.2. FECHA_FALLECIMIENTO"
   ]
  },
  {
   "cell_type": "code",
   "execution_count": 4,
   "metadata": {},
   "outputs": [
    {
     "name": "stdout",
     "output_type": "stream",
     "text": [
      "Fecha del primer fallecido reportado: 2020-03-03\n",
      "Fecha del último fallecido reportado: 2022-01-06\n"
     ]
    }
   ],
   "source": [
    "# Fecha del primer fallecido reportado\n",
    "date_a = pd.to_datetime(df_fal['FECHA_FALLECIMIENTO'], format = '%Y%m%d').dt.date\n",
    "date_a = date_a.min()\n",
    "print(f'Fecha del primer fallecido reportado: {date_a}')\n",
    "del date_a\n",
    "\n",
    "# Fecha del último fallecido reportado\n",
    "date_b = pd.to_datetime(df_fal['FECHA_FALLECIMIENTO'], format = '%Y%m%d').dt.date\n",
    "date_b = date_b.max()\n",
    "print(f'Fecha del último fallecido reportado: {date_b}')\n",
    "del date_b"
   ]
  },
  {
   "cell_type": "markdown",
   "metadata": {},
   "source": [
    "#### 1.3. EDAD_DECLARADA"
   ]
  },
  {
   "cell_type": "code",
   "execution_count": 5,
   "metadata": {},
   "outputs": [
    {
     "name": "stdout",
     "output_type": "stream",
     "text": [
      "Edad (años): no_casos \n",
      "Desde la edad más común de fallecimientos a la menos común.\n",
      "\n",
      "66: 5513 80: 4150 48: 2225 34: 642   1: 149 102: 40\n",
      "67: 5414 79: 4028 89: 2090 33: 630  20: 113   5: 40\n",
      "65: 5389 58: 4027 47: 2029 95: 566  19: 111   6: 38\n",
      "68: 5360 57: 4009 90: 1876 32: 557 100: 106 103: 22\n",
      "70: 5260 82: 3860 46: 1856 96: 459   18: 89 104: 16\n",
      "72: 5201 81: 3831 45: 1781 31: 435    2: 83  106: 9\n",
      "73: 5187 56: 3719 44: 1676 30: 423   17: 77  108: 6\n",
      "69: 5166 55: 3698 43: 1506 29: 346   16: 75  105: 5\n",
      "64: 5099 83: 3567 91: 1447 27: 318  101: 71  107: 3\n",
      "74: 5089 54: 3443 42: 1359 28: 313    4: 63   -9: 3\n",
      "71: 5069 84: 3406 92: 1355 97: 306   15: 56  113: 2\n",
      "63: 5060 85: 3216 41: 1271 26: 267   14: 53  110: 2\n",
      "61: 5048 53: 3114 40: 1097 98: 246   11: 52  109: 2\n",
      "75: 4946 86: 2851 39: 1066 25: 243    8: 51  117: 1\n",
      "62: 4915 52: 2813 93: 1019 24: 204    3: 51  114: 1\n",
      "76: 4811 51: 2710  38: 976 99: 192    9: 51    None\n",
      "60: 4602 87: 2673  37: 835 23: 190   10: 50    None\n",
      "77: 4599 50: 2568  94: 765 21: 174    7: 46    None\n",
      "78: 4450 88: 2411  36: 693 22: 156   13: 44    None\n",
      "59: 4292 49: 2400  35: 651  0: 154   12: 42    None\n"
     ]
    }
   ],
   "source": [
    "fal_edad = df_fal['EDAD_DECLARADA'].value_counts()\n",
    "\n",
    "print('Edad (años): no_casos \\nDesde la edad más común de fallecimientos a la menos común.\\n')\n",
    "lst = []\n",
    "\n",
    "for idx, edad in enumerate(fal_edad):\n",
    "    index = fal_edad.index\n",
    "    lst.append(f'{index[idx]}: {edad}')\n",
    "    \n",
    "chunks = [lst[x:x+20] for x in range(0, len(lst), 20)]\n",
    "df = pd.DataFrame.from_records(chunks).transpose()\n",
    "\n",
    "print(df.to_string(index=False, header=False))\n",
    "\n",
    "del fal_edad, chunks, df, lst, edad, idx, index"
   ]
  },
  {
   "cell_type": "markdown",
   "metadata": {},
   "source": [
    "Existen valores negativos, necesario correguir. Edad mínima 0 años y edad máxima 117 años."
   ]
  },
  {
   "cell_type": "markdown",
   "metadata": {},
   "source": [
    "#### 1.4. SEXO"
   ]
  },
  {
   "cell_type": "code",
   "execution_count": 6,
   "metadata": {},
   "outputs": [
    {
     "name": "stdout",
     "output_type": "stream",
     "text": [
      ".: 3\n",
      "FEMENINO: 73775\n",
      "MASCULINO: 129203\n"
     ]
    }
   ],
   "source": [
    "fal_sexo = df_fal['SEXO'].value_counts().sort_index()\n",
    "\n",
    "for idx, sex in enumerate(fal_sexo):\n",
    "    index = fal_sexo.index\n",
    "    print(f'{index[idx]}: {sex}')\n",
    "\n",
    "del fal_sexo, sex, idx, index"
   ]
  },
  {
   "cell_type": "markdown",
   "metadata": {},
   "source": [
    "Hay puntos en lugar de vacíos."
   ]
  },
  {
   "cell_type": "markdown",
   "metadata": {},
   "source": [
    "#### 1.5. CLASIFICACION_DEF"
   ]
  },
  {
   "cell_type": "code",
   "execution_count": 34,
   "metadata": {},
   "outputs": [
    {
     "name": "stdout",
     "output_type": "stream",
     "text": [
      "Criterio SINADEF: 57905\n",
      "Criterio clÃ­nico: 9740\n",
      "Criterio investigaciÃ³n EpidemiolÃ³gica: 16041\n",
      "Criterio nexo epidemiolÃ³gico: 2947\n",
      "Criterio radiolÃ³gico: 6716\n",
      "Criterio serolÃ³gico: 44613\n",
      "Criterio virolÃ³gico: 64905\n"
     ]
    }
   ],
   "source": [
    "fal_cla = df_fal['CLASIFICACION_DEF'].value_counts().sort_index()\n",
    "\n",
    "for idx, clase in enumerate(fal_cla):\n",
    "    index = fal_cla.index\n",
    "    print(f'{index[idx]}: {clase}')\n",
    "\n",
    "del fal_cla, clase, idx, index"
   ]
  },
  {
   "cell_type": "markdown",
   "metadata": {},
   "source": [
    "#### 1.6. DEPARTAMENTO"
   ]
  },
  {
   "cell_type": "code",
   "execution_count": 35,
   "metadata": {},
   "outputs": [
    {
     "name": "stdout",
     "output_type": "stream",
     "text": [
      "AMAZONAS: 1289\n",
      "ANCASH: 6773\n",
      "APURIMAC: 1528\n",
      "AREQUIPA: 9770\n",
      "AYACUCHO: 2164\n",
      "CAJAMARCA: 4194\n",
      "CALLAO: 10123\n",
      "CUSCO: 4836\n",
      "HUANCAVELICA: 1185\n",
      "HUANUCO: 2725\n",
      "ICA: 8617\n",
      "JUNIN: 7108\n",
      "LA LIBERTAD: 10405\n",
      "LAMBAYEQUE: 8692\n",
      "LIMA: 89565\n",
      "LORETO: 4283\n",
      "MADRE DE DIOS: 777\n",
      "MOQUEGUA: 1538\n",
      "PASCO: 1056\n",
      "PIURA: 12287\n",
      "PUNO: 4269\n",
      "SAN MARTIN: 3044\n",
      "TACNA: 1981\n",
      "TUMBES: 1596\n",
      "UCAYALI: 3062\n",
      "\n",
      "Total fallecidos: 202867\n"
     ]
    }
   ],
   "source": [
    "fal_dep = df_fal['DEPARTAMENTO'].value_counts().sort_index()\n",
    "\n",
    "for idx, dep in enumerate(fal_dep):\n",
    "    index = fal_dep.index\n",
    "    print(f'{index[idx]}: {dep}')\n",
    "print(f'\\nTotal fallecidos: {fal_dep.sum()}')\n",
    "\n",
    "del fal_dep, dep, idx, index"
   ]
  },
  {
   "cell_type": "markdown",
   "metadata": {},
   "source": [
    "#### 1.7. PROVINCIAS"
   ]
  },
  {
   "cell_type": "code",
   "execution_count": 36,
   "metadata": {},
   "outputs": [
    {
     "name": "stdout",
     "output_type": "stream",
     "text": [
      "Igual que la variable departamento pero con 196 provincias.\n"
     ]
    }
   ],
   "source": [
    "fal_pro = df_fal['PROVINCIA'].value_counts().sort_index()\n",
    "print(f'Igual que la variable departamento pero con {len(fal_pro)} provincias.')\n",
    "del fal_pro"
   ]
  },
  {
   "cell_type": "markdown",
   "metadata": {},
   "source": [
    "#### 1.8. DISTRITO"
   ]
  },
  {
   "cell_type": "code",
   "execution_count": 37,
   "metadata": {},
   "outputs": [
    {
     "name": "stdout",
     "output_type": "stream",
     "text": [
      "Igual que la variable departamento pero con 1647 distritos.\n"
     ]
    }
   ],
   "source": [
    "fal_dis = df_fal['DISTRITO'].value_counts().sort_index()\n",
    "print(f'Igual que la variable departamento pero con {len(fal_dis)} distritos.')\n",
    "del fal_dis"
   ]
  },
  {
   "cell_type": "markdown",
   "metadata": {},
   "source": [
    "#### 1.9. UBIGEO"
   ]
  },
  {
   "cell_type": "code",
   "execution_count": 38,
   "metadata": {},
   "outputs": [
    {
     "name": "stdout",
     "output_type": "stream",
     "text": [
      "1782 códigos de UBIGEO, para localizar zonas.\n"
     ]
    }
   ],
   "source": [
    "fal_ubi = df_fal['UBIGEO'].value_counts().sort_index()\n",
    "print(f'{len(fal_ubi)} códigos de UBIGEO, para localizar zonas.')\n",
    "del fal_ubi"
   ]
  },
  {
   "cell_type": "markdown",
   "metadata": {},
   "source": [
    "#### 1.10. id_persona"
   ]
  },
  {
   "cell_type": "code",
   "execution_count": 39,
   "metadata": {},
   "outputs": [
    {
     "name": "stdout",
     "output_type": "stream",
     "text": [
      "ID únicos para identificar a cada persona: \n",
      "0    24804325\n",
      "1    24652285\n",
      "2    24652408\n",
      "3    24652744\n",
      "4    24803428\n"
     ]
    }
   ],
   "source": [
    "df_fal['id_persona'] = df_fal['id_persona'].fillna(0).apply(np.int64)\n",
    "\n",
    "\n",
    "print('ID únicos para identificar a cada persona: ')\n",
    "print(df_fal['id_persona'].head().to_string(header=False))"
   ]
  },
  {
   "cell_type": "code",
   "execution_count": 40,
   "metadata": {},
   "outputs": [],
   "source": [
    "del df_fal"
   ]
  },
  {
   "cell_type": "markdown",
   "metadata": {},
   "source": [
    "## 2. Cargar el dataset de vacunados contra COVID-19\n",
    "\n",
    "### Cargar usando dask, debido al tamaño del csv"
   ]
  },
  {
   "cell_type": "code",
   "execution_count": 41,
   "metadata": {},
   "outputs": [
    {
     "name": "stdout",
     "output_type": "stream",
     "text": [
      "Read csv with dask:  0.11958074569702148 sec\n"
     ]
    },
    {
     "data": {
      "text/html": [
       "<div>\n",
       "<style scoped>\n",
       "    .dataframe tbody tr th:only-of-type {\n",
       "        vertical-align: middle;\n",
       "    }\n",
       "\n",
       "    .dataframe tbody tr th {\n",
       "        vertical-align: top;\n",
       "    }\n",
       "\n",
       "    .dataframe thead th {\n",
       "        text-align: right;\n",
       "    }\n",
       "</style>\n",
       "<table border=\"1\" class=\"dataframe\">\n",
       "  <thead>\n",
       "    <tr style=\"text-align: right;\">\n",
       "      <th></th>\n",
       "      <th>id_persona</th>\n",
       "      <th>id_vacunados_covid19</th>\n",
       "      <th>fecha_vacunacion</th>\n",
       "      <th>id_eess</th>\n",
       "      <th>id_centro_vacunacion</th>\n",
       "      <th>id_vacuna</th>\n",
       "      <th>id_grupo_riesgo</th>\n",
       "      <th>dosis</th>\n",
       "      <th>edad</th>\n",
       "    </tr>\n",
       "  </thead>\n",
       "  <tbody>\n",
       "    <tr>\n",
       "      <th>0</th>\n",
       "      <td>7525299</td>\n",
       "      <td>22315832</td>\n",
       "      <td>20210920</td>\n",
       "      <td>14518</td>\n",
       "      <td>2664</td>\n",
       "      <td>6</td>\n",
       "      <td>68</td>\n",
       "      <td>1</td>\n",
       "      <td>38.0</td>\n",
       "    </tr>\n",
       "    <tr>\n",
       "      <th>1</th>\n",
       "      <td>5535776</td>\n",
       "      <td>16020164</td>\n",
       "      <td>20210715</td>\n",
       "      <td>20298</td>\n",
       "      <td>0</td>\n",
       "      <td>5</td>\n",
       "      <td>67</td>\n",
       "      <td>1</td>\n",
       "      <td>47.0</td>\n",
       "    </tr>\n",
       "    <tr>\n",
       "      <th>2</th>\n",
       "      <td>8837098</td>\n",
       "      <td>25810259</td>\n",
       "      <td>20211001</td>\n",
       "      <td>15366</td>\n",
       "      <td>3861</td>\n",
       "      <td>6</td>\n",
       "      <td>68</td>\n",
       "      <td>2</td>\n",
       "      <td>37.0</td>\n",
       "    </tr>\n",
       "    <tr>\n",
       "      <th>3</th>\n",
       "      <td>5222654</td>\n",
       "      <td>15274372</td>\n",
       "      <td>20210610</td>\n",
       "      <td>3320</td>\n",
       "      <td>519</td>\n",
       "      <td>5</td>\n",
       "      <td>54</td>\n",
       "      <td>1</td>\n",
       "      <td>61.0</td>\n",
       "    </tr>\n",
       "    <tr>\n",
       "      <th>4</th>\n",
       "      <td>5168206</td>\n",
       "      <td>15456307</td>\n",
       "      <td>20210814</td>\n",
       "      <td>770</td>\n",
       "      <td>250</td>\n",
       "      <td>5</td>\n",
       "      <td>67</td>\n",
       "      <td>2</td>\n",
       "      <td>44.0</td>\n",
       "    </tr>\n",
       "  </tbody>\n",
       "</table>\n",
       "</div>"
      ],
      "text/plain": [
       "   id_persona  id_vacunados_covid19  fecha_vacunacion  id_eess  \\\n",
       "0     7525299              22315832          20210920    14518   \n",
       "1     5535776              16020164          20210715    20298   \n",
       "2     8837098              25810259          20211001    15366   \n",
       "3     5222654              15274372          20210610     3320   \n",
       "4     5168206              15456307          20210814      770   \n",
       "\n",
       "  id_centro_vacunacion id_vacuna id_grupo_riesgo dosis  edad  \n",
       "0                 2664         6              68     1  38.0  \n",
       "1                    0         5              67     1  47.0  \n",
       "2                 3861         6              68     2  37.0  \n",
       "3                  519         5              54     1  61.0  \n",
       "4                  250         5              67     2  44.0  "
      ]
     },
     "execution_count": 41,
     "metadata": {},
     "output_type": "execute_result"
    }
   ],
   "source": [
    "url_vac = 'RawData/TB_VACUNACION_COVID19.csv'\n",
    "\n",
    "start = time.time()\n",
    "df_vac = dd.read_csv(url_vac, sep = \",\", dtype = {'fecha_vacunacion':'int32', 'id_eess': 'int32',\n",
    "                                                  'dosis': 'category','id_centro_vacunacion': 'category',\n",
    "                                                  'id_vacuna': 'category','id_grupo_riesgo': 'category', \n",
    "                                                  'edad':'float64'})\n",
    "end = time.time()\n",
    "print(\"Read csv with dask: \",(end-start),\"sec\")\n",
    "\n",
    "del url_vac, start, end\n",
    "df_vac.head()"
   ]
  },
  {
   "cell_type": "markdown",
   "metadata": {},
   "source": [
    "### Porcentaje de datos perdidos de cada variable"
   ]
  },
  {
   "cell_type": "code",
   "execution_count": 42,
   "metadata": {},
   "outputs": [
    {
     "data": {
      "text/html": [
       "<div>\n",
       "<style scoped>\n",
       "    .dataframe tbody tr th:only-of-type {\n",
       "        vertical-align: middle;\n",
       "    }\n",
       "\n",
       "    .dataframe tbody tr th {\n",
       "        vertical-align: top;\n",
       "    }\n",
       "\n",
       "    .dataframe thead th {\n",
       "        text-align: right;\n",
       "    }\n",
       "</style>\n",
       "<table border=\"1\" class=\"dataframe\">\n",
       "  <thead>\n",
       "    <tr style=\"text-align: right;\">\n",
       "      <th></th>\n",
       "      <th>index</th>\n",
       "      <th>percent_missing</th>\n",
       "    </tr>\n",
       "  </thead>\n",
       "  <tbody>\n",
       "    <tr>\n",
       "      <th>0</th>\n",
       "      <td>0</td>\n",
       "      <td>0.00000</td>\n",
       "    </tr>\n",
       "    <tr>\n",
       "      <th>1</th>\n",
       "      <td>1</td>\n",
       "      <td>0.00000</td>\n",
       "    </tr>\n",
       "    <tr>\n",
       "      <th>2</th>\n",
       "      <td>2</td>\n",
       "      <td>0.00000</td>\n",
       "    </tr>\n",
       "    <tr>\n",
       "      <th>3</th>\n",
       "      <td>3</td>\n",
       "      <td>0.00000</td>\n",
       "    </tr>\n",
       "    <tr>\n",
       "      <th>4</th>\n",
       "      <td>4</td>\n",
       "      <td>0.00000</td>\n",
       "    </tr>\n",
       "    <tr>\n",
       "      <th>5</th>\n",
       "      <td>5</td>\n",
       "      <td>0.00000</td>\n",
       "    </tr>\n",
       "    <tr>\n",
       "      <th>6</th>\n",
       "      <td>6</td>\n",
       "      <td>0.00000</td>\n",
       "    </tr>\n",
       "    <tr>\n",
       "      <th>7</th>\n",
       "      <td>7</td>\n",
       "      <td>0.00000</td>\n",
       "    </tr>\n",
       "    <tr>\n",
       "      <th>8</th>\n",
       "      <td>8</td>\n",
       "      <td>0.00833</td>\n",
       "    </tr>\n",
       "  </tbody>\n",
       "</table>\n",
       "</div>"
      ],
      "text/plain": [
       "   index  percent_missing\n",
       "0      0          0.00000\n",
       "1      1          0.00000\n",
       "2      2          0.00000\n",
       "3      3          0.00000\n",
       "4      4          0.00000\n",
       "5      5          0.00000\n",
       "6      6          0.00000\n",
       "7      7          0.00000\n",
       "8      8          0.00833"
      ]
     },
     "execution_count": 42,
     "metadata": {},
     "output_type": "execute_result"
    }
   ],
   "source": [
    "fn.missing_values(df_vac)"
   ]
  },
  {
   "cell_type": "markdown",
   "metadata": {},
   "source": [
    "### Analizar cada variable del dataset de vacunados"
   ]
  },
  {
   "cell_type": "markdown",
   "metadata": {},
   "source": [
    "#### 2.1. id_persona"
   ]
  },
  {
   "cell_type": "code",
   "execution_count": 43,
   "metadata": {},
   "outputs": [
    {
     "name": "stdout",
     "output_type": "stream",
     "text": [
      "ID únicos para identificar a cada persona:\n"
     ]
    },
    {
     "data": {
      "text/plain": [
       "0    7525299\n",
       "1    5535776\n",
       "2    8837098\n",
       "3    5222654\n",
       "4    5168206\n",
       "Name: id_persona, dtype: int64"
      ]
     },
     "execution_count": 43,
     "metadata": {},
     "output_type": "execute_result"
    }
   ],
   "source": [
    "print('ID únicos para identificar a cada persona:')\n",
    "df_vac['id_persona'].head()"
   ]
  },
  {
   "cell_type": "markdown",
   "metadata": {},
   "source": [
    "#### 2.2. id_vacunados_covid19"
   ]
  },
  {
   "cell_type": "code",
   "execution_count": 44,
   "metadata": {},
   "outputs": [
    {
     "name": "stdout",
     "output_type": "stream",
     "text": [
      "ID únicos para identificar a cada vacunado (como un contador de cada vacuna aplicada):\n"
     ]
    },
    {
     "data": {
      "text/plain": [
       "0    22315832\n",
       "1    16020164\n",
       "2    25810259\n",
       "3    15274372\n",
       "4    15456307\n",
       "Name: id_vacunados_covid19, dtype: int64"
      ]
     },
     "execution_count": 44,
     "metadata": {},
     "output_type": "execute_result"
    }
   ],
   "source": [
    "print('ID únicos para identificar a cada vacunado (como un contador de cada vacuna aplicada):')\n",
    "df_vac['id_vacunados_covid19'].head()"
   ]
  },
  {
   "cell_type": "markdown",
   "metadata": {},
   "source": [
    "#### 2.3. fecha_vacunacion"
   ]
  },
  {
   "cell_type": "code",
   "execution_count": 45,
   "metadata": {},
   "outputs": [
    {
     "name": "stdout",
     "output_type": "stream",
     "text": [
      "Fecha de inicio de vacunación: 2020-04-27 00:00:00 \n",
      "Fecha última vacunación: 2022-01-04 00:00:00\n"
     ]
    }
   ],
   "source": [
    "date_a = df_vac['fecha_vacunacion'].min().compute()\n",
    "date_a = pd.to_datetime(date_a, format = '%Y%m%d')\n",
    "\n",
    "date_b = df_vac['fecha_vacunacion'].max().compute()\n",
    "date_b = pd.to_datetime(date_b, format = '%Y%m%d')\n",
    "\n",
    "print(f'Fecha de inicio de vacunación: {date_a} \\nFecha última vacunación: {date_b}')\n",
    "del date_a, date_b"
   ]
  },
  {
   "cell_type": "markdown",
   "metadata": {},
   "source": [
    "#### 2.4. id_eess"
   ]
  },
  {
   "cell_type": "code",
   "execution_count": 46,
   "metadata": {},
   "outputs": [
    {
     "name": "stdout",
     "output_type": "stream",
     "text": [
      "id_iess\tnumber\n"
     ]
    },
    {
     "data": {
      "text/plain": [
       "33          36\n",
       "49         220\n",
       "51        1419\n",
       "52        2177\n",
       "53          63\n",
       "         ...  \n",
       "28772      731\n",
       "28780       23\n",
       "28791      611\n",
       "28806    11330\n",
       "28820      691\n",
       "Name: id_eess, Length: 7884, dtype: int64"
      ]
     },
     "execution_count": 46,
     "metadata": {},
     "output_type": "execute_result"
    }
   ],
   "source": [
    "print(f'id_iess\\tnumber')\n",
    "df_vac.id_eess.value_counts().compute().sort_index()"
   ]
  },
  {
   "cell_type": "markdown",
   "metadata": {},
   "source": [
    "#### 2.5. id_centro_vacunacion\t"
   ]
  },
  {
   "cell_type": "code",
   "execution_count": 47,
   "metadata": {},
   "outputs": [
    {
     "name": "stdout",
     "output_type": "stream",
     "text": [
      "id_centro_vacunacion\tnumber\n"
     ]
    },
    {
     "data": {
      "text/plain": [
       "0       14741687\n",
       "1           1924\n",
       "10         60439\n",
       "100         3299\n",
       "104          544\n",
       "          ...   \n",
       "2705           2\n",
       "2998           1\n",
       "567            1\n",
       "1865           1\n",
       "4164           1\n",
       "Name: id_centro_vacunacion, Length: 3441, dtype: int64"
      ]
     },
     "execution_count": 47,
     "metadata": {},
     "output_type": "execute_result"
    }
   ],
   "source": [
    "print(f'id_centro_vacunacion\\tnumber')\n",
    "df_vac.id_centro_vacunacion.value_counts().compute().sort_index()"
   ]
  },
  {
   "cell_type": "markdown",
   "metadata": {},
   "source": [
    "#### 2.6. id_vacuna"
   ]
  },
  {
   "cell_type": "code",
   "execution_count": 48,
   "metadata": {},
   "outputs": [
    {
     "name": "stdout",
     "output_type": "stream",
     "text": [
      "id_vacuna\tnumber\n"
     ]
    },
    {
     "data": {
      "text/plain": [
       "1     3167931\n",
       "2      371456\n",
       "3      396814\n",
       "4      700871\n",
       "5    27088772\n",
       "6    18621506\n",
       "Name: id_vacuna, dtype: int64"
      ]
     },
     "execution_count": 48,
     "metadata": {},
     "output_type": "execute_result"
    }
   ],
   "source": [
    "print(f'id_vacuna\\tnumber')\n",
    "df_vac.id_vacuna.value_counts().compute().sort_index()"
   ]
  },
  {
   "cell_type": "markdown",
   "metadata": {},
   "source": [
    "#### 2.7. id_grupo_riesgo"
   ]
  },
  {
   "cell_type": "code",
   "execution_count": 49,
   "metadata": {},
   "outputs": [
    {
     "data": {
      "text/plain": [
       "0        3909\n",
       "11     227006\n",
       "12     334538\n",
       "17    1535775\n",
       "22     111776\n",
       "23     417903\n",
       "26       4044\n",
       "36      40384\n",
       "4       30392\n",
       "40     345466\n",
       "45      16996\n",
       "47      18405\n",
       "50      17525\n",
       "51       9826\n",
       "52       1183\n",
       "53      18355\n",
       "54    9504978\n",
       "56      29077\n",
       "57     106243\n",
       "58     110676\n",
       "59       3063\n",
       "6        2297\n",
       "60      30110\n",
       "61      11345\n",
       "62    6048890\n",
       "63      36509\n",
       "64      70757\n",
       "65      44765\n",
       "66     255997\n",
       "67    7498829\n",
       "68    8157747\n",
       "69     130656\n",
       "7      316962\n",
       "70    1671237\n",
       "71    8413330\n",
       "72       4967\n",
       "73       4814\n",
       "74       3228\n",
       "75       4688\n",
       "76      17600\n",
       "77    4732210\n",
       "78        943\n",
       "79         82\n",
       "1         207\n",
       "24       1660\n",
       "Name: id_grupo_riesgo, dtype: int64"
      ]
     },
     "execution_count": 49,
     "metadata": {},
     "output_type": "execute_result"
    }
   ],
   "source": [
    "df_vac.id_grupo_riesgo.value_counts().compute().sort_index()"
   ]
  },
  {
   "cell_type": "markdown",
   "metadata": {},
   "source": [
    "#### 2.8. dosis"
   ]
  },
  {
   "cell_type": "code",
   "execution_count": 50,
   "metadata": {
    "scrolled": true
   },
   "outputs": [
    {
     "name": "stdout",
     "output_type": "stream",
     "text": [
      "dosis\tnumber\n"
     ]
    },
    {
     "data": {
      "text/plain": [
       "1    24511772\n",
       "2    21611587\n",
       "3     4223869\n",
       "4         116\n",
       "5           6\n",
       "Name: dosis, dtype: int64"
      ]
     },
     "execution_count": 50,
     "metadata": {},
     "output_type": "execute_result"
    }
   ],
   "source": [
    "print(f'dosis\\tnumber')\n",
    "df_vac.dosis.value_counts().compute()"
   ]
  },
  {
   "cell_type": "markdown",
   "metadata": {},
   "source": [
    "#### 2.9. edad"
   ]
  },
  {
   "cell_type": "code",
   "execution_count": 51,
   "metadata": {},
   "outputs": [
    {
     "data": {
      "text/plain": [
       "0.0      3\n",
       "1.0      2\n",
       "2.0      4\n",
       "3.0      2\n",
       "4.0      7\n",
       "        ..\n",
       "141.0    2\n",
       "143.0    2\n",
       "146.0    2\n",
       "147.0    1\n",
       "224.0    2\n",
       "Name: edad, Length: 136, dtype: int64"
      ]
     },
     "execution_count": 51,
     "metadata": {},
     "output_type": "execute_result"
    }
   ],
   "source": [
    "df_vac.edad.value_counts().compute().sort_index()"
   ]
  },
  {
   "cell_type": "markdown",
   "metadata": {},
   "source": [
    "## 3. Cargar el dataset de casos positivos de COVID-19\n",
    "\n",
    "### Cargar el dataset"
   ]
  },
  {
   "cell_type": "code",
   "execution_count": 52,
   "metadata": {},
   "outputs": [
    {
     "data": {
      "text/html": [
       "<div>\n",
       "<style scoped>\n",
       "    .dataframe tbody tr th:only-of-type {\n",
       "        vertical-align: middle;\n",
       "    }\n",
       "\n",
       "    .dataframe tbody tr th {\n",
       "        vertical-align: top;\n",
       "    }\n",
       "\n",
       "    .dataframe thead th {\n",
       "        text-align: right;\n",
       "    }\n",
       "</style>\n",
       "<table border=\"1\" class=\"dataframe\">\n",
       "  <thead>\n",
       "    <tr style=\"text-align: right;\">\n",
       "      <th></th>\n",
       "      <th>FECHA_CORTE</th>\n",
       "      <th>DEPARTAMENTO</th>\n",
       "      <th>PROVINCIA</th>\n",
       "      <th>DISTRITO</th>\n",
       "      <th>METODODX</th>\n",
       "      <th>EDAD</th>\n",
       "      <th>SEXO</th>\n",
       "      <th>FECHA_RESULTADO</th>\n",
       "      <th>UBIGEO</th>\n",
       "      <th>id_persona</th>\n",
       "    </tr>\n",
       "  </thead>\n",
       "  <tbody>\n",
       "    <tr>\n",
       "      <th>0</th>\n",
       "      <td>20220103</td>\n",
       "      <td>TACNA</td>\n",
       "      <td>TACNA</td>\n",
       "      <td>CORONEL GREGORIO ALBARRACIN L.</td>\n",
       "      <td>AG</td>\n",
       "      <td>16.0</td>\n",
       "      <td>MASCULINO</td>\n",
       "      <td>20210109.0</td>\n",
       "      <td>230110.0</td>\n",
       "      <td>24833983.0</td>\n",
       "    </tr>\n",
       "    <tr>\n",
       "      <th>1</th>\n",
       "      <td>20220103</td>\n",
       "      <td>MADRE DE DIOS</td>\n",
       "      <td>TAMBOPATA</td>\n",
       "      <td>TAMBOPATA</td>\n",
       "      <td>PR</td>\n",
       "      <td>26.0</td>\n",
       "      <td>FEMENINO</td>\n",
       "      <td>20200829.0</td>\n",
       "      <td>170101.0</td>\n",
       "      <td>24833731.0</td>\n",
       "    </tr>\n",
       "    <tr>\n",
       "      <th>2</th>\n",
       "      <td>20220103</td>\n",
       "      <td>CALLAO</td>\n",
       "      <td>CALLAO</td>\n",
       "      <td>LA PERLA</td>\n",
       "      <td>PCR</td>\n",
       "      <td>27.0</td>\n",
       "      <td>MASCULINO</td>\n",
       "      <td>20210217.0</td>\n",
       "      <td>70104.0</td>\n",
       "      <td>24833734.0</td>\n",
       "    </tr>\n",
       "    <tr>\n",
       "      <th>3</th>\n",
       "      <td>20220103</td>\n",
       "      <td>LIMA</td>\n",
       "      <td>EN INVESTIGACIÓN</td>\n",
       "      <td>EN INVESTIGACIÓN</td>\n",
       "      <td>PCR</td>\n",
       "      <td>39.0</td>\n",
       "      <td>FEMENINO</td>\n",
       "      <td>20200724.0</td>\n",
       "      <td>NaN</td>\n",
       "      <td>24833739.0</td>\n",
       "    </tr>\n",
       "    <tr>\n",
       "      <th>4</th>\n",
       "      <td>20220103</td>\n",
       "      <td>LIMA</td>\n",
       "      <td>LIMA</td>\n",
       "      <td>VILLA MARIA DEL TRIUNFO</td>\n",
       "      <td>PR</td>\n",
       "      <td>26.0</td>\n",
       "      <td>MASCULINO</td>\n",
       "      <td>20200821.0</td>\n",
       "      <td>150143.0</td>\n",
       "      <td>24833746.0</td>\n",
       "    </tr>\n",
       "  </tbody>\n",
       "</table>\n",
       "</div>"
      ],
      "text/plain": [
       "   FECHA_CORTE   DEPARTAMENTO         PROVINCIA  \\\n",
       "0     20220103          TACNA             TACNA   \n",
       "1     20220103  MADRE DE DIOS         TAMBOPATA   \n",
       "2     20220103         CALLAO            CALLAO   \n",
       "3     20220103           LIMA  EN INVESTIGACIÓN   \n",
       "4     20220103           LIMA              LIMA   \n",
       "\n",
       "                         DISTRITO METODODX  EDAD       SEXO  FECHA_RESULTADO  \\\n",
       "0  CORONEL GREGORIO ALBARRACIN L.       AG  16.0  MASCULINO       20210109.0   \n",
       "1                       TAMBOPATA       PR  26.0   FEMENINO       20200829.0   \n",
       "2                        LA PERLA      PCR  27.0  MASCULINO       20210217.0   \n",
       "3                EN INVESTIGACIÓN      PCR  39.0   FEMENINO       20200724.0   \n",
       "4         VILLA MARIA DEL TRIUNFO       PR  26.0  MASCULINO       20200821.0   \n",
       "\n",
       "     UBIGEO  id_persona  \n",
       "0  230110.0  24833983.0  \n",
       "1  170101.0  24833731.0  \n",
       "2   70104.0  24833734.0  \n",
       "3       NaN  24833739.0  \n",
       "4  150143.0  24833746.0  "
      ]
     },
     "execution_count": 52,
     "metadata": {},
     "output_type": "execute_result"
    }
   ],
   "source": [
    "url_cas = 'RawData/positivos_covid.csv'\n",
    "df_cas = pd.read_csv('RawData/positivos_covid.csv', sep = ';')\n",
    "\n",
    "del url_cas\n",
    "df_cas.head()"
   ]
  },
  {
   "cell_type": "markdown",
   "metadata": {},
   "source": [
    "### Porcentaje de datos perdidos de cada variable"
   ]
  },
  {
   "cell_type": "code",
   "execution_count": 53,
   "metadata": {},
   "outputs": [
    {
     "data": {
      "text/html": [
       "<div>\n",
       "<style scoped>\n",
       "    .dataframe tbody tr th:only-of-type {\n",
       "        vertical-align: middle;\n",
       "    }\n",
       "\n",
       "    .dataframe tbody tr th {\n",
       "        vertical-align: top;\n",
       "    }\n",
       "\n",
       "    .dataframe thead th {\n",
       "        text-align: right;\n",
       "    }\n",
       "</style>\n",
       "<table border=\"1\" class=\"dataframe\">\n",
       "  <thead>\n",
       "    <tr style=\"text-align: right;\">\n",
       "      <th></th>\n",
       "      <th>index</th>\n",
       "      <th>percent_missing</th>\n",
       "    </tr>\n",
       "  </thead>\n",
       "  <tbody>\n",
       "    <tr>\n",
       "      <th>0</th>\n",
       "      <td>FECHA_CORTE</td>\n",
       "      <td>0.000000</td>\n",
       "    </tr>\n",
       "    <tr>\n",
       "      <th>1</th>\n",
       "      <td>DEPARTAMENTO</td>\n",
       "      <td>0.000000</td>\n",
       "    </tr>\n",
       "    <tr>\n",
       "      <th>2</th>\n",
       "      <td>PROVINCIA</td>\n",
       "      <td>0.000000</td>\n",
       "    </tr>\n",
       "    <tr>\n",
       "      <th>3</th>\n",
       "      <td>DISTRITO</td>\n",
       "      <td>0.000000</td>\n",
       "    </tr>\n",
       "    <tr>\n",
       "      <th>4</th>\n",
       "      <td>METODODX</td>\n",
       "      <td>0.000000</td>\n",
       "    </tr>\n",
       "    <tr>\n",
       "      <th>5</th>\n",
       "      <td>EDAD</td>\n",
       "      <td>0.015023</td>\n",
       "    </tr>\n",
       "    <tr>\n",
       "      <th>6</th>\n",
       "      <td>SEXO</td>\n",
       "      <td>0.000043</td>\n",
       "    </tr>\n",
       "    <tr>\n",
       "      <th>7</th>\n",
       "      <td>FECHA_RESULTADO</td>\n",
       "      <td>0.087581</td>\n",
       "    </tr>\n",
       "    <tr>\n",
       "      <th>8</th>\n",
       "      <td>UBIGEO</td>\n",
       "      <td>4.879828</td>\n",
       "    </tr>\n",
       "    <tr>\n",
       "      <th>9</th>\n",
       "      <td>id_persona</td>\n",
       "      <td>1.756993</td>\n",
       "    </tr>\n",
       "  </tbody>\n",
       "</table>\n",
       "</div>"
      ],
      "text/plain": [
       "             index  percent_missing\n",
       "0      FECHA_CORTE         0.000000\n",
       "1     DEPARTAMENTO         0.000000\n",
       "2        PROVINCIA         0.000000\n",
       "3         DISTRITO         0.000000\n",
       "4         METODODX         0.000000\n",
       "5             EDAD         0.015023\n",
       "6             SEXO         0.000043\n",
       "7  FECHA_RESULTADO         0.087581\n",
       "8           UBIGEO         4.879828\n",
       "9       id_persona         1.756993"
      ]
     },
     "execution_count": 53,
     "metadata": {},
     "output_type": "execute_result"
    }
   ],
   "source": [
    "fn.missing_values(df_cas)"
   ]
  },
  {
   "cell_type": "markdown",
   "metadata": {},
   "source": [
    "### Analizar cada variable del dataset de casos reportados"
   ]
  }
 ],
 "metadata": {
  "interpreter": {
   "hash": "c5969b0444520e9aeee25788533910dfe0ee1a9ff4ff2cc0b07d55f5d197aaba"
  },
  "kernelspec": {
   "display_name": "Python 3.8.8 64-bit ('base': conda)",
   "language": "python",
   "name": "python3"
  },
  "language_info": {
   "codemirror_mode": {
    "name": "ipython",
    "version": 3
   },
   "file_extension": ".py",
   "mimetype": "text/x-python",
   "name": "python",
   "nbconvert_exporter": "python",
   "pygments_lexer": "ipython3",
   "version": "3.8.12"
  }
 },
 "nbformat": 4,
 "nbformat_minor": 4
}
