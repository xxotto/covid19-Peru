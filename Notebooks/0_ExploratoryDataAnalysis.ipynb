{
 "cells": [
  {
   "cell_type": "markdown",
   "metadata": {},
   "source": [
    "# Análisis exploratorio y descripción general de datos (RawData)\n",
    "\n",
    "## Introducción\n",
    "\n",
    "(Añadir descripción de cómo usar DataFiltering)"
   ]
  },
  {
   "cell_type": "markdown",
   "metadata": {},
   "source": [
    "## 0. Cargar librerías"
   ]
  },
  {
   "cell_type": "code",
   "execution_count": 1,
   "metadata": {},
   "outputs": [],
   "source": [
    "import pandas as pd\n",
    "import numpy as np\n",
    "import time as time\n",
    "import dask.dataframe as dd\n",
    "from tqdm import tqdm\n",
    "\n",
    "import functions as fn"
   ]
  },
  {
   "cell_type": "markdown",
   "metadata": {},
   "source": [
    "## 1. Cargar el dataset de casos positivos de COVID-19"
   ]
  },
  {
   "cell_type": "code",
   "execution_count": 3,
   "metadata": {},
   "outputs": [
    {
     "data": {
      "text/html": [
       "<div>\n",
       "<style scoped>\n",
       "    .dataframe tbody tr th:only-of-type {\n",
       "        vertical-align: middle;\n",
       "    }\n",
       "\n",
       "    .dataframe tbody tr th {\n",
       "        vertical-align: top;\n",
       "    }\n",
       "\n",
       "    .dataframe thead th {\n",
       "        text-align: right;\n",
       "    }\n",
       "</style>\n",
       "<table border=\"1\" class=\"dataframe\">\n",
       "  <thead>\n",
       "    <tr style=\"text-align: right;\">\n",
       "      <th></th>\n",
       "      <th>FECHA_CORTE</th>\n",
       "      <th>DEPARTAMENTO</th>\n",
       "      <th>PROVINCIA</th>\n",
       "      <th>DISTRITO</th>\n",
       "      <th>METODODX</th>\n",
       "      <th>EDAD</th>\n",
       "      <th>SEXO</th>\n",
       "      <th>FECHA_RESULTADO</th>\n",
       "      <th>UBIGEO</th>\n",
       "      <th>id_persona</th>\n",
       "    </tr>\n",
       "  </thead>\n",
       "  <tbody>\n",
       "    <tr>\n",
       "      <th>0</th>\n",
       "      <td>20220114</td>\n",
       "      <td>LIMA</td>\n",
       "      <td>LIMA</td>\n",
       "      <td>SAN MARTIN DE PORRES</td>\n",
       "      <td>PR</td>\n",
       "      <td>25.0</td>\n",
       "      <td>MASCULINO</td>\n",
       "      <td>20201217.0</td>\n",
       "      <td>150135.0</td>\n",
       "      <td>24662153.0</td>\n",
       "    </tr>\n",
       "    <tr>\n",
       "      <th>1</th>\n",
       "      <td>20220114</td>\n",
       "      <td>ICA</td>\n",
       "      <td>PISCO</td>\n",
       "      <td>PISCO</td>\n",
       "      <td>PR</td>\n",
       "      <td>20.0</td>\n",
       "      <td>FEMENINO</td>\n",
       "      <td>20200822.0</td>\n",
       "      <td>110501.0</td>\n",
       "      <td>24662175.0</td>\n",
       "    </tr>\n",
       "    <tr>\n",
       "      <th>2</th>\n",
       "      <td>20220114</td>\n",
       "      <td>HUANUCO</td>\n",
       "      <td>HUANUCO</td>\n",
       "      <td>HUANUCO</td>\n",
       "      <td>PR</td>\n",
       "      <td>22.0</td>\n",
       "      <td>FEMENINO</td>\n",
       "      <td>20200729.0</td>\n",
       "      <td>100101.0</td>\n",
       "      <td>24662197.0</td>\n",
       "    </tr>\n",
       "    <tr>\n",
       "      <th>3</th>\n",
       "      <td>20220114</td>\n",
       "      <td>ANCASH</td>\n",
       "      <td>SANTA</td>\n",
       "      <td>SANTA</td>\n",
       "      <td>AG</td>\n",
       "      <td>18.0</td>\n",
       "      <td>FEMENINO</td>\n",
       "      <td>20210630.0</td>\n",
       "      <td>21808.0</td>\n",
       "      <td>24662204.0</td>\n",
       "    </tr>\n",
       "    <tr>\n",
       "      <th>4</th>\n",
       "      <td>20220114</td>\n",
       "      <td>ANCASH</td>\n",
       "      <td>SANTA</td>\n",
       "      <td>NUEVO CHIMBOTE</td>\n",
       "      <td>AG</td>\n",
       "      <td>17.0</td>\n",
       "      <td>MASCULINO</td>\n",
       "      <td>20210404.0</td>\n",
       "      <td>21809.0</td>\n",
       "      <td>24662207.0</td>\n",
       "    </tr>\n",
       "    <tr>\n",
       "      <th>...</th>\n",
       "      <td>...</td>\n",
       "      <td>...</td>\n",
       "      <td>...</td>\n",
       "      <td>...</td>\n",
       "      <td>...</td>\n",
       "      <td>...</td>\n",
       "      <td>...</td>\n",
       "      <td>...</td>\n",
       "      <td>...</td>\n",
       "      <td>...</td>\n",
       "    </tr>\n",
       "    <tr>\n",
       "      <th>2562530</th>\n",
       "      <td>20220114</td>\n",
       "      <td>LIMA</td>\n",
       "      <td>LIMA</td>\n",
       "      <td>LIMA</td>\n",
       "      <td>PCR</td>\n",
       "      <td>23.0</td>\n",
       "      <td>MASCULINO</td>\n",
       "      <td>20200423.0</td>\n",
       "      <td>150101.0</td>\n",
       "      <td>NaN</td>\n",
       "    </tr>\n",
       "    <tr>\n",
       "      <th>2562531</th>\n",
       "      <td>20220114</td>\n",
       "      <td>LIMA</td>\n",
       "      <td>LIMA</td>\n",
       "      <td>CHORRILLOS</td>\n",
       "      <td>PCR</td>\n",
       "      <td>47.0</td>\n",
       "      <td>FEMENINO</td>\n",
       "      <td>20210122.0</td>\n",
       "      <td>150108.0</td>\n",
       "      <td>NaN</td>\n",
       "    </tr>\n",
       "    <tr>\n",
       "      <th>2562532</th>\n",
       "      <td>20220114</td>\n",
       "      <td>CALLAO</td>\n",
       "      <td>CALLAO</td>\n",
       "      <td>CALLAO</td>\n",
       "      <td>PCR</td>\n",
       "      <td>52.0</td>\n",
       "      <td>MASCULINO</td>\n",
       "      <td>20210911.0</td>\n",
       "      <td>70101.0</td>\n",
       "      <td>NaN</td>\n",
       "    </tr>\n",
       "    <tr>\n",
       "      <th>2562533</th>\n",
       "      <td>20220114</td>\n",
       "      <td>LIMA</td>\n",
       "      <td>LIMA</td>\n",
       "      <td>LIMA</td>\n",
       "      <td>PCR</td>\n",
       "      <td>50.0</td>\n",
       "      <td>FEMENINO</td>\n",
       "      <td>20200518.0</td>\n",
       "      <td>150101.0</td>\n",
       "      <td>NaN</td>\n",
       "    </tr>\n",
       "    <tr>\n",
       "      <th>2562534</th>\n",
       "      <td>20220114</td>\n",
       "      <td>CALLAO</td>\n",
       "      <td>CALLAO</td>\n",
       "      <td>CALLAO</td>\n",
       "      <td>PR</td>\n",
       "      <td>27.0</td>\n",
       "      <td>FEMENINO</td>\n",
       "      <td>20201026.0</td>\n",
       "      <td>70101.0</td>\n",
       "      <td>NaN</td>\n",
       "    </tr>\n",
       "  </tbody>\n",
       "</table>\n",
       "<p>2562535 rows × 10 columns</p>\n",
       "</div>"
      ],
      "text/plain": [
       "         FECHA_CORTE DEPARTAMENTO PROVINCIA              DISTRITO METODODX  \\\n",
       "0           20220114         LIMA      LIMA  SAN MARTIN DE PORRES       PR   \n",
       "1           20220114          ICA     PISCO                 PISCO       PR   \n",
       "2           20220114      HUANUCO   HUANUCO               HUANUCO       PR   \n",
       "3           20220114       ANCASH     SANTA                 SANTA       AG   \n",
       "4           20220114       ANCASH     SANTA        NUEVO CHIMBOTE       AG   \n",
       "...              ...          ...       ...                   ...      ...   \n",
       "2562530     20220114         LIMA      LIMA                  LIMA      PCR   \n",
       "2562531     20220114         LIMA      LIMA            CHORRILLOS      PCR   \n",
       "2562532     20220114       CALLAO    CALLAO                CALLAO      PCR   \n",
       "2562533     20220114         LIMA      LIMA                  LIMA      PCR   \n",
       "2562534     20220114       CALLAO    CALLAO                CALLAO       PR   \n",
       "\n",
       "         EDAD       SEXO  FECHA_RESULTADO    UBIGEO  id_persona  \n",
       "0        25.0  MASCULINO       20201217.0  150135.0  24662153.0  \n",
       "1        20.0   FEMENINO       20200822.0  110501.0  24662175.0  \n",
       "2        22.0   FEMENINO       20200729.0  100101.0  24662197.0  \n",
       "3        18.0   FEMENINO       20210630.0   21808.0  24662204.0  \n",
       "4        17.0  MASCULINO       20210404.0   21809.0  24662207.0  \n",
       "...       ...        ...              ...       ...         ...  \n",
       "2562530  23.0  MASCULINO       20200423.0  150101.0         NaN  \n",
       "2562531  47.0   FEMENINO       20210122.0  150108.0         NaN  \n",
       "2562532  52.0  MASCULINO       20210911.0   70101.0         NaN  \n",
       "2562533  50.0   FEMENINO       20200518.0  150101.0         NaN  \n",
       "2562534  27.0   FEMENINO       20201026.0   70101.0         NaN  \n",
       "\n",
       "[2562535 rows x 10 columns]"
      ]
     },
     "execution_count": 3,
     "metadata": {},
     "output_type": "execute_result"
    }
   ],
   "source": [
    "url_cas = '../RawData/positivos_covid.csv'\n",
    "df_cas = pd.read_csv(url_cas, sep = ';',  dtype = {'FECHA_CORTE': 'int32', 'DEPARTAMENTO': 'category',\n",
    "                                                   'PROVINCIA': 'category', 'Distrito': 'category',\n",
    "                                                   'METODODX': 'category', 'SEXO': 'category'})\n",
    "del url_cas\n",
    "df_cas"
   ]
  },
  {
   "cell_type": "code",
   "execution_count": 4,
   "metadata": {},
   "outputs": [
    {
     "data": {
      "text/html": [
       "<div>\n",
       "<style scoped>\n",
       "    .dataframe tbody tr th:only-of-type {\n",
       "        vertical-align: middle;\n",
       "    }\n",
       "\n",
       "    .dataframe tbody tr th {\n",
       "        vertical-align: top;\n",
       "    }\n",
       "\n",
       "    .dataframe thead th {\n",
       "        text-align: right;\n",
       "    }\n",
       "</style>\n",
       "<table border=\"1\" class=\"dataframe\">\n",
       "  <thead>\n",
       "    <tr style=\"text-align: right;\">\n",
       "      <th></th>\n",
       "      <th>index</th>\n",
       "      <th>percent_missing</th>\n",
       "    </tr>\n",
       "  </thead>\n",
       "  <tbody>\n",
       "    <tr>\n",
       "      <th>0</th>\n",
       "      <td>FECHA_CORTE</td>\n",
       "      <td>0.000000</td>\n",
       "    </tr>\n",
       "    <tr>\n",
       "      <th>1</th>\n",
       "      <td>DEPARTAMENTO</td>\n",
       "      <td>0.000000</td>\n",
       "    </tr>\n",
       "    <tr>\n",
       "      <th>2</th>\n",
       "      <td>PROVINCIA</td>\n",
       "      <td>0.000000</td>\n",
       "    </tr>\n",
       "    <tr>\n",
       "      <th>3</th>\n",
       "      <td>DISTRITO</td>\n",
       "      <td>0.000000</td>\n",
       "    </tr>\n",
       "    <tr>\n",
       "      <th>4</th>\n",
       "      <td>METODODX</td>\n",
       "      <td>0.000000</td>\n",
       "    </tr>\n",
       "    <tr>\n",
       "      <th>5</th>\n",
       "      <td>EDAD</td>\n",
       "      <td>0.013541</td>\n",
       "    </tr>\n",
       "    <tr>\n",
       "      <th>6</th>\n",
       "      <td>SEXO</td>\n",
       "      <td>0.000039</td>\n",
       "    </tr>\n",
       "    <tr>\n",
       "      <th>7</th>\n",
       "      <td>FECHA_RESULTADO</td>\n",
       "      <td>0.078945</td>\n",
       "    </tr>\n",
       "    <tr>\n",
       "      <th>8</th>\n",
       "      <td>UBIGEO</td>\n",
       "      <td>4.927738</td>\n",
       "    </tr>\n",
       "    <tr>\n",
       "      <th>9</th>\n",
       "      <td>id_persona</td>\n",
       "      <td>1.811058</td>\n",
       "    </tr>\n",
       "  </tbody>\n",
       "</table>\n",
       "</div>"
      ],
      "text/plain": [
       "             index  percent_missing\n",
       "0      FECHA_CORTE         0.000000\n",
       "1     DEPARTAMENTO         0.000000\n",
       "2        PROVINCIA         0.000000\n",
       "3         DISTRITO         0.000000\n",
       "4         METODODX         0.000000\n",
       "5             EDAD         0.013541\n",
       "6             SEXO         0.000039\n",
       "7  FECHA_RESULTADO         0.078945\n",
       "8           UBIGEO         4.927738\n",
       "9       id_persona         1.811058"
      ]
     },
     "execution_count": 4,
     "metadata": {},
     "output_type": "execute_result"
    }
   ],
   "source": [
    "fn.missing_values(df_cas)"
   ]
  },
  {
   "cell_type": "code",
   "execution_count": 5,
   "metadata": {},
   "outputs": [
    {
     "name": "stdout",
     "output_type": "stream",
     "text": [
      "<class 'pandas.core.frame.DataFrame'>\n",
      "RangeIndex: 2562535 entries, 0 to 2562534\n",
      "Data columns (total 10 columns):\n",
      " #   Column           Dtype   \n",
      "---  ------           -----   \n",
      " 0   FECHA_CORTE      int32   \n",
      " 1   DEPARTAMENTO     category\n",
      " 2   PROVINCIA        category\n",
      " 3   DISTRITO         object  \n",
      " 4   METODODX         category\n",
      " 5   EDAD             float64 \n",
      " 6   SEXO             category\n",
      " 7   FECHA_RESULTADO  float64 \n",
      " 8   UBIGEO           float64 \n",
      " 9   id_persona       float64 \n",
      "dtypes: category(4), float64(4), int32(1), object(1)\n",
      "memory usage: 119.8+ MB\n"
     ]
    }
   ],
   "source": [
    "df_cas.info()"
   ]
  },
  {
   "cell_type": "code",
   "execution_count": 34,
   "metadata": {},
   "outputs": [
    {
     "name": "stdout",
     "output_type": "stream",
     "text": [
      "Fecha de corte: 2022-01-14\n"
     ]
    }
   ],
   "source": [
    "# FECHA_CORTE\n",
    "contarFechaCorte = df_cas['FECHA_CORTE'].value_counts().reset_index()\n",
    "fechaCorte = pd.to_datetime(contarFechaCorte['index'], format = '%Y%m%d').dt.date\n",
    "print(f'Fecha de corte: {fechaCorte[0]}')\n",
    "del contarFechaCorte, fechaCorte"
   ]
  },
  {
   "cell_type": "code",
   "execution_count": 83,
   "metadata": {},
   "outputs": [
    {
     "name": "stdout",
     "output_type": "stream",
     "text": [
      "Total de casos positivos: 2562535\n"
     ]
    },
    {
     "data": {
      "text/plain": [
       "AMAZONAS           34329\n",
       "ANCASH             90283\n",
       "APURIMAC           28130\n",
       "AREQUIPA          132459\n",
       "AYACUCHO           37460\n",
       "CAJAMARCA          73240\n",
       "CALLAO            115273\n",
       "CUSCO              89495\n",
       "HUANCAVELICA       17595\n",
       "HUANUCO            39732\n",
       "ICA                69051\n",
       "JUNIN              96882\n",
       "LA LIBERTAD       103214\n",
       "LAMBAYEQUE         75274\n",
       "LIMA             1156394\n",
       "LORETO             46674\n",
       "MADRE DE DIOS      14539\n",
       "MOQUEGUA           32664\n",
       "PASCO              17584\n",
       "PIURA             105525\n",
       "PUNO               46376\n",
       "SAN MARTIN         51840\n",
       "TACNA              35481\n",
       "TUMBES             20090\n",
       "UCAYALI            32951\n",
       "Name: DEPARTAMENTO, dtype: int64"
      ]
     },
     "execution_count": 83,
     "metadata": {},
     "output_type": "execute_result"
    }
   ],
   "source": [
    "# DEPARTAMENTO\n",
    "totalCases = df_cas['DEPARTAMENTO'].value_counts().sort_index().sum()\n",
    "print(f'Total de casos positivos: {totalCases}')\n",
    "del totalCases\n",
    "\n",
    "df_cas['DEPARTAMENTO'].value_counts().sort_index()"
   ]
  },
  {
   "cell_type": "code",
   "execution_count": 75,
   "metadata": {},
   "outputs": [
    {
     "data": {
      "text/plain": [
       "ABANCAY          12744\n",
       "ACOBAMBA          1379\n",
       "ACOMAYO            688\n",
       "AIJA               366\n",
       "ALTO AMAZONAS     5228\n",
       "                 ...  \n",
       "YAULI             2897\n",
       "YAUYOS             737\n",
       "YUNGAY            1638\n",
       "YUNGUYO           1102\n",
       "ZARUMILLA         3250\n",
       "Name: PROVINCIA, Length: 197, dtype: int64"
      ]
     },
     "execution_count": 75,
     "metadata": {},
     "output_type": "execute_result"
    }
   ],
   "source": [
    "# PROVINCIA\n",
    "df_cas['PROVINCIA'].value_counts().sort_index()"
   ]
  },
  {
   "cell_type": "code",
   "execution_count": 84,
   "metadata": {},
   "outputs": [
    {
     "data": {
      "text/plain": [
       "ABANCAY                    9790\n",
       "ABELARDO PARDO LEZAMETA      28\n",
       "ACARI                       503\n",
       "ACAS                         10\n",
       "ACCHA                       172\n",
       "                           ... \n",
       "ZEPITA                      182\n",
       "ZORRITOS                    894\n",
       "ZURITE                       87\n",
       "ZUÑIGA                       11\n",
       "ÑAHUIMPUQUIO                  4\n",
       "Name: DISTRITO, Length: 1698, dtype: int64"
      ]
     },
     "execution_count": 84,
     "metadata": {},
     "output_type": "execute_result"
    }
   ],
   "source": [
    "# DISTRITO\n",
    "df_cas['DISTRITO'].value_counts().sort_index()"
   ]
  },
  {
   "cell_type": "code",
   "execution_count": 88,
   "metadata": {},
   "outputs": [
    {
     "data": {
      "text/plain": [
       "AG     831122\n",
       "PCR    775547\n",
       "PR     955866\n",
       "Name: METODODX, dtype: int64"
      ]
     },
     "execution_count": 88,
     "metadata": {},
     "output_type": "execute_result"
    }
   ],
   "source": [
    "# METODODX\n",
    "df_cas['METODODX'].value_counts().sort_index()"
   ]
  },
  {
   "cell_type": "code",
   "execution_count": 105,
   "metadata": {},
   "outputs": [
    {
     "name": "stdout",
     "output_type": "stream",
     "text": [
      "Edad (años): no_casos \n",
      "Desde la edad más común a la menos común.\n",
      "\n",
      "32.0: 63924    48.0: 43950    68.0: 18581    82.0: 6322    100.0: 119   \n",
      "33.0: 63247    49.0: 43208    17.0: 18139     7.0: 6225     101.0: 89   \n",
      "28.0: 62500    50.0: 42058    69.0: 16568     1.0: 6224     102.0: 53   \n",
      "29.0: 61213    51.0: 40299    16.0: 16350    83.0: 5850     103.0: 33   \n",
      "31.0: 60681    22.0: 39814    70.0: 16032     6.0: 5474     104.0: 19   \n",
      "27.0: 60523    52.0: 39803    71.0: 14886    84.0: 5241     120.0: 19   \n",
      "30.0: 59869    53.0: 38973    15.0: 14302     5.0: 4978     105.0: 15   \n",
      "34.0: 59334    54.0: 38879    72.0: 13898     2.0: 4795     106.0: 10   \n",
      "26.0: 57975    55.0: 37151    73.0: 13520    85.0: 4680      108.0: 7   \n",
      "35.0: 57339    21.0: 36225    14.0: 12145     4.0: 4643      121.0: 5   \n",
      "38.0: 56742    56.0: 35151    74.0: 12120     3.0: 4507      107.0: 4   \n",
      "25.0: 55989    57.0: 33421    75.0: 11655    86.0: 4072      119.0: 4   \n",
      "37.0: 55897    58.0: 32059    76.0: 10651    87.0: 3527      122.0: 4   \n",
      "36.0: 55506    20.0: 31646    13.0: 10609    88.0: 3103      109.0: 3   \n",
      "39.0: 55394    59.0: 30874     77.0: 9938    89.0: 2660      110.0: 2   \n",
      "40.0: 52562    60.0: 30051     12.0: 9560    90.0: 2196      118.0: 2   \n",
      "24.0: 52124    61.0: 28955     11.0: 9396    91.0: 1681      111.0: 1   \n",
      "41.0: 51360    19.0: 27566     78.0: 9088    92.0: 1418      -79.0: 1   \n",
      "42.0: 50589    62.0: 26738      0.0: 8684    93.0: 1092      856.0: 1   \n",
      "43.0: 49739    63.0: 24918     10.0: 8108     94.0: 813      115.0: 1   \n",
      "44.0: 49020    64.0: 23749     79.0: 7895     95.0: 630      125.0: 1   \n",
      "45.0: 47787    18.0: 23401     80.0: 7551     96.0: 459      117.0: 1   \n",
      "46.0: 46540    65.0: 22693      9.0: 7244     97.0: 318             None\n",
      "23.0: 46002    66.0: 21742     81.0: 7022     98.0: 221             None\n",
      "47.0: 44827    67.0: 19877      8.0: 6687     99.0: 152             None\n"
     ]
    }
   ],
   "source": [
    "# EDAD\n",
    "edadCasos = df_cas['EDAD'].value_counts()\n",
    "\n",
    "print('Edad (años): no_casos \\nDesde la edad más común a la menos común.\\n')\n",
    "lst = []\n",
    "\n",
    "for idx, edad in enumerate(edadCasos):\n",
    "    index = edadCasos.index\n",
    "    lst.append(f'{index[idx]}: {edad}   ')\n",
    "    \n",
    "chunks = [lst[x:x+25] for x in range(0, len(lst), 25)]\n",
    "df = pd.DataFrame.from_records(chunks).transpose()\n",
    "\n",
    "print(df.to_string(index=False, header=False))\n",
    "\n",
    "del edadCasos, chunks, df, lst, edad, idx, index"
   ]
  },
  {
   "cell_type": "code",
   "execution_count": 106,
   "metadata": {},
   "outputs": [
    {
     "data": {
      "text/plain": [
       "FEMENINO     1265001\n",
       "MASCULINO    1297533\n",
       "Name: SEXO, dtype: int64"
      ]
     },
     "execution_count": 106,
     "metadata": {},
     "output_type": "execute_result"
    }
   ],
   "source": [
    "# SEXO\n",
    "df_cas['SEXO'].value_counts().sort_index()"
   ]
  },
  {
   "cell_type": "code",
   "execution_count": 107,
   "metadata": {},
   "outputs": [
    {
     "data": {
      "text/plain": [
       "0    20201217.0\n",
       "1    20200822.0\n",
       "2    20200729.0\n",
       "3    20210630.0\n",
       "4    20210404.0\n",
       "Name: FECHA_RESULTADO, dtype: float64"
      ]
     },
     "execution_count": 107,
     "metadata": {},
     "output_type": "execute_result"
    }
   ],
   "source": [
    "# FECHA_RESULTADO\n",
    "df_cas['FECHA_RESULTADO'].head()"
   ]
  },
  {
   "cell_type": "code",
   "execution_count": 108,
   "metadata": {},
   "outputs": [
    {
     "data": {
      "text/plain": [
       "0    150135.0\n",
       "1    110501.0\n",
       "2    100101.0\n",
       "3     21808.0\n",
       "4     21809.0\n",
       "Name: UBIGEO, dtype: float64"
      ]
     },
     "execution_count": 108,
     "metadata": {},
     "output_type": "execute_result"
    }
   ],
   "source": [
    "# UBIGEO\n",
    "df_cas['UBIGEO'].head()"
   ]
  },
  {
   "cell_type": "code",
   "execution_count": 109,
   "metadata": {},
   "outputs": [
    {
     "data": {
      "text/plain": [
       "0    24662153.0\n",
       "1    24662175.0\n",
       "2    24662197.0\n",
       "3    24662204.0\n",
       "4    24662207.0\n",
       "Name: id_persona, dtype: float64"
      ]
     },
     "execution_count": 109,
     "metadata": {},
     "output_type": "execute_result"
    }
   ],
   "source": [
    "# id_persona\n",
    "df_cas['id_persona'].head()"
   ]
  },
  {
   "cell_type": "code",
   "execution_count": 110,
   "metadata": {},
   "outputs": [],
   "source": [
    "del df_cas"
   ]
  },
  {
   "cell_type": "markdown",
   "metadata": {},
   "source": [
    "## 2. Cargar el dataset de fallecidos por COVID-19"
   ]
  },
  {
   "cell_type": "code",
   "execution_count": 5,
   "metadata": {},
   "outputs": [
    {
     "data": {
      "text/html": [
       "<div>\n",
       "<style scoped>\n",
       "    .dataframe tbody tr th:only-of-type {\n",
       "        vertical-align: middle;\n",
       "    }\n",
       "\n",
       "    .dataframe tbody tr th {\n",
       "        vertical-align: top;\n",
       "    }\n",
       "\n",
       "    .dataframe thead th {\n",
       "        text-align: right;\n",
       "    }\n",
       "</style>\n",
       "<table border=\"1\" class=\"dataframe\">\n",
       "  <thead>\n",
       "    <tr style=\"text-align: right;\">\n",
       "      <th></th>\n",
       "      <th>FECHA_CORTE</th>\n",
       "      <th>FECHA_FALLECIMIENTO</th>\n",
       "      <th>EDAD_DECLARADA</th>\n",
       "      <th>SEXO</th>\n",
       "      <th>CLASIFICACION_DEF</th>\n",
       "      <th>DEPARTAMENTO</th>\n",
       "      <th>PROVINCIA</th>\n",
       "      <th>DISTRITO</th>\n",
       "      <th>UBIGEO</th>\n",
       "      <th>id_persona</th>\n",
       "    </tr>\n",
       "  </thead>\n",
       "  <tbody>\n",
       "    <tr>\n",
       "      <th>0</th>\n",
       "      <td>20220106</td>\n",
       "      <td>20210423</td>\n",
       "      <td>41</td>\n",
       "      <td>MASCULINO</td>\n",
       "      <td>Criterio virolÃ³gico</td>\n",
       "      <td>LIMA</td>\n",
       "      <td>LIMA</td>\n",
       "      <td>VILLA MARIA DEL TRIUNFO</td>\n",
       "      <td>150143</td>\n",
       "      <td>24769779.0</td>\n",
       "    </tr>\n",
       "    <tr>\n",
       "      <th>1</th>\n",
       "      <td>20220106</td>\n",
       "      <td>20210607</td>\n",
       "      <td>31</td>\n",
       "      <td>FEMENINO</td>\n",
       "      <td>Criterio SINADEF</td>\n",
       "      <td>CALLAO</td>\n",
       "      <td>CALLAO</td>\n",
       "      <td>CALLAO</td>\n",
       "      <td>070101</td>\n",
       "      <td>24742499.0</td>\n",
       "    </tr>\n",
       "    <tr>\n",
       "      <th>2</th>\n",
       "      <td>20220106</td>\n",
       "      <td>20210708</td>\n",
       "      <td>27</td>\n",
       "      <td>FEMENINO</td>\n",
       "      <td>Criterio SINADEF</td>\n",
       "      <td>LIMA</td>\n",
       "      <td>LIMA</td>\n",
       "      <td>CARABAYLLO</td>\n",
       "      <td>150106</td>\n",
       "      <td>24742552.0</td>\n",
       "    </tr>\n",
       "    <tr>\n",
       "      <th>3</th>\n",
       "      <td>20220106</td>\n",
       "      <td>20210518</td>\n",
       "      <td>62</td>\n",
       "      <td>MASCULINO</td>\n",
       "      <td>Criterio virolÃ³gico</td>\n",
       "      <td>JUNIN</td>\n",
       "      <td>TARMA</td>\n",
       "      <td>TARMA</td>\n",
       "      <td>120701</td>\n",
       "      <td>24633504.0</td>\n",
       "    </tr>\n",
       "    <tr>\n",
       "      <th>4</th>\n",
       "      <td>20220106</td>\n",
       "      <td>20210519</td>\n",
       "      <td>74</td>\n",
       "      <td>MASCULINO</td>\n",
       "      <td>Criterio virolÃ³gico</td>\n",
       "      <td>LIMA</td>\n",
       "      <td>LIMA</td>\n",
       "      <td>SANTA ANITA</td>\n",
       "      <td>150137</td>\n",
       "      <td>24633522.0</td>\n",
       "    </tr>\n",
       "  </tbody>\n",
       "</table>\n",
       "</div>"
      ],
      "text/plain": [
       "   FECHA_CORTE  FECHA_FALLECIMIENTO  EDAD_DECLARADA       SEXO  \\\n",
       "0     20220106             20210423              41  MASCULINO   \n",
       "1     20220106             20210607              31   FEMENINO   \n",
       "2     20220106             20210708              27   FEMENINO   \n",
       "3     20220106             20210518              62  MASCULINO   \n",
       "4     20220106             20210519              74  MASCULINO   \n",
       "\n",
       "      CLASIFICACION_DEF DEPARTAMENTO PROVINCIA                 DISTRITO  \\\n",
       "0  Criterio virolÃ³gico         LIMA      LIMA  VILLA MARIA DEL TRIUNFO   \n",
       "1      Criterio SINADEF       CALLAO    CALLAO                   CALLAO   \n",
       "2      Criterio SINADEF         LIMA      LIMA               CARABAYLLO   \n",
       "3  Criterio virolÃ³gico        JUNIN     TARMA                    TARMA   \n",
       "4  Criterio virolÃ³gico         LIMA      LIMA              SANTA ANITA   \n",
       "\n",
       "   UBIGEO  id_persona  \n",
       "0  150143  24769779.0  \n",
       "1  070101  24742499.0  \n",
       "2  150106  24742552.0  \n",
       "3  120701  24633504.0  \n",
       "4  150137  24633522.0  "
      ]
     },
     "execution_count": 5,
     "metadata": {},
     "output_type": "execute_result"
    }
   ],
   "source": [
    "url_fal = '../RawData/fallecidos_covid.csv'\n",
    "df_fal = pd.read_csv(url_fal, sep = \";\")\n",
    "\n",
    "df_fal.head()"
   ]
  },
  {
   "cell_type": "code",
   "execution_count": 5,
   "metadata": {},
   "outputs": [
    {
     "data": {
      "text/html": [
       "<div>\n",
       "<style scoped>\n",
       "    .dataframe tbody tr th:only-of-type {\n",
       "        vertical-align: middle;\n",
       "    }\n",
       "\n",
       "    .dataframe tbody tr th {\n",
       "        vertical-align: top;\n",
       "    }\n",
       "\n",
       "    .dataframe thead th {\n",
       "        text-align: right;\n",
       "    }\n",
       "</style>\n",
       "<table border=\"1\" class=\"dataframe\">\n",
       "  <thead>\n",
       "    <tr style=\"text-align: right;\">\n",
       "      <th></th>\n",
       "      <th>FECHA_CORTE</th>\n",
       "      <th>FECHA_FALLECIMIENTO</th>\n",
       "      <th>EDAD_DECLARADA</th>\n",
       "      <th>SEXO</th>\n",
       "      <th>CLASIFICACION_DEF</th>\n",
       "      <th>DEPARTAMENTO</th>\n",
       "      <th>PROVINCIA</th>\n",
       "      <th>DISTRITO</th>\n",
       "      <th>UBIGEO</th>\n",
       "      <th>id_persona</th>\n",
       "    </tr>\n",
       "  </thead>\n",
       "  <tbody>\n",
       "    <tr>\n",
       "      <th>232</th>\n",
       "      <td>20220106</td>\n",
       "      <td>20200316</td>\n",
       "      <td>26</td>\n",
       "      <td>FEMENINO</td>\n",
       "      <td>Criterio clÃ­nico</td>\n",
       "      <td>AYACUCHO</td>\n",
       "      <td>HUAMANGA</td>\n",
       "      <td>AYACUCHO</td>\n",
       "      <td>050101</td>\n",
       "      <td>24907449.0</td>\n",
       "    </tr>\n",
       "  </tbody>\n",
       "</table>\n",
       "</div>"
      ],
      "text/plain": [
       "     FECHA_CORTE  FECHA_FALLECIMIENTO  EDAD_DECLARADA      SEXO  \\\n",
       "232     20220106             20200316              26  FEMENINO   \n",
       "\n",
       "     CLASIFICACION_DEF DEPARTAMENTO PROVINCIA  DISTRITO  UBIGEO  id_persona  \n",
       "232  Criterio clÃ­nico     AYACUCHO  HUAMANGA  AYACUCHO  050101  24907449.0  "
      ]
     },
     "execution_count": 5,
     "metadata": {},
     "output_type": "execute_result"
    }
   ],
   "source": [
    "df_fal[df_fal.id_persona == 24907449.0]"
   ]
  },
  {
   "cell_type": "code",
   "execution_count": 6,
   "metadata": {},
   "outputs": [
    {
     "data": {
      "text/html": [
       "<div>\n",
       "<style scoped>\n",
       "    .dataframe tbody tr th:only-of-type {\n",
       "        vertical-align: middle;\n",
       "    }\n",
       "\n",
       "    .dataframe tbody tr th {\n",
       "        vertical-align: top;\n",
       "    }\n",
       "\n",
       "    .dataframe thead th {\n",
       "        text-align: right;\n",
       "    }\n",
       "</style>\n",
       "<table border=\"1\" class=\"dataframe\">\n",
       "  <thead>\n",
       "    <tr style=\"text-align: right;\">\n",
       "      <th></th>\n",
       "      <th>index</th>\n",
       "      <th>percent_missing</th>\n",
       "    </tr>\n",
       "  </thead>\n",
       "  <tbody>\n",
       "    <tr>\n",
       "      <th>0</th>\n",
       "      <td>FECHA_CORTE</td>\n",
       "      <td>0.000000</td>\n",
       "    </tr>\n",
       "    <tr>\n",
       "      <th>1</th>\n",
       "      <td>FECHA_FALLECIMIENTO</td>\n",
       "      <td>0.000000</td>\n",
       "    </tr>\n",
       "    <tr>\n",
       "      <th>2</th>\n",
       "      <td>EDAD_DECLARADA</td>\n",
       "      <td>0.000000</td>\n",
       "    </tr>\n",
       "    <tr>\n",
       "      <th>3</th>\n",
       "      <td>SEXO</td>\n",
       "      <td>0.000000</td>\n",
       "    </tr>\n",
       "    <tr>\n",
       "      <th>4</th>\n",
       "      <td>CLASIFICACION_DEF</td>\n",
       "      <td>0.000000</td>\n",
       "    </tr>\n",
       "    <tr>\n",
       "      <th>5</th>\n",
       "      <td>DEPARTAMENTO</td>\n",
       "      <td>0.000000</td>\n",
       "    </tr>\n",
       "    <tr>\n",
       "      <th>6</th>\n",
       "      <td>PROVINCIA</td>\n",
       "      <td>0.002463</td>\n",
       "    </tr>\n",
       "    <tr>\n",
       "      <th>7</th>\n",
       "      <td>DISTRITO</td>\n",
       "      <td>0.002463</td>\n",
       "    </tr>\n",
       "    <tr>\n",
       "      <th>8</th>\n",
       "      <td>UBIGEO</td>\n",
       "      <td>0.000000</td>\n",
       "    </tr>\n",
       "    <tr>\n",
       "      <th>9</th>\n",
       "      <td>id_persona</td>\n",
       "      <td>1.700652</td>\n",
       "    </tr>\n",
       "  </tbody>\n",
       "</table>\n",
       "</div>"
      ],
      "text/plain": [
       "                 index  percent_missing\n",
       "0          FECHA_CORTE         0.000000\n",
       "1  FECHA_FALLECIMIENTO         0.000000\n",
       "2       EDAD_DECLARADA         0.000000\n",
       "3                 SEXO         0.000000\n",
       "4    CLASIFICACION_DEF         0.000000\n",
       "5         DEPARTAMENTO         0.000000\n",
       "6            PROVINCIA         0.002463\n",
       "7             DISTRITO         0.002463\n",
       "8               UBIGEO         0.000000\n",
       "9           id_persona         1.700652"
      ]
     },
     "execution_count": 6,
     "metadata": {},
     "output_type": "execute_result"
    }
   ],
   "source": [
    "fn.missing_values(df_fal)"
   ]
  },
  {
   "cell_type": "code",
   "execution_count": 4,
   "metadata": {},
   "outputs": [
    {
     "name": "stdout",
     "output_type": "stream",
     "text": [
      "<class 'pandas.core.frame.DataFrame'>\n",
      "RangeIndex: 202981 entries, 0 to 202980\n",
      "Data columns (total 10 columns):\n",
      " #   Column               Non-Null Count   Dtype  \n",
      "---  ------               --------------   -----  \n",
      " 0   FECHA_CORTE          202981 non-null  int64  \n",
      " 1   FECHA_FALLECIMIENTO  202981 non-null  int64  \n",
      " 2   EDAD_DECLARADA       202981 non-null  int64  \n",
      " 3   SEXO                 202981 non-null  object \n",
      " 4   CLASIFICACION_DEF    202981 non-null  object \n",
      " 5   DEPARTAMENTO         202981 non-null  object \n",
      " 6   PROVINCIA            202976 non-null  object \n",
      " 7   DISTRITO             202976 non-null  object \n",
      " 8   UBIGEO               202981 non-null  object \n",
      " 9   id_persona           199529 non-null  float64\n",
      "dtypes: float64(1), int64(3), object(6)\n",
      "memory usage: 15.5+ MB\n"
     ]
    }
   ],
   "source": [
    "df_fal.info()"
   ]
  },
  {
   "cell_type": "markdown",
   "metadata": {},
   "source": [
    "### Analizar cada variable del dataset de fallecidos"
   ]
  },
  {
   "cell_type": "markdown",
   "metadata": {},
   "source": [
    "#### 1.1. FECHA_CORTE"
   ]
  },
  {
   "cell_type": "code",
   "execution_count": 6,
   "metadata": {},
   "outputs": [
    {
     "name": "stdout",
     "output_type": "stream",
     "text": [
      "Fecha de corte:\n"
     ]
    },
    {
     "data": {
      "text/plain": [
       "20220106    202981\n",
       "Name: FECHA_CORTE, dtype: int64"
      ]
     },
     "execution_count": 6,
     "metadata": {},
     "output_type": "execute_result"
    }
   ],
   "source": [
    "print('Fecha de corte:')\n",
    "df_fal['FECHA_CORTE'].value_counts().sort_index()"
   ]
  },
  {
   "cell_type": "markdown",
   "metadata": {},
   "source": [
    "Todos los valores son iguales. La misma fecha de corte para n número de casos, variable no necesaria."
   ]
  },
  {
   "cell_type": "markdown",
   "metadata": {},
   "source": [
    "#### 1.2. FECHA_FALLECIMIENTO"
   ]
  },
  {
   "cell_type": "code",
   "execution_count": 7,
   "metadata": {},
   "outputs": [
    {
     "name": "stdout",
     "output_type": "stream",
     "text": [
      "Fecha del primer fallecido reportado: 2020-03-03\n",
      "Fecha del último fallecido reportado: 2022-01-06\n"
     ]
    }
   ],
   "source": [
    "# Fecha del primer fallecido reportado\n",
    "date_a = pd.to_datetime(df_fal['FECHA_FALLECIMIENTO'], format = '%Y%m%d').dt.date\n",
    "date_a = date_a.min()\n",
    "print(f'Fecha del primer fallecido reportado: {date_a}')\n",
    "del date_a\n",
    "\n",
    "# Fecha del último fallecido reportado\n",
    "date_b = pd.to_datetime(df_fal['FECHA_FALLECIMIENTO'], format = '%Y%m%d').dt.date\n",
    "date_b = date_b.max()\n",
    "print(f'Fecha del último fallecido reportado: {date_b}')\n",
    "del date_b"
   ]
  },
  {
   "cell_type": "markdown",
   "metadata": {},
   "source": [
    "#### 1.3. EDAD_DECLARADA"
   ]
  },
  {
   "cell_type": "code",
   "execution_count": 8,
   "metadata": {},
   "outputs": [
    {
     "name": "stdout",
     "output_type": "stream",
     "text": [
      "Edad (años): no_casos \n",
      "Desde la edad más común de fallecimientos a la menos común.\n",
      "\n",
      "66: 5513 80: 4150 48: 2225 34: 642   1: 149 102: 40\n",
      "67: 5414 79: 4028 89: 2090 33: 630  20: 113   5: 40\n",
      "65: 5389 58: 4027 47: 2029 95: 566  19: 111   6: 38\n",
      "68: 5360 57: 4009 90: 1876 32: 557 100: 106 103: 22\n",
      "70: 5260 82: 3860 46: 1856 96: 459   18: 89 104: 16\n",
      "72: 5201 81: 3831 45: 1781 31: 435    2: 83  106: 9\n",
      "73: 5187 56: 3719 44: 1676 30: 423   17: 77  108: 6\n",
      "69: 5166 55: 3698 43: 1506 29: 346   16: 75  105: 5\n",
      "64: 5099 83: 3567 91: 1447 27: 318  101: 71  107: 3\n",
      "74: 5089 54: 3443 42: 1359 28: 313    4: 63   -9: 3\n",
      "71: 5069 84: 3406 92: 1355 97: 306   15: 56  113: 2\n",
      "63: 5060 85: 3216 41: 1271 26: 267   14: 53  110: 2\n",
      "61: 5048 53: 3114 40: 1097 98: 246   11: 52  109: 2\n",
      "75: 4946 86: 2851 39: 1066 25: 243    8: 51  117: 1\n",
      "62: 4915 52: 2813 93: 1019 24: 204    3: 51  114: 1\n",
      "76: 4811 51: 2710  38: 976 99: 192    9: 51    None\n",
      "60: 4602 87: 2673  37: 835 23: 190   10: 50    None\n",
      "77: 4599 50: 2568  94: 765 21: 174    7: 46    None\n",
      "78: 4450 88: 2411  36: 693 22: 156   13: 44    None\n",
      "59: 4292 49: 2400  35: 651  0: 154   12: 42    None\n"
     ]
    }
   ],
   "source": [
    "fal_edad = df_fal['EDAD_DECLARADA'].value_counts()\n",
    "\n",
    "print('Edad (años): no_casos \\nDesde la edad más común de fallecimientos a la menos común.\\n')\n",
    "lst = []\n",
    "\n",
    "for idx, edad in enumerate(fal_edad):\n",
    "    index = fal_edad.index\n",
    "    lst.append(f'{index[idx]}: {edad}')\n",
    "    \n",
    "chunks = [lst[x:x+20] for x in range(0, len(lst), 20)]\n",
    "df = pd.DataFrame.from_records(chunks).transpose()\n",
    "\n",
    "print(df.to_string(index=False, header=False))\n",
    "\n",
    "del fal_edad, chunks, df, lst, edad, idx, index"
   ]
  },
  {
   "cell_type": "markdown",
   "metadata": {},
   "source": [
    "Existen valores negativos, necesario correguir. Edad mínima 0 años y edad máxima 117 años."
   ]
  },
  {
   "cell_type": "markdown",
   "metadata": {},
   "source": [
    "#### 1.4. SEXO"
   ]
  },
  {
   "cell_type": "code",
   "execution_count": 9,
   "metadata": {},
   "outputs": [
    {
     "name": "stdout",
     "output_type": "stream",
     "text": [
      ".: 3\n",
      "FEMENINO: 73775\n",
      "MASCULINO: 129203\n"
     ]
    }
   ],
   "source": [
    "fal_sexo = df_fal['SEXO'].value_counts().sort_index()\n",
    "\n",
    "for idx, sex in enumerate(fal_sexo):\n",
    "    index = fal_sexo.index\n",
    "    print(f'{index[idx]}: {sex}')\n",
    "\n",
    "del fal_sexo, sex, idx, index"
   ]
  },
  {
   "cell_type": "markdown",
   "metadata": {},
   "source": [
    "Hay puntos en lugar de vacíos."
   ]
  },
  {
   "cell_type": "markdown",
   "metadata": {},
   "source": [
    "#### 1.5. CLASIFICACION_DEF"
   ]
  },
  {
   "cell_type": "code",
   "execution_count": 10,
   "metadata": {},
   "outputs": [
    {
     "name": "stdout",
     "output_type": "stream",
     "text": [
      "Criterio SINADEF: 61259\n",
      "Criterio clÃ­nico: 10964\n",
      "Criterio investigaciÃ³n EpidemiolÃ³gica: 16259\n",
      "Criterio nexo epidemiolÃ³gico: 3014\n",
      "Criterio radiolÃ³gico: 6845\n",
      "Criterio serolÃ³gico: 44944\n",
      "Criterio virolÃ³gico: 59696\n"
     ]
    }
   ],
   "source": [
    "fal_cla = df_fal['CLASIFICACION_DEF'].value_counts().sort_index()\n",
    "\n",
    "for idx, clase in enumerate(fal_cla):\n",
    "    index = fal_cla.index\n",
    "    print(f'{index[idx]}: {clase}')\n",
    "\n",
    "del fal_cla, clase, idx, index"
   ]
  },
  {
   "cell_type": "markdown",
   "metadata": {},
   "source": [
    "#### 1.6. DEPARTAMENTO"
   ]
  },
  {
   "cell_type": "code",
   "execution_count": 11,
   "metadata": {},
   "outputs": [
    {
     "name": "stdout",
     "output_type": "stream",
     "text": [
      "AMAZONAS: 1288\n",
      "ANCASH: 6777\n",
      "APURIMAC: 1525\n",
      "AREQUIPA: 9766\n",
      "AYACUCHO: 2165\n",
      "CAJAMARCA: 4199\n",
      "CALLAO: 10127\n",
      "CUSCO: 4838\n",
      "HUANCAVELICA: 1184\n",
      "HUANUCO: 2728\n",
      "ICA: 8621\n",
      "JUNIN: 7110\n",
      "LA LIBERTAD: 10408\n",
      "LAMBAYEQUE: 8726\n",
      "LIMA: 89576\n",
      "LORETO: 4286\n",
      "MADRE DE DIOS: 782\n",
      "MOQUEGUA: 1535\n",
      "PASCO: 1053\n",
      "PIURA: 12307\n",
      "PUNO: 4276\n",
      "SAN MARTIN: 3039\n",
      "TACNA: 1980\n",
      "TUMBES: 1597\n",
      "UCAYALI: 3088\n",
      "\n",
      "Total fallecidos: 202981\n"
     ]
    }
   ],
   "source": [
    "fal_dep = df_fal['DEPARTAMENTO'].value_counts().sort_index()\n",
    "\n",
    "for idx, dep in enumerate(fal_dep):\n",
    "    index = fal_dep.index\n",
    "    print(f'{index[idx]}: {dep}')\n",
    "print(f'\\nTotal fallecidos: {fal_dep.sum()}')\n",
    "\n",
    "del fal_dep, dep, idx, index"
   ]
  },
  {
   "cell_type": "markdown",
   "metadata": {},
   "source": [
    "#### 1.7. PROVINCIAS"
   ]
  },
  {
   "cell_type": "code",
   "execution_count": 12,
   "metadata": {},
   "outputs": [
    {
     "name": "stdout",
     "output_type": "stream",
     "text": [
      "Igual que la variable departamento pero con 196 provincias.\n"
     ]
    }
   ],
   "source": [
    "fal_pro = df_fal['PROVINCIA'].value_counts().sort_index()\n",
    "print(f'Igual que la variable departamento pero con {len(fal_pro)} provincias.')\n",
    "del fal_pro"
   ]
  },
  {
   "cell_type": "markdown",
   "metadata": {},
   "source": [
    "#### 1.8. DISTRITO"
   ]
  },
  {
   "cell_type": "code",
   "execution_count": 13,
   "metadata": {},
   "outputs": [
    {
     "name": "stdout",
     "output_type": "stream",
     "text": [
      "Igual que la variable departamento pero con 1648 distritos.\n"
     ]
    }
   ],
   "source": [
    "fal_dis = df_fal['DISTRITO'].value_counts().sort_index()\n",
    "print(f'Igual que la variable departamento pero con {len(fal_dis)} distritos.')\n",
    "del fal_dis"
   ]
  },
  {
   "cell_type": "markdown",
   "metadata": {},
   "source": [
    "#### 1.9. UBIGEO"
   ]
  },
  {
   "cell_type": "code",
   "execution_count": 14,
   "metadata": {},
   "outputs": [
    {
     "name": "stdout",
     "output_type": "stream",
     "text": [
      "1783 códigos de UBIGEO, para localizar zonas.\n"
     ]
    }
   ],
   "source": [
    "fal_ubi = df_fal['UBIGEO'].value_counts().sort_index()\n",
    "print(f'{len(fal_ubi)} códigos de UBIGEO, para localizar zonas.')\n",
    "del fal_ubi"
   ]
  },
  {
   "cell_type": "markdown",
   "metadata": {},
   "source": [
    "#### 1.10. id_persona"
   ]
  },
  {
   "cell_type": "code",
   "execution_count": 15,
   "metadata": {},
   "outputs": [
    {
     "name": "stdout",
     "output_type": "stream",
     "text": [
      "ID únicos para identificar a cada persona: \n",
      "0    24769779\n",
      "1    24742499\n",
      "2    24742552\n",
      "3    24633504\n",
      "4    24633522\n"
     ]
    }
   ],
   "source": [
    "df_fal['id_persona'] = df_fal['id_persona'].fillna(0).apply(np.int64)\n",
    "\n",
    "print('ID únicos para identificar a cada persona: ')\n",
    "print(df_fal['id_persona'].head().to_string(header=False))"
   ]
  },
  {
   "cell_type": "code",
   "execution_count": 7,
   "metadata": {},
   "outputs": [],
   "source": [
    "del df_fal"
   ]
  },
  {
   "cell_type": "markdown",
   "metadata": {},
   "source": [
    "## 3. Cargar el dataset de vacunados contra COVID-19\n",
    "\n",
    "### Cargar usando dask, debido al tamaño del csv"
   ]
  },
  {
   "cell_type": "code",
   "execution_count": 9,
   "metadata": {},
   "outputs": [
    {
     "name": "stdout",
     "output_type": "stream",
     "text": [
      "Read csv with dask:  0.2881488800048828 sec\n"
     ]
    },
    {
     "data": {
      "text/html": [
       "<div>\n",
       "<style scoped>\n",
       "    .dataframe tbody tr th:only-of-type {\n",
       "        vertical-align: middle;\n",
       "    }\n",
       "\n",
       "    .dataframe tbody tr th {\n",
       "        vertical-align: top;\n",
       "    }\n",
       "\n",
       "    .dataframe thead th {\n",
       "        text-align: right;\n",
       "    }\n",
       "</style>\n",
       "<table border=\"1\" class=\"dataframe\">\n",
       "  <thead>\n",
       "    <tr style=\"text-align: right;\">\n",
       "      <th></th>\n",
       "      <th>id_persona</th>\n",
       "      <th>id_vacunados_covid19</th>\n",
       "      <th>fecha_vacunacion</th>\n",
       "      <th>id_eess</th>\n",
       "      <th>id_centro_vacunacion</th>\n",
       "      <th>id_vacuna</th>\n",
       "      <th>id_grupo_riesgo</th>\n",
       "      <th>dosis</th>\n",
       "      <th>edad</th>\n",
       "    </tr>\n",
       "  </thead>\n",
       "  <tbody>\n",
       "    <tr>\n",
       "      <th>0</th>\n",
       "      <td>17289500</td>\n",
       "      <td>17135722</td>\n",
       "      <td>20210623</td>\n",
       "      <td>5468</td>\n",
       "      <td>0</td>\n",
       "      <td>4</td>\n",
       "      <td>54</td>\n",
       "      <td>1</td>\n",
       "      <td>69.0</td>\n",
       "    </tr>\n",
       "    <tr>\n",
       "      <th>1</th>\n",
       "      <td>19180697</td>\n",
       "      <td>20881090</td>\n",
       "      <td>20211210</td>\n",
       "      <td>12622</td>\n",
       "      <td>0</td>\n",
       "      <td>6</td>\n",
       "      <td>67</td>\n",
       "      <td>1</td>\n",
       "      <td>44.0</td>\n",
       "    </tr>\n",
       "    <tr>\n",
       "      <th>2</th>\n",
       "      <td>19374477</td>\n",
       "      <td>20882754</td>\n",
       "      <td>20211221</td>\n",
       "      <td>2102</td>\n",
       "      <td>0</td>\n",
       "      <td>5</td>\n",
       "      <td>67</td>\n",
       "      <td>3</td>\n",
       "      <td>41.0</td>\n",
       "    </tr>\n",
       "    <tr>\n",
       "      <th>3</th>\n",
       "      <td>19152824</td>\n",
       "      <td>20884738</td>\n",
       "      <td>20210619</td>\n",
       "      <td>2297</td>\n",
       "      <td>674</td>\n",
       "      <td>4</td>\n",
       "      <td>67</td>\n",
       "      <td>2</td>\n",
       "      <td>41.0</td>\n",
       "    </tr>\n",
       "    <tr>\n",
       "      <th>4</th>\n",
       "      <td>23501162</td>\n",
       "      <td>31058327</td>\n",
       "      <td>20211211</td>\n",
       "      <td>2343</td>\n",
       "      <td>121</td>\n",
       "      <td>5</td>\n",
       "      <td>54</td>\n",
       "      <td>3</td>\n",
       "      <td>60.0</td>\n",
       "    </tr>\n",
       "  </tbody>\n",
       "</table>\n",
       "</div>"
      ],
      "text/plain": [
       "   id_persona  id_vacunados_covid19  fecha_vacunacion  id_eess  \\\n",
       "0    17289500              17135722          20210623     5468   \n",
       "1    19180697              20881090          20211210    12622   \n",
       "2    19374477              20882754          20211221     2102   \n",
       "3    19152824              20884738          20210619     2297   \n",
       "4    23501162              31058327          20211211     2343   \n",
       "\n",
       "  id_centro_vacunacion id_vacuna id_grupo_riesgo dosis  edad  \n",
       "0                    0         4              54     1  69.0  \n",
       "1                    0         6              67     1  44.0  \n",
       "2                    0         5              67     3  41.0  \n",
       "3                  674         4              67     2  41.0  \n",
       "4                  121         5              54     3  60.0  "
      ]
     },
     "execution_count": 9,
     "metadata": {},
     "output_type": "execute_result"
    }
   ],
   "source": [
    "url_vac = '../RawData/TB_VACUNACION_COVID19.csv'\n",
    "\n",
    "start = time.time()\n",
    "df_vac = dd.read_csv(url_vac, sep = \",\", dtype = {'fecha_vacunacion':'int32', 'id_eess': 'int32',\n",
    "                                                  'dosis': 'category','id_centro_vacunacion': 'category',\n",
    "                                                  'id_vacuna': 'category','id_grupo_riesgo': 'category', \n",
    "                                                  'edad':'float64'})\n",
    "end = time.time()\n",
    "print(\"Read csv with dask: \",(end-start),\"sec\")\n",
    "\n",
    "del url_vac, start, end\n",
    "df_vac.head()"
   ]
  },
  {
   "cell_type": "code",
   "execution_count": 8,
   "metadata": {},
   "outputs": [
    {
     "data": {
      "text/html": [
       "<div>\n",
       "<style scoped>\n",
       "    .dataframe tbody tr th:only-of-type {\n",
       "        vertical-align: middle;\n",
       "    }\n",
       "\n",
       "    .dataframe tbody tr th {\n",
       "        vertical-align: top;\n",
       "    }\n",
       "\n",
       "    .dataframe thead th {\n",
       "        text-align: right;\n",
       "    }\n",
       "</style>\n",
       "<table border=\"1\" class=\"dataframe\">\n",
       "  <thead>\n",
       "    <tr style=\"text-align: right;\">\n",
       "      <th></th>\n",
       "      <th>id_persona</th>\n",
       "      <th>id_vacunados_covid19</th>\n",
       "      <th>fecha_vacunacion</th>\n",
       "      <th>id_eess</th>\n",
       "      <th>id_centro_vacunacion</th>\n",
       "      <th>id_vacuna</th>\n",
       "      <th>id_grupo_riesgo</th>\n",
       "      <th>dosis</th>\n",
       "      <th>edad</th>\n",
       "    </tr>\n",
       "  </thead>\n",
       "  <tbody>\n",
       "    <tr>\n",
       "      <th>72096</th>\n",
       "      <td>24907449</td>\n",
       "      <td>42401625</td>\n",
       "      <td>20211031</td>\n",
       "      <td>17674</td>\n",
       "      <td>677</td>\n",
       "      <td>6</td>\n",
       "      <td>71</td>\n",
       "      <td>2</td>\n",
       "      <td>27.0</td>\n",
       "    </tr>\n",
       "    <tr>\n",
       "      <th>1315627</th>\n",
       "      <td>24907449</td>\n",
       "      <td>42316642</td>\n",
       "      <td>20211010</td>\n",
       "      <td>770</td>\n",
       "      <td>677</td>\n",
       "      <td>6</td>\n",
       "      <td>71</td>\n",
       "      <td>1</td>\n",
       "      <td>27.0</td>\n",
       "    </tr>\n",
       "  </tbody>\n",
       "</table>\n",
       "</div>"
      ],
      "text/plain": [
       "         id_persona  id_vacunados_covid19  fecha_vacunacion  id_eess  \\\n",
       "72096      24907449              42401625          20211031    17674   \n",
       "1315627    24907449              42316642          20211010      770   \n",
       "\n",
       "        id_centro_vacunacion id_vacuna id_grupo_riesgo dosis  edad  \n",
       "72096                    677         6              71     2  27.0  \n",
       "1315627                  677         6              71     1  27.0  "
      ]
     },
     "execution_count": 8,
     "metadata": {},
     "output_type": "execute_result"
    }
   ],
   "source": [
    "df_vac[df_vac.id_persona == 24907449].compute()"
   ]
  },
  {
   "cell_type": "markdown",
   "metadata": {},
   "source": [
    "### Porcentaje de datos perdidos de cada variable"
   ]
  },
  {
   "cell_type": "code",
   "execution_count": 10,
   "metadata": {},
   "outputs": [
    {
     "data": {
      "text/html": [
       "<div>\n",
       "<style scoped>\n",
       "    .dataframe tbody tr th:only-of-type {\n",
       "        vertical-align: middle;\n",
       "    }\n",
       "\n",
       "    .dataframe tbody tr th {\n",
       "        vertical-align: top;\n",
       "    }\n",
       "\n",
       "    .dataframe thead th {\n",
       "        text-align: right;\n",
       "    }\n",
       "</style>\n",
       "<table border=\"1\" class=\"dataframe\">\n",
       "  <thead>\n",
       "    <tr style=\"text-align: right;\">\n",
       "      <th></th>\n",
       "      <th>index</th>\n",
       "      <th>percent_missing</th>\n",
       "    </tr>\n",
       "  </thead>\n",
       "  <tbody>\n",
       "    <tr>\n",
       "      <th>0</th>\n",
       "      <td>0</td>\n",
       "      <td>0.00000</td>\n",
       "    </tr>\n",
       "    <tr>\n",
       "      <th>1</th>\n",
       "      <td>1</td>\n",
       "      <td>0.00000</td>\n",
       "    </tr>\n",
       "    <tr>\n",
       "      <th>2</th>\n",
       "      <td>2</td>\n",
       "      <td>0.00000</td>\n",
       "    </tr>\n",
       "    <tr>\n",
       "      <th>3</th>\n",
       "      <td>3</td>\n",
       "      <td>0.00000</td>\n",
       "    </tr>\n",
       "    <tr>\n",
       "      <th>4</th>\n",
       "      <td>4</td>\n",
       "      <td>0.00000</td>\n",
       "    </tr>\n",
       "    <tr>\n",
       "      <th>5</th>\n",
       "      <td>5</td>\n",
       "      <td>0.00000</td>\n",
       "    </tr>\n",
       "    <tr>\n",
       "      <th>6</th>\n",
       "      <td>6</td>\n",
       "      <td>0.00000</td>\n",
       "    </tr>\n",
       "    <tr>\n",
       "      <th>7</th>\n",
       "      <td>7</td>\n",
       "      <td>0.00000</td>\n",
       "    </tr>\n",
       "    <tr>\n",
       "      <th>8</th>\n",
       "      <td>8</td>\n",
       "      <td>0.00803</td>\n",
       "    </tr>\n",
       "  </tbody>\n",
       "</table>\n",
       "</div>"
      ],
      "text/plain": [
       "   index  percent_missing\n",
       "0      0          0.00000\n",
       "1      1          0.00000\n",
       "2      2          0.00000\n",
       "3      3          0.00000\n",
       "4      4          0.00000\n",
       "5      5          0.00000\n",
       "6      6          0.00000\n",
       "7      7          0.00000\n",
       "8      8          0.00803"
      ]
     },
     "execution_count": 10,
     "metadata": {},
     "output_type": "execute_result"
    }
   ],
   "source": [
    "fn.missing_values(df_vac)"
   ]
  },
  {
   "cell_type": "markdown",
   "metadata": {},
   "source": [
    "### Analizar cada variable del dataset de vacunados"
   ]
  },
  {
   "cell_type": "markdown",
   "metadata": {},
   "source": [
    "#### 2.1. id_persona"
   ]
  },
  {
   "cell_type": "code",
   "execution_count": null,
   "metadata": {},
   "outputs": [
    {
     "name": "stdout",
     "output_type": "stream",
     "text": [
      "ID únicos para identificar a cada persona:\n"
     ]
    },
    {
     "data": {
      "text/plain": [
       "0    7525299\n",
       "1    5535776\n",
       "2    8837098\n",
       "3    5222654\n",
       "4    5168206\n",
       "Name: id_persona, dtype: int64"
      ]
     },
     "execution_count": 43,
     "metadata": {},
     "output_type": "execute_result"
    }
   ],
   "source": [
    "print('ID únicos para identificar a cada persona:')\n",
    "df_vac['id_persona'].head()"
   ]
  },
  {
   "cell_type": "markdown",
   "metadata": {},
   "source": [
    "#### 2.2. id_vacunados_covid19"
   ]
  },
  {
   "cell_type": "code",
   "execution_count": null,
   "metadata": {},
   "outputs": [
    {
     "name": "stdout",
     "output_type": "stream",
     "text": [
      "ID únicos para identificar a cada vacunado (como un contador de cada vacuna aplicada):\n"
     ]
    },
    {
     "data": {
      "text/plain": [
       "0    22315832\n",
       "1    16020164\n",
       "2    25810259\n",
       "3    15274372\n",
       "4    15456307\n",
       "Name: id_vacunados_covid19, dtype: int64"
      ]
     },
     "execution_count": 44,
     "metadata": {},
     "output_type": "execute_result"
    }
   ],
   "source": [
    "print('ID únicos para identificar a cada vacunado (como un contador de cada vacuna aplicada):')\n",
    "df_vac['id_vacunados_covid19'].head()"
   ]
  },
  {
   "cell_type": "markdown",
   "metadata": {},
   "source": [
    "#### 2.3. fecha_vacunacion"
   ]
  },
  {
   "cell_type": "code",
   "execution_count": null,
   "metadata": {},
   "outputs": [
    {
     "name": "stdout",
     "output_type": "stream",
     "text": [
      "Fecha de inicio de vacunación: 2020-04-27 00:00:00 \n",
      "Fecha última vacunación: 2022-01-04 00:00:00\n"
     ]
    }
   ],
   "source": [
    "date_a = df_vac['fecha_vacunacion'].min().compute()\n",
    "date_a = pd.to_datetime(date_a, format = '%Y%m%d')\n",
    "\n",
    "date_b = df_vac['fecha_vacunacion'].max().compute()\n",
    "date_b = pd.to_datetime(date_b, format = '%Y%m%d')\n",
    "\n",
    "print(f'Fecha de inicio de vacunación: {date_a} \\nFecha última vacunación: {date_b}')\n",
    "del date_a, date_b"
   ]
  },
  {
   "cell_type": "markdown",
   "metadata": {},
   "source": [
    "#### 2.4. id_eess"
   ]
  },
  {
   "cell_type": "code",
   "execution_count": null,
   "metadata": {},
   "outputs": [
    {
     "name": "stdout",
     "output_type": "stream",
     "text": [
      "id_iess\tnumber\n"
     ]
    },
    {
     "data": {
      "text/plain": [
       "33          36\n",
       "49         220\n",
       "51        1419\n",
       "52        2177\n",
       "53          63\n",
       "         ...  \n",
       "28772      731\n",
       "28780       23\n",
       "28791      611\n",
       "28806    11330\n",
       "28820      691\n",
       "Name: id_eess, Length: 7884, dtype: int64"
      ]
     },
     "execution_count": 46,
     "metadata": {},
     "output_type": "execute_result"
    }
   ],
   "source": [
    "print(f'id_iess\\tnumber')\n",
    "df_vac.id_eess.value_counts().compute().sort_index()"
   ]
  },
  {
   "cell_type": "markdown",
   "metadata": {},
   "source": [
    "#### 2.5. id_centro_vacunacion\t"
   ]
  },
  {
   "cell_type": "code",
   "execution_count": null,
   "metadata": {},
   "outputs": [
    {
     "name": "stdout",
     "output_type": "stream",
     "text": [
      "id_centro_vacunacion\tnumber\n"
     ]
    },
    {
     "data": {
      "text/plain": [
       "0       14741687\n",
       "1           1924\n",
       "10         60439\n",
       "100         3299\n",
       "104          544\n",
       "          ...   \n",
       "2705           2\n",
       "2998           1\n",
       "567            1\n",
       "1865           1\n",
       "4164           1\n",
       "Name: id_centro_vacunacion, Length: 3441, dtype: int64"
      ]
     },
     "execution_count": 47,
     "metadata": {},
     "output_type": "execute_result"
    }
   ],
   "source": [
    "print(f'id_centro_vacunacion\\tnumber')\n",
    "df_vac.id_centro_vacunacion.value_counts().compute().sort_index()"
   ]
  },
  {
   "cell_type": "markdown",
   "metadata": {},
   "source": [
    "#### 2.6. id_vacuna"
   ]
  },
  {
   "cell_type": "code",
   "execution_count": null,
   "metadata": {},
   "outputs": [
    {
     "name": "stdout",
     "output_type": "stream",
     "text": [
      "id_vacuna\tnumber\n"
     ]
    },
    {
     "data": {
      "text/plain": [
       "1     3167931\n",
       "2      371456\n",
       "3      396814\n",
       "4      700871\n",
       "5    27088772\n",
       "6    18621506\n",
       "Name: id_vacuna, dtype: int64"
      ]
     },
     "execution_count": 48,
     "metadata": {},
     "output_type": "execute_result"
    }
   ],
   "source": [
    "print(f'id_vacuna\\tnumber')\n",
    "df_vac.id_vacuna.value_counts().compute().sort_index()"
   ]
  },
  {
   "cell_type": "markdown",
   "metadata": {},
   "source": [
    "#### 2.7. id_grupo_riesgo"
   ]
  },
  {
   "cell_type": "code",
   "execution_count": null,
   "metadata": {},
   "outputs": [
    {
     "data": {
      "text/plain": [
       "0        3909\n",
       "11     227006\n",
       "12     334538\n",
       "17    1535775\n",
       "22     111776\n",
       "23     417903\n",
       "26       4044\n",
       "36      40384\n",
       "4       30392\n",
       "40     345466\n",
       "45      16996\n",
       "47      18405\n",
       "50      17525\n",
       "51       9826\n",
       "52       1183\n",
       "53      18355\n",
       "54    9504978\n",
       "56      29077\n",
       "57     106243\n",
       "58     110676\n",
       "59       3063\n",
       "6        2297\n",
       "60      30110\n",
       "61      11345\n",
       "62    6048890\n",
       "63      36509\n",
       "64      70757\n",
       "65      44765\n",
       "66     255997\n",
       "67    7498829\n",
       "68    8157747\n",
       "69     130656\n",
       "7      316962\n",
       "70    1671237\n",
       "71    8413330\n",
       "72       4967\n",
       "73       4814\n",
       "74       3228\n",
       "75       4688\n",
       "76      17600\n",
       "77    4732210\n",
       "78        943\n",
       "79         82\n",
       "1         207\n",
       "24       1660\n",
       "Name: id_grupo_riesgo, dtype: int64"
      ]
     },
     "execution_count": 49,
     "metadata": {},
     "output_type": "execute_result"
    }
   ],
   "source": [
    "df_vac.id_grupo_riesgo.value_counts().compute().sort_index()"
   ]
  },
  {
   "cell_type": "markdown",
   "metadata": {},
   "source": [
    "#### 2.8. dosis"
   ]
  },
  {
   "cell_type": "code",
   "execution_count": null,
   "metadata": {
    "scrolled": true
   },
   "outputs": [
    {
     "name": "stdout",
     "output_type": "stream",
     "text": [
      "dosis\tnumber\n"
     ]
    },
    {
     "data": {
      "text/plain": [
       "1    24511772\n",
       "2    21611587\n",
       "3     4223869\n",
       "4         116\n",
       "5           6\n",
       "Name: dosis, dtype: int64"
      ]
     },
     "execution_count": 50,
     "metadata": {},
     "output_type": "execute_result"
    }
   ],
   "source": [
    "print(f'dosis\\tnumber')\n",
    "df_vac.dosis.value_counts().compute()"
   ]
  },
  {
   "cell_type": "markdown",
   "metadata": {},
   "source": [
    "#### 2.9. edad"
   ]
  },
  {
   "cell_type": "code",
   "execution_count": null,
   "metadata": {},
   "outputs": [
    {
     "data": {
      "text/plain": [
       "0.0      3\n",
       "1.0      2\n",
       "2.0      4\n",
       "3.0      2\n",
       "4.0      7\n",
       "        ..\n",
       "141.0    2\n",
       "143.0    2\n",
       "146.0    2\n",
       "147.0    1\n",
       "224.0    2\n",
       "Name: edad, Length: 136, dtype: int64"
      ]
     },
     "execution_count": 51,
     "metadata": {},
     "output_type": "execute_result"
    }
   ],
   "source": [
    "df_vac.edad.value_counts().compute().sort_index()"
   ]
  }
 ],
 "metadata": {
  "interpreter": {
   "hash": "c5969b0444520e9aeee25788533910dfe0ee1a9ff4ff2cc0b07d55f5d197aaba"
  },
  "kernelspec": {
   "display_name": "Python 3.8.8 64-bit ('base': conda)",
   "language": "python",
   "name": "python3"
  },
  "language_info": {
   "codemirror_mode": {
    "name": "ipython",
    "version": 3
   },
   "file_extension": ".py",
   "mimetype": "text/x-python",
   "name": "python",
   "nbconvert_exporter": "python",
   "pygments_lexer": "ipython3",
   "version": "3.8.12"
  }
 },
 "nbformat": 4,
 "nbformat_minor": 4
}
