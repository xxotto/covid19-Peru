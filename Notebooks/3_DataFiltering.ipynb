{
  "cells": [
    {
      "cell_type": "markdown",
      "metadata": {
        "id": "view-in-github",
        "colab_type": "text"
      },
      "source": [
        "<a href=\"https://colab.research.google.com/github/xxotto/covid19-peru/blob/main/Notebooks/3_DataFiltering.ipynb\" target=\"_parent\"><img src=\"https://colab.research.google.com/assets/colab-badge.svg\" alt=\"Open In Colab\"/></a>"
      ]
    },
    {
      "cell_type": "markdown",
      "metadata": {
        "id": "Ij4ySS8TbY3k"
      },
      "source": [
        "# Obteniendo más información de cada caso positivo por COVID-19 en Perú\n",
        "\n",
        "En este notebook se busca obtener un dataset de todos los **casos positivos** reportados por COVID-19, y agregar información sobre fallecimiento y vacunación recibida (mediante **\"UUID\" o \"id_persona\"**). Es decir se busca unir las 3 bases de datos, de casos positivos, fallecimientos y vacunación recibida en una sola.\n",
        "\n",
        "Para el manejo de información se siguen las pautas de \n",
        "\"**STR**engthening **A**nalytical **T**hinking for **O**bservational **S**tudies\" (STRATOS) escencialmente en [The STRATOS Iniciative - Topic Group 3](https://stratos-initiative.org/group_3).\n",
        "\n",
        "- I. Metadata setup\n",
        "- II. Data cleaning\n",
        "- III. Data screening\n",
        "- IV. Initial data reporting\n",
        "- V. Refining and updating the analysis plan\n",
        "- VI. Reporting IDA in research papers"
      ]
    },
    {
      "cell_type": "markdown",
      "metadata": {
        "id": "mZTh4PyZh06p"
      },
      "source": [
        "## 1. Metadata setup"
      ]
    },
    {
      "cell_type": "markdown",
      "metadata": {
        "id": "iFvEsVV9qJGx"
      },
      "source": [
        "### 1.1 Descargar fuentes de datos"
      ]
    },
    {
      "cell_type": "markdown",
      "metadata": {
        "id": "AH5h7J_6k9CH"
      },
      "source": [
        "Las fuentes de datos pueden ser descargadas a través de la [Plataforma Nacional de Datos Abiertos](https://www.datosabiertos.gob.pe/) del Gobierno del Perú.\n",
        "\n",
        "1. [Casos positivos por COVID-19](https://www.datosabiertos.gob.pe/dataset/casos-positivos-por-covid-19-ministerio-de-salud-minsa)\n",
        "2. [Fallecidos por COVID-19](https://www.datosabiertos.gob.pe/dataset/fallecidos-por-covid-19-ministerio-de-salud-minsa)\n",
        "3. [Vacunación contra la COVID-19](https://www.datosabiertos.gob.pe/dataset/vacunacion)"
      ]
    },
    {
      "cell_type": "markdown",
      "metadata": {
        "id": "K43XmSn5jB2G"
      },
      "source": [
        "**Nota:** Puede que existan cambios en las bases de datos usadas ya que son actualizadas a diario (actualmente), por tanto cambios en el código pueden ser necesarios más adelante."
      ]
    },
    {
      "cell_type": "markdown",
      "source": [
        "## 1.2 Montar directorio de trabajo"
      ],
      "metadata": {
        "id": "2wExkywv0lCQ"
      }
    },
    {
      "cell_type": "markdown",
      "source": [
        "En este caso el directorio de trabajo donde se almacenarán las bases de datos que acaba de descargar en la sección 1.1 y el resultado final del coolab, estarán ubicados en su propia cuenta de google drive. "
      ],
      "metadata": {
        "id": "HQhCx5eo1bKL"
      }
    },
    {
      "cell_type": "markdown",
      "source": [
        "### 1.2.1 Acceder a su cuenta de google drive"
      ],
      "metadata": {
        "id": "pXQdPkyW2aHr"
      }
    },
    {
      "cell_type": "markdown",
      "source": [
        "Ejecutar la siguiente celda, y acceder mediante su cuenta de google para conectar coolab con su google drive."
      ],
      "metadata": {
        "id": "Oisf8tZO3lwj"
      }
    },
    {
      "cell_type": "code",
      "execution_count": 1,
      "metadata": {
        "colab": {
          "base_uri": "https://localhost:8080/"
        },
        "id": "Nrl3beNNiu4O",
        "outputId": "b5b43f53-4ff4-4605-cc45-323c2e0b8269"
      },
      "outputs": [
        {
          "output_type": "stream",
          "name": "stdout",
          "text": [
            "Mounted at /content/drive/\n"
          ]
        }
      ],
      "source": [
        "from google.colab import drive\n",
        "drive.mount('/content/drive/', force_remount=True)"
      ]
    },
    {
      "cell_type": "markdown",
      "source": [
        "Crear un directorio en google drive llamado \"covid19-peru\"."
      ],
      "metadata": {
        "id": "fsq61Wyhyr6g"
      }
    },
    {
      "cell_type": "code",
      "execution_count": 2,
      "metadata": {
        "colab": {
          "base_uri": "https://localhost:8080/"
        },
        "id": "jkGD-cH0F1Sh",
        "outputId": "11ad2cbb-cd87-43b9-dced-e939ca833cfb"
      },
      "outputs": [
        {
          "output_type": "stream",
          "name": "stdout",
          "text": [
            "/content/drive/MyDrive\n",
            "/content/drive/MyDrive/covid19-peru\n"
          ]
        }
      ],
      "source": [
        "%cd /content/drive/MyDrive/\n",
        "\n",
        "%mkdir -p covid19-peru\n",
        "%cd covid19-peru"
      ]
    },
    {
      "cell_type": "markdown",
      "source": [
        "## 1.2.2 Ubicar las bases de datos descargadas en el directorio de trabajo"
      ],
      "metadata": {
        "id": "t2yJnajxy3tX"
      }
    },
    {
      "cell_type": "code",
      "execution_count": 3,
      "metadata": {
        "colab": {
          "base_uri": "https://localhost:8080/"
        },
        "id": "4IXPG4jJGZ26",
        "outputId": "5b91d7b2-56b5-41fe-b847-9b2e970293de"
      },
      "outputs": [
        {
          "output_type": "stream",
          "name": "stdout",
          "text": [
            "DP3_covid19-peru_casos-positivos_+_info-fallecimiento_+_info-vacunas.csv\n",
            "fallecidos_covid.csv\n",
            "positivos_covid.csv\n",
            "TB_VACUNACION_COVID19.csv\n"
          ]
        }
      ],
      "source": [
        "%ls"
      ]
    },
    {
      "cell_type": "code",
      "execution_count": 4,
      "metadata": {
        "colab": {
          "base_uri": "https://localhost:8080/"
        },
        "id": "TSkzFb6GIBHv",
        "outputId": "259bea5e-689f-44ea-9c84-8263992c7b62"
      },
      "outputs": [
        {
          "output_type": "stream",
          "name": "stdout",
          "text": [
            "/usr/bin/p7zip: cannot read TB_VACUNACION_COVID19.7z\n"
          ]
        }
      ],
      "source": [
        "!p7zip -d TB_VACUNACION_COVID19.7z"
      ]
    },
    {
      "cell_type": "code",
      "source": [
        "%ls"
      ],
      "metadata": {
        "colab": {
          "base_uri": "https://localhost:8080/"
        },
        "id": "q5cNLH21bsJF",
        "outputId": "61b1d7c6-902d-474b-ce5f-f721e02e3557"
      },
      "execution_count": 5,
      "outputs": [
        {
          "output_type": "stream",
          "name": "stdout",
          "text": [
            "DP3_covid19-peru_casos-positivos_+_info-fallecimiento_+_info-vacunas.csv\n",
            "fallecidos_covid.csv\n",
            "positivos_covid.csv\n",
            "TB_VACUNACION_COVID19.csv\n"
          ]
        }
      ]
    },
    {
      "cell_type": "markdown",
      "metadata": {
        "id": "tZiPcC3UqR2J"
      },
      "source": [
        "### 1.2 Instalar librerías necesarias"
      ]
    },
    {
      "cell_type": "code",
      "execution_count": 6,
      "metadata": {
        "colab": {
          "base_uri": "https://localhost:8080/"
        },
        "id": "DODbTqlhphIG",
        "outputId": "005949dc-dda3-406b-d0dc-6ac6bf96c297"
      },
      "outputs": [
        {
          "output_type": "stream",
          "name": "stdout",
          "text": [
            "Looking in indexes: https://pypi.org/simple, https://us-python.pkg.dev/colab-wheels/public/simple/\n",
            "Collecting epiweeks\n",
            "  Downloading epiweeks-2.1.4-py3-none-any.whl (5.9 kB)\n",
            "Installing collected packages: epiweeks\n",
            "Successfully installed epiweeks-2.1.4\n"
          ]
        }
      ],
      "source": [
        "%pip install epiweeks"
      ]
    },
    {
      "cell_type": "markdown",
      "metadata": {
        "id": "6A2N7uajbY3n"
      },
      "source": [
        "## 2. Lectura y Procesamiento"
      ]
    },
    {
      "cell_type": "markdown",
      "metadata": {
        "id": "PKJhxjhibY3o"
      },
      "source": [
        "### 2.2 Cargar Librerías"
      ]
    },
    {
      "cell_type": "code",
      "execution_count": 7,
      "metadata": {
        "id": "8C4Lrkh_bY3q"
      },
      "outputs": [],
      "source": [
        "import pandas as pd\n",
        "import numpy as np\n",
        "from epiweeks import Week\n",
        "from datetime import datetime"
      ]
    },
    {
      "cell_type": "markdown",
      "metadata": {
        "id": "yq-DOIC3bY3r"
      },
      "source": [
        "### 2.3 Diccionarios para codificar variables"
      ]
    },
    {
      "cell_type": "code",
      "execution_count": 8,
      "metadata": {
        "id": "XbWWy6dbbY3t"
      },
      "outputs": [],
      "source": [
        "dic_sex = {'MASCULINO': 1,'FEMENINO':2}\n",
        "dic_met = {'PR': 1, 'PCR':2, 'AG':3}\n",
        "dic_dep = {\n",
        "    \"AMAZONAS\":1,\n",
        "    \"ANCASH\":2,\n",
        "    \"APURIMAC\":3,   \n",
        "    \"AREQUIPA\":4,\n",
        "    \"AYACUCHO\":5,   \n",
        "    \"CAJAMARCA\":6,\n",
        "    \"CALLAO\":7,\n",
        "    \"CUSCO\":8,\n",
        "    \"HUANCAVELICA\":9,\t\n",
        "    \"HUANUCO\":10,\t\n",
        "    \"ICA\":11,\t\n",
        "    \"JUNIN\":12,\n",
        "    \"LA LIBERTAD\":13,\n",
        "    \"LAMBAYEQUE\":14,\n",
        "    \"LIMA\":15,\n",
        "    \"LORETO\":16,\n",
        "    \"MADRE DE DIOS\":17,\n",
        "    \"MOQUEGUA\":18,\t\n",
        "    \"PASCO\":19,\n",
        "    \"PIURA\":20,\n",
        "    \"PUNO\":21,\n",
        "    \"SAN MARTIN\":22,\n",
        "    \"TACNA\":23,\n",
        "    \"TUMBES\":24,\n",
        "    \"UCAYALI\":25\n",
        "}"
      ]
    },
    {
      "cell_type": "markdown",
      "metadata": {
        "id": "-BpIys0qbY3v"
      },
      "source": [
        "### 2.4 Dataset de casos positivos"
      ]
    },
    {
      "cell_type": "markdown",
      "metadata": {
        "id": "QFurIPqFdoYz"
      },
      "source": [
        "#### 2.4.1 Leer dataset"
      ]
    },
    {
      "cell_type": "code",
      "execution_count": 9,
      "metadata": {
        "id": "T_vFPj0BbY3v"
      },
      "outputs": [],
      "source": [
        "# Leer dataset\n",
        "url_cas = 'positivos_covid.csv'\n",
        "col_cas = ['FECHA_RESULTADO','EDAD', 'DEPARTAMENTO', 'SEXO', 'id_persona', 'METODODX']\n",
        "df_cas = pd.read_csv(url_cas, sep = ';', usecols = col_cas, dtype={'EDAD': 'float64', 'FECHA_RESULTADO': 'float64'})"
      ]
    },
    {
      "cell_type": "code",
      "execution_count": 10,
      "metadata": {
        "colab": {
          "base_uri": "https://localhost:8080/",
          "height": 206
        },
        "id": "NnnCkFp7bY3x",
        "outputId": "184b6589-9c6e-4526-eab9-407df88df3e1"
      },
      "outputs": [
        {
          "output_type": "execute_result",
          "data": {
            "text/plain": [
              "  DEPARTAMENTO METODODX  EDAD       SEXO  FECHA_RESULTADO  id_persona\n",
              "0     AREQUIPA      PCR  78.0   FEMENINO       20220108.0  13889713.0\n",
              "1     AREQUIPA       AG  67.0  MASCULINO       20210628.0  13889735.0\n",
              "2         LIMA       PR  23.0  MASCULINO       20210121.0  13889774.0\n",
              "3        JUNIN       AG  24.0   FEMENINO       20220119.0  13889793.0\n",
              "4         LIMA       PR  57.0   FEMENINO       20200902.0  13889909.0"
            ],
            "text/html": [
              "\n",
              "  <div id=\"df-48cbce31-d5f1-4af4-bca6-3cbae0e9023d\">\n",
              "    <div class=\"colab-df-container\">\n",
              "      <div>\n",
              "<style scoped>\n",
              "    .dataframe tbody tr th:only-of-type {\n",
              "        vertical-align: middle;\n",
              "    }\n",
              "\n",
              "    .dataframe tbody tr th {\n",
              "        vertical-align: top;\n",
              "    }\n",
              "\n",
              "    .dataframe thead th {\n",
              "        text-align: right;\n",
              "    }\n",
              "</style>\n",
              "<table border=\"1\" class=\"dataframe\">\n",
              "  <thead>\n",
              "    <tr style=\"text-align: right;\">\n",
              "      <th></th>\n",
              "      <th>DEPARTAMENTO</th>\n",
              "      <th>METODODX</th>\n",
              "      <th>EDAD</th>\n",
              "      <th>SEXO</th>\n",
              "      <th>FECHA_RESULTADO</th>\n",
              "      <th>id_persona</th>\n",
              "    </tr>\n",
              "  </thead>\n",
              "  <tbody>\n",
              "    <tr>\n",
              "      <th>0</th>\n",
              "      <td>AREQUIPA</td>\n",
              "      <td>PCR</td>\n",
              "      <td>78.0</td>\n",
              "      <td>FEMENINO</td>\n",
              "      <td>20220108.0</td>\n",
              "      <td>13889713.0</td>\n",
              "    </tr>\n",
              "    <tr>\n",
              "      <th>1</th>\n",
              "      <td>AREQUIPA</td>\n",
              "      <td>AG</td>\n",
              "      <td>67.0</td>\n",
              "      <td>MASCULINO</td>\n",
              "      <td>20210628.0</td>\n",
              "      <td>13889735.0</td>\n",
              "    </tr>\n",
              "    <tr>\n",
              "      <th>2</th>\n",
              "      <td>LIMA</td>\n",
              "      <td>PR</td>\n",
              "      <td>23.0</td>\n",
              "      <td>MASCULINO</td>\n",
              "      <td>20210121.0</td>\n",
              "      <td>13889774.0</td>\n",
              "    </tr>\n",
              "    <tr>\n",
              "      <th>3</th>\n",
              "      <td>JUNIN</td>\n",
              "      <td>AG</td>\n",
              "      <td>24.0</td>\n",
              "      <td>FEMENINO</td>\n",
              "      <td>20220119.0</td>\n",
              "      <td>13889793.0</td>\n",
              "    </tr>\n",
              "    <tr>\n",
              "      <th>4</th>\n",
              "      <td>LIMA</td>\n",
              "      <td>PR</td>\n",
              "      <td>57.0</td>\n",
              "      <td>FEMENINO</td>\n",
              "      <td>20200902.0</td>\n",
              "      <td>13889909.0</td>\n",
              "    </tr>\n",
              "  </tbody>\n",
              "</table>\n",
              "</div>\n",
              "      <button class=\"colab-df-convert\" onclick=\"convertToInteractive('df-48cbce31-d5f1-4af4-bca6-3cbae0e9023d')\"\n",
              "              title=\"Convert this dataframe to an interactive table.\"\n",
              "              style=\"display:none;\">\n",
              "        \n",
              "  <svg xmlns=\"http://www.w3.org/2000/svg\" height=\"24px\"viewBox=\"0 0 24 24\"\n",
              "       width=\"24px\">\n",
              "    <path d=\"M0 0h24v24H0V0z\" fill=\"none\"/>\n",
              "    <path d=\"M18.56 5.44l.94 2.06.94-2.06 2.06-.94-2.06-.94-.94-2.06-.94 2.06-2.06.94zm-11 1L8.5 8.5l.94-2.06 2.06-.94-2.06-.94L8.5 2.5l-.94 2.06-2.06.94zm10 10l.94 2.06.94-2.06 2.06-.94-2.06-.94-.94-2.06-.94 2.06-2.06.94z\"/><path d=\"M17.41 7.96l-1.37-1.37c-.4-.4-.92-.59-1.43-.59-.52 0-1.04.2-1.43.59L10.3 9.45l-7.72 7.72c-.78.78-.78 2.05 0 2.83L4 21.41c.39.39.9.59 1.41.59.51 0 1.02-.2 1.41-.59l7.78-7.78 2.81-2.81c.8-.78.8-2.07 0-2.86zM5.41 20L4 18.59l7.72-7.72 1.47 1.35L5.41 20z\"/>\n",
              "  </svg>\n",
              "      </button>\n",
              "      \n",
              "  <style>\n",
              "    .colab-df-container {\n",
              "      display:flex;\n",
              "      flex-wrap:wrap;\n",
              "      gap: 12px;\n",
              "    }\n",
              "\n",
              "    .colab-df-convert {\n",
              "      background-color: #E8F0FE;\n",
              "      border: none;\n",
              "      border-radius: 50%;\n",
              "      cursor: pointer;\n",
              "      display: none;\n",
              "      fill: #1967D2;\n",
              "      height: 32px;\n",
              "      padding: 0 0 0 0;\n",
              "      width: 32px;\n",
              "    }\n",
              "\n",
              "    .colab-df-convert:hover {\n",
              "      background-color: #E2EBFA;\n",
              "      box-shadow: 0px 1px 2px rgba(60, 64, 67, 0.3), 0px 1px 3px 1px rgba(60, 64, 67, 0.15);\n",
              "      fill: #174EA6;\n",
              "    }\n",
              "\n",
              "    [theme=dark] .colab-df-convert {\n",
              "      background-color: #3B4455;\n",
              "      fill: #D2E3FC;\n",
              "    }\n",
              "\n",
              "    [theme=dark] .colab-df-convert:hover {\n",
              "      background-color: #434B5C;\n",
              "      box-shadow: 0px 1px 3px 1px rgba(0, 0, 0, 0.15);\n",
              "      filter: drop-shadow(0px 1px 2px rgba(0, 0, 0, 0.3));\n",
              "      fill: #FFFFFF;\n",
              "    }\n",
              "  </style>\n",
              "\n",
              "      <script>\n",
              "        const buttonEl =\n",
              "          document.querySelector('#df-48cbce31-d5f1-4af4-bca6-3cbae0e9023d button.colab-df-convert');\n",
              "        buttonEl.style.display =\n",
              "          google.colab.kernel.accessAllowed ? 'block' : 'none';\n",
              "\n",
              "        async function convertToInteractive(key) {\n",
              "          const element = document.querySelector('#df-48cbce31-d5f1-4af4-bca6-3cbae0e9023d');\n",
              "          const dataTable =\n",
              "            await google.colab.kernel.invokeFunction('convertToInteractive',\n",
              "                                                     [key], {});\n",
              "          if (!dataTable) return;\n",
              "\n",
              "          const docLinkHtml = 'Like what you see? Visit the ' +\n",
              "            '<a target=\"_blank\" href=https://colab.research.google.com/notebooks/data_table.ipynb>data table notebook</a>'\n",
              "            + ' to learn more about interactive tables.';\n",
              "          element.innerHTML = '';\n",
              "          dataTable['output_type'] = 'display_data';\n",
              "          await google.colab.output.renderOutput(dataTable, element);\n",
              "          const docLink = document.createElement('div');\n",
              "          docLink.innerHTML = docLinkHtml;\n",
              "          element.appendChild(docLink);\n",
              "        }\n",
              "      </script>\n",
              "    </div>\n",
              "  </div>\n",
              "  "
            ]
          },
          "metadata": {},
          "execution_count": 10
        }
      ],
      "source": [
        "df_cas.head()"
      ]
    },
    {
      "cell_type": "code",
      "execution_count": 11,
      "metadata": {
        "colab": {
          "base_uri": "https://localhost:8080/"
        },
        "id": "K9XRM9uHbY3y",
        "outputId": "6aafb8fe-1715-4ec9-db2c-2fd132eaa48f"
      },
      "outputs": [
        {
          "output_type": "stream",
          "name": "stdout",
          "text": [
            "Número de casos positivos:    3572423 \n"
          ]
        }
      ],
      "source": [
        "n = len(df_cas)  # Variable para almacenar el tamaño de cada dataset luego de cada cambio\n",
        "print(f'Número de casos positivos: {n:10} ')"
      ]
    },
    {
      "cell_type": "markdown",
      "metadata": {
        "id": "AZIEfXmMVl2N"
      },
      "source": [
        "#### 2.4.2 Tratamiento de datos (Data cleaning)"
      ]
    },
    {
      "cell_type": "code",
      "execution_count": 12,
      "metadata": {
        "colab": {
          "base_uri": "https://localhost:8080/"
        },
        "id": "QxD57E30C2YT",
        "outputId": "766a029e-72d9-4dcf-99da-d5861564ee18"
      },
      "outputs": [
        {
          "output_type": "execute_result",
          "data": {
            "text/plain": [
              "DEPARTAMENTO         321\n",
              "METODODX               0\n",
              "EDAD                 347\n",
              "SEXO                   1\n",
              "FECHA_RESULTADO     2023\n",
              "id_persona         64148\n",
              "dtype: int64"
            ]
          },
          "metadata": {},
          "execution_count": 12
        }
      ],
      "source": [
        "df_cas.isnull().sum()  # Total de 'missing values' por columna"
      ]
    },
    {
      "cell_type": "code",
      "execution_count": 13,
      "metadata": {
        "colab": {
          "base_uri": "https://localhost:8080/"
        },
        "id": "51CK8-A7bY3z",
        "outputId": "85d7fd3b-71b0-4256-d330-21964fd4e837"
      },
      "outputs": [
        {
          "output_type": "execute_result",
          "data": {
            "text/plain": [
              "DEPARTAMENTO       0\n",
              "METODODX           0\n",
              "EDAD               0\n",
              "SEXO               0\n",
              "FECHA_RESULTADO    0\n",
              "id_persona         0\n",
              "dtype: int64"
            ]
          },
          "metadata": {},
          "execution_count": 13
        }
      ],
      "source": [
        "df_cas = df_cas.dropna()  # Remover casos con información faltante\n",
        "df_cas.isnull().sum()  # Total de 'missing values' por columna"
      ]
    },
    {
      "cell_type": "code",
      "source": [
        "print(f'Missing values eliminados: {n - len(df_cas):10}')\n",
        "print(f'Número de casos positivos: {len(df_cas):10} ')\n",
        "n = len(df_cas)"
      ],
      "metadata": {
        "colab": {
          "base_uri": "https://localhost:8080/"
        },
        "id": "67Ysph1bJsac",
        "outputId": "ef36c001-491e-4c5a-b24e-82723aa6717a"
      },
      "execution_count": 14,
      "outputs": [
        {
          "output_type": "stream",
          "name": "stdout",
          "text": [
            "Missing values eliminados:      66615\n",
            "Número de casos positivos:    3505808 \n"
          ]
        }
      ]
    },
    {
      "cell_type": "code",
      "execution_count": 15,
      "metadata": {
        "colab": {
          "base_uri": "https://localhost:8080/"
        },
        "id": "2m-fH6jATzsO",
        "outputId": "83db8586-f35b-456d-c9cf-3181996ea703"
      },
      "outputs": [
        {
          "output_type": "execute_result",
          "data": {
            "text/plain": [
              "AMAZONAS           43752\n",
              "ANCASH            125834\n",
              "APURIMAC           38960\n",
              "AREQUIPA          213096\n",
              "ARICA                  1\n",
              "AYACUCHO           47934\n",
              "CAJAMARCA          95668\n",
              "CALLAO            142796\n",
              "CUSCO             115816\n",
              "HUANCAVELICA       25738\n",
              "HUANUCO            51787\n",
              "ICA               102362\n",
              "JUNIN             125441\n",
              "LA LIBERTAD       144460\n",
              "LAMBAYEQUE        104791\n",
              "LIMA             1578223\n",
              "LORETO             57081\n",
              "MADRE DE DIOS      17589\n",
              "MOQUEGUA           48338\n",
              "PASCO              23901\n",
              "PIURA             156845\n",
              "PUNO               65839\n",
              "SAN MARTIN         61339\n",
              "TACNA              53082\n",
              "TUMBES             26877\n",
              "UCAYALI            38258\n",
              "Name: DEPARTAMENTO, dtype: int64"
            ]
          },
          "metadata": {},
          "execution_count": 15
        }
      ],
      "source": [
        "df_cas['DEPARTAMENTO'].value_counts().sort_index()  # Analizar columna DEPARTAMENTO"
      ]
    },
    {
      "cell_type": "code",
      "execution_count": 16,
      "metadata": {
        "id": "VL_6pdqgWZr_"
      },
      "outputs": [],
      "source": [
        "# Remover valores erróneos\n",
        "rows_to_delete = df_cas[df_cas['DEPARTAMENTO'] == 'ARICA'].index\n",
        "df_cas.drop(rows_to_delete, inplace = True)"
      ]
    },
    {
      "cell_type": "code",
      "execution_count": 17,
      "metadata": {
        "colab": {
          "base_uri": "https://localhost:8080/"
        },
        "id": "88qqbGHiYQxL",
        "outputId": "d66c414a-4dad-44f9-8e61-445391c29956"
      },
      "outputs": [
        {
          "output_type": "execute_result",
          "data": {
            "text/plain": [
              "AG     1498196\n",
              "PCR    1067272\n",
              "PR      940339\n",
              "Name: METODODX, dtype: int64"
            ]
          },
          "metadata": {},
          "execution_count": 17
        }
      ],
      "source": [
        "df_cas['METODODX'].value_counts().sort_index()  # Analizar columna METODODX"
      ]
    },
    {
      "cell_type": "code",
      "execution_count": 18,
      "metadata": {
        "colab": {
          "base_uri": "https://localhost:8080/"
        },
        "id": "m7H95z85Y8k2",
        "outputId": "621697b6-32fd-477f-ac84-5a315b3973f5"
      },
      "outputs": [
        {
          "output_type": "stream",
          "name": "stdout",
          "text": [
            "Edad (años): no_casos\n",
            "\n",
            "    0.0: 8831      25.0: 80677      50.0: 55122      75.0: 14992       -79.0: 1   \n",
            "    1.0: 8691      26.0: 83781      51.0: 52837      76.0: 13616     100.0: 158   \n",
            "    2.0: 6768      27.0: 85937      52.0: 51490      77.0: 12663     101.0: 116   \n",
            "    3.0: 6666      28.0: 88768      53.0: 50519      78.0: 11565      102.0: 76   \n",
            "    4.0: 6894      29.0: 87744      54.0: 49890      79.0: 10376      103.0: 43   \n",
            "    5.0: 7756      30.0: 84820      55.0: 47725       80.0: 9675      104.0: 20   \n",
            "    6.0: 8821      31.0: 84901      56.0: 45410       81.0: 9037      105.0: 16   \n",
            "    7.0: 9965      32.0: 87664      57.0: 43437       82.0: 8205      106.0: 11   \n",
            "   8.0: 11128      33.0: 89579      58.0: 41290       83.0: 7546       107.0: 6   \n",
            "   9.0: 11981      34.0: 83648      59.0: 39790       84.0: 6759       108.0: 8   \n",
            "  10.0: 13543      35.0: 79785      60.0: 38604       85.0: 6044       109.0: 3   \n",
            "  11.0: 15693      36.0: 77390      61.0: 37243       86.0: 5295       110.0: 3   \n",
            "  12.0: 14227      37.0: 77319      62.0: 34646       87.0: 4711       111.0: 2   \n",
            "  13.0: 15623      38.0: 77588      63.0: 32140       88.0: 4104       113.0: 1   \n",
            "  14.0: 17510      39.0: 76778      64.0: 30431       89.0: 3548       114.0: 2   \n",
            "  15.0: 20302      40.0: 72740      65.0: 29122       90.0: 2894       115.0: 1   \n",
            "  16.0: 23220      41.0: 70637      66.0: 27750       91.0: 2344       116.0: 1   \n",
            "  17.0: 25623      42.0: 68878      67.0: 25644       92.0: 1908       119.0: 4   \n",
            "  18.0: 33895      43.0: 68011      68.0: 24084       93.0: 1486      120.0: 12   \n",
            "  19.0: 39548      44.0: 66743      69.0: 21512       94.0: 1156       121.0: 2   \n",
            "  20.0: 44777      45.0: 64737      70.0: 19959        95.0: 902       122.0: 4   \n",
            "  21.0: 50636      46.0: 62452      71.0: 19051        96.0: 651       125.0: 1   \n",
            "  22.0: 56986      47.0: 60174      72.0: 17727        97.0: 435       827.0: 1   \n",
            "  23.0: 66038      48.0: 58558      73.0: 17145        98.0: 342      2021.0: 3   \n",
            "  24.0: 75099      49.0: 57121      74.0: 15622        99.0: 217              None\n"
          ]
        }
      ],
      "source": [
        "# Analizar columna EDAD\n",
        "edadCasos = df_cas['EDAD'].value_counts()\n",
        "\n",
        "print('Edad (años): no_casos\\n')\n",
        "lst = []\n",
        "\n",
        "for idx, edad in enumerate(edadCasos):\n",
        "    index = edadCasos.index\n",
        "    lst.append(f'{index[idx]:6}: {edad}   ')\n",
        "    \n",
        "lst = sorted(lst)\n",
        "chunks = [lst[x:x+25] for x in range(0, len(lst), 25)]\n",
        "res = pd.DataFrame.from_records(chunks).transpose()\n",
        "\n",
        "print(res.to_string(index=False, header=False))"
      ]
    },
    {
      "cell_type": "code",
      "execution_count": 19,
      "metadata": {
        "id": "3k5i1LXuY8wH"
      },
      "outputs": [],
      "source": [
        "# Remover valores erróneos\n",
        "rows_to_delete = df_cas[(df_cas['EDAD'] < 0) | (df_cas['EDAD'] > 122)].index\n",
        "df_cas.drop(rows_to_delete, inplace = True)"
      ]
    },
    {
      "cell_type": "code",
      "execution_count": 20,
      "metadata": {
        "colab": {
          "base_uri": "https://localhost:8080/"
        },
        "id": "sWxwgn2RRtcj",
        "outputId": "6e0ff90f-b6f6-4296-ae94-ff7a7cd91c24"
      },
      "outputs": [
        {
          "output_type": "execute_result",
          "data": {
            "text/plain": [
              "FEMENINO     1770439\n",
              "MASCULINO    1735362\n",
              "Name: SEXO, dtype: int64"
            ]
          },
          "metadata": {},
          "execution_count": 20
        }
      ],
      "source": [
        "df_cas['SEXO'].value_counts().sort_index()  # Analizar columna SEXO"
      ]
    },
    {
      "cell_type": "code",
      "execution_count": 21,
      "metadata": {
        "colab": {
          "base_uri": "https://localhost:8080/"
        },
        "id": "Ilgl9QqHfkWT",
        "outputId": "4fd96f96-9c4e-452f-bf44-07dcae555cb7"
      },
      "outputs": [
        {
          "output_type": "execute_result",
          "data": {
            "text/plain": [
              "798"
            ]
          },
          "metadata": {},
          "execution_count": 21
        }
      ],
      "source": [
        "df_cas['FECHA_RESULTADO'].nunique()  # Analizar columna FECHA_RESULTADO (Número de días con reportes de casos)"
      ]
    },
    {
      "cell_type": "code",
      "execution_count": 22,
      "metadata": {
        "colab": {
          "base_uri": "https://localhost:8080/"
        },
        "id": "Gc2wwR3OgBDS",
        "outputId": "20407f56-2966-4da9-d5df-d84bcd0f2c72"
      },
      "outputs": [
        {
          "output_type": "execute_result",
          "data": {
            "text/plain": [
              "3274218"
            ]
          },
          "metadata": {},
          "execution_count": 22
        }
      ],
      "source": [
        "personas_covid = df_cas['id_persona'].nunique()  # Analizar columna id_persona\n",
        "personas_covid"
      ]
    },
    {
      "cell_type": "code",
      "execution_count": 23,
      "metadata": {
        "colab": {
          "base_uri": "https://localhost:8080/"
        },
        "id": "eAQVwd1lgxD3",
        "outputId": "80c00bff-01f9-4196-87a6-3e90d031c532"
      },
      "outputs": [
        {
          "output_type": "stream",
          "name": "stdout",
          "text": [
            "Casos con valores erróneos eliminados:          7\n",
            "Número de casos positivos:    3505801 \n"
          ]
        }
      ],
      "source": [
        "print(f'Casos con valores erróneos eliminados: {n - len(df_cas):10}')\n",
        "print(f'Número de casos positivos: {len(df_cas):10} ')\n",
        "n = len(df_cas)"
      ]
    },
    {
      "cell_type": "code",
      "execution_count": 24,
      "metadata": {
        "id": "iPvrpqtHrT46"
      },
      "outputs": [],
      "source": [
        "# Ordenar columnas\n",
        "df_cas.rename(columns = {'FECHA_RESULTADO':'fecha_resultado',\n",
        "                         'EDAD': 'edad',\n",
        "                         'SEXO': 'sexo',\n",
        "                         'DEPARTAMENTO': 'departamento',\n",
        "                         'METODODX': 'metododx'}, inplace=True)\n",
        "\n",
        "df_cas = df_cas[['id_persona','fecha_resultado', 'metododx', 'sexo', 'edad', 'departamento']] \\\n",
        "         .sort_values(by = ['fecha_resultado']) \\\n",
        "         .reset_index(drop = True)"
      ]
    },
    {
      "cell_type": "code",
      "execution_count": 25,
      "metadata": {
        "id": "sNnsC247rcCn"
      },
      "outputs": [],
      "source": [
        "# Codificar variables y cambiar 'data types'\n",
        "df_cas['sexo'].replace(dic_sex, inplace=True)\n",
        "df_cas['departamento'] = df_cas['departamento'].map(dic_dep)\n",
        "df_cas['metododx'].replace(dic_met, inplace=True)"
      ]
    },
    {
      "cell_type": "code",
      "execution_count": 26,
      "metadata": {
        "id": "aWYABbWnY64e"
      },
      "outputs": [],
      "source": [
        "# Cambiar 'data type' para reducir tamaño\n",
        "df_cas = df_cas.astype({'id_persona': 'int32', 'fecha_resultado': 'int32', 'edad':'int8', 'departamento': 'int8',\n",
        "                        'metododx': 'int8', 'sexo': 'int8'})"
      ]
    },
    {
      "cell_type": "code",
      "execution_count": 27,
      "metadata": {
        "colab": {
          "base_uri": "https://localhost:8080/",
          "height": 206
        },
        "id": "GFdjVoaP52re",
        "outputId": "1db08971-a716-4589-f888-7c940002d26b"
      },
      "outputs": [
        {
          "output_type": "execute_result",
          "data": {
            "text/plain": [
              "   id_persona  fecha_resultado  metododx  sexo  edad  departamento\n",
              "0    34978840         20200306         2     1    25            15\n",
              "1    10629488         20200307         2     1    51            15\n",
              "2     7800643         20200307         2     2    74            15\n",
              "3    12211040         20200307         2     1     7            15\n",
              "4    29640291         20200307         2     1    29             4"
            ],
            "text/html": [
              "\n",
              "  <div id=\"df-d7efdd0a-b796-4f99-aacd-c61367d9a4ca\">\n",
              "    <div class=\"colab-df-container\">\n",
              "      <div>\n",
              "<style scoped>\n",
              "    .dataframe tbody tr th:only-of-type {\n",
              "        vertical-align: middle;\n",
              "    }\n",
              "\n",
              "    .dataframe tbody tr th {\n",
              "        vertical-align: top;\n",
              "    }\n",
              "\n",
              "    .dataframe thead th {\n",
              "        text-align: right;\n",
              "    }\n",
              "</style>\n",
              "<table border=\"1\" class=\"dataframe\">\n",
              "  <thead>\n",
              "    <tr style=\"text-align: right;\">\n",
              "      <th></th>\n",
              "      <th>id_persona</th>\n",
              "      <th>fecha_resultado</th>\n",
              "      <th>metododx</th>\n",
              "      <th>sexo</th>\n",
              "      <th>edad</th>\n",
              "      <th>departamento</th>\n",
              "    </tr>\n",
              "  </thead>\n",
              "  <tbody>\n",
              "    <tr>\n",
              "      <th>0</th>\n",
              "      <td>34978840</td>\n",
              "      <td>20200306</td>\n",
              "      <td>2</td>\n",
              "      <td>1</td>\n",
              "      <td>25</td>\n",
              "      <td>15</td>\n",
              "    </tr>\n",
              "    <tr>\n",
              "      <th>1</th>\n",
              "      <td>10629488</td>\n",
              "      <td>20200307</td>\n",
              "      <td>2</td>\n",
              "      <td>1</td>\n",
              "      <td>51</td>\n",
              "      <td>15</td>\n",
              "    </tr>\n",
              "    <tr>\n",
              "      <th>2</th>\n",
              "      <td>7800643</td>\n",
              "      <td>20200307</td>\n",
              "      <td>2</td>\n",
              "      <td>2</td>\n",
              "      <td>74</td>\n",
              "      <td>15</td>\n",
              "    </tr>\n",
              "    <tr>\n",
              "      <th>3</th>\n",
              "      <td>12211040</td>\n",
              "      <td>20200307</td>\n",
              "      <td>2</td>\n",
              "      <td>1</td>\n",
              "      <td>7</td>\n",
              "      <td>15</td>\n",
              "    </tr>\n",
              "    <tr>\n",
              "      <th>4</th>\n",
              "      <td>29640291</td>\n",
              "      <td>20200307</td>\n",
              "      <td>2</td>\n",
              "      <td>1</td>\n",
              "      <td>29</td>\n",
              "      <td>4</td>\n",
              "    </tr>\n",
              "  </tbody>\n",
              "</table>\n",
              "</div>\n",
              "      <button class=\"colab-df-convert\" onclick=\"convertToInteractive('df-d7efdd0a-b796-4f99-aacd-c61367d9a4ca')\"\n",
              "              title=\"Convert this dataframe to an interactive table.\"\n",
              "              style=\"display:none;\">\n",
              "        \n",
              "  <svg xmlns=\"http://www.w3.org/2000/svg\" height=\"24px\"viewBox=\"0 0 24 24\"\n",
              "       width=\"24px\">\n",
              "    <path d=\"M0 0h24v24H0V0z\" fill=\"none\"/>\n",
              "    <path d=\"M18.56 5.44l.94 2.06.94-2.06 2.06-.94-2.06-.94-.94-2.06-.94 2.06-2.06.94zm-11 1L8.5 8.5l.94-2.06 2.06-.94-2.06-.94L8.5 2.5l-.94 2.06-2.06.94zm10 10l.94 2.06.94-2.06 2.06-.94-2.06-.94-.94-2.06-.94 2.06-2.06.94z\"/><path d=\"M17.41 7.96l-1.37-1.37c-.4-.4-.92-.59-1.43-.59-.52 0-1.04.2-1.43.59L10.3 9.45l-7.72 7.72c-.78.78-.78 2.05 0 2.83L4 21.41c.39.39.9.59 1.41.59.51 0 1.02-.2 1.41-.59l7.78-7.78 2.81-2.81c.8-.78.8-2.07 0-2.86zM5.41 20L4 18.59l7.72-7.72 1.47 1.35L5.41 20z\"/>\n",
              "  </svg>\n",
              "      </button>\n",
              "      \n",
              "  <style>\n",
              "    .colab-df-container {\n",
              "      display:flex;\n",
              "      flex-wrap:wrap;\n",
              "      gap: 12px;\n",
              "    }\n",
              "\n",
              "    .colab-df-convert {\n",
              "      background-color: #E8F0FE;\n",
              "      border: none;\n",
              "      border-radius: 50%;\n",
              "      cursor: pointer;\n",
              "      display: none;\n",
              "      fill: #1967D2;\n",
              "      height: 32px;\n",
              "      padding: 0 0 0 0;\n",
              "      width: 32px;\n",
              "    }\n",
              "\n",
              "    .colab-df-convert:hover {\n",
              "      background-color: #E2EBFA;\n",
              "      box-shadow: 0px 1px 2px rgba(60, 64, 67, 0.3), 0px 1px 3px 1px rgba(60, 64, 67, 0.15);\n",
              "      fill: #174EA6;\n",
              "    }\n",
              "\n",
              "    [theme=dark] .colab-df-convert {\n",
              "      background-color: #3B4455;\n",
              "      fill: #D2E3FC;\n",
              "    }\n",
              "\n",
              "    [theme=dark] .colab-df-convert:hover {\n",
              "      background-color: #434B5C;\n",
              "      box-shadow: 0px 1px 3px 1px rgba(0, 0, 0, 0.15);\n",
              "      filter: drop-shadow(0px 1px 2px rgba(0, 0, 0, 0.3));\n",
              "      fill: #FFFFFF;\n",
              "    }\n",
              "  </style>\n",
              "\n",
              "      <script>\n",
              "        const buttonEl =\n",
              "          document.querySelector('#df-d7efdd0a-b796-4f99-aacd-c61367d9a4ca button.colab-df-convert');\n",
              "        buttonEl.style.display =\n",
              "          google.colab.kernel.accessAllowed ? 'block' : 'none';\n",
              "\n",
              "        async function convertToInteractive(key) {\n",
              "          const element = document.querySelector('#df-d7efdd0a-b796-4f99-aacd-c61367d9a4ca');\n",
              "          const dataTable =\n",
              "            await google.colab.kernel.invokeFunction('convertToInteractive',\n",
              "                                                     [key], {});\n",
              "          if (!dataTable) return;\n",
              "\n",
              "          const docLinkHtml = 'Like what you see? Visit the ' +\n",
              "            '<a target=\"_blank\" href=https://colab.research.google.com/notebooks/data_table.ipynb>data table notebook</a>'\n",
              "            + ' to learn more about interactive tables.';\n",
              "          element.innerHTML = '';\n",
              "          dataTable['output_type'] = 'display_data';\n",
              "          await google.colab.output.renderOutput(dataTable, element);\n",
              "          const docLink = document.createElement('div');\n",
              "          docLink.innerHTML = docLinkHtml;\n",
              "          element.appendChild(docLink);\n",
              "        }\n",
              "      </script>\n",
              "    </div>\n",
              "  </div>\n",
              "  "
            ]
          },
          "metadata": {},
          "execution_count": 27
        }
      ],
      "source": [
        "df_cas.head()"
      ]
    },
    {
      "cell_type": "markdown",
      "metadata": {
        "id": "g2dw0dKZWztA"
      },
      "source": [
        "#### 2.4.3 Eliminar registros duplicados"
      ]
    },
    {
      "cell_type": "markdown",
      "metadata": {
        "id": "PnZVWPOEXdF2"
      },
      "source": [
        "Se decide eliminar casos de registros duplicados. Es decir eliminar del dataset todas las reinnfecciones de COVID-19 y conservar únicamente la última reinfección en caso de registros duplicados en id_persona."
      ]
    },
    {
      "cell_type": "code",
      "execution_count": 28,
      "metadata": {
        "id": "mXDvbB7xYq5f"
      },
      "outputs": [],
      "source": [
        "# Ordenar de acuerdo al id_de persona y fecha de resultado\n",
        "df_cas = df_cas.sort_values(by = ['id_persona', 'fecha_resultado'])"
      ]
    },
    {
      "cell_type": "code",
      "execution_count": 29,
      "metadata": {
        "colab": {
          "base_uri": "https://localhost:8080/",
          "height": 206
        },
        "id": "mY9vtkkuZAsL",
        "outputId": "e6067de1-dfeb-49a2-f7f1-bcc8b32fbec6"
      },
      "outputs": [
        {
          "output_type": "execute_result",
          "data": {
            "text/plain": [
              "         id_persona  fecha_resultado  metododx  sexo  edad  departamento\n",
              "3201447          47         20220129         2     1    62            25\n",
              "3200873          89         20220129         2     2    74            25\n",
              "1733928         227         20210421         3     1    81            25\n",
              "1919698         324         20210525         3     2    54            25\n",
              "3152919         555         20220127         2     2    55            25"
            ],
            "text/html": [
              "\n",
              "  <div id=\"df-656b8d74-6ac9-4bfa-9eda-e0cb40eaf5b2\">\n",
              "    <div class=\"colab-df-container\">\n",
              "      <div>\n",
              "<style scoped>\n",
              "    .dataframe tbody tr th:only-of-type {\n",
              "        vertical-align: middle;\n",
              "    }\n",
              "\n",
              "    .dataframe tbody tr th {\n",
              "        vertical-align: top;\n",
              "    }\n",
              "\n",
              "    .dataframe thead th {\n",
              "        text-align: right;\n",
              "    }\n",
              "</style>\n",
              "<table border=\"1\" class=\"dataframe\">\n",
              "  <thead>\n",
              "    <tr style=\"text-align: right;\">\n",
              "      <th></th>\n",
              "      <th>id_persona</th>\n",
              "      <th>fecha_resultado</th>\n",
              "      <th>metododx</th>\n",
              "      <th>sexo</th>\n",
              "      <th>edad</th>\n",
              "      <th>departamento</th>\n",
              "    </tr>\n",
              "  </thead>\n",
              "  <tbody>\n",
              "    <tr>\n",
              "      <th>3201447</th>\n",
              "      <td>47</td>\n",
              "      <td>20220129</td>\n",
              "      <td>2</td>\n",
              "      <td>1</td>\n",
              "      <td>62</td>\n",
              "      <td>25</td>\n",
              "    </tr>\n",
              "    <tr>\n",
              "      <th>3200873</th>\n",
              "      <td>89</td>\n",
              "      <td>20220129</td>\n",
              "      <td>2</td>\n",
              "      <td>2</td>\n",
              "      <td>74</td>\n",
              "      <td>25</td>\n",
              "    </tr>\n",
              "    <tr>\n",
              "      <th>1733928</th>\n",
              "      <td>227</td>\n",
              "      <td>20210421</td>\n",
              "      <td>3</td>\n",
              "      <td>1</td>\n",
              "      <td>81</td>\n",
              "      <td>25</td>\n",
              "    </tr>\n",
              "    <tr>\n",
              "      <th>1919698</th>\n",
              "      <td>324</td>\n",
              "      <td>20210525</td>\n",
              "      <td>3</td>\n",
              "      <td>2</td>\n",
              "      <td>54</td>\n",
              "      <td>25</td>\n",
              "    </tr>\n",
              "    <tr>\n",
              "      <th>3152919</th>\n",
              "      <td>555</td>\n",
              "      <td>20220127</td>\n",
              "      <td>2</td>\n",
              "      <td>2</td>\n",
              "      <td>55</td>\n",
              "      <td>25</td>\n",
              "    </tr>\n",
              "  </tbody>\n",
              "</table>\n",
              "</div>\n",
              "      <button class=\"colab-df-convert\" onclick=\"convertToInteractive('df-656b8d74-6ac9-4bfa-9eda-e0cb40eaf5b2')\"\n",
              "              title=\"Convert this dataframe to an interactive table.\"\n",
              "              style=\"display:none;\">\n",
              "        \n",
              "  <svg xmlns=\"http://www.w3.org/2000/svg\" height=\"24px\"viewBox=\"0 0 24 24\"\n",
              "       width=\"24px\">\n",
              "    <path d=\"M0 0h24v24H0V0z\" fill=\"none\"/>\n",
              "    <path d=\"M18.56 5.44l.94 2.06.94-2.06 2.06-.94-2.06-.94-.94-2.06-.94 2.06-2.06.94zm-11 1L8.5 8.5l.94-2.06 2.06-.94-2.06-.94L8.5 2.5l-.94 2.06-2.06.94zm10 10l.94 2.06.94-2.06 2.06-.94-2.06-.94-.94-2.06-.94 2.06-2.06.94z\"/><path d=\"M17.41 7.96l-1.37-1.37c-.4-.4-.92-.59-1.43-.59-.52 0-1.04.2-1.43.59L10.3 9.45l-7.72 7.72c-.78.78-.78 2.05 0 2.83L4 21.41c.39.39.9.59 1.41.59.51 0 1.02-.2 1.41-.59l7.78-7.78 2.81-2.81c.8-.78.8-2.07 0-2.86zM5.41 20L4 18.59l7.72-7.72 1.47 1.35L5.41 20z\"/>\n",
              "  </svg>\n",
              "      </button>\n",
              "      \n",
              "  <style>\n",
              "    .colab-df-container {\n",
              "      display:flex;\n",
              "      flex-wrap:wrap;\n",
              "      gap: 12px;\n",
              "    }\n",
              "\n",
              "    .colab-df-convert {\n",
              "      background-color: #E8F0FE;\n",
              "      border: none;\n",
              "      border-radius: 50%;\n",
              "      cursor: pointer;\n",
              "      display: none;\n",
              "      fill: #1967D2;\n",
              "      height: 32px;\n",
              "      padding: 0 0 0 0;\n",
              "      width: 32px;\n",
              "    }\n",
              "\n",
              "    .colab-df-convert:hover {\n",
              "      background-color: #E2EBFA;\n",
              "      box-shadow: 0px 1px 2px rgba(60, 64, 67, 0.3), 0px 1px 3px 1px rgba(60, 64, 67, 0.15);\n",
              "      fill: #174EA6;\n",
              "    }\n",
              "\n",
              "    [theme=dark] .colab-df-convert {\n",
              "      background-color: #3B4455;\n",
              "      fill: #D2E3FC;\n",
              "    }\n",
              "\n",
              "    [theme=dark] .colab-df-convert:hover {\n",
              "      background-color: #434B5C;\n",
              "      box-shadow: 0px 1px 3px 1px rgba(0, 0, 0, 0.15);\n",
              "      filter: drop-shadow(0px 1px 2px rgba(0, 0, 0, 0.3));\n",
              "      fill: #FFFFFF;\n",
              "    }\n",
              "  </style>\n",
              "\n",
              "      <script>\n",
              "        const buttonEl =\n",
              "          document.querySelector('#df-656b8d74-6ac9-4bfa-9eda-e0cb40eaf5b2 button.colab-df-convert');\n",
              "        buttonEl.style.display =\n",
              "          google.colab.kernel.accessAllowed ? 'block' : 'none';\n",
              "\n",
              "        async function convertToInteractive(key) {\n",
              "          const element = document.querySelector('#df-656b8d74-6ac9-4bfa-9eda-e0cb40eaf5b2');\n",
              "          const dataTable =\n",
              "            await google.colab.kernel.invokeFunction('convertToInteractive',\n",
              "                                                     [key], {});\n",
              "          if (!dataTable) return;\n",
              "\n",
              "          const docLinkHtml = 'Like what you see? Visit the ' +\n",
              "            '<a target=\"_blank\" href=https://colab.research.google.com/notebooks/data_table.ipynb>data table notebook</a>'\n",
              "            + ' to learn more about interactive tables.';\n",
              "          element.innerHTML = '';\n",
              "          dataTable['output_type'] = 'display_data';\n",
              "          await google.colab.output.renderOutput(dataTable, element);\n",
              "          const docLink = document.createElement('div');\n",
              "          docLink.innerHTML = docLinkHtml;\n",
              "          element.appendChild(docLink);\n",
              "        }\n",
              "      </script>\n",
              "    </div>\n",
              "  </div>\n",
              "  "
            ]
          },
          "metadata": {},
          "execution_count": 29
        }
      ],
      "source": [
        "# Vemos algunos de los registros duplicados\n",
        "df_cas[df_cas.id_persona.duplicated() == True].head()"
      ]
    },
    {
      "cell_type": "code",
      "execution_count": 30,
      "metadata": {
        "colab": {
          "base_uri": "https://localhost:8080/",
          "height": 112
        },
        "id": "vZQeA1k6ZL4G",
        "outputId": "acbcf846-27a1-4e38-c48d-59efcb0fe8fb"
      },
      "outputs": [
        {
          "output_type": "execute_result",
          "data": {
            "text/plain": [
              "         id_persona  fecha_resultado  metododx  sexo  edad  departamento\n",
              "333420           47         20200711         1     1    61            25\n",
              "3201447          47         20220129         2     1    62            25"
            ],
            "text/html": [
              "\n",
              "  <div id=\"df-d4d9921e-8e07-49aa-bf85-0c68db8308c0\">\n",
              "    <div class=\"colab-df-container\">\n",
              "      <div>\n",
              "<style scoped>\n",
              "    .dataframe tbody tr th:only-of-type {\n",
              "        vertical-align: middle;\n",
              "    }\n",
              "\n",
              "    .dataframe tbody tr th {\n",
              "        vertical-align: top;\n",
              "    }\n",
              "\n",
              "    .dataframe thead th {\n",
              "        text-align: right;\n",
              "    }\n",
              "</style>\n",
              "<table border=\"1\" class=\"dataframe\">\n",
              "  <thead>\n",
              "    <tr style=\"text-align: right;\">\n",
              "      <th></th>\n",
              "      <th>id_persona</th>\n",
              "      <th>fecha_resultado</th>\n",
              "      <th>metododx</th>\n",
              "      <th>sexo</th>\n",
              "      <th>edad</th>\n",
              "      <th>departamento</th>\n",
              "    </tr>\n",
              "  </thead>\n",
              "  <tbody>\n",
              "    <tr>\n",
              "      <th>333420</th>\n",
              "      <td>47</td>\n",
              "      <td>20200711</td>\n",
              "      <td>1</td>\n",
              "      <td>1</td>\n",
              "      <td>61</td>\n",
              "      <td>25</td>\n",
              "    </tr>\n",
              "    <tr>\n",
              "      <th>3201447</th>\n",
              "      <td>47</td>\n",
              "      <td>20220129</td>\n",
              "      <td>2</td>\n",
              "      <td>1</td>\n",
              "      <td>62</td>\n",
              "      <td>25</td>\n",
              "    </tr>\n",
              "  </tbody>\n",
              "</table>\n",
              "</div>\n",
              "      <button class=\"colab-df-convert\" onclick=\"convertToInteractive('df-d4d9921e-8e07-49aa-bf85-0c68db8308c0')\"\n",
              "              title=\"Convert this dataframe to an interactive table.\"\n",
              "              style=\"display:none;\">\n",
              "        \n",
              "  <svg xmlns=\"http://www.w3.org/2000/svg\" height=\"24px\"viewBox=\"0 0 24 24\"\n",
              "       width=\"24px\">\n",
              "    <path d=\"M0 0h24v24H0V0z\" fill=\"none\"/>\n",
              "    <path d=\"M18.56 5.44l.94 2.06.94-2.06 2.06-.94-2.06-.94-.94-2.06-.94 2.06-2.06.94zm-11 1L8.5 8.5l.94-2.06 2.06-.94-2.06-.94L8.5 2.5l-.94 2.06-2.06.94zm10 10l.94 2.06.94-2.06 2.06-.94-2.06-.94-.94-2.06-.94 2.06-2.06.94z\"/><path d=\"M17.41 7.96l-1.37-1.37c-.4-.4-.92-.59-1.43-.59-.52 0-1.04.2-1.43.59L10.3 9.45l-7.72 7.72c-.78.78-.78 2.05 0 2.83L4 21.41c.39.39.9.59 1.41.59.51 0 1.02-.2 1.41-.59l7.78-7.78 2.81-2.81c.8-.78.8-2.07 0-2.86zM5.41 20L4 18.59l7.72-7.72 1.47 1.35L5.41 20z\"/>\n",
              "  </svg>\n",
              "      </button>\n",
              "      \n",
              "  <style>\n",
              "    .colab-df-container {\n",
              "      display:flex;\n",
              "      flex-wrap:wrap;\n",
              "      gap: 12px;\n",
              "    }\n",
              "\n",
              "    .colab-df-convert {\n",
              "      background-color: #E8F0FE;\n",
              "      border: none;\n",
              "      border-radius: 50%;\n",
              "      cursor: pointer;\n",
              "      display: none;\n",
              "      fill: #1967D2;\n",
              "      height: 32px;\n",
              "      padding: 0 0 0 0;\n",
              "      width: 32px;\n",
              "    }\n",
              "\n",
              "    .colab-df-convert:hover {\n",
              "      background-color: #E2EBFA;\n",
              "      box-shadow: 0px 1px 2px rgba(60, 64, 67, 0.3), 0px 1px 3px 1px rgba(60, 64, 67, 0.15);\n",
              "      fill: #174EA6;\n",
              "    }\n",
              "\n",
              "    [theme=dark] .colab-df-convert {\n",
              "      background-color: #3B4455;\n",
              "      fill: #D2E3FC;\n",
              "    }\n",
              "\n",
              "    [theme=dark] .colab-df-convert:hover {\n",
              "      background-color: #434B5C;\n",
              "      box-shadow: 0px 1px 3px 1px rgba(0, 0, 0, 0.15);\n",
              "      filter: drop-shadow(0px 1px 2px rgba(0, 0, 0, 0.3));\n",
              "      fill: #FFFFFF;\n",
              "    }\n",
              "  </style>\n",
              "\n",
              "      <script>\n",
              "        const buttonEl =\n",
              "          document.querySelector('#df-d4d9921e-8e07-49aa-bf85-0c68db8308c0 button.colab-df-convert');\n",
              "        buttonEl.style.display =\n",
              "          google.colab.kernel.accessAllowed ? 'block' : 'none';\n",
              "\n",
              "        async function convertToInteractive(key) {\n",
              "          const element = document.querySelector('#df-d4d9921e-8e07-49aa-bf85-0c68db8308c0');\n",
              "          const dataTable =\n",
              "            await google.colab.kernel.invokeFunction('convertToInteractive',\n",
              "                                                     [key], {});\n",
              "          if (!dataTable) return;\n",
              "\n",
              "          const docLinkHtml = 'Like what you see? Visit the ' +\n",
              "            '<a target=\"_blank\" href=https://colab.research.google.com/notebooks/data_table.ipynb>data table notebook</a>'\n",
              "            + ' to learn more about interactive tables.';\n",
              "          element.innerHTML = '';\n",
              "          dataTable['output_type'] = 'display_data';\n",
              "          await google.colab.output.renderOutput(dataTable, element);\n",
              "          const docLink = document.createElement('div');\n",
              "          docLink.innerHTML = docLinkHtml;\n",
              "          element.appendChild(docLink);\n",
              "        }\n",
              "      </script>\n",
              "    </div>\n",
              "  </div>\n",
              "  "
            ]
          },
          "metadata": {},
          "execution_count": 30
        }
      ],
      "source": [
        "# Comprobamos duplicados en el dataset principal de casos (df_cas)\n",
        "df_cas[df_cas['id_persona'] == 47]"
      ]
    },
    {
      "cell_type": "markdown",
      "metadata": {
        "id": "ulQDkoplaWcY"
      },
      "source": [
        "En este último caso el **id_persona** número **47** dió positivo a COVID-19 dos veces. La primera el 2020-07-11 y la segunda en 2022-01-29. \n",
        "\n",
        "Para el motivo del estudio se necesita información de UNA SOLA PERSONA, por lo que se decide eliminar estos casos de reinfecciones y conservar solamente la última vez que dió positivo. \n",
        "\n",
        "Estos duplicados representan varios contagios de la misma persona, sin embargo se toman como un nuevo contagio en la base de datos original."
      ]
    },
    {
      "cell_type": "code",
      "execution_count": 31,
      "metadata": {
        "id": "8thiBTtOa976"
      },
      "outputs": [],
      "source": [
        "# Eliminamos los duplicados\n",
        "df_cas = df_cas.drop_duplicates('id_persona', keep='last') \\\n",
        "               .sort_values(by = ['fecha_resultado']) \\\n",
        "               .reset_index(drop = True)"
      ]
    },
    {
      "cell_type": "code",
      "execution_count": 32,
      "metadata": {
        "colab": {
          "base_uri": "https://localhost:8080/",
          "height": 206
        },
        "id": "VjJOB98GcXdg",
        "outputId": "fdc2ebda-a05b-4e69-8d6e-3088413821fe"
      },
      "outputs": [
        {
          "output_type": "execute_result",
          "data": {
            "text/plain": [
              "   id_persona  fecha_resultado  metododx  sexo  edad  departamento\n",
              "0    13708801         20200309         2     2    15            10\n",
              "1     2020432         20200310         2     1    46            15\n",
              "2     7979960         20200311         2     2    21            15\n",
              "3     5493803         20200311         2     2    28            15\n",
              "4    36611013         20200312         2     1    78            15"
            ],
            "text/html": [
              "\n",
              "  <div id=\"df-f2629c5c-d570-469c-9e79-0c1d19caf3ab\">\n",
              "    <div class=\"colab-df-container\">\n",
              "      <div>\n",
              "<style scoped>\n",
              "    .dataframe tbody tr th:only-of-type {\n",
              "        vertical-align: middle;\n",
              "    }\n",
              "\n",
              "    .dataframe tbody tr th {\n",
              "        vertical-align: top;\n",
              "    }\n",
              "\n",
              "    .dataframe thead th {\n",
              "        text-align: right;\n",
              "    }\n",
              "</style>\n",
              "<table border=\"1\" class=\"dataframe\">\n",
              "  <thead>\n",
              "    <tr style=\"text-align: right;\">\n",
              "      <th></th>\n",
              "      <th>id_persona</th>\n",
              "      <th>fecha_resultado</th>\n",
              "      <th>metododx</th>\n",
              "      <th>sexo</th>\n",
              "      <th>edad</th>\n",
              "      <th>departamento</th>\n",
              "    </tr>\n",
              "  </thead>\n",
              "  <tbody>\n",
              "    <tr>\n",
              "      <th>0</th>\n",
              "      <td>13708801</td>\n",
              "      <td>20200309</td>\n",
              "      <td>2</td>\n",
              "      <td>2</td>\n",
              "      <td>15</td>\n",
              "      <td>10</td>\n",
              "    </tr>\n",
              "    <tr>\n",
              "      <th>1</th>\n",
              "      <td>2020432</td>\n",
              "      <td>20200310</td>\n",
              "      <td>2</td>\n",
              "      <td>1</td>\n",
              "      <td>46</td>\n",
              "      <td>15</td>\n",
              "    </tr>\n",
              "    <tr>\n",
              "      <th>2</th>\n",
              "      <td>7979960</td>\n",
              "      <td>20200311</td>\n",
              "      <td>2</td>\n",
              "      <td>2</td>\n",
              "      <td>21</td>\n",
              "      <td>15</td>\n",
              "    </tr>\n",
              "    <tr>\n",
              "      <th>3</th>\n",
              "      <td>5493803</td>\n",
              "      <td>20200311</td>\n",
              "      <td>2</td>\n",
              "      <td>2</td>\n",
              "      <td>28</td>\n",
              "      <td>15</td>\n",
              "    </tr>\n",
              "    <tr>\n",
              "      <th>4</th>\n",
              "      <td>36611013</td>\n",
              "      <td>20200312</td>\n",
              "      <td>2</td>\n",
              "      <td>1</td>\n",
              "      <td>78</td>\n",
              "      <td>15</td>\n",
              "    </tr>\n",
              "  </tbody>\n",
              "</table>\n",
              "</div>\n",
              "      <button class=\"colab-df-convert\" onclick=\"convertToInteractive('df-f2629c5c-d570-469c-9e79-0c1d19caf3ab')\"\n",
              "              title=\"Convert this dataframe to an interactive table.\"\n",
              "              style=\"display:none;\">\n",
              "        \n",
              "  <svg xmlns=\"http://www.w3.org/2000/svg\" height=\"24px\"viewBox=\"0 0 24 24\"\n",
              "       width=\"24px\">\n",
              "    <path d=\"M0 0h24v24H0V0z\" fill=\"none\"/>\n",
              "    <path d=\"M18.56 5.44l.94 2.06.94-2.06 2.06-.94-2.06-.94-.94-2.06-.94 2.06-2.06.94zm-11 1L8.5 8.5l.94-2.06 2.06-.94-2.06-.94L8.5 2.5l-.94 2.06-2.06.94zm10 10l.94 2.06.94-2.06 2.06-.94-2.06-.94-.94-2.06-.94 2.06-2.06.94z\"/><path d=\"M17.41 7.96l-1.37-1.37c-.4-.4-.92-.59-1.43-.59-.52 0-1.04.2-1.43.59L10.3 9.45l-7.72 7.72c-.78.78-.78 2.05 0 2.83L4 21.41c.39.39.9.59 1.41.59.51 0 1.02-.2 1.41-.59l7.78-7.78 2.81-2.81c.8-.78.8-2.07 0-2.86zM5.41 20L4 18.59l7.72-7.72 1.47 1.35L5.41 20z\"/>\n",
              "  </svg>\n",
              "      </button>\n",
              "      \n",
              "  <style>\n",
              "    .colab-df-container {\n",
              "      display:flex;\n",
              "      flex-wrap:wrap;\n",
              "      gap: 12px;\n",
              "    }\n",
              "\n",
              "    .colab-df-convert {\n",
              "      background-color: #E8F0FE;\n",
              "      border: none;\n",
              "      border-radius: 50%;\n",
              "      cursor: pointer;\n",
              "      display: none;\n",
              "      fill: #1967D2;\n",
              "      height: 32px;\n",
              "      padding: 0 0 0 0;\n",
              "      width: 32px;\n",
              "    }\n",
              "\n",
              "    .colab-df-convert:hover {\n",
              "      background-color: #E2EBFA;\n",
              "      box-shadow: 0px 1px 2px rgba(60, 64, 67, 0.3), 0px 1px 3px 1px rgba(60, 64, 67, 0.15);\n",
              "      fill: #174EA6;\n",
              "    }\n",
              "\n",
              "    [theme=dark] .colab-df-convert {\n",
              "      background-color: #3B4455;\n",
              "      fill: #D2E3FC;\n",
              "    }\n",
              "\n",
              "    [theme=dark] .colab-df-convert:hover {\n",
              "      background-color: #434B5C;\n",
              "      box-shadow: 0px 1px 3px 1px rgba(0, 0, 0, 0.15);\n",
              "      filter: drop-shadow(0px 1px 2px rgba(0, 0, 0, 0.3));\n",
              "      fill: #FFFFFF;\n",
              "    }\n",
              "  </style>\n",
              "\n",
              "      <script>\n",
              "        const buttonEl =\n",
              "          document.querySelector('#df-f2629c5c-d570-469c-9e79-0c1d19caf3ab button.colab-df-convert');\n",
              "        buttonEl.style.display =\n",
              "          google.colab.kernel.accessAllowed ? 'block' : 'none';\n",
              "\n",
              "        async function convertToInteractive(key) {\n",
              "          const element = document.querySelector('#df-f2629c5c-d570-469c-9e79-0c1d19caf3ab');\n",
              "          const dataTable =\n",
              "            await google.colab.kernel.invokeFunction('convertToInteractive',\n",
              "                                                     [key], {});\n",
              "          if (!dataTable) return;\n",
              "\n",
              "          const docLinkHtml = 'Like what you see? Visit the ' +\n",
              "            '<a target=\"_blank\" href=https://colab.research.google.com/notebooks/data_table.ipynb>data table notebook</a>'\n",
              "            + ' to learn more about interactive tables.';\n",
              "          element.innerHTML = '';\n",
              "          dataTable['output_type'] = 'display_data';\n",
              "          await google.colab.output.renderOutput(dataTable, element);\n",
              "          const docLink = document.createElement('div');\n",
              "          docLink.innerHTML = docLinkHtml;\n",
              "          element.appendChild(docLink);\n",
              "        }\n",
              "      </script>\n",
              "    </div>\n",
              "  </div>\n",
              "  "
            ]
          },
          "metadata": {},
          "execution_count": 32
        }
      ],
      "source": [
        "df_cas.head()"
      ]
    },
    {
      "cell_type": "code",
      "execution_count": 33,
      "metadata": {
        "colab": {
          "base_uri": "https://localhost:8080/"
        },
        "id": "g8fEAEYNcdyz",
        "outputId": "6b07a385-68a1-42aa-b5cc-04142d0a7d78"
      },
      "outputs": [
        {
          "output_type": "execute_result",
          "data": {
            "text/plain": [
              "3274218"
            ]
          },
          "metadata": {},
          "execution_count": 33
        }
      ],
      "source": [
        "# TOTAL de casos positivos con un id único para cada persona (sin registros duplicados)\n",
        "len(df_cas)"
      ]
    },
    {
      "cell_type": "code",
      "source": [
        "print(f'Casos de reinfecciones eliminados: {n - len(df_cas):10}')\n",
        "print(f'Número de casos positivos: {len(df_cas):10} ')\n",
        "n = len(df_cas)"
      ],
      "metadata": {
        "colab": {
          "base_uri": "https://localhost:8080/"
        },
        "id": "b0oFbfWgjQqZ",
        "outputId": "80790fde-0dc0-470e-94f0-958dd8ac259f"
      },
      "execution_count": 34,
      "outputs": [
        {
          "output_type": "stream",
          "name": "stdout",
          "text": [
            "Casos de reinfecciones eliminados:     231583\n",
            "Número de casos positivos:    3274218 \n"
          ]
        }
      ]
    },
    {
      "cell_type": "markdown",
      "metadata": {
        "id": "Qw_F-6BxbY3_"
      },
      "source": [
        "### 2.5 Dataset de fallecidos"
      ]
    },
    {
      "cell_type": "markdown",
      "metadata": {
        "id": "fw1LO_TAdy-v"
      },
      "source": [
        "#### 2.5.1 Leer dataset"
      ]
    },
    {
      "cell_type": "code",
      "execution_count": 35,
      "metadata": {
        "id": "rstzSXLLbY3_"
      },
      "outputs": [],
      "source": [
        "# Leer el dataset\n",
        "url_fal = 'fallecidos_covid.csv'\n",
        "col_fal = ['FECHA_FALLECIMIENTO', 'UUID', 'SEXO', 'EDAD_DECLARADA', 'DEPARTAMENTO']\n",
        "df_fal = pd.read_csv(url_fal, sep = ';', usecols= col_fal, dtype = {'FECHA_FALLECIMIENTO':'int32'}, low_memory=False)"
      ]
    },
    {
      "cell_type": "code",
      "execution_count": 36,
      "metadata": {
        "colab": {
          "base_uri": "https://localhost:8080/",
          "height": 206
        },
        "id": "m0GmDUhGbY4A",
        "outputId": "50ccb18f-8060-489b-91b8-cac5951edae1"
      },
      "outputs": [
        {
          "output_type": "execute_result",
          "data": {
            "text/plain": [
              "   FECHA_FALLECIMIENTO  EDAD_DECLARADA       SEXO DEPARTAMENTO        UUID\n",
              "0             20210512              88   FEMENINO     AREQUIPA  13889730.0\n",
              "1             20210401              72   FEMENINO     AREQUIPA  13889746.0\n",
              "2             20210624              58  MASCULINO     AREQUIPA  13889749.0\n",
              "3             20210426              84  MASCULINO  LA LIBERTAD  13889932.0\n",
              "4             20210315              64  MASCULINO  LA LIBERTAD  13889956.0"
            ],
            "text/html": [
              "\n",
              "  <div id=\"df-18f0b184-32f9-4654-98fa-b4480b16b50a\">\n",
              "    <div class=\"colab-df-container\">\n",
              "      <div>\n",
              "<style scoped>\n",
              "    .dataframe tbody tr th:only-of-type {\n",
              "        vertical-align: middle;\n",
              "    }\n",
              "\n",
              "    .dataframe tbody tr th {\n",
              "        vertical-align: top;\n",
              "    }\n",
              "\n",
              "    .dataframe thead th {\n",
              "        text-align: right;\n",
              "    }\n",
              "</style>\n",
              "<table border=\"1\" class=\"dataframe\">\n",
              "  <thead>\n",
              "    <tr style=\"text-align: right;\">\n",
              "      <th></th>\n",
              "      <th>FECHA_FALLECIMIENTO</th>\n",
              "      <th>EDAD_DECLARADA</th>\n",
              "      <th>SEXO</th>\n",
              "      <th>DEPARTAMENTO</th>\n",
              "      <th>UUID</th>\n",
              "    </tr>\n",
              "  </thead>\n",
              "  <tbody>\n",
              "    <tr>\n",
              "      <th>0</th>\n",
              "      <td>20210512</td>\n",
              "      <td>88</td>\n",
              "      <td>FEMENINO</td>\n",
              "      <td>AREQUIPA</td>\n",
              "      <td>13889730.0</td>\n",
              "    </tr>\n",
              "    <tr>\n",
              "      <th>1</th>\n",
              "      <td>20210401</td>\n",
              "      <td>72</td>\n",
              "      <td>FEMENINO</td>\n",
              "      <td>AREQUIPA</td>\n",
              "      <td>13889746.0</td>\n",
              "    </tr>\n",
              "    <tr>\n",
              "      <th>2</th>\n",
              "      <td>20210624</td>\n",
              "      <td>58</td>\n",
              "      <td>MASCULINO</td>\n",
              "      <td>AREQUIPA</td>\n",
              "      <td>13889749.0</td>\n",
              "    </tr>\n",
              "    <tr>\n",
              "      <th>3</th>\n",
              "      <td>20210426</td>\n",
              "      <td>84</td>\n",
              "      <td>MASCULINO</td>\n",
              "      <td>LA LIBERTAD</td>\n",
              "      <td>13889932.0</td>\n",
              "    </tr>\n",
              "    <tr>\n",
              "      <th>4</th>\n",
              "      <td>20210315</td>\n",
              "      <td>64</td>\n",
              "      <td>MASCULINO</td>\n",
              "      <td>LA LIBERTAD</td>\n",
              "      <td>13889956.0</td>\n",
              "    </tr>\n",
              "  </tbody>\n",
              "</table>\n",
              "</div>\n",
              "      <button class=\"colab-df-convert\" onclick=\"convertToInteractive('df-18f0b184-32f9-4654-98fa-b4480b16b50a')\"\n",
              "              title=\"Convert this dataframe to an interactive table.\"\n",
              "              style=\"display:none;\">\n",
              "        \n",
              "  <svg xmlns=\"http://www.w3.org/2000/svg\" height=\"24px\"viewBox=\"0 0 24 24\"\n",
              "       width=\"24px\">\n",
              "    <path d=\"M0 0h24v24H0V0z\" fill=\"none\"/>\n",
              "    <path d=\"M18.56 5.44l.94 2.06.94-2.06 2.06-.94-2.06-.94-.94-2.06-.94 2.06-2.06.94zm-11 1L8.5 8.5l.94-2.06 2.06-.94-2.06-.94L8.5 2.5l-.94 2.06-2.06.94zm10 10l.94 2.06.94-2.06 2.06-.94-2.06-.94-.94-2.06-.94 2.06-2.06.94z\"/><path d=\"M17.41 7.96l-1.37-1.37c-.4-.4-.92-.59-1.43-.59-.52 0-1.04.2-1.43.59L10.3 9.45l-7.72 7.72c-.78.78-.78 2.05 0 2.83L4 21.41c.39.39.9.59 1.41.59.51 0 1.02-.2 1.41-.59l7.78-7.78 2.81-2.81c.8-.78.8-2.07 0-2.86zM5.41 20L4 18.59l7.72-7.72 1.47 1.35L5.41 20z\"/>\n",
              "  </svg>\n",
              "      </button>\n",
              "      \n",
              "  <style>\n",
              "    .colab-df-container {\n",
              "      display:flex;\n",
              "      flex-wrap:wrap;\n",
              "      gap: 12px;\n",
              "    }\n",
              "\n",
              "    .colab-df-convert {\n",
              "      background-color: #E8F0FE;\n",
              "      border: none;\n",
              "      border-radius: 50%;\n",
              "      cursor: pointer;\n",
              "      display: none;\n",
              "      fill: #1967D2;\n",
              "      height: 32px;\n",
              "      padding: 0 0 0 0;\n",
              "      width: 32px;\n",
              "    }\n",
              "\n",
              "    .colab-df-convert:hover {\n",
              "      background-color: #E2EBFA;\n",
              "      box-shadow: 0px 1px 2px rgba(60, 64, 67, 0.3), 0px 1px 3px 1px rgba(60, 64, 67, 0.15);\n",
              "      fill: #174EA6;\n",
              "    }\n",
              "\n",
              "    [theme=dark] .colab-df-convert {\n",
              "      background-color: #3B4455;\n",
              "      fill: #D2E3FC;\n",
              "    }\n",
              "\n",
              "    [theme=dark] .colab-df-convert:hover {\n",
              "      background-color: #434B5C;\n",
              "      box-shadow: 0px 1px 3px 1px rgba(0, 0, 0, 0.15);\n",
              "      filter: drop-shadow(0px 1px 2px rgba(0, 0, 0, 0.3));\n",
              "      fill: #FFFFFF;\n",
              "    }\n",
              "  </style>\n",
              "\n",
              "      <script>\n",
              "        const buttonEl =\n",
              "          document.querySelector('#df-18f0b184-32f9-4654-98fa-b4480b16b50a button.colab-df-convert');\n",
              "        buttonEl.style.display =\n",
              "          google.colab.kernel.accessAllowed ? 'block' : 'none';\n",
              "\n",
              "        async function convertToInteractive(key) {\n",
              "          const element = document.querySelector('#df-18f0b184-32f9-4654-98fa-b4480b16b50a');\n",
              "          const dataTable =\n",
              "            await google.colab.kernel.invokeFunction('convertToInteractive',\n",
              "                                                     [key], {});\n",
              "          if (!dataTable) return;\n",
              "\n",
              "          const docLinkHtml = 'Like what you see? Visit the ' +\n",
              "            '<a target=\"_blank\" href=https://colab.research.google.com/notebooks/data_table.ipynb>data table notebook</a>'\n",
              "            + ' to learn more about interactive tables.';\n",
              "          element.innerHTML = '';\n",
              "          dataTable['output_type'] = 'display_data';\n",
              "          await google.colab.output.renderOutput(dataTable, element);\n",
              "          const docLink = document.createElement('div');\n",
              "          docLink.innerHTML = docLinkHtml;\n",
              "          element.appendChild(docLink);\n",
              "        }\n",
              "      </script>\n",
              "    </div>\n",
              "  </div>\n",
              "  "
            ]
          },
          "metadata": {},
          "execution_count": 36
        }
      ],
      "source": [
        "df_fal.head()"
      ]
    },
    {
      "cell_type": "code",
      "execution_count": 37,
      "metadata": {
        "colab": {
          "base_uri": "https://localhost:8080/"
        },
        "id": "i1vLFZYZbY4A",
        "outputId": "cde1680a-e5ab-4db1-a14b-bc24e2e156a6"
      },
      "outputs": [
        {
          "output_type": "execute_result",
          "data": {
            "text/plain": [
              "213040"
            ]
          },
          "metadata": {},
          "execution_count": 37
        }
      ],
      "source": [
        "n = len(df_fal)  # TOTAL de fallecidos por COVID-19\n",
        "n"
      ]
    },
    {
      "cell_type": "markdown",
      "metadata": {
        "id": "qyEvRL8Zd361"
      },
      "source": [
        "#### 2.5.2 Tratamiento de datos (Data cleaning)"
      ]
    },
    {
      "cell_type": "code",
      "execution_count": 38,
      "metadata": {
        "colab": {
          "base_uri": "https://localhost:8080/"
        },
        "id": "WYdDelHkDWOI",
        "outputId": "fb7c8408-a82e-4399-f719-2283440d103e"
      },
      "outputs": [
        {
          "output_type": "execute_result",
          "data": {
            "text/plain": [
              "FECHA_FALLECIMIENTO       0\n",
              "EDAD_DECLARADA            0\n",
              "SEXO                      0\n",
              "DEPARTAMENTO              0\n",
              "UUID                   2603\n",
              "dtype: int64"
            ]
          },
          "metadata": {},
          "execution_count": 38
        }
      ],
      "source": [
        "df_fal.isnull().sum()  # Total de 'missing values' por columna"
      ]
    },
    {
      "cell_type": "code",
      "execution_count": 39,
      "metadata": {
        "colab": {
          "base_uri": "https://localhost:8080/"
        },
        "id": "TVrD3-zmbY4B",
        "outputId": "9868a80c-1b43-4871-af47-26a1742f550b"
      },
      "outputs": [
        {
          "output_type": "execute_result",
          "data": {
            "text/plain": [
              "FECHA_FALLECIMIENTO    0\n",
              "EDAD_DECLARADA         0\n",
              "SEXO                   0\n",
              "DEPARTAMENTO           0\n",
              "UUID                   0\n",
              "dtype: int64"
            ]
          },
          "metadata": {},
          "execution_count": 39
        }
      ],
      "source": [
        "df_fal = df_fal.dropna()  # Remover casos con información faltante\n",
        "df_fal.isnull().sum()  # Total de 'missing values' por columna"
      ]
    },
    {
      "cell_type": "code",
      "execution_count": 40,
      "metadata": {
        "colab": {
          "base_uri": "https://localhost:8080/"
        },
        "id": "tg5hSK8F6x0O",
        "outputId": "e4d0e888-c767-40ae-dd23-f824b6479aeb"
      },
      "outputs": [
        {
          "output_type": "stream",
          "name": "stdout",
          "text": [
            "TOTAL de casos fallecidos con missing values:       2603\n",
            "Número de fallecidos:     210437\n"
          ]
        }
      ],
      "source": [
        "print(f'TOTAL de casos fallecidos con missing values: {n - len(df_fal):10}')\n",
        "print(f'Número de fallecidos: {len(df_fal):10}')\n",
        "n = len(df_fal)"
      ]
    },
    {
      "cell_type": "code",
      "execution_count": 41,
      "metadata": {
        "id": "1mMq0eGwsz2a"
      },
      "outputs": [],
      "source": [
        "# Renombrar columnas\n",
        "df_fal.rename(columns = {\n",
        "    'FECHA_FALLECIMIENTO':'fecha_fallecimiento',\n",
        "    'UUID':'id_persona',\n",
        "    'SEXO': 'sexo', \n",
        "    'EDAD_DECLARADA': 'edad',\n",
        "    'DEPARTAMENTO': 'departamento'\n",
        "    }, inplace=True)"
      ]
    },
    {
      "cell_type": "code",
      "execution_count": 42,
      "metadata": {
        "colab": {
          "base_uri": "https://localhost:8080/"
        },
        "id": "Ga87oO3XsIrB",
        "outputId": "7d83850a-a7c9-4c68-8dd3-9291241242ca"
      },
      "outputs": [
        {
          "output_type": "stream",
          "name": "stdout",
          "text": [
            "Edad (años): no_casos\n",
            "\n",
            "     0: 138         25: 248        50: 2588        75: 5132       100: 128   \n",
            "     1: 134         26: 275        51: 2741        76: 4993        101: 87   \n",
            "      2: 75         27: 339        52: 2850        77: 4781        102: 54   \n",
            "      3: 51         28: 323        53: 3148        78: 4640        103: 30   \n",
            "      4: 55         29: 344        54: 3486        79: 4276        104: 18   \n",
            "      5: 47         30: 409        55: 3753        80: 4365         105: 6   \n",
            "      6: 46         31: 420        56: 3791        81: 4051        106: 12   \n",
            "      7: 51         32: 568        57: 4061        82: 4113         107: 3   \n",
            "      8: 47         33: 622        58: 4115        83: 3813         108: 6   \n",
            "      9: 54         34: 647        59: 4377        84: 3689         109: 1   \n",
            "     10: 54         35: 658        60: 4683        85: 3481         110: 2   \n",
            "     11: 56         36: 690        61: 5145        86: 3101         113: 2   \n",
            "     12: 47         37: 847        62: 5027        87: 2942         117: 1   \n",
            "     13: 54         38: 979        63: 5155        88: 2634              None\n",
            "     14: 59        39: 1072        64: 5206        89: 2318              None\n",
            "     15: 58        40: 1089        65: 5503        90: 2077              None\n",
            "     16: 81        41: 1272        66: 5619        91: 1679              None\n",
            "     17: 85        42: 1372        67: 5530        92: 1499              None\n",
            "     18: 97        43: 1513        68: 5493        93: 1184              None\n",
            "    19: 123        44: 1688        69: 5326         94: 892              None\n",
            "    20: 125        45: 1802        70: 5417         95: 666              None\n",
            "    21: 179        46: 1877        71: 5213         96: 565              None\n",
            "    22: 167        47: 2056        72: 5355         97: 373              None\n",
            "    23: 194        48: 2269        73: 5365         98: 299              None\n",
            "    24: 222        49: 2432        74: 5247         99: 220              None\n"
          ]
        }
      ],
      "source": [
        "# Analizar columna EDAD\n",
        "edadCasos = df_fal['edad'].value_counts()\n",
        "\n",
        "print('Edad (años): no_casos\\n')\n",
        "lst = []\n",
        "\n",
        "for idx, edad in enumerate(edadCasos):\n",
        "    index = edadCasos.index\n",
        "    lst.append(f'{index[idx]:6}: {edad}   ')\n",
        "    \n",
        "lst = sorted(lst)\n",
        "chunks = [lst[x:x+25] for x in range(0, len(lst), 25)]\n",
        "res = pd.DataFrame.from_records(chunks).transpose()\n",
        "\n",
        "print(res.to_string(index=False, header=False))"
      ]
    },
    {
      "cell_type": "code",
      "execution_count": 43,
      "metadata": {
        "colab": {
          "base_uri": "https://localhost:8080/"
        },
        "id": "gnTHajPhtqJU",
        "outputId": "52681cbf-bf6f-4905-cb11-bfa2d7498da9"
      },
      "outputs": [
        {
          "output_type": "execute_result",
          "data": {
            "text/plain": [
              "FEMENINO      77060\n",
              "MASCULINO    133377\n",
              "Name: sexo, dtype: int64"
            ]
          },
          "metadata": {},
          "execution_count": 43
        }
      ],
      "source": [
        "df_fal['sexo'].value_counts().sort_index()  # Analizar columna SEXO"
      ]
    },
    {
      "cell_type": "code",
      "execution_count": 44,
      "metadata": {
        "id": "MKVSJI3CuHgb"
      },
      "outputs": [],
      "source": [
        "# Reemplazar sexo con un code\n",
        "df_fal['sexo'].replace(dic_sex, inplace=True)\n",
        "df_fal['sexo'] = df_fal['sexo'].astype('int8')"
      ]
    },
    {
      "cell_type": "code",
      "execution_count": 45,
      "metadata": {
        "colab": {
          "base_uri": "https://localhost:8080/"
        },
        "id": "3DViNfUl4qSI",
        "outputId": "e842fcea-d1db-43eb-e78e-15de4a382d11"
      },
      "outputs": [
        {
          "output_type": "execute_result",
          "data": {
            "text/plain": [
              "AMAZONAS          1318\n",
              "ANCASH            7115\n",
              "APURIMAC          1629\n",
              "AREQUIPA         10271\n",
              "AYACUCHO          2321\n",
              "CAJAMARCA         4452\n",
              "CALLAO           10388\n",
              "CUSCO             5147\n",
              "HUANCAVELICA      1266\n",
              "HUANUCO           2871\n",
              "ICA               8883\n",
              "JUNIN             7438\n",
              "LA LIBERTAD      10796\n",
              "LAMBAYEQUE        8988\n",
              "LIMA             92051\n",
              "LORETO            4176\n",
              "MADRE DE DIOS      848\n",
              "MOQUEGUA          1614\n",
              "PASCO             1092\n",
              "PIURA            12934\n",
              "PUNO              4762\n",
              "SAN MARTIN        3140\n",
              "TACNA             2118\n",
              "TUMBES            1677\n",
              "UCAYALI           3142\n",
              "Name: departamento, dtype: int64"
            ]
          },
          "metadata": {},
          "execution_count": 45
        }
      ],
      "source": [
        "df_fal['departamento'].value_counts().sort_index()  # Analizar columna DEPARTAMENTO"
      ]
    },
    {
      "cell_type": "code",
      "execution_count": 46,
      "metadata": {
        "id": "vaHuzvgibY4B"
      },
      "outputs": [],
      "source": [
        "# Codificar variable departamento y cambiar 'data types'\n",
        "df_fal['departamento'] = df_fal['departamento'].map(dic_dep)\n",
        "df_fal['departamento'] = df_fal['departamento'].astype('int8')\n",
        "\n",
        "# Nombrar a todos los casos de fallecimientos con un identificador\n",
        "df_fal['fallecido'] = 1\n",
        "\n",
        "# Cambiar de data type para reducir tamaño\n",
        "df_fal = df_fal.astype({'id_persona': 'int32', 'fallecido': 'int8', 'sexo': 'int8', 'edad': 'int8',\n",
        "                        'fecha_fallecimiento': 'int32'})\n",
        "\n",
        "# Transformar a formato fecha para operar los días más adelante\n",
        "df_fal['fecha_fal'] = pd.to_datetime(df_fal['fecha_fallecimiento'], format = '%Y%m%d')\n",
        "\n",
        "# Agregar la semana epidemiológica y el año\n",
        "df_fal[['year','epi_week']] = df_fal['fecha_fal'].apply(lambda date : Week.fromdate(date).weektuple()).tolist()"
      ]
    },
    {
      "cell_type": "code",
      "execution_count": 47,
      "metadata": {
        "colab": {
          "base_uri": "https://localhost:8080/",
          "height": 206
        },
        "id": "0lk7F17PvOnP",
        "outputId": "14cc73ba-000b-4d89-fa5a-e982b4281104"
      },
      "outputs": [
        {
          "output_type": "execute_result",
          "data": {
            "text/plain": [
              "   fecha_fallecimiento  edad  sexo  departamento  id_persona  fallecido  \\\n",
              "0             20210512    88     2             4    13889730          1   \n",
              "1             20210401    72     2             4    13889746          1   \n",
              "2             20210624    58     1             4    13889749          1   \n",
              "3             20210426    84     1            13    13889932          1   \n",
              "4             20210315    64     1            13    13889956          1   \n",
              "\n",
              "   fecha_fal  year  epi_week  \n",
              "0 2021-05-12  2021        19  \n",
              "1 2021-04-01  2021        13  \n",
              "2 2021-06-24  2021        25  \n",
              "3 2021-04-26  2021        17  \n",
              "4 2021-03-15  2021        11  "
            ],
            "text/html": [
              "\n",
              "  <div id=\"df-0b27cd75-6ee3-4757-8753-10d91d1826c5\">\n",
              "    <div class=\"colab-df-container\">\n",
              "      <div>\n",
              "<style scoped>\n",
              "    .dataframe tbody tr th:only-of-type {\n",
              "        vertical-align: middle;\n",
              "    }\n",
              "\n",
              "    .dataframe tbody tr th {\n",
              "        vertical-align: top;\n",
              "    }\n",
              "\n",
              "    .dataframe thead th {\n",
              "        text-align: right;\n",
              "    }\n",
              "</style>\n",
              "<table border=\"1\" class=\"dataframe\">\n",
              "  <thead>\n",
              "    <tr style=\"text-align: right;\">\n",
              "      <th></th>\n",
              "      <th>fecha_fallecimiento</th>\n",
              "      <th>edad</th>\n",
              "      <th>sexo</th>\n",
              "      <th>departamento</th>\n",
              "      <th>id_persona</th>\n",
              "      <th>fallecido</th>\n",
              "      <th>fecha_fal</th>\n",
              "      <th>year</th>\n",
              "      <th>epi_week</th>\n",
              "    </tr>\n",
              "  </thead>\n",
              "  <tbody>\n",
              "    <tr>\n",
              "      <th>0</th>\n",
              "      <td>20210512</td>\n",
              "      <td>88</td>\n",
              "      <td>2</td>\n",
              "      <td>4</td>\n",
              "      <td>13889730</td>\n",
              "      <td>1</td>\n",
              "      <td>2021-05-12</td>\n",
              "      <td>2021</td>\n",
              "      <td>19</td>\n",
              "    </tr>\n",
              "    <tr>\n",
              "      <th>1</th>\n",
              "      <td>20210401</td>\n",
              "      <td>72</td>\n",
              "      <td>2</td>\n",
              "      <td>4</td>\n",
              "      <td>13889746</td>\n",
              "      <td>1</td>\n",
              "      <td>2021-04-01</td>\n",
              "      <td>2021</td>\n",
              "      <td>13</td>\n",
              "    </tr>\n",
              "    <tr>\n",
              "      <th>2</th>\n",
              "      <td>20210624</td>\n",
              "      <td>58</td>\n",
              "      <td>1</td>\n",
              "      <td>4</td>\n",
              "      <td>13889749</td>\n",
              "      <td>1</td>\n",
              "      <td>2021-06-24</td>\n",
              "      <td>2021</td>\n",
              "      <td>25</td>\n",
              "    </tr>\n",
              "    <tr>\n",
              "      <th>3</th>\n",
              "      <td>20210426</td>\n",
              "      <td>84</td>\n",
              "      <td>1</td>\n",
              "      <td>13</td>\n",
              "      <td>13889932</td>\n",
              "      <td>1</td>\n",
              "      <td>2021-04-26</td>\n",
              "      <td>2021</td>\n",
              "      <td>17</td>\n",
              "    </tr>\n",
              "    <tr>\n",
              "      <th>4</th>\n",
              "      <td>20210315</td>\n",
              "      <td>64</td>\n",
              "      <td>1</td>\n",
              "      <td>13</td>\n",
              "      <td>13889956</td>\n",
              "      <td>1</td>\n",
              "      <td>2021-03-15</td>\n",
              "      <td>2021</td>\n",
              "      <td>11</td>\n",
              "    </tr>\n",
              "  </tbody>\n",
              "</table>\n",
              "</div>\n",
              "      <button class=\"colab-df-convert\" onclick=\"convertToInteractive('df-0b27cd75-6ee3-4757-8753-10d91d1826c5')\"\n",
              "              title=\"Convert this dataframe to an interactive table.\"\n",
              "              style=\"display:none;\">\n",
              "        \n",
              "  <svg xmlns=\"http://www.w3.org/2000/svg\" height=\"24px\"viewBox=\"0 0 24 24\"\n",
              "       width=\"24px\">\n",
              "    <path d=\"M0 0h24v24H0V0z\" fill=\"none\"/>\n",
              "    <path d=\"M18.56 5.44l.94 2.06.94-2.06 2.06-.94-2.06-.94-.94-2.06-.94 2.06-2.06.94zm-11 1L8.5 8.5l.94-2.06 2.06-.94-2.06-.94L8.5 2.5l-.94 2.06-2.06.94zm10 10l.94 2.06.94-2.06 2.06-.94-2.06-.94-.94-2.06-.94 2.06-2.06.94z\"/><path d=\"M17.41 7.96l-1.37-1.37c-.4-.4-.92-.59-1.43-.59-.52 0-1.04.2-1.43.59L10.3 9.45l-7.72 7.72c-.78.78-.78 2.05 0 2.83L4 21.41c.39.39.9.59 1.41.59.51 0 1.02-.2 1.41-.59l7.78-7.78 2.81-2.81c.8-.78.8-2.07 0-2.86zM5.41 20L4 18.59l7.72-7.72 1.47 1.35L5.41 20z\"/>\n",
              "  </svg>\n",
              "      </button>\n",
              "      \n",
              "  <style>\n",
              "    .colab-df-container {\n",
              "      display:flex;\n",
              "      flex-wrap:wrap;\n",
              "      gap: 12px;\n",
              "    }\n",
              "\n",
              "    .colab-df-convert {\n",
              "      background-color: #E8F0FE;\n",
              "      border: none;\n",
              "      border-radius: 50%;\n",
              "      cursor: pointer;\n",
              "      display: none;\n",
              "      fill: #1967D2;\n",
              "      height: 32px;\n",
              "      padding: 0 0 0 0;\n",
              "      width: 32px;\n",
              "    }\n",
              "\n",
              "    .colab-df-convert:hover {\n",
              "      background-color: #E2EBFA;\n",
              "      box-shadow: 0px 1px 2px rgba(60, 64, 67, 0.3), 0px 1px 3px 1px rgba(60, 64, 67, 0.15);\n",
              "      fill: #174EA6;\n",
              "    }\n",
              "\n",
              "    [theme=dark] .colab-df-convert {\n",
              "      background-color: #3B4455;\n",
              "      fill: #D2E3FC;\n",
              "    }\n",
              "\n",
              "    [theme=dark] .colab-df-convert:hover {\n",
              "      background-color: #434B5C;\n",
              "      box-shadow: 0px 1px 3px 1px rgba(0, 0, 0, 0.15);\n",
              "      filter: drop-shadow(0px 1px 2px rgba(0, 0, 0, 0.3));\n",
              "      fill: #FFFFFF;\n",
              "    }\n",
              "  </style>\n",
              "\n",
              "      <script>\n",
              "        const buttonEl =\n",
              "          document.querySelector('#df-0b27cd75-6ee3-4757-8753-10d91d1826c5 button.colab-df-convert');\n",
              "        buttonEl.style.display =\n",
              "          google.colab.kernel.accessAllowed ? 'block' : 'none';\n",
              "\n",
              "        async function convertToInteractive(key) {\n",
              "          const element = document.querySelector('#df-0b27cd75-6ee3-4757-8753-10d91d1826c5');\n",
              "          const dataTable =\n",
              "            await google.colab.kernel.invokeFunction('convertToInteractive',\n",
              "                                                     [key], {});\n",
              "          if (!dataTable) return;\n",
              "\n",
              "          const docLinkHtml = 'Like what you see? Visit the ' +\n",
              "            '<a target=\"_blank\" href=https://colab.research.google.com/notebooks/data_table.ipynb>data table notebook</a>'\n",
              "            + ' to learn more about interactive tables.';\n",
              "          element.innerHTML = '';\n",
              "          dataTable['output_type'] = 'display_data';\n",
              "          await google.colab.output.renderOutput(dataTable, element);\n",
              "          const docLink = document.createElement('div');\n",
              "          docLink.innerHTML = docLinkHtml;\n",
              "          element.appendChild(docLink);\n",
              "        }\n",
              "      </script>\n",
              "    </div>\n",
              "  </div>\n",
              "  "
            ]
          },
          "metadata": {},
          "execution_count": 47
        }
      ],
      "source": [
        "df_fal.head()"
      ]
    },
    {
      "cell_type": "markdown",
      "metadata": {
        "id": "oIr9z7VMhi0S"
      },
      "source": [
        "#### 2.4.3 Eliminar registros duplicados"
      ]
    },
    {
      "cell_type": "markdown",
      "metadata": {
        "id": "yedMNwamhi0V"
      },
      "source": [
        "Existen registros duplicados en el dataset de fallecidos, probablemente errores al momento de ingresar la información."
      ]
    },
    {
      "cell_type": "code",
      "execution_count": 48,
      "metadata": {
        "id": "Wld0gHiQhi0X"
      },
      "outputs": [],
      "source": [
        "# Ordenar de acuerdo al id_de persona y fecha de fallecimiento\n",
        "df_fal = df_fal.sort_values(by = ['id_persona', 'fecha_fallecimiento'])"
      ]
    },
    {
      "cell_type": "code",
      "execution_count": 49,
      "metadata": {
        "colab": {
          "base_uri": "https://localhost:8080/",
          "height": 206
        },
        "id": "yboo9mhxhi0b",
        "outputId": "5774cf51-7e26-44eb-8473-665e6b5b833b"
      },
      "outputs": [
        {
          "output_type": "execute_result",
          "data": {
            "text/plain": [
              "       fecha_fallecimiento  edad  sexo  departamento  id_persona  fallecido  \\\n",
              "29615             20210510    63     2            11      946577          1   \n",
              "33491             20200625    65     2            15     1378132          1   \n",
              "35007             20210407    60     1            15     1581994          1   \n",
              "36208             20210317    61     2            15     1676066          1   \n",
              "38636             20210323    64     1            15     1785991          1   \n",
              "\n",
              "       fecha_fal  year  epi_week  \n",
              "29615 2021-05-10  2021        19  \n",
              "33491 2020-06-25  2020        26  \n",
              "35007 2021-04-07  2021        14  \n",
              "36208 2021-03-17  2021        11  \n",
              "38636 2021-03-23  2021        12  "
            ],
            "text/html": [
              "\n",
              "  <div id=\"df-07dc8c3f-0a86-4080-a77a-bdaceb311061\">\n",
              "    <div class=\"colab-df-container\">\n",
              "      <div>\n",
              "<style scoped>\n",
              "    .dataframe tbody tr th:only-of-type {\n",
              "        vertical-align: middle;\n",
              "    }\n",
              "\n",
              "    .dataframe tbody tr th {\n",
              "        vertical-align: top;\n",
              "    }\n",
              "\n",
              "    .dataframe thead th {\n",
              "        text-align: right;\n",
              "    }\n",
              "</style>\n",
              "<table border=\"1\" class=\"dataframe\">\n",
              "  <thead>\n",
              "    <tr style=\"text-align: right;\">\n",
              "      <th></th>\n",
              "      <th>fecha_fallecimiento</th>\n",
              "      <th>edad</th>\n",
              "      <th>sexo</th>\n",
              "      <th>departamento</th>\n",
              "      <th>id_persona</th>\n",
              "      <th>fallecido</th>\n",
              "      <th>fecha_fal</th>\n",
              "      <th>year</th>\n",
              "      <th>epi_week</th>\n",
              "    </tr>\n",
              "  </thead>\n",
              "  <tbody>\n",
              "    <tr>\n",
              "      <th>29615</th>\n",
              "      <td>20210510</td>\n",
              "      <td>63</td>\n",
              "      <td>2</td>\n",
              "      <td>11</td>\n",
              "      <td>946577</td>\n",
              "      <td>1</td>\n",
              "      <td>2021-05-10</td>\n",
              "      <td>2021</td>\n",
              "      <td>19</td>\n",
              "    </tr>\n",
              "    <tr>\n",
              "      <th>33491</th>\n",
              "      <td>20200625</td>\n",
              "      <td>65</td>\n",
              "      <td>2</td>\n",
              "      <td>15</td>\n",
              "      <td>1378132</td>\n",
              "      <td>1</td>\n",
              "      <td>2020-06-25</td>\n",
              "      <td>2020</td>\n",
              "      <td>26</td>\n",
              "    </tr>\n",
              "    <tr>\n",
              "      <th>35007</th>\n",
              "      <td>20210407</td>\n",
              "      <td>60</td>\n",
              "      <td>1</td>\n",
              "      <td>15</td>\n",
              "      <td>1581994</td>\n",
              "      <td>1</td>\n",
              "      <td>2021-04-07</td>\n",
              "      <td>2021</td>\n",
              "      <td>14</td>\n",
              "    </tr>\n",
              "    <tr>\n",
              "      <th>36208</th>\n",
              "      <td>20210317</td>\n",
              "      <td>61</td>\n",
              "      <td>2</td>\n",
              "      <td>15</td>\n",
              "      <td>1676066</td>\n",
              "      <td>1</td>\n",
              "      <td>2021-03-17</td>\n",
              "      <td>2021</td>\n",
              "      <td>11</td>\n",
              "    </tr>\n",
              "    <tr>\n",
              "      <th>38636</th>\n",
              "      <td>20210323</td>\n",
              "      <td>64</td>\n",
              "      <td>1</td>\n",
              "      <td>15</td>\n",
              "      <td>1785991</td>\n",
              "      <td>1</td>\n",
              "      <td>2021-03-23</td>\n",
              "      <td>2021</td>\n",
              "      <td>12</td>\n",
              "    </tr>\n",
              "  </tbody>\n",
              "</table>\n",
              "</div>\n",
              "      <button class=\"colab-df-convert\" onclick=\"convertToInteractive('df-07dc8c3f-0a86-4080-a77a-bdaceb311061')\"\n",
              "              title=\"Convert this dataframe to an interactive table.\"\n",
              "              style=\"display:none;\">\n",
              "        \n",
              "  <svg xmlns=\"http://www.w3.org/2000/svg\" height=\"24px\"viewBox=\"0 0 24 24\"\n",
              "       width=\"24px\">\n",
              "    <path d=\"M0 0h24v24H0V0z\" fill=\"none\"/>\n",
              "    <path d=\"M18.56 5.44l.94 2.06.94-2.06 2.06-.94-2.06-.94-.94-2.06-.94 2.06-2.06.94zm-11 1L8.5 8.5l.94-2.06 2.06-.94-2.06-.94L8.5 2.5l-.94 2.06-2.06.94zm10 10l.94 2.06.94-2.06 2.06-.94-2.06-.94-.94-2.06-.94 2.06-2.06.94z\"/><path d=\"M17.41 7.96l-1.37-1.37c-.4-.4-.92-.59-1.43-.59-.52 0-1.04.2-1.43.59L10.3 9.45l-7.72 7.72c-.78.78-.78 2.05 0 2.83L4 21.41c.39.39.9.59 1.41.59.51 0 1.02-.2 1.41-.59l7.78-7.78 2.81-2.81c.8-.78.8-2.07 0-2.86zM5.41 20L4 18.59l7.72-7.72 1.47 1.35L5.41 20z\"/>\n",
              "  </svg>\n",
              "      </button>\n",
              "      \n",
              "  <style>\n",
              "    .colab-df-container {\n",
              "      display:flex;\n",
              "      flex-wrap:wrap;\n",
              "      gap: 12px;\n",
              "    }\n",
              "\n",
              "    .colab-df-convert {\n",
              "      background-color: #E8F0FE;\n",
              "      border: none;\n",
              "      border-radius: 50%;\n",
              "      cursor: pointer;\n",
              "      display: none;\n",
              "      fill: #1967D2;\n",
              "      height: 32px;\n",
              "      padding: 0 0 0 0;\n",
              "      width: 32px;\n",
              "    }\n",
              "\n",
              "    .colab-df-convert:hover {\n",
              "      background-color: #E2EBFA;\n",
              "      box-shadow: 0px 1px 2px rgba(60, 64, 67, 0.3), 0px 1px 3px 1px rgba(60, 64, 67, 0.15);\n",
              "      fill: #174EA6;\n",
              "    }\n",
              "\n",
              "    [theme=dark] .colab-df-convert {\n",
              "      background-color: #3B4455;\n",
              "      fill: #D2E3FC;\n",
              "    }\n",
              "\n",
              "    [theme=dark] .colab-df-convert:hover {\n",
              "      background-color: #434B5C;\n",
              "      box-shadow: 0px 1px 3px 1px rgba(0, 0, 0, 0.15);\n",
              "      filter: drop-shadow(0px 1px 2px rgba(0, 0, 0, 0.3));\n",
              "      fill: #FFFFFF;\n",
              "    }\n",
              "  </style>\n",
              "\n",
              "      <script>\n",
              "        const buttonEl =\n",
              "          document.querySelector('#df-07dc8c3f-0a86-4080-a77a-bdaceb311061 button.colab-df-convert');\n",
              "        buttonEl.style.display =\n",
              "          google.colab.kernel.accessAllowed ? 'block' : 'none';\n",
              "\n",
              "        async function convertToInteractive(key) {\n",
              "          const element = document.querySelector('#df-07dc8c3f-0a86-4080-a77a-bdaceb311061');\n",
              "          const dataTable =\n",
              "            await google.colab.kernel.invokeFunction('convertToInteractive',\n",
              "                                                     [key], {});\n",
              "          if (!dataTable) return;\n",
              "\n",
              "          const docLinkHtml = 'Like what you see? Visit the ' +\n",
              "            '<a target=\"_blank\" href=https://colab.research.google.com/notebooks/data_table.ipynb>data table notebook</a>'\n",
              "            + ' to learn more about interactive tables.';\n",
              "          element.innerHTML = '';\n",
              "          dataTable['output_type'] = 'display_data';\n",
              "          await google.colab.output.renderOutput(dataTable, element);\n",
              "          const docLink = document.createElement('div');\n",
              "          docLink.innerHTML = docLinkHtml;\n",
              "          element.appendChild(docLink);\n",
              "        }\n",
              "      </script>\n",
              "    </div>\n",
              "  </div>\n",
              "  "
            ]
          },
          "metadata": {},
          "execution_count": 49
        }
      ],
      "source": [
        "# Vemos algunos de los registros duplicados\n",
        "df_fal[df_fal.id_persona.duplicated() == True].head()"
      ]
    },
    {
      "cell_type": "code",
      "execution_count": 50,
      "metadata": {
        "colab": {
          "base_uri": "https://localhost:8080/",
          "height": 112
        },
        "id": "cSYWFx6fhi0d",
        "outputId": "a8911723-1433-4457-d163-1feba1238c13"
      },
      "outputs": [
        {
          "output_type": "execute_result",
          "data": {
            "text/plain": [
              "       fecha_fallecimiento  edad  sexo  departamento  id_persona  fallecido  \\\n",
              "29609             20210510    73     2            11      946577          1   \n",
              "29615             20210510    63     2            11      946577          1   \n",
              "\n",
              "       fecha_fal  year  epi_week  \n",
              "29609 2021-05-10  2021        19  \n",
              "29615 2021-05-10  2021        19  "
            ],
            "text/html": [
              "\n",
              "  <div id=\"df-930bba6c-da9d-402b-b3be-4c34585ee745\">\n",
              "    <div class=\"colab-df-container\">\n",
              "      <div>\n",
              "<style scoped>\n",
              "    .dataframe tbody tr th:only-of-type {\n",
              "        vertical-align: middle;\n",
              "    }\n",
              "\n",
              "    .dataframe tbody tr th {\n",
              "        vertical-align: top;\n",
              "    }\n",
              "\n",
              "    .dataframe thead th {\n",
              "        text-align: right;\n",
              "    }\n",
              "</style>\n",
              "<table border=\"1\" class=\"dataframe\">\n",
              "  <thead>\n",
              "    <tr style=\"text-align: right;\">\n",
              "      <th></th>\n",
              "      <th>fecha_fallecimiento</th>\n",
              "      <th>edad</th>\n",
              "      <th>sexo</th>\n",
              "      <th>departamento</th>\n",
              "      <th>id_persona</th>\n",
              "      <th>fallecido</th>\n",
              "      <th>fecha_fal</th>\n",
              "      <th>year</th>\n",
              "      <th>epi_week</th>\n",
              "    </tr>\n",
              "  </thead>\n",
              "  <tbody>\n",
              "    <tr>\n",
              "      <th>29609</th>\n",
              "      <td>20210510</td>\n",
              "      <td>73</td>\n",
              "      <td>2</td>\n",
              "      <td>11</td>\n",
              "      <td>946577</td>\n",
              "      <td>1</td>\n",
              "      <td>2021-05-10</td>\n",
              "      <td>2021</td>\n",
              "      <td>19</td>\n",
              "    </tr>\n",
              "    <tr>\n",
              "      <th>29615</th>\n",
              "      <td>20210510</td>\n",
              "      <td>63</td>\n",
              "      <td>2</td>\n",
              "      <td>11</td>\n",
              "      <td>946577</td>\n",
              "      <td>1</td>\n",
              "      <td>2021-05-10</td>\n",
              "      <td>2021</td>\n",
              "      <td>19</td>\n",
              "    </tr>\n",
              "  </tbody>\n",
              "</table>\n",
              "</div>\n",
              "      <button class=\"colab-df-convert\" onclick=\"convertToInteractive('df-930bba6c-da9d-402b-b3be-4c34585ee745')\"\n",
              "              title=\"Convert this dataframe to an interactive table.\"\n",
              "              style=\"display:none;\">\n",
              "        \n",
              "  <svg xmlns=\"http://www.w3.org/2000/svg\" height=\"24px\"viewBox=\"0 0 24 24\"\n",
              "       width=\"24px\">\n",
              "    <path d=\"M0 0h24v24H0V0z\" fill=\"none\"/>\n",
              "    <path d=\"M18.56 5.44l.94 2.06.94-2.06 2.06-.94-2.06-.94-.94-2.06-.94 2.06-2.06.94zm-11 1L8.5 8.5l.94-2.06 2.06-.94-2.06-.94L8.5 2.5l-.94 2.06-2.06.94zm10 10l.94 2.06.94-2.06 2.06-.94-2.06-.94-.94-2.06-.94 2.06-2.06.94z\"/><path d=\"M17.41 7.96l-1.37-1.37c-.4-.4-.92-.59-1.43-.59-.52 0-1.04.2-1.43.59L10.3 9.45l-7.72 7.72c-.78.78-.78 2.05 0 2.83L4 21.41c.39.39.9.59 1.41.59.51 0 1.02-.2 1.41-.59l7.78-7.78 2.81-2.81c.8-.78.8-2.07 0-2.86zM5.41 20L4 18.59l7.72-7.72 1.47 1.35L5.41 20z\"/>\n",
              "  </svg>\n",
              "      </button>\n",
              "      \n",
              "  <style>\n",
              "    .colab-df-container {\n",
              "      display:flex;\n",
              "      flex-wrap:wrap;\n",
              "      gap: 12px;\n",
              "    }\n",
              "\n",
              "    .colab-df-convert {\n",
              "      background-color: #E8F0FE;\n",
              "      border: none;\n",
              "      border-radius: 50%;\n",
              "      cursor: pointer;\n",
              "      display: none;\n",
              "      fill: #1967D2;\n",
              "      height: 32px;\n",
              "      padding: 0 0 0 0;\n",
              "      width: 32px;\n",
              "    }\n",
              "\n",
              "    .colab-df-convert:hover {\n",
              "      background-color: #E2EBFA;\n",
              "      box-shadow: 0px 1px 2px rgba(60, 64, 67, 0.3), 0px 1px 3px 1px rgba(60, 64, 67, 0.15);\n",
              "      fill: #174EA6;\n",
              "    }\n",
              "\n",
              "    [theme=dark] .colab-df-convert {\n",
              "      background-color: #3B4455;\n",
              "      fill: #D2E3FC;\n",
              "    }\n",
              "\n",
              "    [theme=dark] .colab-df-convert:hover {\n",
              "      background-color: #434B5C;\n",
              "      box-shadow: 0px 1px 3px 1px rgba(0, 0, 0, 0.15);\n",
              "      filter: drop-shadow(0px 1px 2px rgba(0, 0, 0, 0.3));\n",
              "      fill: #FFFFFF;\n",
              "    }\n",
              "  </style>\n",
              "\n",
              "      <script>\n",
              "        const buttonEl =\n",
              "          document.querySelector('#df-930bba6c-da9d-402b-b3be-4c34585ee745 button.colab-df-convert');\n",
              "        buttonEl.style.display =\n",
              "          google.colab.kernel.accessAllowed ? 'block' : 'none';\n",
              "\n",
              "        async function convertToInteractive(key) {\n",
              "          const element = document.querySelector('#df-930bba6c-da9d-402b-b3be-4c34585ee745');\n",
              "          const dataTable =\n",
              "            await google.colab.kernel.invokeFunction('convertToInteractive',\n",
              "                                                     [key], {});\n",
              "          if (!dataTable) return;\n",
              "\n",
              "          const docLinkHtml = 'Like what you see? Visit the ' +\n",
              "            '<a target=\"_blank\" href=https://colab.research.google.com/notebooks/data_table.ipynb>data table notebook</a>'\n",
              "            + ' to learn more about interactive tables.';\n",
              "          element.innerHTML = '';\n",
              "          dataTable['output_type'] = 'display_data';\n",
              "          await google.colab.output.renderOutput(dataTable, element);\n",
              "          const docLink = document.createElement('div');\n",
              "          docLink.innerHTML = docLinkHtml;\n",
              "          element.appendChild(docLink);\n",
              "        }\n",
              "      </script>\n",
              "    </div>\n",
              "  </div>\n",
              "  "
            ]
          },
          "metadata": {},
          "execution_count": 50
        }
      ],
      "source": [
        "# Comprobamos duplicados en el dataset principal de fallecidos (df_fal)\n",
        "df_fal[df_fal['id_persona'] == 946577]"
      ]
    },
    {
      "cell_type": "code",
      "execution_count": 51,
      "metadata": {
        "id": "en9NUOgohi0f"
      },
      "outputs": [],
      "source": [
        "# Eliminamos los duplicados\n",
        "df_fal = df_fal.drop_duplicates('id_persona', keep='last') \\\n",
        "               .sort_values(by = ['fecha_fallecimiento']) \\\n",
        "               .reset_index(drop = True)"
      ]
    },
    {
      "cell_type": "code",
      "execution_count": 52,
      "metadata": {
        "colab": {
          "base_uri": "https://localhost:8080/",
          "height": 206
        },
        "id": "Cs6C-Dlyhi0h",
        "outputId": "520844ea-73f9-4a49-f40c-aafe289b0779"
      },
      "outputs": [
        {
          "output_type": "execute_result",
          "data": {
            "text/plain": [
              "   fecha_fallecimiento  edad  sexo  departamento  id_persona  fallecido  \\\n",
              "0             20200303    63     1            22    36527082          1   \n",
              "1             20200304    85     1            22    36401995          1   \n",
              "2             20200307    24     2            16    36853977          1   \n",
              "3             20200308    76     2             8    14179222          1   \n",
              "4             20200311    81     1            15    38353395          1   \n",
              "\n",
              "   fecha_fal  year  epi_week  \n",
              "0 2020-03-03  2020        10  \n",
              "1 2020-03-04  2020        10  \n",
              "2 2020-03-07  2020        10  \n",
              "3 2020-03-08  2020        11  \n",
              "4 2020-03-11  2020        11  "
            ],
            "text/html": [
              "\n",
              "  <div id=\"df-30c50f5b-7ba6-4bb4-a137-fd213cf72785\">\n",
              "    <div class=\"colab-df-container\">\n",
              "      <div>\n",
              "<style scoped>\n",
              "    .dataframe tbody tr th:only-of-type {\n",
              "        vertical-align: middle;\n",
              "    }\n",
              "\n",
              "    .dataframe tbody tr th {\n",
              "        vertical-align: top;\n",
              "    }\n",
              "\n",
              "    .dataframe thead th {\n",
              "        text-align: right;\n",
              "    }\n",
              "</style>\n",
              "<table border=\"1\" class=\"dataframe\">\n",
              "  <thead>\n",
              "    <tr style=\"text-align: right;\">\n",
              "      <th></th>\n",
              "      <th>fecha_fallecimiento</th>\n",
              "      <th>edad</th>\n",
              "      <th>sexo</th>\n",
              "      <th>departamento</th>\n",
              "      <th>id_persona</th>\n",
              "      <th>fallecido</th>\n",
              "      <th>fecha_fal</th>\n",
              "      <th>year</th>\n",
              "      <th>epi_week</th>\n",
              "    </tr>\n",
              "  </thead>\n",
              "  <tbody>\n",
              "    <tr>\n",
              "      <th>0</th>\n",
              "      <td>20200303</td>\n",
              "      <td>63</td>\n",
              "      <td>1</td>\n",
              "      <td>22</td>\n",
              "      <td>36527082</td>\n",
              "      <td>1</td>\n",
              "      <td>2020-03-03</td>\n",
              "      <td>2020</td>\n",
              "      <td>10</td>\n",
              "    </tr>\n",
              "    <tr>\n",
              "      <th>1</th>\n",
              "      <td>20200304</td>\n",
              "      <td>85</td>\n",
              "      <td>1</td>\n",
              "      <td>22</td>\n",
              "      <td>36401995</td>\n",
              "      <td>1</td>\n",
              "      <td>2020-03-04</td>\n",
              "      <td>2020</td>\n",
              "      <td>10</td>\n",
              "    </tr>\n",
              "    <tr>\n",
              "      <th>2</th>\n",
              "      <td>20200307</td>\n",
              "      <td>24</td>\n",
              "      <td>2</td>\n",
              "      <td>16</td>\n",
              "      <td>36853977</td>\n",
              "      <td>1</td>\n",
              "      <td>2020-03-07</td>\n",
              "      <td>2020</td>\n",
              "      <td>10</td>\n",
              "    </tr>\n",
              "    <tr>\n",
              "      <th>3</th>\n",
              "      <td>20200308</td>\n",
              "      <td>76</td>\n",
              "      <td>2</td>\n",
              "      <td>8</td>\n",
              "      <td>14179222</td>\n",
              "      <td>1</td>\n",
              "      <td>2020-03-08</td>\n",
              "      <td>2020</td>\n",
              "      <td>11</td>\n",
              "    </tr>\n",
              "    <tr>\n",
              "      <th>4</th>\n",
              "      <td>20200311</td>\n",
              "      <td>81</td>\n",
              "      <td>1</td>\n",
              "      <td>15</td>\n",
              "      <td>38353395</td>\n",
              "      <td>1</td>\n",
              "      <td>2020-03-11</td>\n",
              "      <td>2020</td>\n",
              "      <td>11</td>\n",
              "    </tr>\n",
              "  </tbody>\n",
              "</table>\n",
              "</div>\n",
              "      <button class=\"colab-df-convert\" onclick=\"convertToInteractive('df-30c50f5b-7ba6-4bb4-a137-fd213cf72785')\"\n",
              "              title=\"Convert this dataframe to an interactive table.\"\n",
              "              style=\"display:none;\">\n",
              "        \n",
              "  <svg xmlns=\"http://www.w3.org/2000/svg\" height=\"24px\"viewBox=\"0 0 24 24\"\n",
              "       width=\"24px\">\n",
              "    <path d=\"M0 0h24v24H0V0z\" fill=\"none\"/>\n",
              "    <path d=\"M18.56 5.44l.94 2.06.94-2.06 2.06-.94-2.06-.94-.94-2.06-.94 2.06-2.06.94zm-11 1L8.5 8.5l.94-2.06 2.06-.94-2.06-.94L8.5 2.5l-.94 2.06-2.06.94zm10 10l.94 2.06.94-2.06 2.06-.94-2.06-.94-.94-2.06-.94 2.06-2.06.94z\"/><path d=\"M17.41 7.96l-1.37-1.37c-.4-.4-.92-.59-1.43-.59-.52 0-1.04.2-1.43.59L10.3 9.45l-7.72 7.72c-.78.78-.78 2.05 0 2.83L4 21.41c.39.39.9.59 1.41.59.51 0 1.02-.2 1.41-.59l7.78-7.78 2.81-2.81c.8-.78.8-2.07 0-2.86zM5.41 20L4 18.59l7.72-7.72 1.47 1.35L5.41 20z\"/>\n",
              "  </svg>\n",
              "      </button>\n",
              "      \n",
              "  <style>\n",
              "    .colab-df-container {\n",
              "      display:flex;\n",
              "      flex-wrap:wrap;\n",
              "      gap: 12px;\n",
              "    }\n",
              "\n",
              "    .colab-df-convert {\n",
              "      background-color: #E8F0FE;\n",
              "      border: none;\n",
              "      border-radius: 50%;\n",
              "      cursor: pointer;\n",
              "      display: none;\n",
              "      fill: #1967D2;\n",
              "      height: 32px;\n",
              "      padding: 0 0 0 0;\n",
              "      width: 32px;\n",
              "    }\n",
              "\n",
              "    .colab-df-convert:hover {\n",
              "      background-color: #E2EBFA;\n",
              "      box-shadow: 0px 1px 2px rgba(60, 64, 67, 0.3), 0px 1px 3px 1px rgba(60, 64, 67, 0.15);\n",
              "      fill: #174EA6;\n",
              "    }\n",
              "\n",
              "    [theme=dark] .colab-df-convert {\n",
              "      background-color: #3B4455;\n",
              "      fill: #D2E3FC;\n",
              "    }\n",
              "\n",
              "    [theme=dark] .colab-df-convert:hover {\n",
              "      background-color: #434B5C;\n",
              "      box-shadow: 0px 1px 3px 1px rgba(0, 0, 0, 0.15);\n",
              "      filter: drop-shadow(0px 1px 2px rgba(0, 0, 0, 0.3));\n",
              "      fill: #FFFFFF;\n",
              "    }\n",
              "  </style>\n",
              "\n",
              "      <script>\n",
              "        const buttonEl =\n",
              "          document.querySelector('#df-30c50f5b-7ba6-4bb4-a137-fd213cf72785 button.colab-df-convert');\n",
              "        buttonEl.style.display =\n",
              "          google.colab.kernel.accessAllowed ? 'block' : 'none';\n",
              "\n",
              "        async function convertToInteractive(key) {\n",
              "          const element = document.querySelector('#df-30c50f5b-7ba6-4bb4-a137-fd213cf72785');\n",
              "          const dataTable =\n",
              "            await google.colab.kernel.invokeFunction('convertToInteractive',\n",
              "                                                     [key], {});\n",
              "          if (!dataTable) return;\n",
              "\n",
              "          const docLinkHtml = 'Like what you see? Visit the ' +\n",
              "            '<a target=\"_blank\" href=https://colab.research.google.com/notebooks/data_table.ipynb>data table notebook</a>'\n",
              "            + ' to learn more about interactive tables.';\n",
              "          element.innerHTML = '';\n",
              "          dataTable['output_type'] = 'display_data';\n",
              "          await google.colab.output.renderOutput(dataTable, element);\n",
              "          const docLink = document.createElement('div');\n",
              "          docLink.innerHTML = docLinkHtml;\n",
              "          element.appendChild(docLink);\n",
              "        }\n",
              "      </script>\n",
              "    </div>\n",
              "  </div>\n",
              "  "
            ]
          },
          "metadata": {},
          "execution_count": 52
        }
      ],
      "source": [
        "df_fal.head()"
      ]
    },
    {
      "cell_type": "code",
      "source": [
        "# TOTAL de fallecidos con un id único para cada persona (sin registros duplicados)\n",
        "print(f'TOTAL de duplicados: {n - len(df_fal):10}')\n",
        "print(f'Número de fallecidos: {len(df_fal):10}')\n",
        "n = len(df_fal)"
      ],
      "metadata": {
        "colab": {
          "base_uri": "https://localhost:8080/"
        },
        "id": "dMXkta3Nqyb-",
        "outputId": "68397ea5-4201-4795-96a0-09fa24c6198c"
      },
      "execution_count": 53,
      "outputs": [
        {
          "output_type": "stream",
          "name": "stdout",
          "text": [
            "TOTAL de duplicados:         71\n",
            "Número de fallecidos:     210366\n"
          ]
        }
      ]
    },
    {
      "cell_type": "markdown",
      "metadata": {
        "id": "HYhi8ISlbY4C"
      },
      "source": [
        "### 2.6 Buscar en el dataset de casos positivos quienes fallecieron y cuándo"
      ]
    },
    {
      "cell_type": "code",
      "execution_count": 54,
      "metadata": {
        "id": "jeNPY8gCbY4C"
      },
      "outputs": [],
      "source": [
        "# Unir el dataframe de casos positivos con el dataset de fallecidos mediante 'id_persona'\n",
        "df = df_cas.merge(df_fal, on = 'id_persona', how = 'outer')\n",
        "\n",
        "df['fallecido'].fillna(0, inplace=True)  # Llenar con 0 las personas que no fallecieron en el dataset de casos positivos\n",
        "df['fallecido'] = df['fallecido'].astype('int8')  # Cambiar 'data type' para reducir tamaño"
      ]
    },
    {
      "cell_type": "code",
      "execution_count": 55,
      "metadata": {
        "colab": {
          "base_uri": "https://localhost:8080/"
        },
        "id": "8VdiVZDAbY4D",
        "outputId": "3b54555f-6432-4476-b07d-20c1253f8796"
      },
      "outputs": [
        {
          "output_type": "execute_result",
          "data": {
            "text/plain": [
              "3381496"
            ]
          },
          "metadata": {},
          "execution_count": 55
        }
      ],
      "source": [
        "len(df)  # Total de casos de casos positivos + información de fallecimiento"
      ]
    },
    {
      "cell_type": "code",
      "execution_count": 56,
      "metadata": {
        "colab": {
          "base_uri": "https://localhost:8080/"
        },
        "id": "66m-ioBNbY4E",
        "outputId": "f815e290-77ec-40ee-9efe-a8671ebe292b"
      },
      "outputs": [
        {
          "output_type": "execute_result",
          "data": {
            "text/plain": [
              "210366"
            ]
          },
          "metadata": {},
          "execution_count": 56
        }
      ],
      "source": [
        "len(df[df.fallecido == 1])  # Número de fallecidos en el dataset de casos postivos"
      ]
    },
    {
      "cell_type": "markdown",
      "metadata": {
        "id": "w581-leBvg_y"
      },
      "source": [
        "#### 2.6.1 Unir información de casos positivos + información sobre fallecimiento"
      ]
    },
    {
      "cell_type": "code",
      "execution_count": 57,
      "metadata": {
        "colab": {
          "base_uri": "https://localhost:8080/",
          "height": 270
        },
        "id": "-16asnRevyKB",
        "outputId": "d52753bf-7183-4ef2-d0e0-d4648a011eae"
      },
      "outputs": [
        {
          "output_type": "execute_result",
          "data": {
            "text/plain": [
              "   id_persona  fecha_resultado  metododx  sexo_x  edad_x  departamento_x  \\\n",
              "0    13708801       20200309.0       2.0     2.0    15.0            10.0   \n",
              "1     2020432       20200310.0       2.0     1.0    46.0            15.0   \n",
              "2     7979960       20200311.0       2.0     2.0    21.0            15.0   \n",
              "3     5493803       20200311.0       2.0     2.0    28.0            15.0   \n",
              "4    36611013       20200312.0       2.0     1.0    78.0            15.0   \n",
              "\n",
              "   fecha_fallecimiento  edad_y  sexo_y  departamento_y  fallecido  fecha_fal  \\\n",
              "0                  NaN     NaN     NaN             NaN          0        NaT   \n",
              "1                  NaN     NaN     NaN             NaN          0        NaT   \n",
              "2                  NaN     NaN     NaN             NaN          0        NaT   \n",
              "3                  NaN     NaN     NaN             NaN          0        NaT   \n",
              "4           20200319.0    78.0     1.0            15.0          1 2020-03-19   \n",
              "\n",
              "     year  epi_week  \n",
              "0     NaN       NaN  \n",
              "1     NaN       NaN  \n",
              "2     NaN       NaN  \n",
              "3     NaN       NaN  \n",
              "4  2020.0      12.0  "
            ],
            "text/html": [
              "\n",
              "  <div id=\"df-f09fa879-06b6-41bd-bd98-bde955e05f64\">\n",
              "    <div class=\"colab-df-container\">\n",
              "      <div>\n",
              "<style scoped>\n",
              "    .dataframe tbody tr th:only-of-type {\n",
              "        vertical-align: middle;\n",
              "    }\n",
              "\n",
              "    .dataframe tbody tr th {\n",
              "        vertical-align: top;\n",
              "    }\n",
              "\n",
              "    .dataframe thead th {\n",
              "        text-align: right;\n",
              "    }\n",
              "</style>\n",
              "<table border=\"1\" class=\"dataframe\">\n",
              "  <thead>\n",
              "    <tr style=\"text-align: right;\">\n",
              "      <th></th>\n",
              "      <th>id_persona</th>\n",
              "      <th>fecha_resultado</th>\n",
              "      <th>metododx</th>\n",
              "      <th>sexo_x</th>\n",
              "      <th>edad_x</th>\n",
              "      <th>departamento_x</th>\n",
              "      <th>fecha_fallecimiento</th>\n",
              "      <th>edad_y</th>\n",
              "      <th>sexo_y</th>\n",
              "      <th>departamento_y</th>\n",
              "      <th>fallecido</th>\n",
              "      <th>fecha_fal</th>\n",
              "      <th>year</th>\n",
              "      <th>epi_week</th>\n",
              "    </tr>\n",
              "  </thead>\n",
              "  <tbody>\n",
              "    <tr>\n",
              "      <th>0</th>\n",
              "      <td>13708801</td>\n",
              "      <td>20200309.0</td>\n",
              "      <td>2.0</td>\n",
              "      <td>2.0</td>\n",
              "      <td>15.0</td>\n",
              "      <td>10.0</td>\n",
              "      <td>NaN</td>\n",
              "      <td>NaN</td>\n",
              "      <td>NaN</td>\n",
              "      <td>NaN</td>\n",
              "      <td>0</td>\n",
              "      <td>NaT</td>\n",
              "      <td>NaN</td>\n",
              "      <td>NaN</td>\n",
              "    </tr>\n",
              "    <tr>\n",
              "      <th>1</th>\n",
              "      <td>2020432</td>\n",
              "      <td>20200310.0</td>\n",
              "      <td>2.0</td>\n",
              "      <td>1.0</td>\n",
              "      <td>46.0</td>\n",
              "      <td>15.0</td>\n",
              "      <td>NaN</td>\n",
              "      <td>NaN</td>\n",
              "      <td>NaN</td>\n",
              "      <td>NaN</td>\n",
              "      <td>0</td>\n",
              "      <td>NaT</td>\n",
              "      <td>NaN</td>\n",
              "      <td>NaN</td>\n",
              "    </tr>\n",
              "    <tr>\n",
              "      <th>2</th>\n",
              "      <td>7979960</td>\n",
              "      <td>20200311.0</td>\n",
              "      <td>2.0</td>\n",
              "      <td>2.0</td>\n",
              "      <td>21.0</td>\n",
              "      <td>15.0</td>\n",
              "      <td>NaN</td>\n",
              "      <td>NaN</td>\n",
              "      <td>NaN</td>\n",
              "      <td>NaN</td>\n",
              "      <td>0</td>\n",
              "      <td>NaT</td>\n",
              "      <td>NaN</td>\n",
              "      <td>NaN</td>\n",
              "    </tr>\n",
              "    <tr>\n",
              "      <th>3</th>\n",
              "      <td>5493803</td>\n",
              "      <td>20200311.0</td>\n",
              "      <td>2.0</td>\n",
              "      <td>2.0</td>\n",
              "      <td>28.0</td>\n",
              "      <td>15.0</td>\n",
              "      <td>NaN</td>\n",
              "      <td>NaN</td>\n",
              "      <td>NaN</td>\n",
              "      <td>NaN</td>\n",
              "      <td>0</td>\n",
              "      <td>NaT</td>\n",
              "      <td>NaN</td>\n",
              "      <td>NaN</td>\n",
              "    </tr>\n",
              "    <tr>\n",
              "      <th>4</th>\n",
              "      <td>36611013</td>\n",
              "      <td>20200312.0</td>\n",
              "      <td>2.0</td>\n",
              "      <td>1.0</td>\n",
              "      <td>78.0</td>\n",
              "      <td>15.0</td>\n",
              "      <td>20200319.0</td>\n",
              "      <td>78.0</td>\n",
              "      <td>1.0</td>\n",
              "      <td>15.0</td>\n",
              "      <td>1</td>\n",
              "      <td>2020-03-19</td>\n",
              "      <td>2020.0</td>\n",
              "      <td>12.0</td>\n",
              "    </tr>\n",
              "  </tbody>\n",
              "</table>\n",
              "</div>\n",
              "      <button class=\"colab-df-convert\" onclick=\"convertToInteractive('df-f09fa879-06b6-41bd-bd98-bde955e05f64')\"\n",
              "              title=\"Convert this dataframe to an interactive table.\"\n",
              "              style=\"display:none;\">\n",
              "        \n",
              "  <svg xmlns=\"http://www.w3.org/2000/svg\" height=\"24px\"viewBox=\"0 0 24 24\"\n",
              "       width=\"24px\">\n",
              "    <path d=\"M0 0h24v24H0V0z\" fill=\"none\"/>\n",
              "    <path d=\"M18.56 5.44l.94 2.06.94-2.06 2.06-.94-2.06-.94-.94-2.06-.94 2.06-2.06.94zm-11 1L8.5 8.5l.94-2.06 2.06-.94-2.06-.94L8.5 2.5l-.94 2.06-2.06.94zm10 10l.94 2.06.94-2.06 2.06-.94-2.06-.94-.94-2.06-.94 2.06-2.06.94z\"/><path d=\"M17.41 7.96l-1.37-1.37c-.4-.4-.92-.59-1.43-.59-.52 0-1.04.2-1.43.59L10.3 9.45l-7.72 7.72c-.78.78-.78 2.05 0 2.83L4 21.41c.39.39.9.59 1.41.59.51 0 1.02-.2 1.41-.59l7.78-7.78 2.81-2.81c.8-.78.8-2.07 0-2.86zM5.41 20L4 18.59l7.72-7.72 1.47 1.35L5.41 20z\"/>\n",
              "  </svg>\n",
              "      </button>\n",
              "      \n",
              "  <style>\n",
              "    .colab-df-container {\n",
              "      display:flex;\n",
              "      flex-wrap:wrap;\n",
              "      gap: 12px;\n",
              "    }\n",
              "\n",
              "    .colab-df-convert {\n",
              "      background-color: #E8F0FE;\n",
              "      border: none;\n",
              "      border-radius: 50%;\n",
              "      cursor: pointer;\n",
              "      display: none;\n",
              "      fill: #1967D2;\n",
              "      height: 32px;\n",
              "      padding: 0 0 0 0;\n",
              "      width: 32px;\n",
              "    }\n",
              "\n",
              "    .colab-df-convert:hover {\n",
              "      background-color: #E2EBFA;\n",
              "      box-shadow: 0px 1px 2px rgba(60, 64, 67, 0.3), 0px 1px 3px 1px rgba(60, 64, 67, 0.15);\n",
              "      fill: #174EA6;\n",
              "    }\n",
              "\n",
              "    [theme=dark] .colab-df-convert {\n",
              "      background-color: #3B4455;\n",
              "      fill: #D2E3FC;\n",
              "    }\n",
              "\n",
              "    [theme=dark] .colab-df-convert:hover {\n",
              "      background-color: #434B5C;\n",
              "      box-shadow: 0px 1px 3px 1px rgba(0, 0, 0, 0.15);\n",
              "      filter: drop-shadow(0px 1px 2px rgba(0, 0, 0, 0.3));\n",
              "      fill: #FFFFFF;\n",
              "    }\n",
              "  </style>\n",
              "\n",
              "      <script>\n",
              "        const buttonEl =\n",
              "          document.querySelector('#df-f09fa879-06b6-41bd-bd98-bde955e05f64 button.colab-df-convert');\n",
              "        buttonEl.style.display =\n",
              "          google.colab.kernel.accessAllowed ? 'block' : 'none';\n",
              "\n",
              "        async function convertToInteractive(key) {\n",
              "          const element = document.querySelector('#df-f09fa879-06b6-41bd-bd98-bde955e05f64');\n",
              "          const dataTable =\n",
              "            await google.colab.kernel.invokeFunction('convertToInteractive',\n",
              "                                                     [key], {});\n",
              "          if (!dataTable) return;\n",
              "\n",
              "          const docLinkHtml = 'Like what you see? Visit the ' +\n",
              "            '<a target=\"_blank\" href=https://colab.research.google.com/notebooks/data_table.ipynb>data table notebook</a>'\n",
              "            + ' to learn more about interactive tables.';\n",
              "          element.innerHTML = '';\n",
              "          dataTable['output_type'] = 'display_data';\n",
              "          await google.colab.output.renderOutput(dataTable, element);\n",
              "          const docLink = document.createElement('div');\n",
              "          docLink.innerHTML = docLinkHtml;\n",
              "          element.appendChild(docLink);\n",
              "        }\n",
              "      </script>\n",
              "    </div>\n",
              "  </div>\n",
              "  "
            ]
          },
          "metadata": {},
          "execution_count": 57
        }
      ],
      "source": [
        "df.head()"
      ]
    },
    {
      "cell_type": "markdown",
      "metadata": {
        "id": "caAFekZEv0uQ"
      },
      "source": [
        "Tenemos algunas columnas duplicadas ya que son información del dataset de casos positivos (sexo_x, edad_x, departamento_x) y la otra información del dataset de fallecidos (sexo_y, edad_y, departamento_y). \n",
        "\n",
        "En este caso podemos ver que pertenecen a la misma persona ya que fueron unidos mediante el registro único de cada persona (id_persona). Procedemos a unir estas columnas duplicadas para completar información faltante."
      ]
    },
    {
      "cell_type": "code",
      "execution_count": 58,
      "metadata": {
        "colab": {
          "base_uri": "https://localhost:8080/",
          "height": 206
        },
        "id": "JjhRx50NwcSu",
        "outputId": "099ed841-e13d-46d4-8485-b2d75d60a2bb"
      },
      "outputs": [
        {
          "output_type": "execute_result",
          "data": {
            "text/plain": [
              "     id_persona  sexo_x  edad_x  departamento_x  sexo_y  edad_y  \\\n",
              "4      36611013     1.0    78.0            15.0     1.0    78.0   \n",
              "9      36889651     2.0    75.0            15.0     2.0    75.0   \n",
              "49     36450848     1.0    96.0            15.0     1.0    96.0   \n",
              "58     36539210     1.0    71.0             7.0     1.0    71.0   \n",
              "110    36764997     1.0    45.0            15.0     1.0    45.0   \n",
              "\n",
              "     departamento_y  fallecido  \n",
              "4              15.0          1  \n",
              "9              15.0          1  \n",
              "49             15.0          1  \n",
              "58             15.0          1  \n",
              "110            15.0          1  "
            ],
            "text/html": [
              "\n",
              "  <div id=\"df-ec00bc97-c852-4451-a066-24a9aa549196\">\n",
              "    <div class=\"colab-df-container\">\n",
              "      <div>\n",
              "<style scoped>\n",
              "    .dataframe tbody tr th:only-of-type {\n",
              "        vertical-align: middle;\n",
              "    }\n",
              "\n",
              "    .dataframe tbody tr th {\n",
              "        vertical-align: top;\n",
              "    }\n",
              "\n",
              "    .dataframe thead th {\n",
              "        text-align: right;\n",
              "    }\n",
              "</style>\n",
              "<table border=\"1\" class=\"dataframe\">\n",
              "  <thead>\n",
              "    <tr style=\"text-align: right;\">\n",
              "      <th></th>\n",
              "      <th>id_persona</th>\n",
              "      <th>sexo_x</th>\n",
              "      <th>edad_x</th>\n",
              "      <th>departamento_x</th>\n",
              "      <th>sexo_y</th>\n",
              "      <th>edad_y</th>\n",
              "      <th>departamento_y</th>\n",
              "      <th>fallecido</th>\n",
              "    </tr>\n",
              "  </thead>\n",
              "  <tbody>\n",
              "    <tr>\n",
              "      <th>4</th>\n",
              "      <td>36611013</td>\n",
              "      <td>1.0</td>\n",
              "      <td>78.0</td>\n",
              "      <td>15.0</td>\n",
              "      <td>1.0</td>\n",
              "      <td>78.0</td>\n",
              "      <td>15.0</td>\n",
              "      <td>1</td>\n",
              "    </tr>\n",
              "    <tr>\n",
              "      <th>9</th>\n",
              "      <td>36889651</td>\n",
              "      <td>2.0</td>\n",
              "      <td>75.0</td>\n",
              "      <td>15.0</td>\n",
              "      <td>2.0</td>\n",
              "      <td>75.0</td>\n",
              "      <td>15.0</td>\n",
              "      <td>1</td>\n",
              "    </tr>\n",
              "    <tr>\n",
              "      <th>49</th>\n",
              "      <td>36450848</td>\n",
              "      <td>1.0</td>\n",
              "      <td>96.0</td>\n",
              "      <td>15.0</td>\n",
              "      <td>1.0</td>\n",
              "      <td>96.0</td>\n",
              "      <td>15.0</td>\n",
              "      <td>1</td>\n",
              "    </tr>\n",
              "    <tr>\n",
              "      <th>58</th>\n",
              "      <td>36539210</td>\n",
              "      <td>1.0</td>\n",
              "      <td>71.0</td>\n",
              "      <td>7.0</td>\n",
              "      <td>1.0</td>\n",
              "      <td>71.0</td>\n",
              "      <td>15.0</td>\n",
              "      <td>1</td>\n",
              "    </tr>\n",
              "    <tr>\n",
              "      <th>110</th>\n",
              "      <td>36764997</td>\n",
              "      <td>1.0</td>\n",
              "      <td>45.0</td>\n",
              "      <td>15.0</td>\n",
              "      <td>1.0</td>\n",
              "      <td>45.0</td>\n",
              "      <td>15.0</td>\n",
              "      <td>1</td>\n",
              "    </tr>\n",
              "  </tbody>\n",
              "</table>\n",
              "</div>\n",
              "      <button class=\"colab-df-convert\" onclick=\"convertToInteractive('df-ec00bc97-c852-4451-a066-24a9aa549196')\"\n",
              "              title=\"Convert this dataframe to an interactive table.\"\n",
              "              style=\"display:none;\">\n",
              "        \n",
              "  <svg xmlns=\"http://www.w3.org/2000/svg\" height=\"24px\"viewBox=\"0 0 24 24\"\n",
              "       width=\"24px\">\n",
              "    <path d=\"M0 0h24v24H0V0z\" fill=\"none\"/>\n",
              "    <path d=\"M18.56 5.44l.94 2.06.94-2.06 2.06-.94-2.06-.94-.94-2.06-.94 2.06-2.06.94zm-11 1L8.5 8.5l.94-2.06 2.06-.94-2.06-.94L8.5 2.5l-.94 2.06-2.06.94zm10 10l.94 2.06.94-2.06 2.06-.94-2.06-.94-.94-2.06-.94 2.06-2.06.94z\"/><path d=\"M17.41 7.96l-1.37-1.37c-.4-.4-.92-.59-1.43-.59-.52 0-1.04.2-1.43.59L10.3 9.45l-7.72 7.72c-.78.78-.78 2.05 0 2.83L4 21.41c.39.39.9.59 1.41.59.51 0 1.02-.2 1.41-.59l7.78-7.78 2.81-2.81c.8-.78.8-2.07 0-2.86zM5.41 20L4 18.59l7.72-7.72 1.47 1.35L5.41 20z\"/>\n",
              "  </svg>\n",
              "      </button>\n",
              "      \n",
              "  <style>\n",
              "    .colab-df-container {\n",
              "      display:flex;\n",
              "      flex-wrap:wrap;\n",
              "      gap: 12px;\n",
              "    }\n",
              "\n",
              "    .colab-df-convert {\n",
              "      background-color: #E8F0FE;\n",
              "      border: none;\n",
              "      border-radius: 50%;\n",
              "      cursor: pointer;\n",
              "      display: none;\n",
              "      fill: #1967D2;\n",
              "      height: 32px;\n",
              "      padding: 0 0 0 0;\n",
              "      width: 32px;\n",
              "    }\n",
              "\n",
              "    .colab-df-convert:hover {\n",
              "      background-color: #E2EBFA;\n",
              "      box-shadow: 0px 1px 2px rgba(60, 64, 67, 0.3), 0px 1px 3px 1px rgba(60, 64, 67, 0.15);\n",
              "      fill: #174EA6;\n",
              "    }\n",
              "\n",
              "    [theme=dark] .colab-df-convert {\n",
              "      background-color: #3B4455;\n",
              "      fill: #D2E3FC;\n",
              "    }\n",
              "\n",
              "    [theme=dark] .colab-df-convert:hover {\n",
              "      background-color: #434B5C;\n",
              "      box-shadow: 0px 1px 3px 1px rgba(0, 0, 0, 0.15);\n",
              "      filter: drop-shadow(0px 1px 2px rgba(0, 0, 0, 0.3));\n",
              "      fill: #FFFFFF;\n",
              "    }\n",
              "  </style>\n",
              "\n",
              "      <script>\n",
              "        const buttonEl =\n",
              "          document.querySelector('#df-ec00bc97-c852-4451-a066-24a9aa549196 button.colab-df-convert');\n",
              "        buttonEl.style.display =\n",
              "          google.colab.kernel.accessAllowed ? 'block' : 'none';\n",
              "\n",
              "        async function convertToInteractive(key) {\n",
              "          const element = document.querySelector('#df-ec00bc97-c852-4451-a066-24a9aa549196');\n",
              "          const dataTable =\n",
              "            await google.colab.kernel.invokeFunction('convertToInteractive',\n",
              "                                                     [key], {});\n",
              "          if (!dataTable) return;\n",
              "\n",
              "          const docLinkHtml = 'Like what you see? Visit the ' +\n",
              "            '<a target=\"_blank\" href=https://colab.research.google.com/notebooks/data_table.ipynb>data table notebook</a>'\n",
              "            + ' to learn more about interactive tables.';\n",
              "          element.innerHTML = '';\n",
              "          dataTable['output_type'] = 'display_data';\n",
              "          await google.colab.output.renderOutput(dataTable, element);\n",
              "          const docLink = document.createElement('div');\n",
              "          docLink.innerHTML = docLinkHtml;\n",
              "          element.appendChild(docLink);\n",
              "        }\n",
              "      </script>\n",
              "    </div>\n",
              "  </div>\n",
              "  "
            ]
          },
          "metadata": {},
          "execution_count": 58
        }
      ],
      "source": [
        "df[['id_persona', 'sexo_x', 'edad_x', 'departamento_x',\n",
        "    'sexo_y', 'edad_y', 'departamento_y', 'fallecido']][df['fallecido'] == 1].head()"
      ]
    },
    {
      "cell_type": "code",
      "execution_count": 59,
      "metadata": {
        "colab": {
          "base_uri": "https://localhost:8080/"
        },
        "id": "jIssFOMS7qnv",
        "outputId": "558c9060-e8d9-4529-f801-67349b2d0147"
      },
      "outputs": [
        {
          "output_type": "execute_result",
          "data": {
            "text/plain": [
              "id_persona                   0\n",
              "fecha_resultado         107278\n",
              "metododx                107278\n",
              "sexo_x                  107278\n",
              "edad_x                  107278\n",
              "departamento_x          107278\n",
              "fecha_fallecimiento    3171130\n",
              "edad_y                 3171130\n",
              "sexo_y                 3171130\n",
              "departamento_y         3171130\n",
              "fallecido                    0\n",
              "fecha_fal              3171130\n",
              "year                   3171130\n",
              "epi_week               3171130\n",
              "dtype: int64"
            ]
          },
          "metadata": {},
          "execution_count": 59
        }
      ],
      "source": [
        "df.isnull().sum()  # Verificamos 'missing values'"
      ]
    },
    {
      "cell_type": "code",
      "execution_count": 60,
      "metadata": {
        "id": "VKWy2iQhxZip"
      },
      "outputs": [],
      "source": [
        "# Agregamos la información de sexo, edad y departamento de fallecimientos (columnas y)\n",
        "# a las columnas de casos positivos (columnas x)\n",
        "df['sexo_x'] = df['sexo_x'].combine_first(df['sexo_y'])\n",
        "df['edad_x'] = df['edad_x'].combine_first(df['edad_y'])\n",
        "df['departamento_x'] = df['departamento_x'].combine_first(df['departamento_y'])"
      ]
    },
    {
      "cell_type": "code",
      "execution_count": 61,
      "metadata": {
        "colab": {
          "base_uri": "https://localhost:8080/"
        },
        "id": "RLp_KyfRz3-f",
        "outputId": "3f1ce1e4-b0f4-46d5-c8d6-b3e7a6026b61"
      },
      "outputs": [
        {
          "output_type": "execute_result",
          "data": {
            "text/plain": [
              "id_persona                   0\n",
              "fecha_resultado         107278\n",
              "metododx                107278\n",
              "sexo_x                       0\n",
              "edad_x                       0\n",
              "departamento_x               0\n",
              "fecha_fallecimiento    3171130\n",
              "edad_y                 3171130\n",
              "sexo_y                 3171130\n",
              "departamento_y         3171130\n",
              "fallecido                    0\n",
              "fecha_fal              3171130\n",
              "year                   3171130\n",
              "epi_week               3171130\n",
              "dtype: int64"
            ]
          },
          "metadata": {},
          "execution_count": 61
        }
      ],
      "source": [
        "df.isnull().sum()  # Verificamos 'missing values'"
      ]
    },
    {
      "cell_type": "code",
      "execution_count": 62,
      "metadata": {
        "colab": {
          "base_uri": "https://localhost:8080/",
          "height": 488
        },
        "id": "P6KCimaa-ftc",
        "outputId": "ac3837e7-b122-49fc-b91d-656af2437684"
      },
      "outputs": [
        {
          "output_type": "execute_result",
          "data": {
            "text/plain": [
              "         id_persona  fecha_resultado  metododx  sexo_x  edad_x  \\\n",
              "0          13708801       20200309.0       2.0     2.0    15.0   \n",
              "1           2020432       20200310.0       2.0     1.0    46.0   \n",
              "2           7979960       20200311.0       2.0     2.0    21.0   \n",
              "3           5493803       20200311.0       2.0     2.0    28.0   \n",
              "4          36611013       20200312.0       2.0     1.0    78.0   \n",
              "...             ...              ...       ...     ...     ...   \n",
              "3381491     6858518              NaN       NaN     1.0    80.0   \n",
              "3381492      745066              NaN       NaN     2.0    80.0   \n",
              "3381493    26737458              NaN       NaN     1.0    55.0   \n",
              "3381494       88155              NaN       NaN     1.0    82.0   \n",
              "3381495      855998              NaN       NaN     2.0    88.0   \n",
              "\n",
              "         departamento_x  fecha_fallecimiento  edad_y  sexo_y  departamento_y  \\\n",
              "0                  10.0                  NaN     NaN     NaN             NaN   \n",
              "1                  15.0                  NaN     NaN     NaN             NaN   \n",
              "2                  15.0                  NaN     NaN     NaN             NaN   \n",
              "3                  15.0                  NaN     NaN     NaN             NaN   \n",
              "4                  15.0           20200319.0    78.0     1.0            15.0   \n",
              "...                 ...                  ...     ...     ...             ...   \n",
              "3381491            18.0           20220511.0    80.0     1.0            18.0   \n",
              "3381492            21.0           20220512.0    80.0     2.0            21.0   \n",
              "3381493            11.0           20220513.0    55.0     1.0            11.0   \n",
              "3381494            24.0           20220514.0    82.0     1.0            24.0   \n",
              "3381495            21.0           20220514.0    88.0     2.0            21.0   \n",
              "\n",
              "         fallecido  fecha_fal    year  epi_week  \n",
              "0                0        NaT     NaN       NaN  \n",
              "1                0        NaT     NaN       NaN  \n",
              "2                0        NaT     NaN       NaN  \n",
              "3                0        NaT     NaN       NaN  \n",
              "4                1 2020-03-19  2020.0      12.0  \n",
              "...            ...        ...     ...       ...  \n",
              "3381491          1 2022-05-11  2022.0      19.0  \n",
              "3381492          1 2022-05-12  2022.0      19.0  \n",
              "3381493          1 2022-05-13  2022.0      19.0  \n",
              "3381494          1 2022-05-14  2022.0      19.0  \n",
              "3381495          1 2022-05-14  2022.0      19.0  \n",
              "\n",
              "[3381496 rows x 14 columns]"
            ],
            "text/html": [
              "\n",
              "  <div id=\"df-509ebe4f-352a-49f8-b92a-abb19bcb1dde\">\n",
              "    <div class=\"colab-df-container\">\n",
              "      <div>\n",
              "<style scoped>\n",
              "    .dataframe tbody tr th:only-of-type {\n",
              "        vertical-align: middle;\n",
              "    }\n",
              "\n",
              "    .dataframe tbody tr th {\n",
              "        vertical-align: top;\n",
              "    }\n",
              "\n",
              "    .dataframe thead th {\n",
              "        text-align: right;\n",
              "    }\n",
              "</style>\n",
              "<table border=\"1\" class=\"dataframe\">\n",
              "  <thead>\n",
              "    <tr style=\"text-align: right;\">\n",
              "      <th></th>\n",
              "      <th>id_persona</th>\n",
              "      <th>fecha_resultado</th>\n",
              "      <th>metododx</th>\n",
              "      <th>sexo_x</th>\n",
              "      <th>edad_x</th>\n",
              "      <th>departamento_x</th>\n",
              "      <th>fecha_fallecimiento</th>\n",
              "      <th>edad_y</th>\n",
              "      <th>sexo_y</th>\n",
              "      <th>departamento_y</th>\n",
              "      <th>fallecido</th>\n",
              "      <th>fecha_fal</th>\n",
              "      <th>year</th>\n",
              "      <th>epi_week</th>\n",
              "    </tr>\n",
              "  </thead>\n",
              "  <tbody>\n",
              "    <tr>\n",
              "      <th>0</th>\n",
              "      <td>13708801</td>\n",
              "      <td>20200309.0</td>\n",
              "      <td>2.0</td>\n",
              "      <td>2.0</td>\n",
              "      <td>15.0</td>\n",
              "      <td>10.0</td>\n",
              "      <td>NaN</td>\n",
              "      <td>NaN</td>\n",
              "      <td>NaN</td>\n",
              "      <td>NaN</td>\n",
              "      <td>0</td>\n",
              "      <td>NaT</td>\n",
              "      <td>NaN</td>\n",
              "      <td>NaN</td>\n",
              "    </tr>\n",
              "    <tr>\n",
              "      <th>1</th>\n",
              "      <td>2020432</td>\n",
              "      <td>20200310.0</td>\n",
              "      <td>2.0</td>\n",
              "      <td>1.0</td>\n",
              "      <td>46.0</td>\n",
              "      <td>15.0</td>\n",
              "      <td>NaN</td>\n",
              "      <td>NaN</td>\n",
              "      <td>NaN</td>\n",
              "      <td>NaN</td>\n",
              "      <td>0</td>\n",
              "      <td>NaT</td>\n",
              "      <td>NaN</td>\n",
              "      <td>NaN</td>\n",
              "    </tr>\n",
              "    <tr>\n",
              "      <th>2</th>\n",
              "      <td>7979960</td>\n",
              "      <td>20200311.0</td>\n",
              "      <td>2.0</td>\n",
              "      <td>2.0</td>\n",
              "      <td>21.0</td>\n",
              "      <td>15.0</td>\n",
              "      <td>NaN</td>\n",
              "      <td>NaN</td>\n",
              "      <td>NaN</td>\n",
              "      <td>NaN</td>\n",
              "      <td>0</td>\n",
              "      <td>NaT</td>\n",
              "      <td>NaN</td>\n",
              "      <td>NaN</td>\n",
              "    </tr>\n",
              "    <tr>\n",
              "      <th>3</th>\n",
              "      <td>5493803</td>\n",
              "      <td>20200311.0</td>\n",
              "      <td>2.0</td>\n",
              "      <td>2.0</td>\n",
              "      <td>28.0</td>\n",
              "      <td>15.0</td>\n",
              "      <td>NaN</td>\n",
              "      <td>NaN</td>\n",
              "      <td>NaN</td>\n",
              "      <td>NaN</td>\n",
              "      <td>0</td>\n",
              "      <td>NaT</td>\n",
              "      <td>NaN</td>\n",
              "      <td>NaN</td>\n",
              "    </tr>\n",
              "    <tr>\n",
              "      <th>4</th>\n",
              "      <td>36611013</td>\n",
              "      <td>20200312.0</td>\n",
              "      <td>2.0</td>\n",
              "      <td>1.0</td>\n",
              "      <td>78.0</td>\n",
              "      <td>15.0</td>\n",
              "      <td>20200319.0</td>\n",
              "      <td>78.0</td>\n",
              "      <td>1.0</td>\n",
              "      <td>15.0</td>\n",
              "      <td>1</td>\n",
              "      <td>2020-03-19</td>\n",
              "      <td>2020.0</td>\n",
              "      <td>12.0</td>\n",
              "    </tr>\n",
              "    <tr>\n",
              "      <th>...</th>\n",
              "      <td>...</td>\n",
              "      <td>...</td>\n",
              "      <td>...</td>\n",
              "      <td>...</td>\n",
              "      <td>...</td>\n",
              "      <td>...</td>\n",
              "      <td>...</td>\n",
              "      <td>...</td>\n",
              "      <td>...</td>\n",
              "      <td>...</td>\n",
              "      <td>...</td>\n",
              "      <td>...</td>\n",
              "      <td>...</td>\n",
              "      <td>...</td>\n",
              "    </tr>\n",
              "    <tr>\n",
              "      <th>3381491</th>\n",
              "      <td>6858518</td>\n",
              "      <td>NaN</td>\n",
              "      <td>NaN</td>\n",
              "      <td>1.0</td>\n",
              "      <td>80.0</td>\n",
              "      <td>18.0</td>\n",
              "      <td>20220511.0</td>\n",
              "      <td>80.0</td>\n",
              "      <td>1.0</td>\n",
              "      <td>18.0</td>\n",
              "      <td>1</td>\n",
              "      <td>2022-05-11</td>\n",
              "      <td>2022.0</td>\n",
              "      <td>19.0</td>\n",
              "    </tr>\n",
              "    <tr>\n",
              "      <th>3381492</th>\n",
              "      <td>745066</td>\n",
              "      <td>NaN</td>\n",
              "      <td>NaN</td>\n",
              "      <td>2.0</td>\n",
              "      <td>80.0</td>\n",
              "      <td>21.0</td>\n",
              "      <td>20220512.0</td>\n",
              "      <td>80.0</td>\n",
              "      <td>2.0</td>\n",
              "      <td>21.0</td>\n",
              "      <td>1</td>\n",
              "      <td>2022-05-12</td>\n",
              "      <td>2022.0</td>\n",
              "      <td>19.0</td>\n",
              "    </tr>\n",
              "    <tr>\n",
              "      <th>3381493</th>\n",
              "      <td>26737458</td>\n",
              "      <td>NaN</td>\n",
              "      <td>NaN</td>\n",
              "      <td>1.0</td>\n",
              "      <td>55.0</td>\n",
              "      <td>11.0</td>\n",
              "      <td>20220513.0</td>\n",
              "      <td>55.0</td>\n",
              "      <td>1.0</td>\n",
              "      <td>11.0</td>\n",
              "      <td>1</td>\n",
              "      <td>2022-05-13</td>\n",
              "      <td>2022.0</td>\n",
              "      <td>19.0</td>\n",
              "    </tr>\n",
              "    <tr>\n",
              "      <th>3381494</th>\n",
              "      <td>88155</td>\n",
              "      <td>NaN</td>\n",
              "      <td>NaN</td>\n",
              "      <td>1.0</td>\n",
              "      <td>82.0</td>\n",
              "      <td>24.0</td>\n",
              "      <td>20220514.0</td>\n",
              "      <td>82.0</td>\n",
              "      <td>1.0</td>\n",
              "      <td>24.0</td>\n",
              "      <td>1</td>\n",
              "      <td>2022-05-14</td>\n",
              "      <td>2022.0</td>\n",
              "      <td>19.0</td>\n",
              "    </tr>\n",
              "    <tr>\n",
              "      <th>3381495</th>\n",
              "      <td>855998</td>\n",
              "      <td>NaN</td>\n",
              "      <td>NaN</td>\n",
              "      <td>2.0</td>\n",
              "      <td>88.0</td>\n",
              "      <td>21.0</td>\n",
              "      <td>20220514.0</td>\n",
              "      <td>88.0</td>\n",
              "      <td>2.0</td>\n",
              "      <td>21.0</td>\n",
              "      <td>1</td>\n",
              "      <td>2022-05-14</td>\n",
              "      <td>2022.0</td>\n",
              "      <td>19.0</td>\n",
              "    </tr>\n",
              "  </tbody>\n",
              "</table>\n",
              "<p>3381496 rows × 14 columns</p>\n",
              "</div>\n",
              "      <button class=\"colab-df-convert\" onclick=\"convertToInteractive('df-509ebe4f-352a-49f8-b92a-abb19bcb1dde')\"\n",
              "              title=\"Convert this dataframe to an interactive table.\"\n",
              "              style=\"display:none;\">\n",
              "        \n",
              "  <svg xmlns=\"http://www.w3.org/2000/svg\" height=\"24px\"viewBox=\"0 0 24 24\"\n",
              "       width=\"24px\">\n",
              "    <path d=\"M0 0h24v24H0V0z\" fill=\"none\"/>\n",
              "    <path d=\"M18.56 5.44l.94 2.06.94-2.06 2.06-.94-2.06-.94-.94-2.06-.94 2.06-2.06.94zm-11 1L8.5 8.5l.94-2.06 2.06-.94-2.06-.94L8.5 2.5l-.94 2.06-2.06.94zm10 10l.94 2.06.94-2.06 2.06-.94-2.06-.94-.94-2.06-.94 2.06-2.06.94z\"/><path d=\"M17.41 7.96l-1.37-1.37c-.4-.4-.92-.59-1.43-.59-.52 0-1.04.2-1.43.59L10.3 9.45l-7.72 7.72c-.78.78-.78 2.05 0 2.83L4 21.41c.39.39.9.59 1.41.59.51 0 1.02-.2 1.41-.59l7.78-7.78 2.81-2.81c.8-.78.8-2.07 0-2.86zM5.41 20L4 18.59l7.72-7.72 1.47 1.35L5.41 20z\"/>\n",
              "  </svg>\n",
              "      </button>\n",
              "      \n",
              "  <style>\n",
              "    .colab-df-container {\n",
              "      display:flex;\n",
              "      flex-wrap:wrap;\n",
              "      gap: 12px;\n",
              "    }\n",
              "\n",
              "    .colab-df-convert {\n",
              "      background-color: #E8F0FE;\n",
              "      border: none;\n",
              "      border-radius: 50%;\n",
              "      cursor: pointer;\n",
              "      display: none;\n",
              "      fill: #1967D2;\n",
              "      height: 32px;\n",
              "      padding: 0 0 0 0;\n",
              "      width: 32px;\n",
              "    }\n",
              "\n",
              "    .colab-df-convert:hover {\n",
              "      background-color: #E2EBFA;\n",
              "      box-shadow: 0px 1px 2px rgba(60, 64, 67, 0.3), 0px 1px 3px 1px rgba(60, 64, 67, 0.15);\n",
              "      fill: #174EA6;\n",
              "    }\n",
              "\n",
              "    [theme=dark] .colab-df-convert {\n",
              "      background-color: #3B4455;\n",
              "      fill: #D2E3FC;\n",
              "    }\n",
              "\n",
              "    [theme=dark] .colab-df-convert:hover {\n",
              "      background-color: #434B5C;\n",
              "      box-shadow: 0px 1px 3px 1px rgba(0, 0, 0, 0.15);\n",
              "      filter: drop-shadow(0px 1px 2px rgba(0, 0, 0, 0.3));\n",
              "      fill: #FFFFFF;\n",
              "    }\n",
              "  </style>\n",
              "\n",
              "      <script>\n",
              "        const buttonEl =\n",
              "          document.querySelector('#df-509ebe4f-352a-49f8-b92a-abb19bcb1dde button.colab-df-convert');\n",
              "        buttonEl.style.display =\n",
              "          google.colab.kernel.accessAllowed ? 'block' : 'none';\n",
              "\n",
              "        async function convertToInteractive(key) {\n",
              "          const element = document.querySelector('#df-509ebe4f-352a-49f8-b92a-abb19bcb1dde');\n",
              "          const dataTable =\n",
              "            await google.colab.kernel.invokeFunction('convertToInteractive',\n",
              "                                                     [key], {});\n",
              "          if (!dataTable) return;\n",
              "\n",
              "          const docLinkHtml = 'Like what you see? Visit the ' +\n",
              "            '<a target=\"_blank\" href=https://colab.research.google.com/notebooks/data_table.ipynb>data table notebook</a>'\n",
              "            + ' to learn more about interactive tables.';\n",
              "          element.innerHTML = '';\n",
              "          dataTable['output_type'] = 'display_data';\n",
              "          await google.colab.output.renderOutput(dataTable, element);\n",
              "          const docLink = document.createElement('div');\n",
              "          docLink.innerHTML = docLinkHtml;\n",
              "          element.appendChild(docLink);\n",
              "        }\n",
              "      </script>\n",
              "    </div>\n",
              "  </div>\n",
              "  "
            ]
          },
          "metadata": {},
          "execution_count": 62
        }
      ],
      "source": [
        "df"
      ]
    },
    {
      "cell_type": "code",
      "execution_count": 63,
      "metadata": {
        "id": "IZTvKJWk-H-R"
      },
      "outputs": [],
      "source": [
        "# Renombramos y ordenamos columnas\n",
        "df = df.rename(columns = {'sexo_x': 'sexo', 'edad_x': 'edad', 'departamento_x': 'departamento'})\n",
        "df = df[['id_persona', 'fecha_resultado', 'metododx', 'sexo', 'edad', 'departamento',\n",
        "         'fallecido', 'fecha_fallecimiento', 'fecha_fal', 'year', 'epi_week']]"
      ]
    },
    {
      "cell_type": "code",
      "execution_count": 64,
      "metadata": {
        "colab": {
          "base_uri": "https://localhost:8080/",
          "height": 270
        },
        "id": "x73umtOJ_oJO",
        "outputId": "9c62f8db-c859-47b6-f267-dc7acdb02d6d"
      },
      "outputs": [
        {
          "output_type": "execute_result",
          "data": {
            "text/plain": [
              "   id_persona  fecha_resultado  metododx  sexo  edad  departamento  fallecido  \\\n",
              "0    13708801       20200309.0       2.0   2.0  15.0          10.0          0   \n",
              "1     2020432       20200310.0       2.0   1.0  46.0          15.0          0   \n",
              "2     7979960       20200311.0       2.0   2.0  21.0          15.0          0   \n",
              "3     5493803       20200311.0       2.0   2.0  28.0          15.0          0   \n",
              "4    36611013       20200312.0       2.0   1.0  78.0          15.0          1   \n",
              "\n",
              "   fecha_fallecimiento  fecha_fal    year  epi_week  \n",
              "0                  NaN        NaT     NaN       NaN  \n",
              "1                  NaN        NaT     NaN       NaN  \n",
              "2                  NaN        NaT     NaN       NaN  \n",
              "3                  NaN        NaT     NaN       NaN  \n",
              "4           20200319.0 2020-03-19  2020.0      12.0  "
            ],
            "text/html": [
              "\n",
              "  <div id=\"df-c67dfeb8-3ed4-4813-ae37-befffc2c0fd1\">\n",
              "    <div class=\"colab-df-container\">\n",
              "      <div>\n",
              "<style scoped>\n",
              "    .dataframe tbody tr th:only-of-type {\n",
              "        vertical-align: middle;\n",
              "    }\n",
              "\n",
              "    .dataframe tbody tr th {\n",
              "        vertical-align: top;\n",
              "    }\n",
              "\n",
              "    .dataframe thead th {\n",
              "        text-align: right;\n",
              "    }\n",
              "</style>\n",
              "<table border=\"1\" class=\"dataframe\">\n",
              "  <thead>\n",
              "    <tr style=\"text-align: right;\">\n",
              "      <th></th>\n",
              "      <th>id_persona</th>\n",
              "      <th>fecha_resultado</th>\n",
              "      <th>metododx</th>\n",
              "      <th>sexo</th>\n",
              "      <th>edad</th>\n",
              "      <th>departamento</th>\n",
              "      <th>fallecido</th>\n",
              "      <th>fecha_fallecimiento</th>\n",
              "      <th>fecha_fal</th>\n",
              "      <th>year</th>\n",
              "      <th>epi_week</th>\n",
              "    </tr>\n",
              "  </thead>\n",
              "  <tbody>\n",
              "    <tr>\n",
              "      <th>0</th>\n",
              "      <td>13708801</td>\n",
              "      <td>20200309.0</td>\n",
              "      <td>2.0</td>\n",
              "      <td>2.0</td>\n",
              "      <td>15.0</td>\n",
              "      <td>10.0</td>\n",
              "      <td>0</td>\n",
              "      <td>NaN</td>\n",
              "      <td>NaT</td>\n",
              "      <td>NaN</td>\n",
              "      <td>NaN</td>\n",
              "    </tr>\n",
              "    <tr>\n",
              "      <th>1</th>\n",
              "      <td>2020432</td>\n",
              "      <td>20200310.0</td>\n",
              "      <td>2.0</td>\n",
              "      <td>1.0</td>\n",
              "      <td>46.0</td>\n",
              "      <td>15.0</td>\n",
              "      <td>0</td>\n",
              "      <td>NaN</td>\n",
              "      <td>NaT</td>\n",
              "      <td>NaN</td>\n",
              "      <td>NaN</td>\n",
              "    </tr>\n",
              "    <tr>\n",
              "      <th>2</th>\n",
              "      <td>7979960</td>\n",
              "      <td>20200311.0</td>\n",
              "      <td>2.0</td>\n",
              "      <td>2.0</td>\n",
              "      <td>21.0</td>\n",
              "      <td>15.0</td>\n",
              "      <td>0</td>\n",
              "      <td>NaN</td>\n",
              "      <td>NaT</td>\n",
              "      <td>NaN</td>\n",
              "      <td>NaN</td>\n",
              "    </tr>\n",
              "    <tr>\n",
              "      <th>3</th>\n",
              "      <td>5493803</td>\n",
              "      <td>20200311.0</td>\n",
              "      <td>2.0</td>\n",
              "      <td>2.0</td>\n",
              "      <td>28.0</td>\n",
              "      <td>15.0</td>\n",
              "      <td>0</td>\n",
              "      <td>NaN</td>\n",
              "      <td>NaT</td>\n",
              "      <td>NaN</td>\n",
              "      <td>NaN</td>\n",
              "    </tr>\n",
              "    <tr>\n",
              "      <th>4</th>\n",
              "      <td>36611013</td>\n",
              "      <td>20200312.0</td>\n",
              "      <td>2.0</td>\n",
              "      <td>1.0</td>\n",
              "      <td>78.0</td>\n",
              "      <td>15.0</td>\n",
              "      <td>1</td>\n",
              "      <td>20200319.0</td>\n",
              "      <td>2020-03-19</td>\n",
              "      <td>2020.0</td>\n",
              "      <td>12.0</td>\n",
              "    </tr>\n",
              "  </tbody>\n",
              "</table>\n",
              "</div>\n",
              "      <button class=\"colab-df-convert\" onclick=\"convertToInteractive('df-c67dfeb8-3ed4-4813-ae37-befffc2c0fd1')\"\n",
              "              title=\"Convert this dataframe to an interactive table.\"\n",
              "              style=\"display:none;\">\n",
              "        \n",
              "  <svg xmlns=\"http://www.w3.org/2000/svg\" height=\"24px\"viewBox=\"0 0 24 24\"\n",
              "       width=\"24px\">\n",
              "    <path d=\"M0 0h24v24H0V0z\" fill=\"none\"/>\n",
              "    <path d=\"M18.56 5.44l.94 2.06.94-2.06 2.06-.94-2.06-.94-.94-2.06-.94 2.06-2.06.94zm-11 1L8.5 8.5l.94-2.06 2.06-.94-2.06-.94L8.5 2.5l-.94 2.06-2.06.94zm10 10l.94 2.06.94-2.06 2.06-.94-2.06-.94-.94-2.06-.94 2.06-2.06.94z\"/><path d=\"M17.41 7.96l-1.37-1.37c-.4-.4-.92-.59-1.43-.59-.52 0-1.04.2-1.43.59L10.3 9.45l-7.72 7.72c-.78.78-.78 2.05 0 2.83L4 21.41c.39.39.9.59 1.41.59.51 0 1.02-.2 1.41-.59l7.78-7.78 2.81-2.81c.8-.78.8-2.07 0-2.86zM5.41 20L4 18.59l7.72-7.72 1.47 1.35L5.41 20z\"/>\n",
              "  </svg>\n",
              "      </button>\n",
              "      \n",
              "  <style>\n",
              "    .colab-df-container {\n",
              "      display:flex;\n",
              "      flex-wrap:wrap;\n",
              "      gap: 12px;\n",
              "    }\n",
              "\n",
              "    .colab-df-convert {\n",
              "      background-color: #E8F0FE;\n",
              "      border: none;\n",
              "      border-radius: 50%;\n",
              "      cursor: pointer;\n",
              "      display: none;\n",
              "      fill: #1967D2;\n",
              "      height: 32px;\n",
              "      padding: 0 0 0 0;\n",
              "      width: 32px;\n",
              "    }\n",
              "\n",
              "    .colab-df-convert:hover {\n",
              "      background-color: #E2EBFA;\n",
              "      box-shadow: 0px 1px 2px rgba(60, 64, 67, 0.3), 0px 1px 3px 1px rgba(60, 64, 67, 0.15);\n",
              "      fill: #174EA6;\n",
              "    }\n",
              "\n",
              "    [theme=dark] .colab-df-convert {\n",
              "      background-color: #3B4455;\n",
              "      fill: #D2E3FC;\n",
              "    }\n",
              "\n",
              "    [theme=dark] .colab-df-convert:hover {\n",
              "      background-color: #434B5C;\n",
              "      box-shadow: 0px 1px 3px 1px rgba(0, 0, 0, 0.15);\n",
              "      filter: drop-shadow(0px 1px 2px rgba(0, 0, 0, 0.3));\n",
              "      fill: #FFFFFF;\n",
              "    }\n",
              "  </style>\n",
              "\n",
              "      <script>\n",
              "        const buttonEl =\n",
              "          document.querySelector('#df-c67dfeb8-3ed4-4813-ae37-befffc2c0fd1 button.colab-df-convert');\n",
              "        buttonEl.style.display =\n",
              "          google.colab.kernel.accessAllowed ? 'block' : 'none';\n",
              "\n",
              "        async function convertToInteractive(key) {\n",
              "          const element = document.querySelector('#df-c67dfeb8-3ed4-4813-ae37-befffc2c0fd1');\n",
              "          const dataTable =\n",
              "            await google.colab.kernel.invokeFunction('convertToInteractive',\n",
              "                                                     [key], {});\n",
              "          if (!dataTable) return;\n",
              "\n",
              "          const docLinkHtml = 'Like what you see? Visit the ' +\n",
              "            '<a target=\"_blank\" href=https://colab.research.google.com/notebooks/data_table.ipynb>data table notebook</a>'\n",
              "            + ' to learn more about interactive tables.';\n",
              "          element.innerHTML = '';\n",
              "          dataTable['output_type'] = 'display_data';\n",
              "          await google.colab.output.renderOutput(dataTable, element);\n",
              "          const docLink = document.createElement('div');\n",
              "          docLink.innerHTML = docLinkHtml;\n",
              "          element.appendChild(docLink);\n",
              "        }\n",
              "      </script>\n",
              "    </div>\n",
              "  </div>\n",
              "  "
            ]
          },
          "metadata": {},
          "execution_count": 64
        }
      ],
      "source": [
        "df.head()"
      ]
    },
    {
      "cell_type": "code",
      "execution_count": 65,
      "metadata": {
        "colab": {
          "base_uri": "https://localhost:8080/"
        },
        "id": "jub0mFDlbY4F",
        "outputId": "30f0da6e-0003-4da4-9e3c-2d4f21573d8f"
      },
      "outputs": [
        {
          "output_type": "stream",
          "name": "stdout",
          "text": [
            "Primera fecha reportada de un fallecimiento en el dataset: 2020-03-03 00:00:00\n",
            "Última fecha reportada de un fallecimiento el dataset: 2022-05-14 00:00:00\n"
          ]
        }
      ],
      "source": [
        "# Obtener el número de días a partir del inicio de la pandemia en que una persona fallece\n",
        "def days_between(d1, d2):\n",
        "    '''Función que retorna el número de días entre 2 días dados'''\n",
        "    return abs((d2 - d1).days)\n",
        "\n",
        "fecha_min = df['fecha_fal'].min()\n",
        "print(f'Primera fecha reportada de un fallecimiento en el dataset: {fecha_min}')\n",
        "fecha_max = df['fecha_fal'].max()\n",
        "print(f'Última fecha reportada de un fallecimiento el dataset: {fecha_max}')\n",
        "\n",
        "# Obtener el número de días transcurridos a partir de la primera fecha reportada (fecha_min)\n",
        "df['tiempo_fal'] = df['fecha_fal'].apply(lambda row : days_between(row, fecha_min)+1)\n",
        "\n",
        "# Llenar 'nan values' con la última fecha del estudio\n",
        "#df['tiempo_fal'] = df['tiempo_fal'].fillna(df['tiempo_fal'].max()).astype('int')"
      ]
    },
    {
      "cell_type": "markdown",
      "source": [
        "**NOTA**: Se toma como fecha cero la de fallecimiento porque el primer reporte de caso confirmado se da luego del reporte primer reporte de fallecimiento por COVID-19."
      ],
      "metadata": {
        "id": "wCOjLPGpuZjZ"
      }
    },
    {
      "cell_type": "markdown",
      "source": [
        "Ahora se busca transformar los días de fallecimientos (tiempo_fal) en semanas, para mostrar datos agrupados de una mejor manera."
      ],
      "metadata": {
        "id": "54Ufj8DliPif"
      }
    },
    {
      "cell_type": "code",
      "source": [
        "df.fecha_fal.min()  # fecha de primer fallecimiento 3 de marzo del 2020"
      ],
      "metadata": {
        "colab": {
          "base_uri": "https://localhost:8080/"
        },
        "id": "mMzS2j8GYtQc",
        "outputId": "a269895a-1606-45a2-c2fa-6cfb11ce7498"
      },
      "execution_count": 66,
      "outputs": [
        {
          "output_type": "execute_result",
          "data": {
            "text/plain": [
              "Timestamp('2020-03-03 00:00:00')"
            ]
          },
          "metadata": {},
          "execution_count": 66
        }
      ]
    },
    {
      "cell_type": "code",
      "source": [
        "import calendar\n",
        "\n",
        "print(calendar.month(2020, 3))"
      ],
      "metadata": {
        "colab": {
          "base_uri": "https://localhost:8080/"
        },
        "id": "RuMKKCK7Z8Be",
        "outputId": "06748c9c-1506-40fb-8485-26c42d986b88"
      },
      "execution_count": 67,
      "outputs": [
        {
          "output_type": "stream",
          "name": "stdout",
          "text": [
            "     March 2020\n",
            "Mo Tu We Th Fr Sa Su\n",
            "                   1\n",
            " 2  3  4  5  6  7  8\n",
            " 9 10 11 12 13 14 15\n",
            "16 17 18 19 20 21 22\n",
            "23 24 25 26 27 28 29\n",
            "30 31\n",
            "\n"
          ]
        }
      ]
    },
    {
      "cell_type": "markdown",
      "source": [
        "Lo que se necesita es agregar nuestra semana 1 desde el reporte del primer fallecido, es decir el 3 de marzo del 2020.\n",
        "\n",
        "- Día 2 al 8 de marzo   | semana 1\n",
        "- Día 9 al 15 de marzo  | semana 2\n",
        "- Día 16 al 22 de marzo | semana 3\n",
        "- Día 23 al 29 de marzo | semana 4\n",
        "- ..."
      ],
      "metadata": {
        "id": "Gxfg7ImMiqZ3"
      }
    },
    {
      "cell_type": "code",
      "source": [
        "week_equivalent = {}  # Diccionario con la equivalencia de semana para cada día de fallecimiento\n",
        "i = 0\n",
        "week = 1\n",
        "\n",
        "for day in range(0, int(df.tiempo_fal.max()) + 1):\n",
        "  week_equivalent.update({day: week})\n",
        "  i += 1\n",
        "  if i%7 == 0:\n",
        "    week += 1"
      ],
      "metadata": {
        "id": "PeYdpdpAcDRS"
      },
      "execution_count": 103,
      "outputs": []
    },
    {
      "cell_type": "markdown",
      "source": [
        "Generar una nueva columna con nuestro diccionario que agrega la semana correspondiente para cada día de fallecimiento."
      ],
      "metadata": {
        "id": "4PufTYQ_jpSs"
      }
    },
    {
      "cell_type": "code",
      "source": [
        "df['semana_fal'] = df['tiempo_fal'].map(week_equivalent)  # Columna con la semana de fallecimiento"
      ],
      "metadata": {
        "id": "1hr9A9vwJxUG"
      },
      "execution_count": 104,
      "outputs": []
    },
    {
      "cell_type": "code",
      "execution_count": 105,
      "metadata": {
        "colab": {
          "base_uri": "https://localhost:8080/",
          "height": 270
        },
        "id": "e1XRhBmSrv_e",
        "outputId": "1fcb96c3-7368-4da1-938c-61cf63a41f56"
      },
      "outputs": [
        {
          "output_type": "execute_result",
          "data": {
            "text/plain": [
              "     id_persona  fecha_resultado  metododx  sexo  edad  edad_cat  \\\n",
              "4      36611013       20200312.0       2.0     1    78         6   \n",
              "9      36889651       20200312.0       2.0     2    75         6   \n",
              "49     36450848       20200315.0       2.0     1    96         7   \n",
              "58     36539210       20200316.0       2.0     1    71         6   \n",
              "110    36764997       20200318.0       2.0     1    45         3   \n",
              "\n",
              "     departamento  fallecido  fecha_fallecimiento  fecha_fal    year  \\\n",
              "4              15          1           20200319.0 2020-03-19  2020.0   \n",
              "9              15          1           20200320.0 2020-03-20  2020.0   \n",
              "49             15          1           20200329.0 2020-03-29  2020.0   \n",
              "58              7          1           20200414.0 2020-04-14  2020.0   \n",
              "110            15          1           20200319.0 2020-03-19  2020.0   \n",
              "\n",
              "     epi_week  tiempo_fal  semana_fal  \n",
              "4        12.0        17.0         3.0  \n",
              "9        12.0        18.0         3.0  \n",
              "49       14.0        27.0         4.0  \n",
              "58       16.0        43.0         7.0  \n",
              "110      12.0        17.0         3.0  "
            ],
            "text/html": [
              "\n",
              "  <div id=\"df-16ba1486-7411-4102-9df7-d0fe6b5bf696\">\n",
              "    <div class=\"colab-df-container\">\n",
              "      <div>\n",
              "<style scoped>\n",
              "    .dataframe tbody tr th:only-of-type {\n",
              "        vertical-align: middle;\n",
              "    }\n",
              "\n",
              "    .dataframe tbody tr th {\n",
              "        vertical-align: top;\n",
              "    }\n",
              "\n",
              "    .dataframe thead th {\n",
              "        text-align: right;\n",
              "    }\n",
              "</style>\n",
              "<table border=\"1\" class=\"dataframe\">\n",
              "  <thead>\n",
              "    <tr style=\"text-align: right;\">\n",
              "      <th></th>\n",
              "      <th>id_persona</th>\n",
              "      <th>fecha_resultado</th>\n",
              "      <th>metododx</th>\n",
              "      <th>sexo</th>\n",
              "      <th>edad</th>\n",
              "      <th>edad_cat</th>\n",
              "      <th>departamento</th>\n",
              "      <th>fallecido</th>\n",
              "      <th>fecha_fallecimiento</th>\n",
              "      <th>fecha_fal</th>\n",
              "      <th>year</th>\n",
              "      <th>epi_week</th>\n",
              "      <th>tiempo_fal</th>\n",
              "      <th>semana_fal</th>\n",
              "    </tr>\n",
              "  </thead>\n",
              "  <tbody>\n",
              "    <tr>\n",
              "      <th>4</th>\n",
              "      <td>36611013</td>\n",
              "      <td>20200312.0</td>\n",
              "      <td>2.0</td>\n",
              "      <td>1</td>\n",
              "      <td>78</td>\n",
              "      <td>6</td>\n",
              "      <td>15</td>\n",
              "      <td>1</td>\n",
              "      <td>20200319.0</td>\n",
              "      <td>2020-03-19</td>\n",
              "      <td>2020.0</td>\n",
              "      <td>12.0</td>\n",
              "      <td>17.0</td>\n",
              "      <td>3.0</td>\n",
              "    </tr>\n",
              "    <tr>\n",
              "      <th>9</th>\n",
              "      <td>36889651</td>\n",
              "      <td>20200312.0</td>\n",
              "      <td>2.0</td>\n",
              "      <td>2</td>\n",
              "      <td>75</td>\n",
              "      <td>6</td>\n",
              "      <td>15</td>\n",
              "      <td>1</td>\n",
              "      <td>20200320.0</td>\n",
              "      <td>2020-03-20</td>\n",
              "      <td>2020.0</td>\n",
              "      <td>12.0</td>\n",
              "      <td>18.0</td>\n",
              "      <td>3.0</td>\n",
              "    </tr>\n",
              "    <tr>\n",
              "      <th>49</th>\n",
              "      <td>36450848</td>\n",
              "      <td>20200315.0</td>\n",
              "      <td>2.0</td>\n",
              "      <td>1</td>\n",
              "      <td>96</td>\n",
              "      <td>7</td>\n",
              "      <td>15</td>\n",
              "      <td>1</td>\n",
              "      <td>20200329.0</td>\n",
              "      <td>2020-03-29</td>\n",
              "      <td>2020.0</td>\n",
              "      <td>14.0</td>\n",
              "      <td>27.0</td>\n",
              "      <td>4.0</td>\n",
              "    </tr>\n",
              "    <tr>\n",
              "      <th>58</th>\n",
              "      <td>36539210</td>\n",
              "      <td>20200316.0</td>\n",
              "      <td>2.0</td>\n",
              "      <td>1</td>\n",
              "      <td>71</td>\n",
              "      <td>6</td>\n",
              "      <td>7</td>\n",
              "      <td>1</td>\n",
              "      <td>20200414.0</td>\n",
              "      <td>2020-04-14</td>\n",
              "      <td>2020.0</td>\n",
              "      <td>16.0</td>\n",
              "      <td>43.0</td>\n",
              "      <td>7.0</td>\n",
              "    </tr>\n",
              "    <tr>\n",
              "      <th>110</th>\n",
              "      <td>36764997</td>\n",
              "      <td>20200318.0</td>\n",
              "      <td>2.0</td>\n",
              "      <td>1</td>\n",
              "      <td>45</td>\n",
              "      <td>3</td>\n",
              "      <td>15</td>\n",
              "      <td>1</td>\n",
              "      <td>20200319.0</td>\n",
              "      <td>2020-03-19</td>\n",
              "      <td>2020.0</td>\n",
              "      <td>12.0</td>\n",
              "      <td>17.0</td>\n",
              "      <td>3.0</td>\n",
              "    </tr>\n",
              "  </tbody>\n",
              "</table>\n",
              "</div>\n",
              "      <button class=\"colab-df-convert\" onclick=\"convertToInteractive('df-16ba1486-7411-4102-9df7-d0fe6b5bf696')\"\n",
              "              title=\"Convert this dataframe to an interactive table.\"\n",
              "              style=\"display:none;\">\n",
              "        \n",
              "  <svg xmlns=\"http://www.w3.org/2000/svg\" height=\"24px\"viewBox=\"0 0 24 24\"\n",
              "       width=\"24px\">\n",
              "    <path d=\"M0 0h24v24H0V0z\" fill=\"none\"/>\n",
              "    <path d=\"M18.56 5.44l.94 2.06.94-2.06 2.06-.94-2.06-.94-.94-2.06-.94 2.06-2.06.94zm-11 1L8.5 8.5l.94-2.06 2.06-.94-2.06-.94L8.5 2.5l-.94 2.06-2.06.94zm10 10l.94 2.06.94-2.06 2.06-.94-2.06-.94-.94-2.06-.94 2.06-2.06.94z\"/><path d=\"M17.41 7.96l-1.37-1.37c-.4-.4-.92-.59-1.43-.59-.52 0-1.04.2-1.43.59L10.3 9.45l-7.72 7.72c-.78.78-.78 2.05 0 2.83L4 21.41c.39.39.9.59 1.41.59.51 0 1.02-.2 1.41-.59l7.78-7.78 2.81-2.81c.8-.78.8-2.07 0-2.86zM5.41 20L4 18.59l7.72-7.72 1.47 1.35L5.41 20z\"/>\n",
              "  </svg>\n",
              "      </button>\n",
              "      \n",
              "  <style>\n",
              "    .colab-df-container {\n",
              "      display:flex;\n",
              "      flex-wrap:wrap;\n",
              "      gap: 12px;\n",
              "    }\n",
              "\n",
              "    .colab-df-convert {\n",
              "      background-color: #E8F0FE;\n",
              "      border: none;\n",
              "      border-radius: 50%;\n",
              "      cursor: pointer;\n",
              "      display: none;\n",
              "      fill: #1967D2;\n",
              "      height: 32px;\n",
              "      padding: 0 0 0 0;\n",
              "      width: 32px;\n",
              "    }\n",
              "\n",
              "    .colab-df-convert:hover {\n",
              "      background-color: #E2EBFA;\n",
              "      box-shadow: 0px 1px 2px rgba(60, 64, 67, 0.3), 0px 1px 3px 1px rgba(60, 64, 67, 0.15);\n",
              "      fill: #174EA6;\n",
              "    }\n",
              "\n",
              "    [theme=dark] .colab-df-convert {\n",
              "      background-color: #3B4455;\n",
              "      fill: #D2E3FC;\n",
              "    }\n",
              "\n",
              "    [theme=dark] .colab-df-convert:hover {\n",
              "      background-color: #434B5C;\n",
              "      box-shadow: 0px 1px 3px 1px rgba(0, 0, 0, 0.15);\n",
              "      filter: drop-shadow(0px 1px 2px rgba(0, 0, 0, 0.3));\n",
              "      fill: #FFFFFF;\n",
              "    }\n",
              "  </style>\n",
              "\n",
              "      <script>\n",
              "        const buttonEl =\n",
              "          document.querySelector('#df-16ba1486-7411-4102-9df7-d0fe6b5bf696 button.colab-df-convert');\n",
              "        buttonEl.style.display =\n",
              "          google.colab.kernel.accessAllowed ? 'block' : 'none';\n",
              "\n",
              "        async function convertToInteractive(key) {\n",
              "          const element = document.querySelector('#df-16ba1486-7411-4102-9df7-d0fe6b5bf696');\n",
              "          const dataTable =\n",
              "            await google.colab.kernel.invokeFunction('convertToInteractive',\n",
              "                                                     [key], {});\n",
              "          if (!dataTable) return;\n",
              "\n",
              "          const docLinkHtml = 'Like what you see? Visit the ' +\n",
              "            '<a target=\"_blank\" href=https://colab.research.google.com/notebooks/data_table.ipynb>data table notebook</a>'\n",
              "            + ' to learn more about interactive tables.';\n",
              "          element.innerHTML = '';\n",
              "          dataTable['output_type'] = 'display_data';\n",
              "          await google.colab.output.renderOutput(dataTable, element);\n",
              "          const docLink = document.createElement('div');\n",
              "          docLink.innerHTML = docLinkHtml;\n",
              "          element.appendChild(docLink);\n",
              "        }\n",
              "      </script>\n",
              "    </div>\n",
              "  </div>\n",
              "  "
            ]
          },
          "metadata": {},
          "execution_count": 105
        }
      ],
      "source": [
        "df[df.fallecido == 1].head()"
      ]
    },
    {
      "cell_type": "code",
      "execution_count": 106,
      "metadata": {
        "id": "hv_175g55Zxl"
      },
      "outputs": [],
      "source": [
        "# Categorizar edad en grupos etáreos\n",
        "def edad_cat(df, col):\n",
        "    \"\"\"Función para categorizar edad en grupos etáreos\"\"\"\n",
        "    conditions = [(df[col]< 18),\n",
        "                  (df[col]>=18) & (df[col]<30),\n",
        "                  (df[col]>=30) & (df[col]<40),\n",
        "                  (df[col]>=40) & (df[col]<50),\n",
        "                  (df[col]>=50) & (df[col]<60),\n",
        "                  (df[col]>=60) & (df[col]<70),\n",
        "                  (df[col]>=70) & (df[col]<80),\n",
        "                  (df[col]>=80)]\n",
        "    choices = [0,1,2,3,4,5,6,7]\n",
        "    return np.select(conditions, choices, default=np.nan).astype('int8')\n",
        "\n",
        "df['edad_cat'] = edad_cat(df, 'edad') "
      ]
    },
    {
      "cell_type": "code",
      "execution_count": 107,
      "metadata": {
        "id": "gFL5hrt8bY4G"
      },
      "outputs": [],
      "source": [
        "# Ordenar columnas\n",
        "df = df[['id_persona', 'fecha_resultado', 'metododx', 'sexo', 'edad', 'edad_cat',\n",
        "       'departamento', 'fallecido', 'fecha_fallecimiento', 'fecha_fal', 'year',\n",
        "       'epi_week', 'tiempo_fal', 'semana_fal']]"
      ]
    },
    {
      "cell_type": "code",
      "execution_count": 108,
      "metadata": {
        "id": "RhG1LGTsEY-z"
      },
      "outputs": [],
      "source": [
        "# Transformar 'data types'\n",
        "df = df.astype({'sexo': 'int8', 'edad': 'int8', 'departamento': 'int8'})"
      ]
    },
    {
      "cell_type": "code",
      "execution_count": 109,
      "metadata": {
        "colab": {
          "base_uri": "https://localhost:8080/",
          "height": 270
        },
        "id": "JxNf_-NFET3M",
        "outputId": "e9d0bf7a-38d7-4c35-ed4c-1a345cf7cac4"
      },
      "outputs": [
        {
          "output_type": "execute_result",
          "data": {
            "text/plain": [
              "   id_persona  fecha_resultado  metododx  sexo  edad  edad_cat  departamento  \\\n",
              "0    13708801       20200309.0       2.0     2    15         0            10   \n",
              "1     2020432       20200310.0       2.0     1    46         3            15   \n",
              "2     7979960       20200311.0       2.0     2    21         1            15   \n",
              "3     5493803       20200311.0       2.0     2    28         1            15   \n",
              "4    36611013       20200312.0       2.0     1    78         6            15   \n",
              "\n",
              "   fallecido  fecha_fallecimiento  fecha_fal    year  epi_week  tiempo_fal  \\\n",
              "0          0                  NaN        NaT     NaN       NaN         NaN   \n",
              "1          0                  NaN        NaT     NaN       NaN         NaN   \n",
              "2          0                  NaN        NaT     NaN       NaN         NaN   \n",
              "3          0                  NaN        NaT     NaN       NaN         NaN   \n",
              "4          1           20200319.0 2020-03-19  2020.0      12.0        17.0   \n",
              "\n",
              "   semana_fal  \n",
              "0         NaN  \n",
              "1         NaN  \n",
              "2         NaN  \n",
              "3         NaN  \n",
              "4         3.0  "
            ],
            "text/html": [
              "\n",
              "  <div id=\"df-b756952a-96d4-4d70-88c5-453af7ca440b\">\n",
              "    <div class=\"colab-df-container\">\n",
              "      <div>\n",
              "<style scoped>\n",
              "    .dataframe tbody tr th:only-of-type {\n",
              "        vertical-align: middle;\n",
              "    }\n",
              "\n",
              "    .dataframe tbody tr th {\n",
              "        vertical-align: top;\n",
              "    }\n",
              "\n",
              "    .dataframe thead th {\n",
              "        text-align: right;\n",
              "    }\n",
              "</style>\n",
              "<table border=\"1\" class=\"dataframe\">\n",
              "  <thead>\n",
              "    <tr style=\"text-align: right;\">\n",
              "      <th></th>\n",
              "      <th>id_persona</th>\n",
              "      <th>fecha_resultado</th>\n",
              "      <th>metododx</th>\n",
              "      <th>sexo</th>\n",
              "      <th>edad</th>\n",
              "      <th>edad_cat</th>\n",
              "      <th>departamento</th>\n",
              "      <th>fallecido</th>\n",
              "      <th>fecha_fallecimiento</th>\n",
              "      <th>fecha_fal</th>\n",
              "      <th>year</th>\n",
              "      <th>epi_week</th>\n",
              "      <th>tiempo_fal</th>\n",
              "      <th>semana_fal</th>\n",
              "    </tr>\n",
              "  </thead>\n",
              "  <tbody>\n",
              "    <tr>\n",
              "      <th>0</th>\n",
              "      <td>13708801</td>\n",
              "      <td>20200309.0</td>\n",
              "      <td>2.0</td>\n",
              "      <td>2</td>\n",
              "      <td>15</td>\n",
              "      <td>0</td>\n",
              "      <td>10</td>\n",
              "      <td>0</td>\n",
              "      <td>NaN</td>\n",
              "      <td>NaT</td>\n",
              "      <td>NaN</td>\n",
              "      <td>NaN</td>\n",
              "      <td>NaN</td>\n",
              "      <td>NaN</td>\n",
              "    </tr>\n",
              "    <tr>\n",
              "      <th>1</th>\n",
              "      <td>2020432</td>\n",
              "      <td>20200310.0</td>\n",
              "      <td>2.0</td>\n",
              "      <td>1</td>\n",
              "      <td>46</td>\n",
              "      <td>3</td>\n",
              "      <td>15</td>\n",
              "      <td>0</td>\n",
              "      <td>NaN</td>\n",
              "      <td>NaT</td>\n",
              "      <td>NaN</td>\n",
              "      <td>NaN</td>\n",
              "      <td>NaN</td>\n",
              "      <td>NaN</td>\n",
              "    </tr>\n",
              "    <tr>\n",
              "      <th>2</th>\n",
              "      <td>7979960</td>\n",
              "      <td>20200311.0</td>\n",
              "      <td>2.0</td>\n",
              "      <td>2</td>\n",
              "      <td>21</td>\n",
              "      <td>1</td>\n",
              "      <td>15</td>\n",
              "      <td>0</td>\n",
              "      <td>NaN</td>\n",
              "      <td>NaT</td>\n",
              "      <td>NaN</td>\n",
              "      <td>NaN</td>\n",
              "      <td>NaN</td>\n",
              "      <td>NaN</td>\n",
              "    </tr>\n",
              "    <tr>\n",
              "      <th>3</th>\n",
              "      <td>5493803</td>\n",
              "      <td>20200311.0</td>\n",
              "      <td>2.0</td>\n",
              "      <td>2</td>\n",
              "      <td>28</td>\n",
              "      <td>1</td>\n",
              "      <td>15</td>\n",
              "      <td>0</td>\n",
              "      <td>NaN</td>\n",
              "      <td>NaT</td>\n",
              "      <td>NaN</td>\n",
              "      <td>NaN</td>\n",
              "      <td>NaN</td>\n",
              "      <td>NaN</td>\n",
              "    </tr>\n",
              "    <tr>\n",
              "      <th>4</th>\n",
              "      <td>36611013</td>\n",
              "      <td>20200312.0</td>\n",
              "      <td>2.0</td>\n",
              "      <td>1</td>\n",
              "      <td>78</td>\n",
              "      <td>6</td>\n",
              "      <td>15</td>\n",
              "      <td>1</td>\n",
              "      <td>20200319.0</td>\n",
              "      <td>2020-03-19</td>\n",
              "      <td>2020.0</td>\n",
              "      <td>12.0</td>\n",
              "      <td>17.0</td>\n",
              "      <td>3.0</td>\n",
              "    </tr>\n",
              "  </tbody>\n",
              "</table>\n",
              "</div>\n",
              "      <button class=\"colab-df-convert\" onclick=\"convertToInteractive('df-b756952a-96d4-4d70-88c5-453af7ca440b')\"\n",
              "              title=\"Convert this dataframe to an interactive table.\"\n",
              "              style=\"display:none;\">\n",
              "        \n",
              "  <svg xmlns=\"http://www.w3.org/2000/svg\" height=\"24px\"viewBox=\"0 0 24 24\"\n",
              "       width=\"24px\">\n",
              "    <path d=\"M0 0h24v24H0V0z\" fill=\"none\"/>\n",
              "    <path d=\"M18.56 5.44l.94 2.06.94-2.06 2.06-.94-2.06-.94-.94-2.06-.94 2.06-2.06.94zm-11 1L8.5 8.5l.94-2.06 2.06-.94-2.06-.94L8.5 2.5l-.94 2.06-2.06.94zm10 10l.94 2.06.94-2.06 2.06-.94-2.06-.94-.94-2.06-.94 2.06-2.06.94z\"/><path d=\"M17.41 7.96l-1.37-1.37c-.4-.4-.92-.59-1.43-.59-.52 0-1.04.2-1.43.59L10.3 9.45l-7.72 7.72c-.78.78-.78 2.05 0 2.83L4 21.41c.39.39.9.59 1.41.59.51 0 1.02-.2 1.41-.59l7.78-7.78 2.81-2.81c.8-.78.8-2.07 0-2.86zM5.41 20L4 18.59l7.72-7.72 1.47 1.35L5.41 20z\"/>\n",
              "  </svg>\n",
              "      </button>\n",
              "      \n",
              "  <style>\n",
              "    .colab-df-container {\n",
              "      display:flex;\n",
              "      flex-wrap:wrap;\n",
              "      gap: 12px;\n",
              "    }\n",
              "\n",
              "    .colab-df-convert {\n",
              "      background-color: #E8F0FE;\n",
              "      border: none;\n",
              "      border-radius: 50%;\n",
              "      cursor: pointer;\n",
              "      display: none;\n",
              "      fill: #1967D2;\n",
              "      height: 32px;\n",
              "      padding: 0 0 0 0;\n",
              "      width: 32px;\n",
              "    }\n",
              "\n",
              "    .colab-df-convert:hover {\n",
              "      background-color: #E2EBFA;\n",
              "      box-shadow: 0px 1px 2px rgba(60, 64, 67, 0.3), 0px 1px 3px 1px rgba(60, 64, 67, 0.15);\n",
              "      fill: #174EA6;\n",
              "    }\n",
              "\n",
              "    [theme=dark] .colab-df-convert {\n",
              "      background-color: #3B4455;\n",
              "      fill: #D2E3FC;\n",
              "    }\n",
              "\n",
              "    [theme=dark] .colab-df-convert:hover {\n",
              "      background-color: #434B5C;\n",
              "      box-shadow: 0px 1px 3px 1px rgba(0, 0, 0, 0.15);\n",
              "      filter: drop-shadow(0px 1px 2px rgba(0, 0, 0, 0.3));\n",
              "      fill: #FFFFFF;\n",
              "    }\n",
              "  </style>\n",
              "\n",
              "      <script>\n",
              "        const buttonEl =\n",
              "          document.querySelector('#df-b756952a-96d4-4d70-88c5-453af7ca440b button.colab-df-convert');\n",
              "        buttonEl.style.display =\n",
              "          google.colab.kernel.accessAllowed ? 'block' : 'none';\n",
              "\n",
              "        async function convertToInteractive(key) {\n",
              "          const element = document.querySelector('#df-b756952a-96d4-4d70-88c5-453af7ca440b');\n",
              "          const dataTable =\n",
              "            await google.colab.kernel.invokeFunction('convertToInteractive',\n",
              "                                                     [key], {});\n",
              "          if (!dataTable) return;\n",
              "\n",
              "          const docLinkHtml = 'Like what you see? Visit the ' +\n",
              "            '<a target=\"_blank\" href=https://colab.research.google.com/notebooks/data_table.ipynb>data table notebook</a>'\n",
              "            + ' to learn more about interactive tables.';\n",
              "          element.innerHTML = '';\n",
              "          dataTable['output_type'] = 'display_data';\n",
              "          await google.colab.output.renderOutput(dataTable, element);\n",
              "          const docLink = document.createElement('div');\n",
              "          docLink.innerHTML = docLinkHtml;\n",
              "          element.appendChild(docLink);\n",
              "        }\n",
              "      </script>\n",
              "    </div>\n",
              "  </div>\n",
              "  "
            ]
          },
          "metadata": {},
          "execution_count": 109
        }
      ],
      "source": [
        "df.head()"
      ]
    },
    {
      "cell_type": "code",
      "execution_count": 110,
      "metadata": {
        "colab": {
          "base_uri": "https://localhost:8080/"
        },
        "id": "N4MRF7vrEjPL",
        "outputId": "522f7032-21fa-4fb4-ce62-b3178b997dfd"
      },
      "outputs": [
        {
          "output_type": "execute_result",
          "data": {
            "text/plain": [
              "id_persona                   0\n",
              "fecha_resultado         107278\n",
              "metododx                107278\n",
              "sexo                         0\n",
              "edad                         0\n",
              "edad_cat                     0\n",
              "departamento                 0\n",
              "fallecido                    0\n",
              "fecha_fallecimiento    3171130\n",
              "fecha_fal              3171130\n",
              "year                   3171130\n",
              "epi_week               3171130\n",
              "tiempo_fal             3171130\n",
              "semana_fal             3171130\n",
              "dtype: int64"
            ]
          },
          "metadata": {},
          "execution_count": 110
        }
      ],
      "source": [
        "# Missing values\n",
        "df.isnull().sum()"
      ]
    },
    {
      "cell_type": "markdown",
      "metadata": {
        "id": "OH01cu9HFIzO"
      },
      "source": [
        "Las columnas de fecha resultado y metododx con datos faltantes se deben a que se agregaron personas del dataset de fallecidos que no se encontraban en el dataset de casos positivos, es decir nunca se hicieron pruebas para confirmar COVID-19, pero están registrados como causa de muerte COVID-19, evidentemente son casos postivos y se agregan al dataset."
      ]
    },
    {
      "cell_type": "markdown",
      "metadata": {
        "id": "I7zDOGVGmmT6"
      },
      "source": [
        "#### 2.6.1 Tratar 'missing values' en fechas de fallecimiento"
      ]
    },
    {
      "cell_type": "markdown",
      "metadata": {
        "id": "2SgqL6JQm2Lt"
      },
      "source": [
        "Como no existe año (year) y semana epidemiológica (epi_week) de fallecimiento para las personas que NO fallecieron, se decide llenar estos espacios con el año y semana epidemiológica última reportada en el dataset."
      ]
    },
    {
      "cell_type": "code",
      "execution_count": 111,
      "metadata": {
        "colab": {
          "base_uri": "https://localhost:8080/"
        },
        "id": "KkbeqWuomjxS",
        "outputId": "1455006e-eb40-40ed-a5f5-b0c9560ea805"
      },
      "outputs": [
        {
          "output_type": "execute_result",
          "data": {
            "text/plain": [
              "(2022, 19)"
            ]
          },
          "metadata": {},
          "execution_count": 111
        }
      ],
      "source": [
        "# Tupla con año y semana epidemiológica última reportada en el dataset df\n",
        "last_date = Week.fromdate(fecha_max).weektuple()\n",
        "last_date"
      ]
    },
    {
      "cell_type": "code",
      "execution_count": 112,
      "metadata": {
        "id": "SuJJD8eVLnCV"
      },
      "outputs": [],
      "source": [
        "df['year'].fillna(last_date[0], inplace=True)\n",
        "df['epi_week'].fillna(last_date[1], inplace=True)\n",
        "\n",
        "# Transformar 'data types'\n",
        "df = df.astype({'year': 'int16', 'epi_week': 'int8'})"
      ]
    },
    {
      "cell_type": "code",
      "execution_count": 113,
      "metadata": {
        "colab": {
          "base_uri": "https://localhost:8080/",
          "height": 270
        },
        "id": "_e0z56o7MUbv",
        "outputId": "d4695159-6e83-472e-fde9-9ce9dd90ec35"
      },
      "outputs": [
        {
          "output_type": "execute_result",
          "data": {
            "text/plain": [
              "   id_persona  fecha_resultado  metododx  sexo  edad  edad_cat  departamento  \\\n",
              "0    13708801       20200309.0       2.0     2    15         0            10   \n",
              "1     2020432       20200310.0       2.0     1    46         3            15   \n",
              "2     7979960       20200311.0       2.0     2    21         1            15   \n",
              "3     5493803       20200311.0       2.0     2    28         1            15   \n",
              "4    36611013       20200312.0       2.0     1    78         6            15   \n",
              "\n",
              "   fallecido  fecha_fallecimiento  fecha_fal  year  epi_week  tiempo_fal  \\\n",
              "0          0                  NaN        NaT  2022        19         NaN   \n",
              "1          0                  NaN        NaT  2022        19         NaN   \n",
              "2          0                  NaN        NaT  2022        19         NaN   \n",
              "3          0                  NaN        NaT  2022        19         NaN   \n",
              "4          1           20200319.0 2020-03-19  2020        12        17.0   \n",
              "\n",
              "   semana_fal  \n",
              "0         NaN  \n",
              "1         NaN  \n",
              "2         NaN  \n",
              "3         NaN  \n",
              "4         3.0  "
            ],
            "text/html": [
              "\n",
              "  <div id=\"df-2559171d-d43f-4463-92c2-4e5e3a8f5811\">\n",
              "    <div class=\"colab-df-container\">\n",
              "      <div>\n",
              "<style scoped>\n",
              "    .dataframe tbody tr th:only-of-type {\n",
              "        vertical-align: middle;\n",
              "    }\n",
              "\n",
              "    .dataframe tbody tr th {\n",
              "        vertical-align: top;\n",
              "    }\n",
              "\n",
              "    .dataframe thead th {\n",
              "        text-align: right;\n",
              "    }\n",
              "</style>\n",
              "<table border=\"1\" class=\"dataframe\">\n",
              "  <thead>\n",
              "    <tr style=\"text-align: right;\">\n",
              "      <th></th>\n",
              "      <th>id_persona</th>\n",
              "      <th>fecha_resultado</th>\n",
              "      <th>metododx</th>\n",
              "      <th>sexo</th>\n",
              "      <th>edad</th>\n",
              "      <th>edad_cat</th>\n",
              "      <th>departamento</th>\n",
              "      <th>fallecido</th>\n",
              "      <th>fecha_fallecimiento</th>\n",
              "      <th>fecha_fal</th>\n",
              "      <th>year</th>\n",
              "      <th>epi_week</th>\n",
              "      <th>tiempo_fal</th>\n",
              "      <th>semana_fal</th>\n",
              "    </tr>\n",
              "  </thead>\n",
              "  <tbody>\n",
              "    <tr>\n",
              "      <th>0</th>\n",
              "      <td>13708801</td>\n",
              "      <td>20200309.0</td>\n",
              "      <td>2.0</td>\n",
              "      <td>2</td>\n",
              "      <td>15</td>\n",
              "      <td>0</td>\n",
              "      <td>10</td>\n",
              "      <td>0</td>\n",
              "      <td>NaN</td>\n",
              "      <td>NaT</td>\n",
              "      <td>2022</td>\n",
              "      <td>19</td>\n",
              "      <td>NaN</td>\n",
              "      <td>NaN</td>\n",
              "    </tr>\n",
              "    <tr>\n",
              "      <th>1</th>\n",
              "      <td>2020432</td>\n",
              "      <td>20200310.0</td>\n",
              "      <td>2.0</td>\n",
              "      <td>1</td>\n",
              "      <td>46</td>\n",
              "      <td>3</td>\n",
              "      <td>15</td>\n",
              "      <td>0</td>\n",
              "      <td>NaN</td>\n",
              "      <td>NaT</td>\n",
              "      <td>2022</td>\n",
              "      <td>19</td>\n",
              "      <td>NaN</td>\n",
              "      <td>NaN</td>\n",
              "    </tr>\n",
              "    <tr>\n",
              "      <th>2</th>\n",
              "      <td>7979960</td>\n",
              "      <td>20200311.0</td>\n",
              "      <td>2.0</td>\n",
              "      <td>2</td>\n",
              "      <td>21</td>\n",
              "      <td>1</td>\n",
              "      <td>15</td>\n",
              "      <td>0</td>\n",
              "      <td>NaN</td>\n",
              "      <td>NaT</td>\n",
              "      <td>2022</td>\n",
              "      <td>19</td>\n",
              "      <td>NaN</td>\n",
              "      <td>NaN</td>\n",
              "    </tr>\n",
              "    <tr>\n",
              "      <th>3</th>\n",
              "      <td>5493803</td>\n",
              "      <td>20200311.0</td>\n",
              "      <td>2.0</td>\n",
              "      <td>2</td>\n",
              "      <td>28</td>\n",
              "      <td>1</td>\n",
              "      <td>15</td>\n",
              "      <td>0</td>\n",
              "      <td>NaN</td>\n",
              "      <td>NaT</td>\n",
              "      <td>2022</td>\n",
              "      <td>19</td>\n",
              "      <td>NaN</td>\n",
              "      <td>NaN</td>\n",
              "    </tr>\n",
              "    <tr>\n",
              "      <th>4</th>\n",
              "      <td>36611013</td>\n",
              "      <td>20200312.0</td>\n",
              "      <td>2.0</td>\n",
              "      <td>1</td>\n",
              "      <td>78</td>\n",
              "      <td>6</td>\n",
              "      <td>15</td>\n",
              "      <td>1</td>\n",
              "      <td>20200319.0</td>\n",
              "      <td>2020-03-19</td>\n",
              "      <td>2020</td>\n",
              "      <td>12</td>\n",
              "      <td>17.0</td>\n",
              "      <td>3.0</td>\n",
              "    </tr>\n",
              "  </tbody>\n",
              "</table>\n",
              "</div>\n",
              "      <button class=\"colab-df-convert\" onclick=\"convertToInteractive('df-2559171d-d43f-4463-92c2-4e5e3a8f5811')\"\n",
              "              title=\"Convert this dataframe to an interactive table.\"\n",
              "              style=\"display:none;\">\n",
              "        \n",
              "  <svg xmlns=\"http://www.w3.org/2000/svg\" height=\"24px\"viewBox=\"0 0 24 24\"\n",
              "       width=\"24px\">\n",
              "    <path d=\"M0 0h24v24H0V0z\" fill=\"none\"/>\n",
              "    <path d=\"M18.56 5.44l.94 2.06.94-2.06 2.06-.94-2.06-.94-.94-2.06-.94 2.06-2.06.94zm-11 1L8.5 8.5l.94-2.06 2.06-.94-2.06-.94L8.5 2.5l-.94 2.06-2.06.94zm10 10l.94 2.06.94-2.06 2.06-.94-2.06-.94-.94-2.06-.94 2.06-2.06.94z\"/><path d=\"M17.41 7.96l-1.37-1.37c-.4-.4-.92-.59-1.43-.59-.52 0-1.04.2-1.43.59L10.3 9.45l-7.72 7.72c-.78.78-.78 2.05 0 2.83L4 21.41c.39.39.9.59 1.41.59.51 0 1.02-.2 1.41-.59l7.78-7.78 2.81-2.81c.8-.78.8-2.07 0-2.86zM5.41 20L4 18.59l7.72-7.72 1.47 1.35L5.41 20z\"/>\n",
              "  </svg>\n",
              "      </button>\n",
              "      \n",
              "  <style>\n",
              "    .colab-df-container {\n",
              "      display:flex;\n",
              "      flex-wrap:wrap;\n",
              "      gap: 12px;\n",
              "    }\n",
              "\n",
              "    .colab-df-convert {\n",
              "      background-color: #E8F0FE;\n",
              "      border: none;\n",
              "      border-radius: 50%;\n",
              "      cursor: pointer;\n",
              "      display: none;\n",
              "      fill: #1967D2;\n",
              "      height: 32px;\n",
              "      padding: 0 0 0 0;\n",
              "      width: 32px;\n",
              "    }\n",
              "\n",
              "    .colab-df-convert:hover {\n",
              "      background-color: #E2EBFA;\n",
              "      box-shadow: 0px 1px 2px rgba(60, 64, 67, 0.3), 0px 1px 3px 1px rgba(60, 64, 67, 0.15);\n",
              "      fill: #174EA6;\n",
              "    }\n",
              "\n",
              "    [theme=dark] .colab-df-convert {\n",
              "      background-color: #3B4455;\n",
              "      fill: #D2E3FC;\n",
              "    }\n",
              "\n",
              "    [theme=dark] .colab-df-convert:hover {\n",
              "      background-color: #434B5C;\n",
              "      box-shadow: 0px 1px 3px 1px rgba(0, 0, 0, 0.15);\n",
              "      filter: drop-shadow(0px 1px 2px rgba(0, 0, 0, 0.3));\n",
              "      fill: #FFFFFF;\n",
              "    }\n",
              "  </style>\n",
              "\n",
              "      <script>\n",
              "        const buttonEl =\n",
              "          document.querySelector('#df-2559171d-d43f-4463-92c2-4e5e3a8f5811 button.colab-df-convert');\n",
              "        buttonEl.style.display =\n",
              "          google.colab.kernel.accessAllowed ? 'block' : 'none';\n",
              "\n",
              "        async function convertToInteractive(key) {\n",
              "          const element = document.querySelector('#df-2559171d-d43f-4463-92c2-4e5e3a8f5811');\n",
              "          const dataTable =\n",
              "            await google.colab.kernel.invokeFunction('convertToInteractive',\n",
              "                                                     [key], {});\n",
              "          if (!dataTable) return;\n",
              "\n",
              "          const docLinkHtml = 'Like what you see? Visit the ' +\n",
              "            '<a target=\"_blank\" href=https://colab.research.google.com/notebooks/data_table.ipynb>data table notebook</a>'\n",
              "            + ' to learn more about interactive tables.';\n",
              "          element.innerHTML = '';\n",
              "          dataTable['output_type'] = 'display_data';\n",
              "          await google.colab.output.renderOutput(dataTable, element);\n",
              "          const docLink = document.createElement('div');\n",
              "          docLink.innerHTML = docLinkHtml;\n",
              "          element.appendChild(docLink);\n",
              "        }\n",
              "      </script>\n",
              "    </div>\n",
              "  </div>\n",
              "  "
            ]
          },
          "metadata": {},
          "execution_count": 113
        }
      ],
      "source": [
        "df.head()"
      ]
    },
    {
      "cell_type": "code",
      "execution_count": 114,
      "metadata": {
        "colab": {
          "base_uri": "https://localhost:8080/"
        },
        "id": "MTTgLIXnUxRf",
        "outputId": "f9cca74a-da5c-4ff6-a2c2-77d8da275745"
      },
      "outputs": [
        {
          "output_type": "execute_result",
          "data": {
            "text/plain": [
              "id_persona                   0\n",
              "fecha_resultado         107278\n",
              "metododx                107278\n",
              "sexo                         0\n",
              "edad                         0\n",
              "edad_cat                     0\n",
              "departamento                 0\n",
              "fallecido                    0\n",
              "fecha_fallecimiento    3171130\n",
              "fecha_fal              3171130\n",
              "year                         0\n",
              "epi_week                     0\n",
              "tiempo_fal             3171130\n",
              "semana_fal             3171130\n",
              "dtype: int64"
            ]
          },
          "metadata": {},
          "execution_count": 114
        }
      ],
      "source": [
        "# Missing values\n",
        "df.isnull().sum()"
      ]
    },
    {
      "cell_type": "markdown",
      "metadata": {
        "id": "puvPVnoLbY4I"
      },
      "source": [
        "### 2.7 Dataset de vacunados"
      ]
    },
    {
      "cell_type": "markdown",
      "metadata": {
        "id": "VZsZSVWEOf35"
      },
      "source": [
        "#### 2.7.1 Leer dataset"
      ]
    },
    {
      "cell_type": "code",
      "execution_count": 115,
      "metadata": {
        "id": "3IDJWorJbY4I"
      },
      "outputs": [],
      "source": [
        "url_vac = 'TB_VACUNACION_COVID19.csv'\n",
        "col_vac = ['id_persona','fecha_vacunacion','dosis', 'id_vacuna']\n",
        "df_vac = pd.read_csv(url_vac, sep = \",\", usecols = col_vac, dtype = {'fecha_vacunacion':'int32', \n",
        "                                                                      'dosis': 'int8',\n",
        "                                                                      'id_vacuna': 'int8',\n",
        "                                                                      'id_persona': 'int32'})"
      ]
    },
    {
      "cell_type": "code",
      "execution_count": 116,
      "metadata": {
        "colab": {
          "base_uri": "https://localhost:8080/",
          "height": 206
        },
        "id": "Y7t807gabY4I",
        "outputId": "2f2adca6-75ce-4772-8c91-0f88f9f0a3a4"
      },
      "outputs": [
        {
          "output_type": "execute_result",
          "data": {
            "text/plain": [
              "   id_persona  fecha_vacunacion  id_vacuna  dosis\n",
              "0    22022061          20210929          6      2\n",
              "1    29311935          20210519          5      2\n",
              "2    28793138          20220209          5      3\n",
              "3    33809596          20210821          6      2\n",
              "4    33804613          20210721          6      1"
            ],
            "text/html": [
              "\n",
              "  <div id=\"df-ce294473-d224-4511-9785-d35799da4217\">\n",
              "    <div class=\"colab-df-container\">\n",
              "      <div>\n",
              "<style scoped>\n",
              "    .dataframe tbody tr th:only-of-type {\n",
              "        vertical-align: middle;\n",
              "    }\n",
              "\n",
              "    .dataframe tbody tr th {\n",
              "        vertical-align: top;\n",
              "    }\n",
              "\n",
              "    .dataframe thead th {\n",
              "        text-align: right;\n",
              "    }\n",
              "</style>\n",
              "<table border=\"1\" class=\"dataframe\">\n",
              "  <thead>\n",
              "    <tr style=\"text-align: right;\">\n",
              "      <th></th>\n",
              "      <th>id_persona</th>\n",
              "      <th>fecha_vacunacion</th>\n",
              "      <th>id_vacuna</th>\n",
              "      <th>dosis</th>\n",
              "    </tr>\n",
              "  </thead>\n",
              "  <tbody>\n",
              "    <tr>\n",
              "      <th>0</th>\n",
              "      <td>22022061</td>\n",
              "      <td>20210929</td>\n",
              "      <td>6</td>\n",
              "      <td>2</td>\n",
              "    </tr>\n",
              "    <tr>\n",
              "      <th>1</th>\n",
              "      <td>29311935</td>\n",
              "      <td>20210519</td>\n",
              "      <td>5</td>\n",
              "      <td>2</td>\n",
              "    </tr>\n",
              "    <tr>\n",
              "      <th>2</th>\n",
              "      <td>28793138</td>\n",
              "      <td>20220209</td>\n",
              "      <td>5</td>\n",
              "      <td>3</td>\n",
              "    </tr>\n",
              "    <tr>\n",
              "      <th>3</th>\n",
              "      <td>33809596</td>\n",
              "      <td>20210821</td>\n",
              "      <td>6</td>\n",
              "      <td>2</td>\n",
              "    </tr>\n",
              "    <tr>\n",
              "      <th>4</th>\n",
              "      <td>33804613</td>\n",
              "      <td>20210721</td>\n",
              "      <td>6</td>\n",
              "      <td>1</td>\n",
              "    </tr>\n",
              "  </tbody>\n",
              "</table>\n",
              "</div>\n",
              "      <button class=\"colab-df-convert\" onclick=\"convertToInteractive('df-ce294473-d224-4511-9785-d35799da4217')\"\n",
              "              title=\"Convert this dataframe to an interactive table.\"\n",
              "              style=\"display:none;\">\n",
              "        \n",
              "  <svg xmlns=\"http://www.w3.org/2000/svg\" height=\"24px\"viewBox=\"0 0 24 24\"\n",
              "       width=\"24px\">\n",
              "    <path d=\"M0 0h24v24H0V0z\" fill=\"none\"/>\n",
              "    <path d=\"M18.56 5.44l.94 2.06.94-2.06 2.06-.94-2.06-.94-.94-2.06-.94 2.06-2.06.94zm-11 1L8.5 8.5l.94-2.06 2.06-.94-2.06-.94L8.5 2.5l-.94 2.06-2.06.94zm10 10l.94 2.06.94-2.06 2.06-.94-2.06-.94-.94-2.06-.94 2.06-2.06.94z\"/><path d=\"M17.41 7.96l-1.37-1.37c-.4-.4-.92-.59-1.43-.59-.52 0-1.04.2-1.43.59L10.3 9.45l-7.72 7.72c-.78.78-.78 2.05 0 2.83L4 21.41c.39.39.9.59 1.41.59.51 0 1.02-.2 1.41-.59l7.78-7.78 2.81-2.81c.8-.78.8-2.07 0-2.86zM5.41 20L4 18.59l7.72-7.72 1.47 1.35L5.41 20z\"/>\n",
              "  </svg>\n",
              "      </button>\n",
              "      \n",
              "  <style>\n",
              "    .colab-df-container {\n",
              "      display:flex;\n",
              "      flex-wrap:wrap;\n",
              "      gap: 12px;\n",
              "    }\n",
              "\n",
              "    .colab-df-convert {\n",
              "      background-color: #E8F0FE;\n",
              "      border: none;\n",
              "      border-radius: 50%;\n",
              "      cursor: pointer;\n",
              "      display: none;\n",
              "      fill: #1967D2;\n",
              "      height: 32px;\n",
              "      padding: 0 0 0 0;\n",
              "      width: 32px;\n",
              "    }\n",
              "\n",
              "    .colab-df-convert:hover {\n",
              "      background-color: #E2EBFA;\n",
              "      box-shadow: 0px 1px 2px rgba(60, 64, 67, 0.3), 0px 1px 3px 1px rgba(60, 64, 67, 0.15);\n",
              "      fill: #174EA6;\n",
              "    }\n",
              "\n",
              "    [theme=dark] .colab-df-convert {\n",
              "      background-color: #3B4455;\n",
              "      fill: #D2E3FC;\n",
              "    }\n",
              "\n",
              "    [theme=dark] .colab-df-convert:hover {\n",
              "      background-color: #434B5C;\n",
              "      box-shadow: 0px 1px 3px 1px rgba(0, 0, 0, 0.15);\n",
              "      filter: drop-shadow(0px 1px 2px rgba(0, 0, 0, 0.3));\n",
              "      fill: #FFFFFF;\n",
              "    }\n",
              "  </style>\n",
              "\n",
              "      <script>\n",
              "        const buttonEl =\n",
              "          document.querySelector('#df-ce294473-d224-4511-9785-d35799da4217 button.colab-df-convert');\n",
              "        buttonEl.style.display =\n",
              "          google.colab.kernel.accessAllowed ? 'block' : 'none';\n",
              "\n",
              "        async function convertToInteractive(key) {\n",
              "          const element = document.querySelector('#df-ce294473-d224-4511-9785-d35799da4217');\n",
              "          const dataTable =\n",
              "            await google.colab.kernel.invokeFunction('convertToInteractive',\n",
              "                                                     [key], {});\n",
              "          if (!dataTable) return;\n",
              "\n",
              "          const docLinkHtml = 'Like what you see? Visit the ' +\n",
              "            '<a target=\"_blank\" href=https://colab.research.google.com/notebooks/data_table.ipynb>data table notebook</a>'\n",
              "            + ' to learn more about interactive tables.';\n",
              "          element.innerHTML = '';\n",
              "          dataTable['output_type'] = 'display_data';\n",
              "          await google.colab.output.renderOutput(dataTable, element);\n",
              "          const docLink = document.createElement('div');\n",
              "          docLink.innerHTML = docLinkHtml;\n",
              "          element.appendChild(docLink);\n",
              "        }\n",
              "      </script>\n",
              "    </div>\n",
              "  </div>\n",
              "  "
            ]
          },
          "metadata": {},
          "execution_count": 116
        }
      ],
      "source": [
        "df_vac.head()"
      ]
    },
    {
      "cell_type": "code",
      "execution_count": 117,
      "metadata": {
        "id": "TbfRxMTIbY4J"
      },
      "outputs": [],
      "source": [
        "# Renombrar y ordenar columnas\n",
        "df_vac = df_vac.rename(columns = {'fecha_vacunacion': 'fecha_vacuna'})\n",
        "df_vac = df_vac[['id_persona', 'dosis', 'fecha_vacuna', 'id_vacuna']]"
      ]
    },
    {
      "cell_type": "code",
      "execution_count": 118,
      "metadata": {
        "colab": {
          "base_uri": "https://localhost:8080/",
          "height": 206
        },
        "id": "sMLQ_PwybY4J",
        "outputId": "02ff06cb-e721-467a-aff3-5abe8c7fdf82"
      },
      "outputs": [
        {
          "output_type": "execute_result",
          "data": {
            "text/plain": [
              "   id_persona  dosis  fecha_vacuna  id_vacuna\n",
              "0    22022061      2      20210929          6\n",
              "1    29311935      2      20210519          5\n",
              "2    28793138      3      20220209          5\n",
              "3    33809596      2      20210821          6\n",
              "4    33804613      1      20210721          6"
            ],
            "text/html": [
              "\n",
              "  <div id=\"df-09726ae6-e290-4dde-818d-ac227c9df6b4\">\n",
              "    <div class=\"colab-df-container\">\n",
              "      <div>\n",
              "<style scoped>\n",
              "    .dataframe tbody tr th:only-of-type {\n",
              "        vertical-align: middle;\n",
              "    }\n",
              "\n",
              "    .dataframe tbody tr th {\n",
              "        vertical-align: top;\n",
              "    }\n",
              "\n",
              "    .dataframe thead th {\n",
              "        text-align: right;\n",
              "    }\n",
              "</style>\n",
              "<table border=\"1\" class=\"dataframe\">\n",
              "  <thead>\n",
              "    <tr style=\"text-align: right;\">\n",
              "      <th></th>\n",
              "      <th>id_persona</th>\n",
              "      <th>dosis</th>\n",
              "      <th>fecha_vacuna</th>\n",
              "      <th>id_vacuna</th>\n",
              "    </tr>\n",
              "  </thead>\n",
              "  <tbody>\n",
              "    <tr>\n",
              "      <th>0</th>\n",
              "      <td>22022061</td>\n",
              "      <td>2</td>\n",
              "      <td>20210929</td>\n",
              "      <td>6</td>\n",
              "    </tr>\n",
              "    <tr>\n",
              "      <th>1</th>\n",
              "      <td>29311935</td>\n",
              "      <td>2</td>\n",
              "      <td>20210519</td>\n",
              "      <td>5</td>\n",
              "    </tr>\n",
              "    <tr>\n",
              "      <th>2</th>\n",
              "      <td>28793138</td>\n",
              "      <td>3</td>\n",
              "      <td>20220209</td>\n",
              "      <td>5</td>\n",
              "    </tr>\n",
              "    <tr>\n",
              "      <th>3</th>\n",
              "      <td>33809596</td>\n",
              "      <td>2</td>\n",
              "      <td>20210821</td>\n",
              "      <td>6</td>\n",
              "    </tr>\n",
              "    <tr>\n",
              "      <th>4</th>\n",
              "      <td>33804613</td>\n",
              "      <td>1</td>\n",
              "      <td>20210721</td>\n",
              "      <td>6</td>\n",
              "    </tr>\n",
              "  </tbody>\n",
              "</table>\n",
              "</div>\n",
              "      <button class=\"colab-df-convert\" onclick=\"convertToInteractive('df-09726ae6-e290-4dde-818d-ac227c9df6b4')\"\n",
              "              title=\"Convert this dataframe to an interactive table.\"\n",
              "              style=\"display:none;\">\n",
              "        \n",
              "  <svg xmlns=\"http://www.w3.org/2000/svg\" height=\"24px\"viewBox=\"0 0 24 24\"\n",
              "       width=\"24px\">\n",
              "    <path d=\"M0 0h24v24H0V0z\" fill=\"none\"/>\n",
              "    <path d=\"M18.56 5.44l.94 2.06.94-2.06 2.06-.94-2.06-.94-.94-2.06-.94 2.06-2.06.94zm-11 1L8.5 8.5l.94-2.06 2.06-.94-2.06-.94L8.5 2.5l-.94 2.06-2.06.94zm10 10l.94 2.06.94-2.06 2.06-.94-2.06-.94-.94-2.06-.94 2.06-2.06.94z\"/><path d=\"M17.41 7.96l-1.37-1.37c-.4-.4-.92-.59-1.43-.59-.52 0-1.04.2-1.43.59L10.3 9.45l-7.72 7.72c-.78.78-.78 2.05 0 2.83L4 21.41c.39.39.9.59 1.41.59.51 0 1.02-.2 1.41-.59l7.78-7.78 2.81-2.81c.8-.78.8-2.07 0-2.86zM5.41 20L4 18.59l7.72-7.72 1.47 1.35L5.41 20z\"/>\n",
              "  </svg>\n",
              "      </button>\n",
              "      \n",
              "  <style>\n",
              "    .colab-df-container {\n",
              "      display:flex;\n",
              "      flex-wrap:wrap;\n",
              "      gap: 12px;\n",
              "    }\n",
              "\n",
              "    .colab-df-convert {\n",
              "      background-color: #E8F0FE;\n",
              "      border: none;\n",
              "      border-radius: 50%;\n",
              "      cursor: pointer;\n",
              "      display: none;\n",
              "      fill: #1967D2;\n",
              "      height: 32px;\n",
              "      padding: 0 0 0 0;\n",
              "      width: 32px;\n",
              "    }\n",
              "\n",
              "    .colab-df-convert:hover {\n",
              "      background-color: #E2EBFA;\n",
              "      box-shadow: 0px 1px 2px rgba(60, 64, 67, 0.3), 0px 1px 3px 1px rgba(60, 64, 67, 0.15);\n",
              "      fill: #174EA6;\n",
              "    }\n",
              "\n",
              "    [theme=dark] .colab-df-convert {\n",
              "      background-color: #3B4455;\n",
              "      fill: #D2E3FC;\n",
              "    }\n",
              "\n",
              "    [theme=dark] .colab-df-convert:hover {\n",
              "      background-color: #434B5C;\n",
              "      box-shadow: 0px 1px 3px 1px rgba(0, 0, 0, 0.15);\n",
              "      filter: drop-shadow(0px 1px 2px rgba(0, 0, 0, 0.3));\n",
              "      fill: #FFFFFF;\n",
              "    }\n",
              "  </style>\n",
              "\n",
              "      <script>\n",
              "        const buttonEl =\n",
              "          document.querySelector('#df-09726ae6-e290-4dde-818d-ac227c9df6b4 button.colab-df-convert');\n",
              "        buttonEl.style.display =\n",
              "          google.colab.kernel.accessAllowed ? 'block' : 'none';\n",
              "\n",
              "        async function convertToInteractive(key) {\n",
              "          const element = document.querySelector('#df-09726ae6-e290-4dde-818d-ac227c9df6b4');\n",
              "          const dataTable =\n",
              "            await google.colab.kernel.invokeFunction('convertToInteractive',\n",
              "                                                     [key], {});\n",
              "          if (!dataTable) return;\n",
              "\n",
              "          const docLinkHtml = 'Like what you see? Visit the ' +\n",
              "            '<a target=\"_blank\" href=https://colab.research.google.com/notebooks/data_table.ipynb>data table notebook</a>'\n",
              "            + ' to learn more about interactive tables.';\n",
              "          element.innerHTML = '';\n",
              "          dataTable['output_type'] = 'display_data';\n",
              "          await google.colab.output.renderOutput(dataTable, element);\n",
              "          const docLink = document.createElement('div');\n",
              "          docLink.innerHTML = docLinkHtml;\n",
              "          element.appendChild(docLink);\n",
              "        }\n",
              "      </script>\n",
              "    </div>\n",
              "  </div>\n",
              "  "
            ]
          },
          "metadata": {},
          "execution_count": 118
        }
      ],
      "source": [
        "df_vac.head()"
      ]
    },
    {
      "cell_type": "code",
      "execution_count": 119,
      "metadata": {
        "colab": {
          "base_uri": "https://localhost:8080/"
        },
        "id": "TZ5ckCBcbY4K",
        "outputId": "d0c25fbe-987c-4f6f-dac7-7cf7175c490f"
      },
      "outputs": [
        {
          "output_type": "execute_result",
          "data": {
            "text/plain": [
              "73605300"
            ]
          },
          "metadata": {},
          "execution_count": 119
        }
      ],
      "source": [
        "# TOTAL de vacunas aplicadas\n",
        "len(df_vac)"
      ]
    },
    {
      "cell_type": "markdown",
      "metadata": {
        "id": "It2IAoUfbY4K"
      },
      "source": [
        "#### 2.7.2 Separar información de dosis recibidas para juntarlos con nuestro dataframe principal (df)"
      ]
    },
    {
      "cell_type": "code",
      "execution_count": 120,
      "metadata": {
        "colab": {
          "base_uri": "https://localhost:8080/"
        },
        "id": "8JE-F3-PPmv0",
        "outputId": "733e0b74-1f49-4f33-d3a2-07971f31288d"
      },
      "outputs": [
        {
          "output_type": "stream",
          "name": "stdout",
          "text": [
            "Total de dosis 1 administradas: 29249219\n",
            "Total de dosis 2 administradas: 27114642\n",
            "Total de dosis 3 administradas: 16799594\n",
            "Total de 4 o más dosis administradas: 441845\n"
          ]
        }
      ],
      "source": [
        "print(f'Total de dosis 1 administradas: {len(df_vac[df_vac.dosis == 1])}')\n",
        "print(f'Total de dosis 2 administradas: {len(df_vac[df_vac.dosis == 2])}')\n",
        "print(f'Total de dosis 3 administradas: {len(df_vac[df_vac.dosis == 3])}')\n",
        "print(f'Total de 4 o más dosis administradas: {len(df_vac[df_vac.dosis >= 4])}')"
      ]
    },
    {
      "cell_type": "code",
      "execution_count": 121,
      "metadata": {
        "id": "rkJGo9V-ReKm"
      },
      "outputs": [],
      "source": [
        "# Agregar información de dosis 1\n",
        "df = df.merge(df_vac[df_vac.dosis == 1], on = 'id_persona', how = 'left')\n",
        "df = df.rename(columns = {'dosis' : 'dosis_1', \n",
        "                          'fecha_vacuna': 'fecha_vacuna_1', \n",
        "                          'id_vacuna': 'id_vacuna_1'})"
      ]
    },
    {
      "cell_type": "code",
      "execution_count": 122,
      "metadata": {
        "id": "-YZqywzUTxNE"
      },
      "outputs": [],
      "source": [
        "# Agregar información de dosis 2\n",
        "df = df.merge(df_vac[df_vac.dosis == 2], on = 'id_persona', how = 'left')\n",
        "df = df.rename(columns = {'dosis' : 'dosis_2', \n",
        "                          'fecha_vacuna': 'fecha_vacuna_2', \n",
        "                          'id_vacuna': 'id_vacuna_2'})\n",
        "df['dosis_2'].replace(2, 1, inplace = True)"
      ]
    },
    {
      "cell_type": "code",
      "execution_count": 123,
      "metadata": {
        "id": "YA9g_iwST0n3"
      },
      "outputs": [],
      "source": [
        "# Agregar información de dosis 3\n",
        "df = df.merge(df_vac[df_vac.dosis == 3], on = 'id_persona', how = 'left')\n",
        "df = df.rename(columns = {'dosis' : 'dosis_3', \n",
        "                          'fecha_vacuna': 'fecha_vacuna_3', \n",
        "                          'id_vacuna': 'id_vacuna_3'})\n",
        "df['dosis_3'].replace(3, 1, inplace = True)"
      ]
    },
    {
      "cell_type": "code",
      "execution_count": 124,
      "metadata": {
        "colab": {
          "base_uri": "https://localhost:8080/"
        },
        "id": "S3xFyvvRVKdr",
        "outputId": "22a5f070-121b-4279-e1fc-63cf44de771d"
      },
      "outputs": [
        {
          "output_type": "execute_result",
          "data": {
            "text/plain": [
              "27"
            ]
          },
          "metadata": {},
          "execution_count": 124
        }
      ],
      "source": [
        "# Verificamos que existen algunos duplicados al momento de añadir info de vacunación así que los eliminamos\n",
        "len(df[df.id_persona.duplicated() == True])"
      ]
    },
    {
      "cell_type": "code",
      "execution_count": 125,
      "metadata": {
        "id": "Slsj50AYWyoP"
      },
      "outputs": [],
      "source": [
        "# Eliminamos los duplicados\n",
        "df = df.drop_duplicates('id_persona', keep='last') \\\n",
        "       .sort_values(by = ['tiempo_fal']) \\\n",
        "       .reset_index(drop = True)"
      ]
    },
    {
      "cell_type": "code",
      "execution_count": 126,
      "metadata": {
        "colab": {
          "base_uri": "https://localhost:8080/"
        },
        "id": "Elcn_nrHV2W_",
        "outputId": "9b58db68-9a80-49ca-91b4-f781e7d458d6"
      },
      "outputs": [
        {
          "output_type": "execute_result",
          "data": {
            "text/plain": [
              "3381496"
            ]
          },
          "metadata": {},
          "execution_count": 126
        }
      ],
      "source": [
        "# TOTAL de casos positivos más información de fallecimiento, más información de vacunación\n",
        "len(df)"
      ]
    },
    {
      "cell_type": "code",
      "execution_count": 127,
      "metadata": {
        "colab": {
          "base_uri": "https://localhost:8080/"
        },
        "id": "6Mef9kS_XGFh",
        "outputId": "335e2937-d784-4679-fd80-67a4f7fee625"
      },
      "outputs": [
        {
          "output_type": "stream",
          "name": "stdout",
          "text": [
            "Personas con 1 dosis recibida en el dataset de casos positivos: 3005371\n",
            "Personas con 2 dosis recibidas en el dataset de casos positivos: 2932238\n",
            "Personas con 3 dosis recibidas en el dataset de casos positivos: 2429882\n"
          ]
        }
      ],
      "source": [
        "print(f'Personas con 1 dosis recibida en el dataset de casos positivos: {len(df[df.dosis_1 == 1])}')\n",
        "print(f'Personas con 2 dosis recibidas en el dataset de casos positivos: {len(df[df.dosis_2 == 1])}')\n",
        "print(f'Personas con 3 dosis recibidas en el dataset de casos positivos: {len(df[df.dosis_3 == 1])}')"
      ]
    },
    {
      "cell_type": "code",
      "execution_count": 128,
      "metadata": {
        "colab": {
          "base_uri": "https://localhost:8080/",
          "height": 300
        },
        "id": "GndjjBjTXEW9",
        "outputId": "7c012fef-00c1-4b99-9319-cea6d0f962b5"
      },
      "outputs": [
        {
          "output_type": "execute_result",
          "data": {
            "text/plain": [
              "   id_persona  fecha_resultado  metododx  sexo  edad  edad_cat  departamento  \\\n",
              "0    36527082              NaN       NaN     1    63         5            22   \n",
              "1    36401995              NaN       NaN     1    85         7            22   \n",
              "2    36853977              NaN       NaN     2    24         1            16   \n",
              "3    14179222              NaN       NaN     2    76         6             8   \n",
              "4    38353395              NaN       NaN     1    81         7            15   \n",
              "\n",
              "   fallecido  fecha_fallecimiento  fecha_fal  ...  semana_fal  dosis_1  \\\n",
              "0          1           20200303.0 2020-03-03  ...         1.0      NaN   \n",
              "1          1           20200304.0 2020-03-04  ...         1.0      NaN   \n",
              "2          1           20200307.0 2020-03-07  ...         1.0      NaN   \n",
              "3          1           20200308.0 2020-03-08  ...         1.0      NaN   \n",
              "4          1           20200311.0 2020-03-11  ...         2.0      NaN   \n",
              "\n",
              "   fecha_vacuna_1  id_vacuna_1  dosis_2  fecha_vacuna_2  id_vacuna_2  dosis_3  \\\n",
              "0             NaN          NaN      NaN             NaN          NaN      NaN   \n",
              "1             NaN          NaN      NaN             NaN          NaN      NaN   \n",
              "2             NaN          NaN      NaN             NaN          NaN      NaN   \n",
              "3             NaN          NaN      NaN             NaN          NaN      NaN   \n",
              "4             NaN          NaN      NaN             NaN          NaN      NaN   \n",
              "\n",
              "   fecha_vacuna_3  id_vacuna_3  \n",
              "0             NaN          NaN  \n",
              "1             NaN          NaN  \n",
              "2             NaN          NaN  \n",
              "3             NaN          NaN  \n",
              "4             NaN          NaN  \n",
              "\n",
              "[5 rows x 23 columns]"
            ],
            "text/html": [
              "\n",
              "  <div id=\"df-1f5e1e79-c4fa-4b25-a9fa-140804acd627\">\n",
              "    <div class=\"colab-df-container\">\n",
              "      <div>\n",
              "<style scoped>\n",
              "    .dataframe tbody tr th:only-of-type {\n",
              "        vertical-align: middle;\n",
              "    }\n",
              "\n",
              "    .dataframe tbody tr th {\n",
              "        vertical-align: top;\n",
              "    }\n",
              "\n",
              "    .dataframe thead th {\n",
              "        text-align: right;\n",
              "    }\n",
              "</style>\n",
              "<table border=\"1\" class=\"dataframe\">\n",
              "  <thead>\n",
              "    <tr style=\"text-align: right;\">\n",
              "      <th></th>\n",
              "      <th>id_persona</th>\n",
              "      <th>fecha_resultado</th>\n",
              "      <th>metododx</th>\n",
              "      <th>sexo</th>\n",
              "      <th>edad</th>\n",
              "      <th>edad_cat</th>\n",
              "      <th>departamento</th>\n",
              "      <th>fallecido</th>\n",
              "      <th>fecha_fallecimiento</th>\n",
              "      <th>fecha_fal</th>\n",
              "      <th>...</th>\n",
              "      <th>semana_fal</th>\n",
              "      <th>dosis_1</th>\n",
              "      <th>fecha_vacuna_1</th>\n",
              "      <th>id_vacuna_1</th>\n",
              "      <th>dosis_2</th>\n",
              "      <th>fecha_vacuna_2</th>\n",
              "      <th>id_vacuna_2</th>\n",
              "      <th>dosis_3</th>\n",
              "      <th>fecha_vacuna_3</th>\n",
              "      <th>id_vacuna_3</th>\n",
              "    </tr>\n",
              "  </thead>\n",
              "  <tbody>\n",
              "    <tr>\n",
              "      <th>0</th>\n",
              "      <td>36527082</td>\n",
              "      <td>NaN</td>\n",
              "      <td>NaN</td>\n",
              "      <td>1</td>\n",
              "      <td>63</td>\n",
              "      <td>5</td>\n",
              "      <td>22</td>\n",
              "      <td>1</td>\n",
              "      <td>20200303.0</td>\n",
              "      <td>2020-03-03</td>\n",
              "      <td>...</td>\n",
              "      <td>1.0</td>\n",
              "      <td>NaN</td>\n",
              "      <td>NaN</td>\n",
              "      <td>NaN</td>\n",
              "      <td>NaN</td>\n",
              "      <td>NaN</td>\n",
              "      <td>NaN</td>\n",
              "      <td>NaN</td>\n",
              "      <td>NaN</td>\n",
              "      <td>NaN</td>\n",
              "    </tr>\n",
              "    <tr>\n",
              "      <th>1</th>\n",
              "      <td>36401995</td>\n",
              "      <td>NaN</td>\n",
              "      <td>NaN</td>\n",
              "      <td>1</td>\n",
              "      <td>85</td>\n",
              "      <td>7</td>\n",
              "      <td>22</td>\n",
              "      <td>1</td>\n",
              "      <td>20200304.0</td>\n",
              "      <td>2020-03-04</td>\n",
              "      <td>...</td>\n",
              "      <td>1.0</td>\n",
              "      <td>NaN</td>\n",
              "      <td>NaN</td>\n",
              "      <td>NaN</td>\n",
              "      <td>NaN</td>\n",
              "      <td>NaN</td>\n",
              "      <td>NaN</td>\n",
              "      <td>NaN</td>\n",
              "      <td>NaN</td>\n",
              "      <td>NaN</td>\n",
              "    </tr>\n",
              "    <tr>\n",
              "      <th>2</th>\n",
              "      <td>36853977</td>\n",
              "      <td>NaN</td>\n",
              "      <td>NaN</td>\n",
              "      <td>2</td>\n",
              "      <td>24</td>\n",
              "      <td>1</td>\n",
              "      <td>16</td>\n",
              "      <td>1</td>\n",
              "      <td>20200307.0</td>\n",
              "      <td>2020-03-07</td>\n",
              "      <td>...</td>\n",
              "      <td>1.0</td>\n",
              "      <td>NaN</td>\n",
              "      <td>NaN</td>\n",
              "      <td>NaN</td>\n",
              "      <td>NaN</td>\n",
              "      <td>NaN</td>\n",
              "      <td>NaN</td>\n",
              "      <td>NaN</td>\n",
              "      <td>NaN</td>\n",
              "      <td>NaN</td>\n",
              "    </tr>\n",
              "    <tr>\n",
              "      <th>3</th>\n",
              "      <td>14179222</td>\n",
              "      <td>NaN</td>\n",
              "      <td>NaN</td>\n",
              "      <td>2</td>\n",
              "      <td>76</td>\n",
              "      <td>6</td>\n",
              "      <td>8</td>\n",
              "      <td>1</td>\n",
              "      <td>20200308.0</td>\n",
              "      <td>2020-03-08</td>\n",
              "      <td>...</td>\n",
              "      <td>1.0</td>\n",
              "      <td>NaN</td>\n",
              "      <td>NaN</td>\n",
              "      <td>NaN</td>\n",
              "      <td>NaN</td>\n",
              "      <td>NaN</td>\n",
              "      <td>NaN</td>\n",
              "      <td>NaN</td>\n",
              "      <td>NaN</td>\n",
              "      <td>NaN</td>\n",
              "    </tr>\n",
              "    <tr>\n",
              "      <th>4</th>\n",
              "      <td>38353395</td>\n",
              "      <td>NaN</td>\n",
              "      <td>NaN</td>\n",
              "      <td>1</td>\n",
              "      <td>81</td>\n",
              "      <td>7</td>\n",
              "      <td>15</td>\n",
              "      <td>1</td>\n",
              "      <td>20200311.0</td>\n",
              "      <td>2020-03-11</td>\n",
              "      <td>...</td>\n",
              "      <td>2.0</td>\n",
              "      <td>NaN</td>\n",
              "      <td>NaN</td>\n",
              "      <td>NaN</td>\n",
              "      <td>NaN</td>\n",
              "      <td>NaN</td>\n",
              "      <td>NaN</td>\n",
              "      <td>NaN</td>\n",
              "      <td>NaN</td>\n",
              "      <td>NaN</td>\n",
              "    </tr>\n",
              "  </tbody>\n",
              "</table>\n",
              "<p>5 rows × 23 columns</p>\n",
              "</div>\n",
              "      <button class=\"colab-df-convert\" onclick=\"convertToInteractive('df-1f5e1e79-c4fa-4b25-a9fa-140804acd627')\"\n",
              "              title=\"Convert this dataframe to an interactive table.\"\n",
              "              style=\"display:none;\">\n",
              "        \n",
              "  <svg xmlns=\"http://www.w3.org/2000/svg\" height=\"24px\"viewBox=\"0 0 24 24\"\n",
              "       width=\"24px\">\n",
              "    <path d=\"M0 0h24v24H0V0z\" fill=\"none\"/>\n",
              "    <path d=\"M18.56 5.44l.94 2.06.94-2.06 2.06-.94-2.06-.94-.94-2.06-.94 2.06-2.06.94zm-11 1L8.5 8.5l.94-2.06 2.06-.94-2.06-.94L8.5 2.5l-.94 2.06-2.06.94zm10 10l.94 2.06.94-2.06 2.06-.94-2.06-.94-.94-2.06-.94 2.06-2.06.94z\"/><path d=\"M17.41 7.96l-1.37-1.37c-.4-.4-.92-.59-1.43-.59-.52 0-1.04.2-1.43.59L10.3 9.45l-7.72 7.72c-.78.78-.78 2.05 0 2.83L4 21.41c.39.39.9.59 1.41.59.51 0 1.02-.2 1.41-.59l7.78-7.78 2.81-2.81c.8-.78.8-2.07 0-2.86zM5.41 20L4 18.59l7.72-7.72 1.47 1.35L5.41 20z\"/>\n",
              "  </svg>\n",
              "      </button>\n",
              "      \n",
              "  <style>\n",
              "    .colab-df-container {\n",
              "      display:flex;\n",
              "      flex-wrap:wrap;\n",
              "      gap: 12px;\n",
              "    }\n",
              "\n",
              "    .colab-df-convert {\n",
              "      background-color: #E8F0FE;\n",
              "      border: none;\n",
              "      border-radius: 50%;\n",
              "      cursor: pointer;\n",
              "      display: none;\n",
              "      fill: #1967D2;\n",
              "      height: 32px;\n",
              "      padding: 0 0 0 0;\n",
              "      width: 32px;\n",
              "    }\n",
              "\n",
              "    .colab-df-convert:hover {\n",
              "      background-color: #E2EBFA;\n",
              "      box-shadow: 0px 1px 2px rgba(60, 64, 67, 0.3), 0px 1px 3px 1px rgba(60, 64, 67, 0.15);\n",
              "      fill: #174EA6;\n",
              "    }\n",
              "\n",
              "    [theme=dark] .colab-df-convert {\n",
              "      background-color: #3B4455;\n",
              "      fill: #D2E3FC;\n",
              "    }\n",
              "\n",
              "    [theme=dark] .colab-df-convert:hover {\n",
              "      background-color: #434B5C;\n",
              "      box-shadow: 0px 1px 3px 1px rgba(0, 0, 0, 0.15);\n",
              "      filter: drop-shadow(0px 1px 2px rgba(0, 0, 0, 0.3));\n",
              "      fill: #FFFFFF;\n",
              "    }\n",
              "  </style>\n",
              "\n",
              "      <script>\n",
              "        const buttonEl =\n",
              "          document.querySelector('#df-1f5e1e79-c4fa-4b25-a9fa-140804acd627 button.colab-df-convert');\n",
              "        buttonEl.style.display =\n",
              "          google.colab.kernel.accessAllowed ? 'block' : 'none';\n",
              "\n",
              "        async function convertToInteractive(key) {\n",
              "          const element = document.querySelector('#df-1f5e1e79-c4fa-4b25-a9fa-140804acd627');\n",
              "          const dataTable =\n",
              "            await google.colab.kernel.invokeFunction('convertToInteractive',\n",
              "                                                     [key], {});\n",
              "          if (!dataTable) return;\n",
              "\n",
              "          const docLinkHtml = 'Like what you see? Visit the ' +\n",
              "            '<a target=\"_blank\" href=https://colab.research.google.com/notebooks/data_table.ipynb>data table notebook</a>'\n",
              "            + ' to learn more about interactive tables.';\n",
              "          element.innerHTML = '';\n",
              "          dataTable['output_type'] = 'display_data';\n",
              "          await google.colab.output.renderOutput(dataTable, element);\n",
              "          const docLink = document.createElement('div');\n",
              "          docLink.innerHTML = docLinkHtml;\n",
              "          element.appendChild(docLink);\n",
              "        }\n",
              "      </script>\n",
              "    </div>\n",
              "  </div>\n",
              "  "
            ]
          },
          "metadata": {},
          "execution_count": 128
        }
      ],
      "source": [
        "df.head()"
      ]
    },
    {
      "cell_type": "markdown",
      "metadata": {
        "id": "_WTEjqn0bY4P"
      },
      "source": [
        "#### 2.7.3 Rellenar espacios vacíos"
      ]
    },
    {
      "cell_type": "code",
      "execution_count": 129,
      "metadata": {
        "id": "K0KiJltkbY4P"
      },
      "outputs": [],
      "source": [
        "# Crear una columna llamado 'vacunado' si recibe 2 o 3 dosis\n",
        "df['vacunado'] = np.where((df['dosis_2'] == 1) | (df['dosis_3'] == 1), 1, 0).astype('int8')"
      ]
    },
    {
      "cell_type": "code",
      "execution_count": 130,
      "metadata": {
        "id": "hV5i7EmebY4Q"
      },
      "outputs": [],
      "source": [
        "# Convertir de float a int para ocupar menos espacio en memoria\n",
        "df['dosis_1'] = df['dosis_1'].fillna(0).astype('int8')\n",
        "df['dosis_2'] = df['dosis_2'].fillna(0).astype('int8')\n",
        "df['dosis_3'] = df['dosis_3'].fillna(0).astype('int8')\n",
        "\n",
        "df['id_vacuna_1'] = df['id_vacuna_1'].fillna(0).astype('int8')\n",
        "df['id_vacuna_2'] = df['id_vacuna_2'].fillna(0).astype('int8')\n",
        "df['id_vacuna_3'] = df['id_vacuna_3'].fillna(0).astype('int8')"
      ]
    },
    {
      "cell_type": "code",
      "execution_count": 131,
      "metadata": {
        "colab": {
          "base_uri": "https://localhost:8080/",
          "height": 300
        },
        "id": "D0MVVid1ZCc5",
        "outputId": "874f9820-645d-4501-9091-701f68063bfa"
      },
      "outputs": [
        {
          "output_type": "execute_result",
          "data": {
            "text/plain": [
              "   id_persona  fecha_resultado  metododx  sexo  edad  edad_cat  departamento  \\\n",
              "0    36527082              NaN       NaN     1    63         5            22   \n",
              "1    36401995              NaN       NaN     1    85         7            22   \n",
              "2    36853977              NaN       NaN     2    24         1            16   \n",
              "3    14179222              NaN       NaN     2    76         6             8   \n",
              "4    38353395              NaN       NaN     1    81         7            15   \n",
              "\n",
              "   fallecido  fecha_fallecimiento  fecha_fal  ...  dosis_1  fecha_vacuna_1  \\\n",
              "0          1           20200303.0 2020-03-03  ...        0             NaN   \n",
              "1          1           20200304.0 2020-03-04  ...        0             NaN   \n",
              "2          1           20200307.0 2020-03-07  ...        0             NaN   \n",
              "3          1           20200308.0 2020-03-08  ...        0             NaN   \n",
              "4          1           20200311.0 2020-03-11  ...        0             NaN   \n",
              "\n",
              "   id_vacuna_1  dosis_2  fecha_vacuna_2  id_vacuna_2  dosis_3  fecha_vacuna_3  \\\n",
              "0            0        0             NaN            0        0             NaN   \n",
              "1            0        0             NaN            0        0             NaN   \n",
              "2            0        0             NaN            0        0             NaN   \n",
              "3            0        0             NaN            0        0             NaN   \n",
              "4            0        0             NaN            0        0             NaN   \n",
              "\n",
              "   id_vacuna_3  vacunado  \n",
              "0            0         0  \n",
              "1            0         0  \n",
              "2            0         0  \n",
              "3            0         0  \n",
              "4            0         0  \n",
              "\n",
              "[5 rows x 24 columns]"
            ],
            "text/html": [
              "\n",
              "  <div id=\"df-710b3c9d-eec2-467b-8a93-372e506c0754\">\n",
              "    <div class=\"colab-df-container\">\n",
              "      <div>\n",
              "<style scoped>\n",
              "    .dataframe tbody tr th:only-of-type {\n",
              "        vertical-align: middle;\n",
              "    }\n",
              "\n",
              "    .dataframe tbody tr th {\n",
              "        vertical-align: top;\n",
              "    }\n",
              "\n",
              "    .dataframe thead th {\n",
              "        text-align: right;\n",
              "    }\n",
              "</style>\n",
              "<table border=\"1\" class=\"dataframe\">\n",
              "  <thead>\n",
              "    <tr style=\"text-align: right;\">\n",
              "      <th></th>\n",
              "      <th>id_persona</th>\n",
              "      <th>fecha_resultado</th>\n",
              "      <th>metododx</th>\n",
              "      <th>sexo</th>\n",
              "      <th>edad</th>\n",
              "      <th>edad_cat</th>\n",
              "      <th>departamento</th>\n",
              "      <th>fallecido</th>\n",
              "      <th>fecha_fallecimiento</th>\n",
              "      <th>fecha_fal</th>\n",
              "      <th>...</th>\n",
              "      <th>dosis_1</th>\n",
              "      <th>fecha_vacuna_1</th>\n",
              "      <th>id_vacuna_1</th>\n",
              "      <th>dosis_2</th>\n",
              "      <th>fecha_vacuna_2</th>\n",
              "      <th>id_vacuna_2</th>\n",
              "      <th>dosis_3</th>\n",
              "      <th>fecha_vacuna_3</th>\n",
              "      <th>id_vacuna_3</th>\n",
              "      <th>vacunado</th>\n",
              "    </tr>\n",
              "  </thead>\n",
              "  <tbody>\n",
              "    <tr>\n",
              "      <th>0</th>\n",
              "      <td>36527082</td>\n",
              "      <td>NaN</td>\n",
              "      <td>NaN</td>\n",
              "      <td>1</td>\n",
              "      <td>63</td>\n",
              "      <td>5</td>\n",
              "      <td>22</td>\n",
              "      <td>1</td>\n",
              "      <td>20200303.0</td>\n",
              "      <td>2020-03-03</td>\n",
              "      <td>...</td>\n",
              "      <td>0</td>\n",
              "      <td>NaN</td>\n",
              "      <td>0</td>\n",
              "      <td>0</td>\n",
              "      <td>NaN</td>\n",
              "      <td>0</td>\n",
              "      <td>0</td>\n",
              "      <td>NaN</td>\n",
              "      <td>0</td>\n",
              "      <td>0</td>\n",
              "    </tr>\n",
              "    <tr>\n",
              "      <th>1</th>\n",
              "      <td>36401995</td>\n",
              "      <td>NaN</td>\n",
              "      <td>NaN</td>\n",
              "      <td>1</td>\n",
              "      <td>85</td>\n",
              "      <td>7</td>\n",
              "      <td>22</td>\n",
              "      <td>1</td>\n",
              "      <td>20200304.0</td>\n",
              "      <td>2020-03-04</td>\n",
              "      <td>...</td>\n",
              "      <td>0</td>\n",
              "      <td>NaN</td>\n",
              "      <td>0</td>\n",
              "      <td>0</td>\n",
              "      <td>NaN</td>\n",
              "      <td>0</td>\n",
              "      <td>0</td>\n",
              "      <td>NaN</td>\n",
              "      <td>0</td>\n",
              "      <td>0</td>\n",
              "    </tr>\n",
              "    <tr>\n",
              "      <th>2</th>\n",
              "      <td>36853977</td>\n",
              "      <td>NaN</td>\n",
              "      <td>NaN</td>\n",
              "      <td>2</td>\n",
              "      <td>24</td>\n",
              "      <td>1</td>\n",
              "      <td>16</td>\n",
              "      <td>1</td>\n",
              "      <td>20200307.0</td>\n",
              "      <td>2020-03-07</td>\n",
              "      <td>...</td>\n",
              "      <td>0</td>\n",
              "      <td>NaN</td>\n",
              "      <td>0</td>\n",
              "      <td>0</td>\n",
              "      <td>NaN</td>\n",
              "      <td>0</td>\n",
              "      <td>0</td>\n",
              "      <td>NaN</td>\n",
              "      <td>0</td>\n",
              "      <td>0</td>\n",
              "    </tr>\n",
              "    <tr>\n",
              "      <th>3</th>\n",
              "      <td>14179222</td>\n",
              "      <td>NaN</td>\n",
              "      <td>NaN</td>\n",
              "      <td>2</td>\n",
              "      <td>76</td>\n",
              "      <td>6</td>\n",
              "      <td>8</td>\n",
              "      <td>1</td>\n",
              "      <td>20200308.0</td>\n",
              "      <td>2020-03-08</td>\n",
              "      <td>...</td>\n",
              "      <td>0</td>\n",
              "      <td>NaN</td>\n",
              "      <td>0</td>\n",
              "      <td>0</td>\n",
              "      <td>NaN</td>\n",
              "      <td>0</td>\n",
              "      <td>0</td>\n",
              "      <td>NaN</td>\n",
              "      <td>0</td>\n",
              "      <td>0</td>\n",
              "    </tr>\n",
              "    <tr>\n",
              "      <th>4</th>\n",
              "      <td>38353395</td>\n",
              "      <td>NaN</td>\n",
              "      <td>NaN</td>\n",
              "      <td>1</td>\n",
              "      <td>81</td>\n",
              "      <td>7</td>\n",
              "      <td>15</td>\n",
              "      <td>1</td>\n",
              "      <td>20200311.0</td>\n",
              "      <td>2020-03-11</td>\n",
              "      <td>...</td>\n",
              "      <td>0</td>\n",
              "      <td>NaN</td>\n",
              "      <td>0</td>\n",
              "      <td>0</td>\n",
              "      <td>NaN</td>\n",
              "      <td>0</td>\n",
              "      <td>0</td>\n",
              "      <td>NaN</td>\n",
              "      <td>0</td>\n",
              "      <td>0</td>\n",
              "    </tr>\n",
              "  </tbody>\n",
              "</table>\n",
              "<p>5 rows × 24 columns</p>\n",
              "</div>\n",
              "      <button class=\"colab-df-convert\" onclick=\"convertToInteractive('df-710b3c9d-eec2-467b-8a93-372e506c0754')\"\n",
              "              title=\"Convert this dataframe to an interactive table.\"\n",
              "              style=\"display:none;\">\n",
              "        \n",
              "  <svg xmlns=\"http://www.w3.org/2000/svg\" height=\"24px\"viewBox=\"0 0 24 24\"\n",
              "       width=\"24px\">\n",
              "    <path d=\"M0 0h24v24H0V0z\" fill=\"none\"/>\n",
              "    <path d=\"M18.56 5.44l.94 2.06.94-2.06 2.06-.94-2.06-.94-.94-2.06-.94 2.06-2.06.94zm-11 1L8.5 8.5l.94-2.06 2.06-.94-2.06-.94L8.5 2.5l-.94 2.06-2.06.94zm10 10l.94 2.06.94-2.06 2.06-.94-2.06-.94-.94-2.06-.94 2.06-2.06.94z\"/><path d=\"M17.41 7.96l-1.37-1.37c-.4-.4-.92-.59-1.43-.59-.52 0-1.04.2-1.43.59L10.3 9.45l-7.72 7.72c-.78.78-.78 2.05 0 2.83L4 21.41c.39.39.9.59 1.41.59.51 0 1.02-.2 1.41-.59l7.78-7.78 2.81-2.81c.8-.78.8-2.07 0-2.86zM5.41 20L4 18.59l7.72-7.72 1.47 1.35L5.41 20z\"/>\n",
              "  </svg>\n",
              "      </button>\n",
              "      \n",
              "  <style>\n",
              "    .colab-df-container {\n",
              "      display:flex;\n",
              "      flex-wrap:wrap;\n",
              "      gap: 12px;\n",
              "    }\n",
              "\n",
              "    .colab-df-convert {\n",
              "      background-color: #E8F0FE;\n",
              "      border: none;\n",
              "      border-radius: 50%;\n",
              "      cursor: pointer;\n",
              "      display: none;\n",
              "      fill: #1967D2;\n",
              "      height: 32px;\n",
              "      padding: 0 0 0 0;\n",
              "      width: 32px;\n",
              "    }\n",
              "\n",
              "    .colab-df-convert:hover {\n",
              "      background-color: #E2EBFA;\n",
              "      box-shadow: 0px 1px 2px rgba(60, 64, 67, 0.3), 0px 1px 3px 1px rgba(60, 64, 67, 0.15);\n",
              "      fill: #174EA6;\n",
              "    }\n",
              "\n",
              "    [theme=dark] .colab-df-convert {\n",
              "      background-color: #3B4455;\n",
              "      fill: #D2E3FC;\n",
              "    }\n",
              "\n",
              "    [theme=dark] .colab-df-convert:hover {\n",
              "      background-color: #434B5C;\n",
              "      box-shadow: 0px 1px 3px 1px rgba(0, 0, 0, 0.15);\n",
              "      filter: drop-shadow(0px 1px 2px rgba(0, 0, 0, 0.3));\n",
              "      fill: #FFFFFF;\n",
              "    }\n",
              "  </style>\n",
              "\n",
              "      <script>\n",
              "        const buttonEl =\n",
              "          document.querySelector('#df-710b3c9d-eec2-467b-8a93-372e506c0754 button.colab-df-convert');\n",
              "        buttonEl.style.display =\n",
              "          google.colab.kernel.accessAllowed ? 'block' : 'none';\n",
              "\n",
              "        async function convertToInteractive(key) {\n",
              "          const element = document.querySelector('#df-710b3c9d-eec2-467b-8a93-372e506c0754');\n",
              "          const dataTable =\n",
              "            await google.colab.kernel.invokeFunction('convertToInteractive',\n",
              "                                                     [key], {});\n",
              "          if (!dataTable) return;\n",
              "\n",
              "          const docLinkHtml = 'Like what you see? Visit the ' +\n",
              "            '<a target=\"_blank\" href=https://colab.research.google.com/notebooks/data_table.ipynb>data table notebook</a>'\n",
              "            + ' to learn more about interactive tables.';\n",
              "          element.innerHTML = '';\n",
              "          dataTable['output_type'] = 'display_data';\n",
              "          await google.colab.output.renderOutput(dataTable, element);\n",
              "          const docLink = document.createElement('div');\n",
              "          docLink.innerHTML = docLinkHtml;\n",
              "          element.appendChild(docLink);\n",
              "        }\n",
              "      </script>\n",
              "    </div>\n",
              "  </div>\n",
              "  "
            ]
          },
          "metadata": {},
          "execution_count": 131
        }
      ],
      "source": [
        "df.head()"
      ]
    },
    {
      "cell_type": "markdown",
      "metadata": {
        "id": "trMC_SDmcTiH"
      },
      "source": [
        "## 3. Verificar errores"
      ]
    },
    {
      "cell_type": "markdown",
      "metadata": {
        "id": "G5NrKv6EdEVw"
      },
      "source": [
        "Se procede a verificar que no hayan errores en las fechas. Por ejemplo dosis recibidas luego de reportarse una fecha de fallecimiento."
      ]
    },
    {
      "cell_type": "code",
      "execution_count": 132,
      "metadata": {
        "id": "Ho0r5heudeq4"
      },
      "outputs": [],
      "source": [
        "# Se crea nueva columnas formato fecha de las columnas de vacunación\n",
        "lst_dates = ['fecha_vacuna_1', 'fecha_vacuna_2', 'fecha_vacuna_3']\n",
        "\n",
        "for date in lst_dates:\n",
        "    df[date + '_'] = pd.to_datetime(df[date], format = '%Y%m%d')"
      ]
    },
    {
      "cell_type": "code",
      "execution_count": 133,
      "metadata": {
        "colab": {
          "base_uri": "https://localhost:8080/",
          "height": 206
        },
        "id": "mNhLVTKieRaz",
        "outputId": "380c635a-8037-48d0-da3a-c5b7f0f286be"
      },
      "outputs": [
        {
          "output_type": "execute_result",
          "data": {
            "text/plain": [
              "        fecha_fal fecha_vacuna_1_ fecha_vacuna_2_ fecha_vacuna_3_\n",
              "3381491       NaT      2021-11-05      2021-12-03      2022-03-09\n",
              "3381492       NaT             NaT             NaT             NaT\n",
              "3381493       NaT      2021-09-05      2021-09-26      2022-01-05\n",
              "3381494       NaT      2021-08-27      2021-09-17      2021-12-30\n",
              "3381495       NaT      2021-09-17      2021-10-08             NaT"
            ],
            "text/html": [
              "\n",
              "  <div id=\"df-b4ba012e-bc73-4340-b2f9-6a5989f3ecc2\">\n",
              "    <div class=\"colab-df-container\">\n",
              "      <div>\n",
              "<style scoped>\n",
              "    .dataframe tbody tr th:only-of-type {\n",
              "        vertical-align: middle;\n",
              "    }\n",
              "\n",
              "    .dataframe tbody tr th {\n",
              "        vertical-align: top;\n",
              "    }\n",
              "\n",
              "    .dataframe thead th {\n",
              "        text-align: right;\n",
              "    }\n",
              "</style>\n",
              "<table border=\"1\" class=\"dataframe\">\n",
              "  <thead>\n",
              "    <tr style=\"text-align: right;\">\n",
              "      <th></th>\n",
              "      <th>fecha_fal</th>\n",
              "      <th>fecha_vacuna_1_</th>\n",
              "      <th>fecha_vacuna_2_</th>\n",
              "      <th>fecha_vacuna_3_</th>\n",
              "    </tr>\n",
              "  </thead>\n",
              "  <tbody>\n",
              "    <tr>\n",
              "      <th>3381491</th>\n",
              "      <td>NaT</td>\n",
              "      <td>2021-11-05</td>\n",
              "      <td>2021-12-03</td>\n",
              "      <td>2022-03-09</td>\n",
              "    </tr>\n",
              "    <tr>\n",
              "      <th>3381492</th>\n",
              "      <td>NaT</td>\n",
              "      <td>NaT</td>\n",
              "      <td>NaT</td>\n",
              "      <td>NaT</td>\n",
              "    </tr>\n",
              "    <tr>\n",
              "      <th>3381493</th>\n",
              "      <td>NaT</td>\n",
              "      <td>2021-09-05</td>\n",
              "      <td>2021-09-26</td>\n",
              "      <td>2022-01-05</td>\n",
              "    </tr>\n",
              "    <tr>\n",
              "      <th>3381494</th>\n",
              "      <td>NaT</td>\n",
              "      <td>2021-08-27</td>\n",
              "      <td>2021-09-17</td>\n",
              "      <td>2021-12-30</td>\n",
              "    </tr>\n",
              "    <tr>\n",
              "      <th>3381495</th>\n",
              "      <td>NaT</td>\n",
              "      <td>2021-09-17</td>\n",
              "      <td>2021-10-08</td>\n",
              "      <td>NaT</td>\n",
              "    </tr>\n",
              "  </tbody>\n",
              "</table>\n",
              "</div>\n",
              "      <button class=\"colab-df-convert\" onclick=\"convertToInteractive('df-b4ba012e-bc73-4340-b2f9-6a5989f3ecc2')\"\n",
              "              title=\"Convert this dataframe to an interactive table.\"\n",
              "              style=\"display:none;\">\n",
              "        \n",
              "  <svg xmlns=\"http://www.w3.org/2000/svg\" height=\"24px\"viewBox=\"0 0 24 24\"\n",
              "       width=\"24px\">\n",
              "    <path d=\"M0 0h24v24H0V0z\" fill=\"none\"/>\n",
              "    <path d=\"M18.56 5.44l.94 2.06.94-2.06 2.06-.94-2.06-.94-.94-2.06-.94 2.06-2.06.94zm-11 1L8.5 8.5l.94-2.06 2.06-.94-2.06-.94L8.5 2.5l-.94 2.06-2.06.94zm10 10l.94 2.06.94-2.06 2.06-.94-2.06-.94-.94-2.06-.94 2.06-2.06.94z\"/><path d=\"M17.41 7.96l-1.37-1.37c-.4-.4-.92-.59-1.43-.59-.52 0-1.04.2-1.43.59L10.3 9.45l-7.72 7.72c-.78.78-.78 2.05 0 2.83L4 21.41c.39.39.9.59 1.41.59.51 0 1.02-.2 1.41-.59l7.78-7.78 2.81-2.81c.8-.78.8-2.07 0-2.86zM5.41 20L4 18.59l7.72-7.72 1.47 1.35L5.41 20z\"/>\n",
              "  </svg>\n",
              "      </button>\n",
              "      \n",
              "  <style>\n",
              "    .colab-df-container {\n",
              "      display:flex;\n",
              "      flex-wrap:wrap;\n",
              "      gap: 12px;\n",
              "    }\n",
              "\n",
              "    .colab-df-convert {\n",
              "      background-color: #E8F0FE;\n",
              "      border: none;\n",
              "      border-radius: 50%;\n",
              "      cursor: pointer;\n",
              "      display: none;\n",
              "      fill: #1967D2;\n",
              "      height: 32px;\n",
              "      padding: 0 0 0 0;\n",
              "      width: 32px;\n",
              "    }\n",
              "\n",
              "    .colab-df-convert:hover {\n",
              "      background-color: #E2EBFA;\n",
              "      box-shadow: 0px 1px 2px rgba(60, 64, 67, 0.3), 0px 1px 3px 1px rgba(60, 64, 67, 0.15);\n",
              "      fill: #174EA6;\n",
              "    }\n",
              "\n",
              "    [theme=dark] .colab-df-convert {\n",
              "      background-color: #3B4455;\n",
              "      fill: #D2E3FC;\n",
              "    }\n",
              "\n",
              "    [theme=dark] .colab-df-convert:hover {\n",
              "      background-color: #434B5C;\n",
              "      box-shadow: 0px 1px 3px 1px rgba(0, 0, 0, 0.15);\n",
              "      filter: drop-shadow(0px 1px 2px rgba(0, 0, 0, 0.3));\n",
              "      fill: #FFFFFF;\n",
              "    }\n",
              "  </style>\n",
              "\n",
              "      <script>\n",
              "        const buttonEl =\n",
              "          document.querySelector('#df-b4ba012e-bc73-4340-b2f9-6a5989f3ecc2 button.colab-df-convert');\n",
              "        buttonEl.style.display =\n",
              "          google.colab.kernel.accessAllowed ? 'block' : 'none';\n",
              "\n",
              "        async function convertToInteractive(key) {\n",
              "          const element = document.querySelector('#df-b4ba012e-bc73-4340-b2f9-6a5989f3ecc2');\n",
              "          const dataTable =\n",
              "            await google.colab.kernel.invokeFunction('convertToInteractive',\n",
              "                                                     [key], {});\n",
              "          if (!dataTable) return;\n",
              "\n",
              "          const docLinkHtml = 'Like what you see? Visit the ' +\n",
              "            '<a target=\"_blank\" href=https://colab.research.google.com/notebooks/data_table.ipynb>data table notebook</a>'\n",
              "            + ' to learn more about interactive tables.';\n",
              "          element.innerHTML = '';\n",
              "          dataTable['output_type'] = 'display_data';\n",
              "          await google.colab.output.renderOutput(dataTable, element);\n",
              "          const docLink = document.createElement('div');\n",
              "          docLink.innerHTML = docLinkHtml;\n",
              "          element.appendChild(docLink);\n",
              "        }\n",
              "      </script>\n",
              "    </div>\n",
              "  </div>\n",
              "  "
            ]
          },
          "metadata": {},
          "execution_count": 133
        }
      ],
      "source": [
        "# Cola del dataset principal, con 'fecha_fal', 'fecha_vacuna_1_', 'fecha_vacuna_2_', 'fecha_vacuna_3_'\n",
        "df[['fecha_fal', 'fecha_vacuna_1_', 'fecha_vacuna_2_', 'fecha_vacuna_3_']].tail()"
      ]
    },
    {
      "cell_type": "code",
      "execution_count": 134,
      "metadata": {
        "colab": {
          "base_uri": "https://localhost:8080/",
          "height": 424
        },
        "id": "pSStfgeuetEn",
        "outputId": "0115e005-0a5a-49fe-91af-24cd9401c2d1"
      },
      "outputs": [
        {
          "output_type": "execute_result",
          "data": {
            "text/plain": [
              "        fecha_fal fecha_vacuna_1_ fecha_vacuna_2_ fecha_vacuna_3_\n",
              "9      2020-03-16      2021-10-10      2021-10-31             NaT\n",
              "116    2020-03-29      2021-03-09      2021-03-30      2021-12-09\n",
              "222    2020-04-03      2021-02-11      2021-03-04      2021-11-03\n",
              "236    2020-04-03      2021-12-04      2021-12-26      2022-03-28\n",
              "241    2020-04-03      2021-08-28      2021-09-19      2022-05-04\n",
              "...           ...             ...             ...             ...\n",
              "206687 2022-02-13      2021-06-25      2021-07-20      2022-02-14\n",
              "206702 2022-02-13      2022-01-22      2022-02-14             NaT\n",
              "208016 2022-02-26      2021-11-10      2021-12-09      2022-03-26\n",
              "208964 2022-03-13      2021-06-18      2021-07-09      2022-05-02\n",
              "209701 2022-04-03      2021-06-02      2021-06-24      2022-04-03\n",
              "\n",
              "[1843 rows x 4 columns]"
            ],
            "text/html": [
              "\n",
              "  <div id=\"df-5ec9c258-ec79-43ed-a390-baa294593498\">\n",
              "    <div class=\"colab-df-container\">\n",
              "      <div>\n",
              "<style scoped>\n",
              "    .dataframe tbody tr th:only-of-type {\n",
              "        vertical-align: middle;\n",
              "    }\n",
              "\n",
              "    .dataframe tbody tr th {\n",
              "        vertical-align: top;\n",
              "    }\n",
              "\n",
              "    .dataframe thead th {\n",
              "        text-align: right;\n",
              "    }\n",
              "</style>\n",
              "<table border=\"1\" class=\"dataframe\">\n",
              "  <thead>\n",
              "    <tr style=\"text-align: right;\">\n",
              "      <th></th>\n",
              "      <th>fecha_fal</th>\n",
              "      <th>fecha_vacuna_1_</th>\n",
              "      <th>fecha_vacuna_2_</th>\n",
              "      <th>fecha_vacuna_3_</th>\n",
              "    </tr>\n",
              "  </thead>\n",
              "  <tbody>\n",
              "    <tr>\n",
              "      <th>9</th>\n",
              "      <td>2020-03-16</td>\n",
              "      <td>2021-10-10</td>\n",
              "      <td>2021-10-31</td>\n",
              "      <td>NaT</td>\n",
              "    </tr>\n",
              "    <tr>\n",
              "      <th>116</th>\n",
              "      <td>2020-03-29</td>\n",
              "      <td>2021-03-09</td>\n",
              "      <td>2021-03-30</td>\n",
              "      <td>2021-12-09</td>\n",
              "    </tr>\n",
              "    <tr>\n",
              "      <th>222</th>\n",
              "      <td>2020-04-03</td>\n",
              "      <td>2021-02-11</td>\n",
              "      <td>2021-03-04</td>\n",
              "      <td>2021-11-03</td>\n",
              "    </tr>\n",
              "    <tr>\n",
              "      <th>236</th>\n",
              "      <td>2020-04-03</td>\n",
              "      <td>2021-12-04</td>\n",
              "      <td>2021-12-26</td>\n",
              "      <td>2022-03-28</td>\n",
              "    </tr>\n",
              "    <tr>\n",
              "      <th>241</th>\n",
              "      <td>2020-04-03</td>\n",
              "      <td>2021-08-28</td>\n",
              "      <td>2021-09-19</td>\n",
              "      <td>2022-05-04</td>\n",
              "    </tr>\n",
              "    <tr>\n",
              "      <th>...</th>\n",
              "      <td>...</td>\n",
              "      <td>...</td>\n",
              "      <td>...</td>\n",
              "      <td>...</td>\n",
              "    </tr>\n",
              "    <tr>\n",
              "      <th>206687</th>\n",
              "      <td>2022-02-13</td>\n",
              "      <td>2021-06-25</td>\n",
              "      <td>2021-07-20</td>\n",
              "      <td>2022-02-14</td>\n",
              "    </tr>\n",
              "    <tr>\n",
              "      <th>206702</th>\n",
              "      <td>2022-02-13</td>\n",
              "      <td>2022-01-22</td>\n",
              "      <td>2022-02-14</td>\n",
              "      <td>NaT</td>\n",
              "    </tr>\n",
              "    <tr>\n",
              "      <th>208016</th>\n",
              "      <td>2022-02-26</td>\n",
              "      <td>2021-11-10</td>\n",
              "      <td>2021-12-09</td>\n",
              "      <td>2022-03-26</td>\n",
              "    </tr>\n",
              "    <tr>\n",
              "      <th>208964</th>\n",
              "      <td>2022-03-13</td>\n",
              "      <td>2021-06-18</td>\n",
              "      <td>2021-07-09</td>\n",
              "      <td>2022-05-02</td>\n",
              "    </tr>\n",
              "    <tr>\n",
              "      <th>209701</th>\n",
              "      <td>2022-04-03</td>\n",
              "      <td>2021-06-02</td>\n",
              "      <td>2021-06-24</td>\n",
              "      <td>2022-04-03</td>\n",
              "    </tr>\n",
              "  </tbody>\n",
              "</table>\n",
              "<p>1843 rows × 4 columns</p>\n",
              "</div>\n",
              "      <button class=\"colab-df-convert\" onclick=\"convertToInteractive('df-5ec9c258-ec79-43ed-a390-baa294593498')\"\n",
              "              title=\"Convert this dataframe to an interactive table.\"\n",
              "              style=\"display:none;\">\n",
              "        \n",
              "  <svg xmlns=\"http://www.w3.org/2000/svg\" height=\"24px\"viewBox=\"0 0 24 24\"\n",
              "       width=\"24px\">\n",
              "    <path d=\"M0 0h24v24H0V0z\" fill=\"none\"/>\n",
              "    <path d=\"M18.56 5.44l.94 2.06.94-2.06 2.06-.94-2.06-.94-.94-2.06-.94 2.06-2.06.94zm-11 1L8.5 8.5l.94-2.06 2.06-.94-2.06-.94L8.5 2.5l-.94 2.06-2.06.94zm10 10l.94 2.06.94-2.06 2.06-.94-2.06-.94-.94-2.06-.94 2.06-2.06.94z\"/><path d=\"M17.41 7.96l-1.37-1.37c-.4-.4-.92-.59-1.43-.59-.52 0-1.04.2-1.43.59L10.3 9.45l-7.72 7.72c-.78.78-.78 2.05 0 2.83L4 21.41c.39.39.9.59 1.41.59.51 0 1.02-.2 1.41-.59l7.78-7.78 2.81-2.81c.8-.78.8-2.07 0-2.86zM5.41 20L4 18.59l7.72-7.72 1.47 1.35L5.41 20z\"/>\n",
              "  </svg>\n",
              "      </button>\n",
              "      \n",
              "  <style>\n",
              "    .colab-df-container {\n",
              "      display:flex;\n",
              "      flex-wrap:wrap;\n",
              "      gap: 12px;\n",
              "    }\n",
              "\n",
              "    .colab-df-convert {\n",
              "      background-color: #E8F0FE;\n",
              "      border: none;\n",
              "      border-radius: 50%;\n",
              "      cursor: pointer;\n",
              "      display: none;\n",
              "      fill: #1967D2;\n",
              "      height: 32px;\n",
              "      padding: 0 0 0 0;\n",
              "      width: 32px;\n",
              "    }\n",
              "\n",
              "    .colab-df-convert:hover {\n",
              "      background-color: #E2EBFA;\n",
              "      box-shadow: 0px 1px 2px rgba(60, 64, 67, 0.3), 0px 1px 3px 1px rgba(60, 64, 67, 0.15);\n",
              "      fill: #174EA6;\n",
              "    }\n",
              "\n",
              "    [theme=dark] .colab-df-convert {\n",
              "      background-color: #3B4455;\n",
              "      fill: #D2E3FC;\n",
              "    }\n",
              "\n",
              "    [theme=dark] .colab-df-convert:hover {\n",
              "      background-color: #434B5C;\n",
              "      box-shadow: 0px 1px 3px 1px rgba(0, 0, 0, 0.15);\n",
              "      filter: drop-shadow(0px 1px 2px rgba(0, 0, 0, 0.3));\n",
              "      fill: #FFFFFF;\n",
              "    }\n",
              "  </style>\n",
              "\n",
              "      <script>\n",
              "        const buttonEl =\n",
              "          document.querySelector('#df-5ec9c258-ec79-43ed-a390-baa294593498 button.colab-df-convert');\n",
              "        buttonEl.style.display =\n",
              "          google.colab.kernel.accessAllowed ? 'block' : 'none';\n",
              "\n",
              "        async function convertToInteractive(key) {\n",
              "          const element = document.querySelector('#df-5ec9c258-ec79-43ed-a390-baa294593498');\n",
              "          const dataTable =\n",
              "            await google.colab.kernel.invokeFunction('convertToInteractive',\n",
              "                                                     [key], {});\n",
              "          if (!dataTable) return;\n",
              "\n",
              "          const docLinkHtml = 'Like what you see? Visit the ' +\n",
              "            '<a target=\"_blank\" href=https://colab.research.google.com/notebooks/data_table.ipynb>data table notebook</a>'\n",
              "            + ' to learn more about interactive tables.';\n",
              "          element.innerHTML = '';\n",
              "          dataTable['output_type'] = 'display_data';\n",
              "          await google.colab.output.renderOutput(dataTable, element);\n",
              "          const docLink = document.createElement('div');\n",
              "          docLink.innerHTML = docLinkHtml;\n",
              "          element.appendChild(docLink);\n",
              "        }\n",
              "      </script>\n",
              "    </div>\n",
              "  </div>\n",
              "  "
            ]
          },
          "metadata": {},
          "execution_count": 134
        }
      ],
      "source": [
        "# Casos donde la fecha de fallecimiento está ANTES de la fecha de vacunación\n",
        "df[['fecha_fal', 'fecha_vacuna_1_', 'fecha_vacuna_2_', 'fecha_vacuna_3_']] \\\n",
        "[(df['fecha_vacuna_1'] >= df['fecha_fallecimiento']) |\n",
        " (df['fecha_vacuna_2'] >= df['fecha_fallecimiento']) |\n",
        " (df['fecha_vacuna_3'] >= df['fecha_fallecimiento']) ]"
      ]
    },
    {
      "cell_type": "markdown",
      "metadata": {
        "id": "EqgiTmu6gJlC"
      },
      "source": [
        "**EVIDENTEMENTE** una persona no puede recibir ninguna dosis de vacunación luego de ser reportado como fallecido por obvias razones. Se asume que en estos registros ocurrió algún problema, por lo que se procede a eliminarlos."
      ]
    },
    {
      "cell_type": "code",
      "execution_count": 135,
      "metadata": {
        "id": "CftuW0zAhG2M"
      },
      "outputs": [],
      "source": [
        "# Eliminar todos los registros erróneos donde la fecha de vacunación es mayor a la de fallecimiento\n",
        "df.drop(df.index[(df['fecha_vacuna_1'] >= df['fecha_fallecimiento']) |\n",
        " (df['fecha_vacuna_2'] >= df['fecha_fallecimiento']) |\n",
        " (df['fecha_vacuna_3'] >= df['fecha_fallecimiento']) ], inplace = True)\n",
        "\n",
        "df.reset_index(drop = True)\n",
        "\n",
        "# Ordenar el dataframe final\n",
        "df = df[['id_persona', 'fecha_resultado', 'metododx', 'sexo', 'edad', 'edad_cat',\n",
        "       'departamento', 'fallecido', 'fecha_fallecimiento', 'fecha_fal', 'year',\n",
        "       'epi_week', 'tiempo_fal', 'vacunado', 'dosis_1', 'fecha_vacuna_1', 'id_vacuna_1',\n",
        "       'dosis_2', 'fecha_vacuna_2', 'id_vacuna_2', 'dosis_3', 'fecha_vacuna_3',\n",
        "       'id_vacuna_3']]"
      ]
    },
    {
      "cell_type": "code",
      "execution_count": 136,
      "metadata": {
        "colab": {
          "base_uri": "https://localhost:8080/",
          "height": 300
        },
        "id": "-IsE0pPKj0Zd",
        "outputId": "d923715b-3af5-4d25-b704-e8d26e761f1a"
      },
      "outputs": [
        {
          "output_type": "execute_result",
          "data": {
            "text/plain": [
              "         id_persona  fecha_resultado  metododx  sexo  edad  edad_cat  \\\n",
              "3381491    27997090       20220514.0       2.0     1    25         1   \n",
              "3381492    10904655       20220514.0       2.0     2    37         2   \n",
              "3381493    23465806       20220514.0       3.0     1    32         2   \n",
              "3381494    31853324       20220514.0       2.0     1    37         2   \n",
              "3381495    20941978       20220514.0       2.0     1    20         1   \n",
              "\n",
              "         departamento  fallecido  fecha_fallecimiento fecha_fal  ...  \\\n",
              "3381491            18          0                  NaN       NaT  ...   \n",
              "3381492            15          0                  NaN       NaT  ...   \n",
              "3381493            15          0                  NaN       NaT  ...   \n",
              "3381494            15          0                  NaN       NaT  ...   \n",
              "3381495             8          0                  NaN       NaT  ...   \n",
              "\n",
              "         vacunado  dosis_1  fecha_vacuna_1  id_vacuna_1  dosis_2  \\\n",
              "3381491         1        1      20211105.0            1        1   \n",
              "3381492         0        0             NaN            0        0   \n",
              "3381493         1        1      20210905.0            6        1   \n",
              "3381494         1        1      20210827.0            6        1   \n",
              "3381495         1        1      20210917.0            6        1   \n",
              "\n",
              "         fecha_vacuna_2  id_vacuna_2  dosis_3  fecha_vacuna_3  id_vacuna_3  \n",
              "3381491      20211203.0            1        1      20220309.0            5  \n",
              "3381492             NaN            0        0             NaN            0  \n",
              "3381493      20210926.0            6        1      20220105.0            5  \n",
              "3381494      20210917.0            6        1      20211230.0            5  \n",
              "3381495      20211008.0            6        0             NaN            0  \n",
              "\n",
              "[5 rows x 23 columns]"
            ],
            "text/html": [
              "\n",
              "  <div id=\"df-8f5c0069-0591-4602-878e-e5f7c1b25ec8\">\n",
              "    <div class=\"colab-df-container\">\n",
              "      <div>\n",
              "<style scoped>\n",
              "    .dataframe tbody tr th:only-of-type {\n",
              "        vertical-align: middle;\n",
              "    }\n",
              "\n",
              "    .dataframe tbody tr th {\n",
              "        vertical-align: top;\n",
              "    }\n",
              "\n",
              "    .dataframe thead th {\n",
              "        text-align: right;\n",
              "    }\n",
              "</style>\n",
              "<table border=\"1\" class=\"dataframe\">\n",
              "  <thead>\n",
              "    <tr style=\"text-align: right;\">\n",
              "      <th></th>\n",
              "      <th>id_persona</th>\n",
              "      <th>fecha_resultado</th>\n",
              "      <th>metododx</th>\n",
              "      <th>sexo</th>\n",
              "      <th>edad</th>\n",
              "      <th>edad_cat</th>\n",
              "      <th>departamento</th>\n",
              "      <th>fallecido</th>\n",
              "      <th>fecha_fallecimiento</th>\n",
              "      <th>fecha_fal</th>\n",
              "      <th>...</th>\n",
              "      <th>vacunado</th>\n",
              "      <th>dosis_1</th>\n",
              "      <th>fecha_vacuna_1</th>\n",
              "      <th>id_vacuna_1</th>\n",
              "      <th>dosis_2</th>\n",
              "      <th>fecha_vacuna_2</th>\n",
              "      <th>id_vacuna_2</th>\n",
              "      <th>dosis_3</th>\n",
              "      <th>fecha_vacuna_3</th>\n",
              "      <th>id_vacuna_3</th>\n",
              "    </tr>\n",
              "  </thead>\n",
              "  <tbody>\n",
              "    <tr>\n",
              "      <th>3381491</th>\n",
              "      <td>27997090</td>\n",
              "      <td>20220514.0</td>\n",
              "      <td>2.0</td>\n",
              "      <td>1</td>\n",
              "      <td>25</td>\n",
              "      <td>1</td>\n",
              "      <td>18</td>\n",
              "      <td>0</td>\n",
              "      <td>NaN</td>\n",
              "      <td>NaT</td>\n",
              "      <td>...</td>\n",
              "      <td>1</td>\n",
              "      <td>1</td>\n",
              "      <td>20211105.0</td>\n",
              "      <td>1</td>\n",
              "      <td>1</td>\n",
              "      <td>20211203.0</td>\n",
              "      <td>1</td>\n",
              "      <td>1</td>\n",
              "      <td>20220309.0</td>\n",
              "      <td>5</td>\n",
              "    </tr>\n",
              "    <tr>\n",
              "      <th>3381492</th>\n",
              "      <td>10904655</td>\n",
              "      <td>20220514.0</td>\n",
              "      <td>2.0</td>\n",
              "      <td>2</td>\n",
              "      <td>37</td>\n",
              "      <td>2</td>\n",
              "      <td>15</td>\n",
              "      <td>0</td>\n",
              "      <td>NaN</td>\n",
              "      <td>NaT</td>\n",
              "      <td>...</td>\n",
              "      <td>0</td>\n",
              "      <td>0</td>\n",
              "      <td>NaN</td>\n",
              "      <td>0</td>\n",
              "      <td>0</td>\n",
              "      <td>NaN</td>\n",
              "      <td>0</td>\n",
              "      <td>0</td>\n",
              "      <td>NaN</td>\n",
              "      <td>0</td>\n",
              "    </tr>\n",
              "    <tr>\n",
              "      <th>3381493</th>\n",
              "      <td>23465806</td>\n",
              "      <td>20220514.0</td>\n",
              "      <td>3.0</td>\n",
              "      <td>1</td>\n",
              "      <td>32</td>\n",
              "      <td>2</td>\n",
              "      <td>15</td>\n",
              "      <td>0</td>\n",
              "      <td>NaN</td>\n",
              "      <td>NaT</td>\n",
              "      <td>...</td>\n",
              "      <td>1</td>\n",
              "      <td>1</td>\n",
              "      <td>20210905.0</td>\n",
              "      <td>6</td>\n",
              "      <td>1</td>\n",
              "      <td>20210926.0</td>\n",
              "      <td>6</td>\n",
              "      <td>1</td>\n",
              "      <td>20220105.0</td>\n",
              "      <td>5</td>\n",
              "    </tr>\n",
              "    <tr>\n",
              "      <th>3381494</th>\n",
              "      <td>31853324</td>\n",
              "      <td>20220514.0</td>\n",
              "      <td>2.0</td>\n",
              "      <td>1</td>\n",
              "      <td>37</td>\n",
              "      <td>2</td>\n",
              "      <td>15</td>\n",
              "      <td>0</td>\n",
              "      <td>NaN</td>\n",
              "      <td>NaT</td>\n",
              "      <td>...</td>\n",
              "      <td>1</td>\n",
              "      <td>1</td>\n",
              "      <td>20210827.0</td>\n",
              "      <td>6</td>\n",
              "      <td>1</td>\n",
              "      <td>20210917.0</td>\n",
              "      <td>6</td>\n",
              "      <td>1</td>\n",
              "      <td>20211230.0</td>\n",
              "      <td>5</td>\n",
              "    </tr>\n",
              "    <tr>\n",
              "      <th>3381495</th>\n",
              "      <td>20941978</td>\n",
              "      <td>20220514.0</td>\n",
              "      <td>2.0</td>\n",
              "      <td>1</td>\n",
              "      <td>20</td>\n",
              "      <td>1</td>\n",
              "      <td>8</td>\n",
              "      <td>0</td>\n",
              "      <td>NaN</td>\n",
              "      <td>NaT</td>\n",
              "      <td>...</td>\n",
              "      <td>1</td>\n",
              "      <td>1</td>\n",
              "      <td>20210917.0</td>\n",
              "      <td>6</td>\n",
              "      <td>1</td>\n",
              "      <td>20211008.0</td>\n",
              "      <td>6</td>\n",
              "      <td>0</td>\n",
              "      <td>NaN</td>\n",
              "      <td>0</td>\n",
              "    </tr>\n",
              "  </tbody>\n",
              "</table>\n",
              "<p>5 rows × 23 columns</p>\n",
              "</div>\n",
              "      <button class=\"colab-df-convert\" onclick=\"convertToInteractive('df-8f5c0069-0591-4602-878e-e5f7c1b25ec8')\"\n",
              "              title=\"Convert this dataframe to an interactive table.\"\n",
              "              style=\"display:none;\">\n",
              "        \n",
              "  <svg xmlns=\"http://www.w3.org/2000/svg\" height=\"24px\"viewBox=\"0 0 24 24\"\n",
              "       width=\"24px\">\n",
              "    <path d=\"M0 0h24v24H0V0z\" fill=\"none\"/>\n",
              "    <path d=\"M18.56 5.44l.94 2.06.94-2.06 2.06-.94-2.06-.94-.94-2.06-.94 2.06-2.06.94zm-11 1L8.5 8.5l.94-2.06 2.06-.94-2.06-.94L8.5 2.5l-.94 2.06-2.06.94zm10 10l.94 2.06.94-2.06 2.06-.94-2.06-.94-.94-2.06-.94 2.06-2.06.94z\"/><path d=\"M17.41 7.96l-1.37-1.37c-.4-.4-.92-.59-1.43-.59-.52 0-1.04.2-1.43.59L10.3 9.45l-7.72 7.72c-.78.78-.78 2.05 0 2.83L4 21.41c.39.39.9.59 1.41.59.51 0 1.02-.2 1.41-.59l7.78-7.78 2.81-2.81c.8-.78.8-2.07 0-2.86zM5.41 20L4 18.59l7.72-7.72 1.47 1.35L5.41 20z\"/>\n",
              "  </svg>\n",
              "      </button>\n",
              "      \n",
              "  <style>\n",
              "    .colab-df-container {\n",
              "      display:flex;\n",
              "      flex-wrap:wrap;\n",
              "      gap: 12px;\n",
              "    }\n",
              "\n",
              "    .colab-df-convert {\n",
              "      background-color: #E8F0FE;\n",
              "      border: none;\n",
              "      border-radius: 50%;\n",
              "      cursor: pointer;\n",
              "      display: none;\n",
              "      fill: #1967D2;\n",
              "      height: 32px;\n",
              "      padding: 0 0 0 0;\n",
              "      width: 32px;\n",
              "    }\n",
              "\n",
              "    .colab-df-convert:hover {\n",
              "      background-color: #E2EBFA;\n",
              "      box-shadow: 0px 1px 2px rgba(60, 64, 67, 0.3), 0px 1px 3px 1px rgba(60, 64, 67, 0.15);\n",
              "      fill: #174EA6;\n",
              "    }\n",
              "\n",
              "    [theme=dark] .colab-df-convert {\n",
              "      background-color: #3B4455;\n",
              "      fill: #D2E3FC;\n",
              "    }\n",
              "\n",
              "    [theme=dark] .colab-df-convert:hover {\n",
              "      background-color: #434B5C;\n",
              "      box-shadow: 0px 1px 3px 1px rgba(0, 0, 0, 0.15);\n",
              "      filter: drop-shadow(0px 1px 2px rgba(0, 0, 0, 0.3));\n",
              "      fill: #FFFFFF;\n",
              "    }\n",
              "  </style>\n",
              "\n",
              "      <script>\n",
              "        const buttonEl =\n",
              "          document.querySelector('#df-8f5c0069-0591-4602-878e-e5f7c1b25ec8 button.colab-df-convert');\n",
              "        buttonEl.style.display =\n",
              "          google.colab.kernel.accessAllowed ? 'block' : 'none';\n",
              "\n",
              "        async function convertToInteractive(key) {\n",
              "          const element = document.querySelector('#df-8f5c0069-0591-4602-878e-e5f7c1b25ec8');\n",
              "          const dataTable =\n",
              "            await google.colab.kernel.invokeFunction('convertToInteractive',\n",
              "                                                     [key], {});\n",
              "          if (!dataTable) return;\n",
              "\n",
              "          const docLinkHtml = 'Like what you see? Visit the ' +\n",
              "            '<a target=\"_blank\" href=https://colab.research.google.com/notebooks/data_table.ipynb>data table notebook</a>'\n",
              "            + ' to learn more about interactive tables.';\n",
              "          element.innerHTML = '';\n",
              "          dataTable['output_type'] = 'display_data';\n",
              "          await google.colab.output.renderOutput(dataTable, element);\n",
              "          const docLink = document.createElement('div');\n",
              "          docLink.innerHTML = docLinkHtml;\n",
              "          element.appendChild(docLink);\n",
              "        }\n",
              "      </script>\n",
              "    </div>\n",
              "  </div>\n",
              "  "
            ]
          },
          "metadata": {},
          "execution_count": 136
        }
      ],
      "source": [
        "# Cola del dataset final de casos positivos + información de fallecimiento + información de vacunación\n",
        "df.tail()"
      ]
    },
    {
      "cell_type": "code",
      "execution_count": 137,
      "metadata": {
        "colab": {
          "base_uri": "https://localhost:8080/"
        },
        "id": "QAEuC3bui9fl",
        "outputId": "44b0be8d-a369-4231-c5f5-95797828abb3"
      },
      "outputs": [
        {
          "output_type": "execute_result",
          "data": {
            "text/plain": [
              "3379653"
            ]
          },
          "metadata": {},
          "execution_count": 137
        }
      ],
      "source": [
        "# TOTAL de casos en el dataset final\n",
        "len(df)"
      ]
    },
    {
      "cell_type": "code",
      "execution_count": 138,
      "metadata": {
        "colab": {
          "base_uri": "https://localhost:8080/"
        },
        "id": "i8RU8mQAZJLD",
        "outputId": "68aa0720-d715-4b6d-c7f0-460c2714c86e"
      },
      "outputs": [
        {
          "output_type": "stream",
          "name": "stdout",
          "text": [
            "<class 'pandas.core.frame.DataFrame'>\n",
            "Int64Index: 3379653 entries, 0 to 3381495\n",
            "Data columns (total 23 columns):\n",
            " #   Column               Dtype         \n",
            "---  ------               -----         \n",
            " 0   id_persona           int32         \n",
            " 1   fecha_resultado      float64       \n",
            " 2   metododx             float64       \n",
            " 3   sexo                 int8          \n",
            " 4   edad                 int8          \n",
            " 5   edad_cat             int8          \n",
            " 6   departamento         int8          \n",
            " 7   fallecido            int8          \n",
            " 8   fecha_fallecimiento  float64       \n",
            " 9   fecha_fal            datetime64[ns]\n",
            " 10  year                 int16         \n",
            " 11  epi_week             int8          \n",
            " 12  tiempo_fal           float64       \n",
            " 13  vacunado             int8          \n",
            " 14  dosis_1              int8          \n",
            " 15  fecha_vacuna_1       float64       \n",
            " 16  id_vacuna_1          int8          \n",
            " 17  dosis_2              int8          \n",
            " 18  fecha_vacuna_2       float64       \n",
            " 19  id_vacuna_2          int8          \n",
            " 20  dosis_3              int8          \n",
            " 21  fecha_vacuna_3       float64       \n",
            " 22  id_vacuna_3          int8          \n",
            "dtypes: datetime64[ns](1), float64(7), int16(1), int32(1), int8(13)\n",
            "memory usage: 293.3 MB\n"
          ]
        }
      ],
      "source": [
        "# Verificamos columnas y data types\n",
        "df.info()"
      ]
    },
    {
      "cell_type": "code",
      "execution_count": 139,
      "metadata": {
        "colab": {
          "base_uri": "https://localhost:8080/"
        },
        "id": "MjyYa26obQjl",
        "outputId": "5029ae85-29d2-49a3-b841-294261949091"
      },
      "outputs": [
        {
          "output_type": "execute_result",
          "data": {
            "text/plain": [
              "id_persona                   0\n",
              "fecha_resultado         106244\n",
              "metododx                106244\n",
              "sexo                         0\n",
              "edad                         0\n",
              "edad_cat                     0\n",
              "departamento                 0\n",
              "fallecido                    0\n",
              "fecha_fallecimiento    3171130\n",
              "fecha_fal              3171130\n",
              "year                         0\n",
              "epi_week                     0\n",
              "tiempo_fal             3171130\n",
              "vacunado                     0\n",
              "dosis_1                      0\n",
              "fecha_vacuna_1          376105\n",
              "id_vacuna_1                  0\n",
              "dosis_2                      0\n",
              "fecha_vacuna_2          448866\n",
              "id_vacuna_2                  0\n",
              "dosis_3                      0\n",
              "fecha_vacuna_3          950892\n",
              "id_vacuna_3                  0\n",
              "dtype: int64"
            ]
          },
          "metadata": {},
          "execution_count": 139
        }
      ],
      "source": [
        "# Verificamos valores faltantes\n",
        "df.isnull().sum()"
      ]
    },
    {
      "cell_type": "markdown",
      "metadata": {
        "id": "aj9YugiSbY4Q"
      },
      "source": [
        "## 4. Guardar el df"
      ]
    },
    {
      "cell_type": "code",
      "execution_count": 140,
      "metadata": {
        "id": "jPWOb4XIbY4U"
      },
      "outputs": [],
      "source": [
        "# Guardamos en un csv\n",
        "file_name = 'DP3_covid19-peru_casos-positivos_+_info-fallecimiento_+_info-vacunas.csv'\n",
        "df.to_csv(file_name,  index=False)"
      ]
    }
  ],
  "metadata": {
    "colab": {
      "collapsed_sections": [],
      "name": "3_DataFiltering.ipynb",
      "provenance": [],
      "toc_visible": true,
      "include_colab_link": true
    },
    "interpreter": {
      "hash": "bea6116dd68ddf91c3cc5a29b631ef213aeb122ee277ca2ecd46a4cdc426254a"
    },
    "kernelspec": {
      "display_name": "Python 3 (ipykernel)",
      "language": "python",
      "name": "python3"
    },
    "language_info": {
      "codemirror_mode": {
        "name": "ipython",
        "version": 3
      },
      "file_extension": ".py",
      "mimetype": "text/x-python",
      "name": "python",
      "nbconvert_exporter": "python",
      "pygments_lexer": "ipython3",
      "version": "3.8.2"
    }
  },
  "nbformat": 4,
  "nbformat_minor": 0
}